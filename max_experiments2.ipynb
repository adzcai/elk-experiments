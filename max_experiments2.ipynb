{
 "cells": [
  {
   "cell_type": "code",
   "execution_count": 1,
   "metadata": {},
   "outputs": [],
   "source": [
    "from elk.extraction import extract, Extract, extract_hiddens"
   ]
  },
  {
   "cell_type": "code",
   "execution_count": 2,
   "metadata": {},
   "outputs": [
    {
     "name": "stderr",
     "output_type": "stream",
     "text": [
      "Found cached dataset parquet (/home/ec2-user/.cache/huggingface/datasets/adzcai___parquet/adzcai--genealogy_synthetic_v3-5d84a0041cf3f45e/0.0.0/2a3b91fbd88a2c90d1dbbb32b460cf621d31bd5b05b934492fdef7d8d6f236ec)\n"
     ]
    },
    {
     "data": {
      "application/vnd.jupyter.widget-view+json": {
       "model_id": "3736c5d0fa4f40dfad1add69e747878f",
       "version_major": 2,
       "version_minor": 0
      },
      "text/plain": [
       "  0%|          | 0/2 [00:00<?, ?it/s]"
      ]
     },
     "metadata": {},
     "output_type": "display_data"
    },
    {
     "name": "stderr",
     "output_type": "stream",
     "text": [
      "Loading cached shuffled indices for dataset at /home/ec2-user/.cache/huggingface/datasets/adzcai___parquet/adzcai--genealogy_synthetic_v3-5d84a0041cf3f45e/0.0.0/2a3b91fbd88a2c90d1dbbb32b460cf621d31bd5b05b934492fdef7d8d6f236ec/cache-1cef9e4ac338ad31.arrow\n"
     ]
    },
    {
     "name": "stdout",
     "output_type": "stream",
     "text": [
      "Using 1 variants of each prompt\n",
      "No label column found, not balancing\n"
     ]
    }
   ],
   "source": [
    "df = extract(Extract(\"allenai/unifiedqa-t5-base\", (\"adzcai/genealogy_synthetic_v3\",), use_encoder_states=True, token_loc='first'))\n",
    "df = list(df)"
   ]
  },
  {
   "cell_type": "code",
   "execution_count": null,
   "metadata": {},
   "outputs": [],
   "source": [
    "import pickle\n",
    "with open('genealogy_synthetic_v3.pkl', 'wb') as f:\n",
    "    pickle.dump(df, f)"
   ]
  },
  {
   "cell_type": "code",
   "execution_count": null,
   "metadata": {},
   "outputs": [],
   "source": [
    "# DEVICE = 'cuda' if torch.cuda.is_available() else 'cpu'"
   ]
  },
  {
   "cell_type": "code",
   "execution_count": 4,
   "metadata": {},
   "outputs": [],
   "source": [
    "# do logistic regression with scikit-learn\n",
    "from sklearn.linear_model import LogisticRegression\n",
    "from elk.utils.typing import int16_to_float32, float32_to_int16\n",
    "import torch"
   ]
  },
  {
   "cell_type": "code",
   "execution_count": 37,
   "metadata": {},
   "outputs": [],
   "source": [
    "lr = LogisticRegression(max_iter=1000)"
   ]
  },
  {
   "cell_type": "code",
   "execution_count": 44,
   "metadata": {},
   "outputs": [
    {
     "name": "stderr",
     "output_type": "stream",
     "text": [
      "/opt/conda/envs/pytorch/lib/python3.10/site-packages/sklearn/linear_model/_logistic.py:458: ConvergenceWarning: lbfgs failed to converge (status=1):\n",
      "STOP: TOTAL NO. of ITERATIONS REACHED LIMIT.\n",
      "\n",
      "Increase the number of iterations (max_iter) or scale the data as shown in:\n",
      "    https://scikit-learn.org/stable/modules/preprocessing.html\n",
      "Please also refer to the documentation for alternative solver options:\n",
      "    https://scikit-learn.org/stable/modules/linear_model.html#logistic-regression\n",
      "  n_iter_i = _check_optimize_result(\n",
      "/opt/conda/envs/pytorch/lib/python3.10/site-packages/sklearn/linear_model/_logistic.py:458: ConvergenceWarning: lbfgs failed to converge (status=1):\n",
      "STOP: TOTAL NO. of ITERATIONS REACHED LIMIT.\n",
      "\n",
      "Increase the number of iterations (max_iter) or scale the data as shown in:\n",
      "    https://scikit-learn.org/stable/modules/preprocessing.html\n",
      "Please also refer to the documentation for alternative solver options:\n",
      "    https://scikit-learn.org/stable/modules/linear_model.html#logistic-regression\n",
      "  n_iter_i = _check_optimize_result(\n",
      "/opt/conda/envs/pytorch/lib/python3.10/site-packages/sklearn/linear_model/_logistic.py:458: ConvergenceWarning: lbfgs failed to converge (status=1):\n",
      "STOP: TOTAL NO. of ITERATIONS REACHED LIMIT.\n",
      "\n",
      "Increase the number of iterations (max_iter) or scale the data as shown in:\n",
      "    https://scikit-learn.org/stable/modules/preprocessing.html\n",
      "Please also refer to the documentation for alternative solver options:\n",
      "    https://scikit-learn.org/stable/modules/linear_model.html#logistic-regression\n",
      "  n_iter_i = _check_optimize_result(\n",
      "/opt/conda/envs/pytorch/lib/python3.10/site-packages/sklearn/linear_model/_logistic.py:458: ConvergenceWarning: lbfgs failed to converge (status=1):\n",
      "STOP: TOTAL NO. of ITERATIONS REACHED LIMIT.\n",
      "\n",
      "Increase the number of iterations (max_iter) or scale the data as shown in:\n",
      "    https://scikit-learn.org/stable/modules/preprocessing.html\n",
      "Please also refer to the documentation for alternative solver options:\n",
      "    https://scikit-learn.org/stable/modules/linear_model.html#logistic-regression\n",
      "  n_iter_i = _check_optimize_result(\n",
      "/opt/conda/envs/pytorch/lib/python3.10/site-packages/sklearn/linear_model/_logistic.py:458: ConvergenceWarning: lbfgs failed to converge (status=1):\n",
      "STOP: TOTAL NO. of ITERATIONS REACHED LIMIT.\n",
      "\n",
      "Increase the number of iterations (max_iter) or scale the data as shown in:\n",
      "    https://scikit-learn.org/stable/modules/preprocessing.html\n",
      "Please also refer to the documentation for alternative solver options:\n",
      "    https://scikit-learn.org/stable/modules/linear_model.html#logistic-regression\n",
      "  n_iter_i = _check_optimize_result(\n",
      "/opt/conda/envs/pytorch/lib/python3.10/site-packages/sklearn/linear_model/_logistic.py:458: ConvergenceWarning: lbfgs failed to converge (status=1):\n",
      "STOP: TOTAL NO. of ITERATIONS REACHED LIMIT.\n",
      "\n",
      "Increase the number of iterations (max_iter) or scale the data as shown in:\n",
      "    https://scikit-learn.org/stable/modules/preprocessing.html\n",
      "Please also refer to the documentation for alternative solver options:\n",
      "    https://scikit-learn.org/stable/modules/linear_model.html#logistic-regression\n",
      "  n_iter_i = _check_optimize_result(\n",
      "/opt/conda/envs/pytorch/lib/python3.10/site-packages/sklearn/linear_model/_logistic.py:458: ConvergenceWarning: lbfgs failed to converge (status=1):\n",
      "STOP: TOTAL NO. of ITERATIONS REACHED LIMIT.\n",
      "\n",
      "Increase the number of iterations (max_iter) or scale the data as shown in:\n",
      "    https://scikit-learn.org/stable/modules/preprocessing.html\n",
      "Please also refer to the documentation for alternative solver options:\n",
      "    https://scikit-learn.org/stable/modules/linear_model.html#logistic-regression\n",
      "  n_iter_i = _check_optimize_result(\n",
      "/opt/conda/envs/pytorch/lib/python3.10/site-packages/sklearn/linear_model/_logistic.py:458: ConvergenceWarning: lbfgs failed to converge (status=1):\n",
      "STOP: TOTAL NO. of ITERATIONS REACHED LIMIT.\n",
      "\n",
      "Increase the number of iterations (max_iter) or scale the data as shown in:\n",
      "    https://scikit-learn.org/stable/modules/preprocessing.html\n",
      "Please also refer to the documentation for alternative solver options:\n",
      "    https://scikit-learn.org/stable/modules/linear_model.html#logistic-regression\n",
      "  n_iter_i = _check_optimize_result(\n",
      "/opt/conda/envs/pytorch/lib/python3.10/site-packages/sklearn/linear_model/_logistic.py:458: ConvergenceWarning: lbfgs failed to converge (status=1):\n",
      "STOP: TOTAL NO. of ITERATIONS REACHED LIMIT.\n",
      "\n",
      "Increase the number of iterations (max_iter) or scale the data as shown in:\n",
      "    https://scikit-learn.org/stable/modules/preprocessing.html\n",
      "Please also refer to the documentation for alternative solver options:\n",
      "    https://scikit-learn.org/stable/modules/linear_model.html#logistic-regression\n",
      "  n_iter_i = _check_optimize_result(\n",
      "/opt/conda/envs/pytorch/lib/python3.10/site-packages/sklearn/linear_model/_logistic.py:458: ConvergenceWarning: lbfgs failed to converge (status=1):\n",
      "STOP: TOTAL NO. of ITERATIONS REACHED LIMIT.\n",
      "\n",
      "Increase the number of iterations (max_iter) or scale the data as shown in:\n",
      "    https://scikit-learn.org/stable/modules/preprocessing.html\n",
      "Please also refer to the documentation for alternative solver options:\n",
      "    https://scikit-learn.org/stable/modules/linear_model.html#logistic-regression\n",
      "  n_iter_i = _check_optimize_result(\n",
      "/opt/conda/envs/pytorch/lib/python3.10/site-packages/sklearn/linear_model/_logistic.py:458: ConvergenceWarning: lbfgs failed to converge (status=1):\n",
      "STOP: TOTAL NO. of ITERATIONS REACHED LIMIT.\n",
      "\n",
      "Increase the number of iterations (max_iter) or scale the data as shown in:\n",
      "    https://scikit-learn.org/stable/modules/preprocessing.html\n",
      "Please also refer to the documentation for alternative solver options:\n",
      "    https://scikit-learn.org/stable/modules/linear_model.html#logistic-regression\n",
      "  n_iter_i = _check_optimize_result(\n"
     ]
    }
   ],
   "source": [
    "accs = {}\n",
    "\n",
    "for layer in range(1, 13):\n",
    "    xs = []\n",
    "    for i in range(len(df)):\n",
    "        xs.append(int16_to_float32(df[i][f'hidden_{layer}'][:, 0]))\n",
    "        xs.append(int16_to_float32(df[i][f'hidden_{layer}'][:, 1]))\n",
    "        xs.append(int16_to_float32(df[i][f'hidden_{layer}'][:, 2]))\n",
    "        xs.append(int16_to_float32(df[i][f'hidden_{layer}'][:, 3]))\n",
    "    xs = torch.cat(xs)\n",
    "    ys = torch.tensor([1, 0, 0, 0] * len(df))\n",
    "    lr.fit(xs, ys)\n",
    "    lr_outputs = lr.predict_proba(xs)[:, 1]\n",
    "    accs[layer] = ((lr_outputs[0::4] > lr_outputs[1::4]) & (lr_outputs[0::4] > lr_outputs[2::4]) & (lr_outputs[0::4] > lr_outputs[3::4])).mean()"
   ]
  },
  {
   "cell_type": "code",
   "execution_count": 45,
   "metadata": {},
   "outputs": [
    {
     "data": {
      "image/png": "[encoded data removed]",
      "text/plain": [
       "<Figure size 640x480 with 1 Axes>"
      ]
     },
     "metadata": {},
     "output_type": "display_data"
    }
   ],
   "source": [
    "# plot accs\n",
    "\n",
    "import matplotlib.pyplot as plt\n",
    "import numpy as np\n",
    "\n",
    "plt.plot(list(accs.keys()), list(accs.values()))\n",
    "plt.xlabel('Layer')\n",
    "plt.ylabel('Accuracy')\n",
    "plt.xticks(np.arange(1, 13, 1))\n",
    "plt.show()\n"
   ]
  },
  {
   "cell_type": "code",
   "execution_count": 40,
   "metadata": {},
   "outputs": [],
   "source": [
    "bin_accs = accs"
   ]
  },
  {
   "cell_type": "code",
   "execution_count": 33,
   "metadata": {},
   "outputs": [
    {
     "name": "stderr",
     "output_type": "stream",
     "text": [
      "/opt/conda/envs/pytorch/lib/python3.10/site-packages/sklearn/linear_model/_logistic.py:458: ConvergenceWarning: lbfgs failed to converge (status=1):\n",
      "STOP: TOTAL NO. of ITERATIONS REACHED LIMIT.\n",
      "\n",
      "Increase the number of iterations (max_iter) or scale the data as shown in:\n",
      "    https://scikit-learn.org/stable/modules/preprocessing.html\n",
      "Please also refer to the documentation for alternative solver options:\n",
      "    https://scikit-learn.org/stable/modules/linear_model.html#logistic-regression\n",
      "  n_iter_i = _check_optimize_result(\n"
     ]
    },
    {
     "data": {
      "text/html": [
       "<style>#sk-container-id-3 {color: black;background-color: white;}#sk-container-id-3 pre{padding: 0;}#sk-container-id-3 div.sk-toggleable {background-color: white;}#sk-container-id-3 label.sk-toggleable__label {cursor: pointer;display: block;width: 100%;margin-bottom: 0;padding: 0.3em;box-sizing: border-box;text-align: center;}#sk-container-id-3 label.sk-toggleable__label-arrow:before {content: \"▸\";float: left;margin-right: 0.25em;color: #696969;}#sk-container-id-3 label.sk-toggleable__label-arrow:hover:before {color: black;}#sk-container-id-3 div.sk-estimator:hover label.sk-toggleable__label-arrow:before {color: black;}#sk-container-id-3 div.sk-toggleable__content {max-height: 0;max-width: 0;overflow: hidden;text-align: left;background-color: #f0f8ff;}#sk-container-id-3 div.sk-toggleable__content pre {margin: 0.2em;color: black;border-radius: 0.25em;background-color: #f0f8ff;}#sk-container-id-3 input.sk-toggleable__control:checked~div.sk-toggleable__content {max-height: 200px;max-width: 100%;overflow: auto;}#sk-container-id-3 input.sk-toggleable__control:checked~label.sk-toggleable__label-arrow:before {content: \"▾\";}#sk-container-id-3 div.sk-estimator input.sk-toggleable__control:checked~label.sk-toggleable__label {background-color: #d4ebff;}#sk-container-id-3 div.sk-label input.sk-toggleable__control:checked~label.sk-toggleable__label {background-color: #d4ebff;}#sk-container-id-3 input.sk-hidden--visually {border: 0;clip: rect(1px 1px 1px 1px);clip: rect(1px, 1px, 1px, 1px);height: 1px;margin: -1px;overflow: hidden;padding: 0;position: absolute;width: 1px;}#sk-container-id-3 div.sk-estimator {font-family: monospace;background-color: #f0f8ff;border: 1px dotted black;border-radius: 0.25em;box-sizing: border-box;margin-bottom: 0.5em;}#sk-container-id-3 div.sk-estimator:hover {background-color: #d4ebff;}#sk-container-id-3 div.sk-parallel-item::after {content: \"\";width: 100%;border-bottom: 1px solid gray;flex-grow: 1;}#sk-container-id-3 div.sk-label:hover label.sk-toggleable__label {background-color: #d4ebff;}#sk-container-id-3 div.sk-serial::before {content: \"\";position: absolute;border-left: 1px solid gray;box-sizing: border-box;top: 0;bottom: 0;left: 50%;z-index: 0;}#sk-container-id-3 div.sk-serial {display: flex;flex-direction: column;align-items: center;background-color: white;padding-right: 0.2em;padding-left: 0.2em;position: relative;}#sk-container-id-3 div.sk-item {position: relative;z-index: 1;}#sk-container-id-3 div.sk-parallel {display: flex;align-items: stretch;justify-content: center;background-color: white;position: relative;}#sk-container-id-3 div.sk-item::before, #sk-container-id-3 div.sk-parallel-item::before {content: \"\";position: absolute;border-left: 1px solid gray;box-sizing: border-box;top: 0;bottom: 0;left: 50%;z-index: -1;}#sk-container-id-3 div.sk-parallel-item {display: flex;flex-direction: column;z-index: 1;position: relative;background-color: white;}#sk-container-id-3 div.sk-parallel-item:first-child::after {align-self: flex-end;width: 50%;}#sk-container-id-3 div.sk-parallel-item:last-child::after {align-self: flex-start;width: 50%;}#sk-container-id-3 div.sk-parallel-item:only-child::after {width: 0;}#sk-container-id-3 div.sk-dashed-wrapped {border: 1px dashed gray;margin: 0 0.4em 0.5em 0.4em;box-sizing: border-box;padding-bottom: 0.4em;background-color: white;}#sk-container-id-3 div.sk-label label {font-family: monospace;font-weight: bold;display: inline-block;line-height: 1.2em;}#sk-container-id-3 div.sk-label-container {text-align: center;}#sk-container-id-3 div.sk-container {/* jupyter's `normalize.less` sets `[hidden] { display: none; }` but bootstrap.min.css set `[hidden] { display: none !important; }` so we also need the `!important` here to be able to override the default hidden behavior on the sphinx rendered scikit-learn.org. See: https://github.com/scikit-learn/scikit-learn/issues/21755 */display: inline-block !important;position: relative;}#sk-container-id-3 div.sk-text-repr-fallback {display: none;}</style><div id=\"sk-container-id-3\" class=\"sk-top-container\"><div class=\"sk-text-repr-fallback\"><pre>LogisticRegression()</pre><b>In a Jupyter environment, please rerun this cell to show the HTML representation or trust the notebook. <br />On GitHub, the HTML representation is unable to render, please try loading this page with nbviewer.org.</b></div><div class=\"sk-container\" hidden><div class=\"sk-item\"><div class=\"sk-estimator sk-toggleable\"><input class=\"sk-toggleable__control sk-hidden--visually\" id=\"sk-estimator-id-3\" type=\"checkbox\" checked><label for=\"sk-estimator-id-3\" class=\"sk-toggleable__label sk-toggleable__label-arrow\">LogisticRegression</label><div class=\"sk-toggleable__content\"><pre>LogisticRegression()</pre></div></div></div></div></div>"
      ],
      "text/plain": [
       "LogisticRegression()"
      ]
     },
     "execution_count": 33,
     "metadata": {},
     "output_type": "execute_result"
    }
   ],
   "source": [
    "# run the logistic regression\n",
    "lr.fit(xs, ys)\n"
   ]
  },
  {
   "cell_type": "code",
   "execution_count": 34,
   "metadata": {},
   "outputs": [
    {
     "name": "stdout",
     "output_type": "stream",
     "text": [
      "[[-7.56410215e-03  2.46181307e-03  2.89032328e-03  6.57961309e-03\n",
      "   1.92577129e-03 -2.16394606e-03 -2.00355915e-04  1.38041745e-03\n",
      "   2.44840635e-03  6.06146118e-04  4.50988587e-03 -2.45091774e-04\n",
      "   4.88280796e-03 -2.57679306e-05 -8.51044581e-03  1.80875664e-03\n",
      "  -1.44344024e-03 -6.35692863e-04 -5.35123258e-03 -6.46876626e-03\n",
      "  -5.93780516e-03  1.27994680e-03  3.38055031e-03  1.38369939e-03\n",
      "   1.34569272e-03 -6.39005201e-04 -1.22644027e-03 -1.27934381e-03\n",
      "  -8.26601900e-03 -3.20612631e-04 -2.28347455e-03 -5.39770008e-03\n",
      "  -2.91796897e-04 -7.44981708e-04 -1.99224642e-03  3.39101845e-03\n",
      "   3.62276028e-03  1.32355981e-03  5.84027735e-03  3.12458371e-03\n",
      "   1.87926274e-03  9.54984427e-04  7.31793749e-04  2.25423550e-03\n",
      "   6.07677044e-04  2.36884223e-03 -2.50755765e-03  5.00739552e-03\n",
      "  -6.16798820e-03 -1.80774193e-04  3.20285463e-03  7.33254508e-03\n",
      "   3.42593572e-03 -5.88015948e-03 -5.39474469e-03  1.17813820e-03\n",
      "   7.04185818e-04  2.57550375e-03  3.59663006e-03 -4.09027541e-03\n",
      "   3.82412253e-03 -3.16343733e-03  2.04682685e-03  3.21947964e-03\n",
      "  -7.23518547e-04 -1.54101045e-03 -6.81621519e-03 -1.35472411e-04\n",
      "   1.93391891e-03 -5.34015287e-03 -4.59946132e-03 -6.03117035e-03\n",
      "  -6.44670745e-03 -7.37884467e-05 -3.53334995e-03  5.36262991e-03\n",
      "   5.64583150e-03  6.96966004e-04 -1.21277736e-03 -3.38019320e-03\n",
      "   3.81472586e-03 -9.23482953e-04  1.09899279e-03  5.96098438e-03\n",
      "   6.08623713e-03 -2.51880487e-03  4.56477142e-03  1.52705096e-03\n",
      "  -3.30833624e-04  4.68100907e-04 -5.99745482e-04 -2.62485997e-03\n",
      "  -2.61860918e-03  1.72109601e-04  1.37492528e-03 -2.80538199e-03\n",
      "   5.27923714e-04  5.00622781e-03 -2.08289671e-03 -1.30747564e-03\n",
      "   1.15006019e-02  5.20967194e-03 -4.93971446e-03  4.07343956e-04\n",
      "  -4.22910652e-03  6.92853105e-04  1.66650838e-03  1.52993774e-03\n",
      "   5.94011030e-04  1.79044359e-03 -6.76410434e-03  5.21727484e-04\n",
      "  -1.56243532e-03  1.19154942e-03 -5.84949533e-04 -2.93846380e-03\n",
      "  -1.52489071e-03  9.57338879e-03 -3.29005262e-03 -5.07818182e-03\n",
      "   1.09523167e-03 -2.39247692e-03  3.76540789e-03 -1.22646794e-02\n",
      "   2.22150477e-03  5.00904508e-03 -6.01162378e-04  1.49879583e-03\n",
      "   8.28688980e-03  1.05785499e-03  2.69375855e-03  6.44926380e-03\n",
      "   1.59231777e-03  5.25637127e-03 -1.16287177e-03 -1.00767976e-02\n",
      "  -2.10712085e-03  9.04059316e-03  1.70733058e-03  3.94216070e-03\n",
      "   9.95410633e-04  6.97205640e-03 -3.74084618e-03 -4.70895007e-03\n",
      "   9.07027029e-03 -8.84090842e-03  1.01003979e-03 -3.65516201e-03\n",
      "   4.87222347e-03 -2.46972511e-03  1.19064661e-03  4.60797107e-03\n",
      "   2.93158375e-03 -3.17563249e-04  1.40862393e-03 -1.48349895e-04\n",
      "  -1.46164385e-03 -2.05036809e-03 -3.44676739e-03 -2.24644245e-03\n",
      "  -3.36044362e-04 -4.34212290e-03  2.52561406e-03 -2.29901742e-03\n",
      "   1.49617320e-03 -4.32583222e-03 -4.48218592e-04  7.46686632e-03\n",
      "  -1.23967534e-03 -7.02337826e-03  1.63195515e-03  8.58054188e-03\n",
      "  -1.58299816e-03  5.01491262e-03  4.64348851e-03 -1.84685610e-03\n",
      "  -4.40271214e-03  5.32796065e-03 -1.26518894e-03 -1.03413827e-03\n",
      "   2.50590931e-03  2.53675754e-03  3.43339877e-04  2.61987329e-03\n",
      "   7.82839198e-03 -2.33385751e-03 -1.54638806e-04  2.44048350e-03\n",
      "  -5.14221727e-03 -2.51008914e-04  6.59707109e-03 -1.97458745e-03\n",
      "   3.83437734e-03 -2.07511908e-03 -6.18470600e-03  2.89348402e-03\n",
      "  -7.08572875e-04 -7.37271639e-03 -9.52489293e-04 -3.82984196e-03\n",
      "  -4.13986947e-03 -1.17833318e-04  4.48801173e-03  3.13645058e-03\n",
      "  -8.43982582e-04 -4.62251797e-03  3.53045820e-03 -2.74380927e-03\n",
      "  -3.64218400e-03  7.32822737e-03  6.85929296e-04  1.91432997e-03\n",
      "   9.12239412e-04  5.69909439e-03  1.66211487e-04 -4.27226692e-04\n",
      "   3.91354301e-03  1.85918808e-03 -2.76388874e-03 -1.62977228e-03\n",
      "  -4.05099040e-03 -2.78874590e-03 -4.13162780e-03 -2.68987156e-03\n",
      "  -3.02544925e-03 -2.97425747e-03 -2.51453029e-03 -9.25256685e-03\n",
      "   2.54287712e-03 -3.07344571e-03  8.69774373e-04  9.45850051e-04\n",
      "  -7.21505133e-04 -2.85484448e-03  2.92295315e-03  1.14785194e-03\n",
      "   5.39382931e-03 -2.08843701e-03  8.18869842e-03  1.30535767e-03\n",
      "  -2.52346471e-03  7.81838446e-03 -3.72107979e-03  2.96123806e-03\n",
      "   6.57351687e-03 -5.31106537e-03  1.76746865e-03  1.50494652e-04\n",
      "  -5.89014002e-03 -2.26675773e-03 -6.37004465e-03 -4.83715008e-04\n",
      "   2.23994233e-04 -1.98687376e-03 -7.40845133e-04 -3.84128404e-03\n",
      "   3.84476162e-03  1.91739308e-03  1.74100448e-03 -3.42396947e-03\n",
      "   1.84628148e-03 -4.55171685e-03  2.93625767e-03  3.46737849e-03\n",
      "   1.36024660e-03 -1.69064578e-03  5.20166574e-03  6.39440359e-04\n",
      "  -4.48836272e-03 -1.15997469e-03  1.77498929e-03  1.86383890e-03\n",
      "  -4.59837117e-03  1.05399590e-02 -4.76435390e-03  4.28124625e-03\n",
      "  -1.54250061e-03 -5.07034678e-03  3.00399292e-04  2.11454004e-03\n",
      "  -3.33462104e-03 -5.74263564e-03 -1.34597439e-03  8.42790848e-05\n",
      "  -1.23869636e-03 -4.32562426e-04 -4.79546257e-03  5.11288749e-03\n",
      "   3.97660950e-03 -3.65157014e-03  4.43949793e-04 -2.22224643e-04\n",
      "  -3.38351485e-03 -6.19993376e-05  1.48405126e-03 -2.26302751e-03\n",
      "  -3.11765186e-03 -7.08176728e-03 -1.03373346e-03  2.63441221e-04\n",
      "   4.30652693e-04  3.46743175e-03  2.42451044e-03  9.08514470e-03\n",
      "   1.74251464e-03  5.08345394e-03 -1.53907983e-04  1.19178819e-03\n",
      "   1.01976433e-03 -4.33624735e-04  1.33035532e-03 -3.87065770e-03\n",
      "   6.84482166e-05 -4.82881027e-03 -3.69360670e-03 -3.02095908e-04\n",
      "  -5.75019952e-03 -2.90618629e-03 -1.00634058e-03  5.00215813e-03\n",
      "   5.39364142e-03  2.76894334e-03  5.69865855e-03 -5.65111958e-03\n",
      "   2.94746769e-03 -2.04729692e-03  7.46419629e-03 -9.00358744e-04\n",
      "   3.83501363e-03 -4.32776698e-03  3.14377078e-03 -6.91541773e-03\n",
      "   8.54776146e-04  7.48976252e-03  1.41270806e-03 -6.34227828e-03\n",
      "  -2.15914841e-03 -2.45076196e-03 -3.82661094e-03  6.55968731e-03\n",
      "   4.56088711e-03  2.47231177e-03 -3.08139118e-05  3.09562355e-03\n",
      "  -6.87767325e-03  1.87469879e-03 -6.69826874e-03 -1.67619521e-03\n",
      "  -1.19073415e-03  1.42464088e-03  4.39931344e-03  3.25731794e-04\n",
      "   3.73899659e-03  1.77667720e-03 -3.55392006e-03 -6.44816513e-03\n",
      "   1.24315543e-03  1.95504760e-03  1.72806753e-03 -2.09083864e-04\n",
      "  -1.95693864e-03 -3.86961545e-03 -9.21104394e-03 -2.56883634e-03\n",
      "  -4.58844377e-03  3.38545303e-04 -9.81367435e-04  3.85439663e-03\n",
      "   4.80973751e-04 -2.32893673e-03  2.09885134e-03 -9.05868217e-04\n",
      "   2.73962710e-03  5.02344856e-04 -8.64769129e-04 -1.25760217e-02\n",
      "   1.37140375e-03 -2.21037613e-04  3.06028822e-03 -4.33431962e-03\n",
      "  -8.70315265e-03  3.16779676e-03  2.48014156e-03  3.38124570e-04\n",
      "  -5.59413583e-03  4.20739918e-03 -3.92852285e-03 -1.60715584e-03\n",
      "  -6.90312683e-03  3.44943174e-03  4.79285022e-03  2.17215288e-03\n",
      "   6.50958026e-03 -1.81717054e-03  3.14284470e-03  4.92241754e-03\n",
      "  -5.91472806e-03  8.49699173e-04 -1.26621061e-03  9.33758926e-04\n",
      "  -3.86148166e-03  2.22622263e-03 -4.57745410e-04  2.66176120e-03\n",
      "   8.43530035e-03 -2.97230414e-05 -7.88144742e-03  8.10846800e-03\n",
      "  -4.95218423e-03  2.59051493e-04 -2.90545404e-03 -4.63284915e-04\n",
      "  -7.42875133e-03 -7.80750900e-04 -2.15223230e-03  4.39886854e-03\n",
      "  -2.26766032e-03 -4.42515048e-03  1.09112633e-02 -3.52902131e-03\n",
      "   5.06170363e-04  5.35042415e-04  2.23393713e-03 -9.68970201e-04\n",
      "  -2.43338092e-03  2.18874387e-03  6.14693057e-03 -8.93985925e-05\n",
      "  -4.51444964e-03 -4.13153801e-03  1.75325369e-03  3.06515196e-03\n",
      "  -8.98779620e-04  2.18934760e-03  6.06776439e-03  1.33048366e-04\n",
      "   3.98572253e-03  4.18458110e-03 -3.48217918e-03 -3.62836229e-04\n",
      "   7.88468176e-04 -4.10903472e-03 -5.23845672e-04 -1.58469893e-03\n",
      "  -2.91483043e-04  1.76730232e-04  9.29618065e-04  7.23910069e-03\n",
      "  -6.77945479e-03 -1.12094930e-03  5.36516509e-03  2.44626642e-03\n",
      "  -2.56152576e-03 -1.49207721e-03 -3.03857411e-03 -2.44348687e-04\n",
      "   5.74001570e-03  2.47973283e-03 -4.52387536e-03 -3.34249906e-03\n",
      "   3.51567204e-03  1.05923397e-03  1.08877328e-03  4.27636674e-03\n",
      "  -4.73076658e-03 -3.72401913e-03 -4.30557813e-04 -3.24611082e-05\n",
      "  -4.00901530e-04  4.20426836e-03  6.09177523e-03 -5.75015235e-03\n",
      "  -6.99119740e-03  2.30517470e-03 -4.48549467e-03 -2.99015066e-03\n",
      "   2.64801505e-03  2.41793747e-03  2.24086739e-03 -3.01720030e-03\n",
      "  -4.64456583e-03  9.24943731e-04  3.35811348e-04 -1.57908456e-03\n",
      "  -1.68101348e-03 -3.33151117e-03 -8.24108812e-05  5.03855522e-03\n",
      "   3.13146369e-03  3.71496553e-03  3.95629903e-04 -1.47130921e-03\n",
      "   3.33238903e-03 -2.10903822e-03 -2.56904845e-04 -4.93999323e-03\n",
      "  -2.41928575e-03 -8.12013002e-04  1.63907218e-03 -2.48413543e-03\n",
      "   5.93214727e-03  4.64693633e-04  8.38756032e-04  2.81467487e-03\n",
      "   5.12175897e-03 -7.39457433e-03  2.38438899e-04  3.70209603e-03\n",
      "  -2.76959484e-03 -2.05679337e-03 -3.80320875e-03  7.29582852e-04\n",
      "   1.72696893e-03  4.52171021e-03 -2.69409502e-03 -3.85420248e-03\n",
      "  -5.59508020e-04  3.55965082e-03  7.25255854e-05  7.91425180e-03\n",
      "  -9.12682930e-04  3.25059915e-03  3.60382967e-03 -3.43314972e-03\n",
      "  -8.69400993e-03 -5.03288828e-03 -4.35578321e-03  8.55161470e-03\n",
      "   3.62195818e-04  2.46824696e-03 -2.80938728e-03  3.83841985e-04\n",
      "  -9.35979623e-03  5.74359630e-03 -8.13559865e-04  1.35213742e-03\n",
      "  -3.50422790e-03  8.17663281e-04  6.13288005e-03  2.32394342e-03\n",
      "  -5.65336122e-03 -2.07801357e-03 -3.14639157e-03 -4.20532135e-04\n",
      "  -3.96234277e-04 -4.84306503e-03 -3.42979003e-04  3.04177974e-03\n",
      "   3.77850402e-03  1.81230595e-03  2.88936027e-03 -1.58632522e-04\n",
      "   2.17576497e-03  3.61046689e-03  2.91869173e-03  4.85475017e-03\n",
      "  -3.06983107e-04 -4.99271285e-03 -4.95153876e-03  3.51375486e-04\n",
      "   1.57773381e-03  5.22641566e-03  4.96600955e-03 -2.16126473e-03\n",
      "   4.48766918e-03 -4.78774413e-03 -4.65191953e-03 -2.50279319e-03\n",
      "  -4.51526369e-03  2.30690837e-03 -3.15437275e-03  3.08180444e-03\n",
      "   2.54733522e-03  1.93567752e-04  6.00685931e-04  5.94650290e-03\n",
      "   2.74789772e-03 -3.47903703e-03  6.10853250e-03 -2.54570925e-03\n",
      "  -5.78500633e-03  1.34037674e-03  8.34342390e-04  2.39100856e-03\n",
      "   4.12506001e-03  3.54962995e-03  6.43385003e-04  6.71992293e-03\n",
      "  -1.18054250e-03  3.30416208e-03  9.69421215e-04 -6.05757940e-03\n",
      "   2.99876257e-04 -4.04702873e-04 -3.16693339e-03  1.56720712e-03\n",
      "  -7.77926937e-03  6.02705791e-03  4.31338521e-03  3.17712718e-03\n",
      "   4.30528753e-03 -4.58099289e-03 -3.94856350e-03  6.64997988e-04\n",
      "  -1.96478666e-03  5.39025539e-04 -2.04194918e-03  7.39260421e-04\n",
      "   4.57858919e-03  5.53929070e-03 -5.26269067e-03  4.43925796e-03\n",
      "   2.02060896e-03  2.07368015e-03 -3.47166752e-03 -2.35107586e-03\n",
      "  -9.39652202e-03  2.93450464e-03  6.75027698e-03 -4.27850869e-03\n",
      "  -6.84864338e-03  2.74533671e-03 -1.32825340e-03  2.63664183e-03\n",
      "  -5.28452441e-04 -1.45864982e-03 -2.88617167e-03 -7.54597738e-03\n",
      "   5.17498407e-03  4.56731394e-03  3.02806626e-03 -3.55260409e-03\n",
      "   7.16391219e-04  1.71440727e-03  1.27163314e-03 -4.42821565e-04\n",
      "   3.62377990e-03  3.75306679e-03 -4.65219182e-04 -5.38288068e-04\n",
      "   1.46988536e-03  1.36553965e-03  4.44686449e-04 -1.62295683e-03\n",
      "   2.51257031e-05 -6.53111985e-04 -1.35852015e-03  1.32803168e-03\n",
      "  -3.93080229e-03  2.50547305e-03 -9.29134971e-04  2.29916516e-03\n",
      "  -4.27169187e-04 -3.39881635e-04 -5.83459720e-03  4.12399703e-03\n",
      "  -1.78830887e-03  3.92015283e-03  9.14105318e-04 -2.67293681e-03\n",
      "  -3.42569653e-03  9.91007305e-04  3.80751333e-03  4.48347306e-03\n",
      "  -1.02095656e-03 -5.34895724e-05 -6.79076452e-03 -5.40142872e-03\n",
      "  -9.37512081e-04 -1.71701427e-03  1.03799092e-03 -8.91596546e-04\n",
      "  -3.22693528e-03 -5.99133758e-03  5.25095267e-03  1.42656119e-03\n",
      "  -5.32890633e-04 -2.50342970e-03 -4.16119389e-03  2.16255637e-03\n",
      "   1.06030880e-03  5.16606957e-04 -7.61078036e-03  3.04146782e-03\n",
      "   1.00164938e-03 -4.75849653e-03 -3.42866391e-03  2.60392616e-03\n",
      "   2.12164280e-03 -1.25040810e-04 -5.00720528e-03 -8.85206505e-04\n",
      "  -2.03292873e-03 -1.55933285e-04 -4.73253621e-03 -3.33649900e-04\n",
      "  -1.85428052e-03 -1.32854180e-03 -3.95302584e-03 -5.43019447e-03\n",
      "  -3.94696189e-03  5.59583803e-03 -5.89467297e-03 -2.11644821e-03\n",
      "  -4.97059650e-03 -4.43935745e-04  3.91748013e-03  6.39301202e-03\n",
      "   1.54387488e-03 -1.73623272e-03 -2.70748024e-03 -4.64891139e-03\n",
      "  -1.73962601e-03  5.40701619e-03  2.98367227e-03  5.22889534e-04\n",
      "  -6.19339597e-03  1.00404120e-03  4.96490276e-03 -3.86271612e-03\n",
      "   6.58020591e-03 -1.82697395e-03 -6.55118809e-03  4.16468269e-03\n",
      "   4.23428596e-03 -6.82205676e-03 -2.18808694e-03  6.65883509e-03\n",
      "  -1.11577947e-02  1.40691951e-03  1.50163453e-03  1.94583322e-03\n",
      "   3.95090281e-03 -4.93242143e-03 -3.45120763e-03 -1.65842852e-05\n",
      "  -5.47976496e-04 -1.27748346e-03  2.02028239e-03  3.99028195e-03\n",
      "   7.55277320e-03 -1.11633199e-04 -5.29716708e-03  1.64895618e-03\n",
      "   5.32066251e-03 -1.15591919e-02 -2.34175491e-03 -1.77923636e-05\n",
      "  -9.13712051e-03  3.22676523e-03 -1.02087919e-03 -2.07529412e-04\n",
      "  -3.79517652e-04 -2.78361643e-03 -4.70233617e-03  4.37497108e-03\n",
      "   2.90019128e-03 -1.82258603e-03  3.16648426e-04  2.97878271e-03\n",
      "  -5.78326769e-03  5.39491582e-03  3.52552919e-03 -1.98060090e-03\n",
      "  -6.00363734e-04  7.14116870e-04  1.79826425e-03 -6.27476031e-04]]\n"
     ]
    }
   ],
   "source": [
    "# get lr_weights\n",
    "lr_weights = lr.coef_\n",
    "# print(lr_weights)\n",
    "\n",
    "# get lr outputs\n",
    "lr_outputs = lr.predict_proba(xs)[:, 1]"
   ]
  },
  {
   "cell_type": "code",
   "execution_count": 35,
   "metadata": {},
   "outputs": [
    {
     "data": {
      "text/plain": [
       "737"
      ]
     },
     "execution_count": 35,
     "metadata": {},
     "output_type": "execute_result"
    }
   ],
   "source": [
    "sum(lr_outputs[0::2] > lr_outputs[1::2])"
   ]
  },
  {
   "cell_type": "code",
   "execution_count": null,
   "metadata": {},
   "outputs": [],
   "source": []
  }
 ],
 "metadata": {
  "kernelspec": {
   "display_name": "pytorch",
   "language": "python",
   "name": "python3"
  },
  "language_info": {
   "codemirror_mode": {
    "name": "ipython",
    "version": 3
   },
   "file_extension": ".py",
   "mimetype": "text/x-python",
   "name": "python",
   "nbconvert_exporter": "python",
   "pygments_lexer": "ipython3",
   "version": "3.10.10"
  },
  "orig_nbformat": 4
 },
 "nbformat": 4,
 "nbformat_minor": 2
}
