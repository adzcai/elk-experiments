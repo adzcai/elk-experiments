{
 "cells": [
  {
   "attachments": {},
   "cell_type": "markdown",
   "metadata": {},
   "source": [
    "# Eliciting latent knowledge - experiments\n",
    "\n",
    "Alexander Cai, Gabriel Wu, Max Nadeau\n",
    "\n",
    "Some experiments initially performed for [CS 229br Foundations of Deep Learning](https://boazbk.github.io/mltheoryseminar/) as taught in Spring 2023 at Harvard University by Boaz Barak.\n",
    "\n",
    "This is a work-in-progress research draft to explore some properties of the \"Contrast-Consistent Search\" algorithm (and later algorithms)\n",
    "for identifying a language model's internal representation of truth. This would be helpful in identifying model misbehaviours\n",
    "or \"eliciting latent knowledge\" from intelligent models.\n",
    "\n",
    "Our research questions:\n",
    "\n",
    "- Does the \"direction\" discovered by CCS carry any semantic meaning outside its original setting (i.e. the residual stream on the final \"positive\" / \"negative\" token)?\n",
    "\n",
    "See [adzcai/llama-ccs](https://github.com/adzcai/llama-ccs) for some preliminary experiments on the Meta LLaMA models.\n",
    "\n",
    "Currently the [EleutherAI/elk](https://github.com/EleutherAI/elk) package must be installed in editable mode to download the associated prompt templates. Also note that it requires Python 3.10 which is not supported on Google Colab.\n",
    "\n",
    "To do this, make sure you have the desired environment enabled, navigate to a convenient repository, and run the following."
   ]
  },
  {
   "cell_type": "code",
   "execution_count": null,
   "metadata": {},
   "outputs": [],
   "source": [
    "# ! git clone https://github.com/EleutherAI/elk.git\n",
    "# ! cd elk && pip install -qe ."
   ]
  },
  {
   "cell_type": "code",
   "execution_count": null,
   "metadata": {},
   "outputs": [],
   "source": [
    "# install the remaining requirements\n",
    "\n",
    "# ! pip install -q \\\n",
    "#     circuitsvis \\\n",
    "#     plotly \\\n",
    "#     git+https://github.com/neelnanda-io/TransformerLens.git"
   ]
  },
  {
   "cell_type": "markdown",
   "metadata": {},
   "source": [
    "## Resources\n",
    "\n",
    "[EleutherAI/elk](https://github.com/EleutherAI/elk): Contains many further innovations on top of CCS. Very convenient tool for interacting with HF models and datasets.\n",
    "\n",
    "[Discovering Latent Knowledge in Language Models Without Supervision](https://arxiv.org/abs/2212.03827): The original paper by Collin Burns and Haotian Ye et al that proposes \"Contrast-Consistent Search\" (CCS).\n",
    "- [collin-burns/discovering_latent_knowledge](https://github.com/collin-burns/discovering_latent_knowledge): The corresponding repository.\n",
    "  - This is claimed to be quite buggy. See [Bugs of the Initial Release of CCS](https://docs.google.com/document/d/16Q8ZJFloA-x2lR65hs80rbbjX70TteCSMhuDQGcC75Q/edit?usp=sharing) by Fabien Roger.\n",
    "- [How \"Discovering Latent Knowledge in Language Models Without Supervision\" Fits Into a Broader Alignment Scheme](https://www.lesswrong.com/posts/L4anhrxjv8j2yRKKp/how-discovering-latent-knowledge-in-language-models-without)\n",
    "\n",
    "[What Discovering Latent Knowledge Did and Did Not Find](https://www.lesswrong.com/posts/bWxNPMy5MhPnQTzKz/what-discovering-latent-knowledge-did-and-did-not-find-4): A writeup by Fabien Roger on takeaways from the original paper.\n",
    "\n",
    "- [safer-ai/Exhaustive-CCS](https://github.com/safer-ai/Exhaustive-CCS): The corresponding repository. Similar to Collin Burns's but with fewer bugs.\n",
    "- [Several experiments with CCS.](https://docs.google.com/document/d/1LCjjnUPN51gHl_rmCWEmmtbY-Wu1dixzOif14e-7i-U/edit)"
   ]
  },
  {
   "cell_type": "markdown",
   "metadata": {},
   "source": [
    "## Getting started"
   ]
  },
  {
   "cell_type": "code",
   "execution_count": 1,
   "metadata": {},
   "outputs": [],
   "source": [
    "import os\n",
    "from pathlib import Path\n",
    "\n",
    "cwd = Path(os.getcwd())\n",
    "data_path = cwd / \"data\"\n",
    "reporters_path = cwd / \"reporters\""
   ]
  },
  {
   "cell_type": "code",
   "execution_count": 2,
   "metadata": {},
   "outputs": [],
   "source": [
    "use_data_dir = True\n",
    "\"\"\"Optionally store data in this folder instead of the default.\"\"\"\n",
    "\n",
    "if use_data_dir:\n",
    "    data_path.mkdir(parents=True, exist_ok=True)\n",
    "    os.environ[\"HF_HOME\"] = data_path.as_posix()"
   ]
  },
  {
   "cell_type": "markdown",
   "metadata": {},
   "source": [
    "Here we elicit latent knowledge from the [Pythia](https://github.com/EleutherAI/pythia) model family from EleutherAI.\n",
    "We used the _non-deduplicated_ version of the models as of 17 April 2023. We use the 1B and 1.4B parameter models.\n",
    "\n",
    "This model are notable in that every model in the family is trained on the same data in the same order.\n",
    "A [paper](https://arxiv.org/pdf/2304.01373.pdf) with detailed information about these models is also available.\n",
    "\n",
    "Additionally, these models are also available for use with [TransformerLens](https://github.com/neelnanda-io/TransformerLens/blob/main/transformer_lens/model_properties_table.md).\n",
    "\n",
    "We use the [SuperGLUE (BoolQ)](https://huggingface.co/datasets/super_glue/viewer/boolq/test) dataset for a QA task and the [IMDB](https://huggingface.co/datasets/imdb) dataset for sentiment analysis.\n",
    "\n",
    "We chose these datasets for preliminary analysis since they're simple archetypes for their respective tasks."
   ]
  },
  {
   "cell_type": "code",
   "execution_count": null,
   "metadata": {},
   "outputs": [],
   "source": [
    "# ! elk elicit EleutherAI/pythia-1b 'super_glue boolq' --net ccs --out_dir 'reporters/ccs/pythia-1b/super_glue boolq'\n",
    "\n",
    "# ! elk elicit EleutherAI/pythia-1b 'super_glue boolq' --net eigen --out_dir 'reporters/eigen/pythia-1b/super_glue boolq'\n",
    "\n",
    "# ! elk elicit EleutherAI/pythia-1b imdb --net ccs --out_dir reporters/ccs/pythia-1b/imdb\n",
    "\n",
    "# ! elk elicit EleutherAI/pythia-1b imdb --net eigen --out_dir reporters/eigen/pythia-1b/imdb\n",
    "\n",
    "# ! elk elicit EleutherAI/pythia-1.4b 'super_glue boolq' --net ccs --out_dir reporters/ccs/pythia-1.4b/'super_glue boolq'\n",
    "\n",
    "# ! elk elicit EleutherAI/pythia-1.4b 'super_glue boolq' --net eigen --out_dir reporters/eigen/pythia-1.4b/'super_glue boolq'\n",
    "\n",
    "# ! elk elicit EleutherAI/pythia-1.4b imdb --net ccs --out_dir reporters/ccs/pythia-1.4b/imdb\n",
    "\n",
    "# ! elk elicit EleutherAI/pythia-1.4b imdb --net eigen --out_dir reporters/eigen/pythia-1.4b/imdb"
   ]
  },
  {
   "attachments": {},
   "cell_type": "markdown",
   "metadata": {},
   "source": [
    "## Load the learned directions"
   ]
  },
  {
   "cell_type": "code",
   "execution_count": 3,
   "metadata": {},
   "outputs": [
    {
     "name": "stderr",
     "output_type": "stream",
     "text": [
      "/opt/conda/envs/ccs/lib/python3.10/site-packages/tqdm/auto.py:21: TqdmWarning: IProgress not found. Please update jupyter and ipywidgets. See https://ipywidgets.readthedocs.io/en/stable/user_install.html\n",
      "  from .autonotebook import tqdm as notebook_tqdm\n"
     ]
    },
    {
     "data": {
      "text/plain": [
       "1"
      ]
     },
     "execution_count": 3,
     "metadata": {},
     "output_type": "execute_result"
    }
   ],
   "source": [
    "import torch\n",
    "\n",
    "# disable gradients since we're not doing any training here\n",
    "torch.set_grad_enabled(False)\n",
    "device = \"cuda\" if torch.cuda.is_available() else \"cpu\"\n",
    "torch.cuda.device_count()"
   ]
  },
  {
   "cell_type": "code",
   "execution_count": 4,
   "metadata": {},
   "outputs": [
    {
     "data": {
      "text/plain": [
       "[PosixPath('/data/elk-experiments/reporters/ccs/pythia-1b/imdb/cfg.yaml'),\n",
       " PosixPath('/data/elk-experiments/reporters/ccs/pythia-1b/imdb/eval.csv'),\n",
       " PosixPath('/data/elk-experiments/reporters/ccs/pythia-1b/imdb/fingerprints.yaml'),\n",
       " PosixPath('/data/elk-experiments/reporters/ccs/pythia-1b/imdb/lr_models'),\n",
       " PosixPath('/data/elk-experiments/reporters/ccs/pythia-1b/imdb/reporters')]"
      ]
     },
     "execution_count": 4,
     "metadata": {},
     "output_type": "execute_result"
    }
   ],
   "source": [
    "ccs_path = reporters_path / \"ccs/pythia-1b/imdb\"\n",
    "list(ccs_path.iterdir())"
   ]
  },
  {
   "cell_type": "code",
   "execution_count": 5,
   "metadata": {},
   "outputs": [],
   "source": [
    "reporters = [\n",
    "    torch.load(reporter, map_location=device)\n",
    "    for reporter in (ccs_path / \"reporters\").iterdir()\n",
    "]"
   ]
  },
  {
   "cell_type": "markdown",
   "metadata": {},
   "source": [
    "## Load the model\n",
    "\n",
    "We use the [TransformerLens](https://github.com/neelnanda-io/TransformerLens) library to interact with model internals.\n",
    "\n",
    "The reference documentation can be found [here](https://neelnanda-io.github.io/TransformerLens/transformer_lens.html).\n",
    "\n",
    "The [main tutorial](https://neelnanda.io/transformer-lens-demo) was very helpful in getting started with the library."
   ]
  },
  {
   "cell_type": "code",
   "execution_count": 6,
   "metadata": {},
   "outputs": [
    {
     "name": "stderr",
     "output_type": "stream",
     "text": [
      "Downloading (…)lve/main/config.json: 100%|██████████| 569/569 [00:00<00:00, 985kB/s]\n",
      "Downloading pytorch_model.bin: 100%|██████████| 2.09G/2.09G [00:37<00:00, 56.0MB/s]\n",
      "Downloading (…)okenizer_config.json: 100%|██████████| 396/396 [00:00<00:00, 565kB/s]\n",
      "Downloading (…)/main/tokenizer.json: 100%|██████████| 2.11M/2.11M [00:00<00:00, 216MB/s]\n",
      "Downloading (…)cial_tokens_map.json: 100%|██████████| 99.0/99.0 [00:00<00:00, 118kB/s]\n",
      "Using pad_token, but it is not set yet.\n"
     ]
    },
    {
     "name": "stdout",
     "output_type": "stream",
     "text": [
      "Loaded pretrained model EleutherAI/pythia-1b into HookedTransformer\n",
      "Moving model to device:  cuda\n"
     ]
    }
   ],
   "source": [
    "from transformer_lens import HookedTransformer\n",
    "\n",
    "model = HookedTransformer.from_pretrained(\"EleutherAI/pythia-1b\").cuda()"
   ]
  },
  {
   "cell_type": "code",
   "execution_count": 7,
   "metadata": {},
   "outputs": [
    {
     "data": {
      "text/plain": [
       "(16, True)"
      ]
     },
     "execution_count": 7,
     "metadata": {},
     "output_type": "execute_result"
    }
   ],
   "source": [
    "n_layers = model.cfg.n_layers\n",
    "n_layers, len(reporters) == n_layers"
   ]
  },
  {
   "attachments": {},
   "cell_type": "markdown",
   "metadata": {},
   "source": [
    "## Load prompts\n",
    "\n",
    "In the original DLK paper, the authors found that out of the models they tested,\n",
    "the single decoder-only model (GPT-J-6B) performed the worst (measured in terms of accuracy across datasets).\n",
    "\n",
    "Later on, researchers at EleutherAI found that this could be resolved by prompting the model using different prompt templates.\n",
    "Their method leverages that the truth of the given statement should be the same regardless of the prompt template chosen."
   ]
  },
  {
   "cell_type": "code",
   "execution_count": 25,
   "metadata": {},
   "outputs": [
    {
     "name": "stderr",
     "output_type": "stream",
     "text": [
      "Downloading builder script: 100%|██████████| 30.7k/30.7k [00:00<00:00, 30.7MB/s]\n",
      "Downloading metadata: 100%|██████████| 38.7k/38.7k [00:00<00:00, 31.0MB/s]\n",
      "Downloading readme: 100%|██████████| 14.8k/14.8k [00:00<00:00, 12.5MB/s]\n"
     ]
    },
    {
     "name": "stdout",
     "output_type": "stream",
     "text": [
      "Downloading and preparing dataset super_glue/boolq to /data/elk-experiments/data/datasets/super_glue/boolq/1.0.3/bb9675f958ebfee0d5d6dc5476fafe38c79123727a7258d515c450873dbdbbed...\n"
     ]
    },
    {
     "name": "stderr",
     "output_type": "stream",
     "text": [
      "Downloading data: 100%|██████████| 4.12M/4.12M [00:00<00:00, 104MB/s]\n",
      "                                                                                          \r"
     ]
    },
    {
     "name": "stdout",
     "output_type": "stream",
     "text": [
      "Dataset super_glue downloaded and prepared to /data/elk-experiments/data/datasets/super_glue/boolq/1.0.3/bb9675f958ebfee0d5d6dc5476fafe38c79123727a7258d515c450873dbdbbed. Subsequent calls will reuse this data.\n"
     ]
    },
    {
     "name": "stderr",
     "output_type": "stream",
     "text": [
      "100%|██████████| 3/3 [00:00<00:00, 1027.76it/s]\n"
     ]
    },
    {
     "name": "stdout",
     "output_type": "stream",
     "text": [
      "Using 10 variants of each prompt\n"
     ]
    }
   ],
   "source": [
    "from elk.extraction.prompt_loading import load_prompts\n",
    "import itertools\n",
    "import pandas as pd\n",
    "\n",
    "n_prompts = 12\n",
    "batch_range = torch.arange(n_prompts)\n",
    "\n",
    "dataset = \"super_glue boolq\"\n",
    "\n",
    "prompt_dataset = load_prompts(dataset, split_type=\"val\")\n",
    "prompt_dataset = list(itertools.islice(prompt_dataset, n_prompts))"
   ]
  },
  {
   "cell_type": "markdown",
   "metadata": {},
   "source": [
    "The loaded prompts (each element of the `prompt_dataset` have the following structure:\n",
    "\n",
    "```\n",
    "{\n",
    "    \"label\": 0 if correct answer is \"negative\", 1 if correct answer is \"positive\"\n",
    "    \"prompts\": [\n",
    "        [\n",
    "            {\n",
    "                \"answer\": \"negative\" or \"bad\" or ...\n",
    "                \"text\": formatted prompt with the \"negative\" answer\n",
    "            },\n",
    "            {\n",
    "                \"answer\": \"positive\" or \"good\" or ...\n",
    "                \"text\": formatted prompt with the \"positive\" answer\n",
    "            }\n",
    "        ],\n",
    "        ...\n",
    "    ],\n",
    "    \"template_names\": [\n",
    "        template name for prompt 0,\n",
    "        ...\n",
    "    ]\n",
    "}\n",
    "```\n",
    "\n",
    "Note that prompts vary along two binary axes:\n",
    "\n",
    "1. Whether the statement ends in the \"positive\" answer or the \"negative\" answer;\n",
    "2. Whether the statement is factually correct or incorrect.\n",
    "\n",
    "It's important to distinguish these two axes; The goal of CCS is to uncover the latter."
   ]
  },
  {
   "cell_type": "code",
   "execution_count": 26,
   "metadata": {},
   "outputs": [
    {
     "data": {
      "text/html": [
       "<div>\n",
       "<style scoped>\n",
       "    .dataframe tbody tr th:only-of-type {\n",
       "        vertical-align: middle;\n",
       "    }\n",
       "\n",
       "    .dataframe tbody tr th {\n",
       "        vertical-align: top;\n",
       "    }\n",
       "\n",
       "    .dataframe thead th {\n",
       "        text-align: right;\n",
       "    }\n",
       "</style>\n",
       "<table border=\"1\" class=\"dataframe\">\n",
       "  <thead>\n",
       "    <tr style=\"text-align: right;\">\n",
       "      <th></th>\n",
       "      <th></th>\n",
       "      <th>negative_prompt</th>\n",
       "      <th>positive_prompt</th>\n",
       "      <th>negative_answer</th>\n",
       "      <th>positive_answer</th>\n",
       "      <th>incorrect_answer</th>\n",
       "      <th>correct_answer</th>\n",
       "      <th>template_name</th>\n",
       "    </tr>\n",
       "    <tr>\n",
       "      <th>prompt_id</th>\n",
       "      <th>template_id</th>\n",
       "      <th></th>\n",
       "      <th></th>\n",
       "      <th></th>\n",
       "      <th></th>\n",
       "      <th></th>\n",
       "      <th></th>\n",
       "      <th></th>\n",
       "    </tr>\n",
       "  </thead>\n",
       "  <tbody>\n",
       "    <tr>\n",
       "      <th rowspan=\"5\" valign=\"top\">0</th>\n",
       "      <th>0</th>\n",
       "      <td>Passage: The Ranch (TV series) -- The Ranch is...</td>\n",
       "      <td>Passage: The Ranch (TV series) -- The Ranch is...</td>\n",
       "      <td>False</td>\n",
       "      <td>True</td>\n",
       "      <td>True</td>\n",
       "      <td>False</td>\n",
       "      <td>after_reading</td>\n",
       "    </tr>\n",
       "    <tr>\n",
       "      <th>1</th>\n",
       "      <td>The Ranch (TV series) -- The Ranch is an Ameri...</td>\n",
       "      <td>The Ranch (TV series) -- The Ranch is an Ameri...</td>\n",
       "      <td>No</td>\n",
       "      <td>Yes</td>\n",
       "      <td>Yes</td>\n",
       "      <td>No</td>\n",
       "      <td>GPT-3 Style</td>\n",
       "    </tr>\n",
       "    <tr>\n",
       "      <th>2</th>\n",
       "      <td>The Ranch (TV series) -- The Ranch is an Ameri...</td>\n",
       "      <td>The Ranch (TV series) -- The Ranch is an Ameri...</td>\n",
       "      <td>No</td>\n",
       "      <td>Yes</td>\n",
       "      <td>Yes</td>\n",
       "      <td>No</td>\n",
       "      <td>I wonder…</td>\n",
       "    </tr>\n",
       "    <tr>\n",
       "      <th>3</th>\n",
       "      <td>Text: The Ranch (TV series) -- The Ranch is an...</td>\n",
       "      <td>Text: The Ranch (TV series) -- The Ranch is an...</td>\n",
       "      <td>No</td>\n",
       "      <td>Yes</td>\n",
       "      <td>Yes</td>\n",
       "      <td>No</td>\n",
       "      <td>yes_no_question</td>\n",
       "    </tr>\n",
       "    <tr>\n",
       "      <th>4</th>\n",
       "      <td>The Ranch (TV series) -- The Ranch is an Ameri...</td>\n",
       "      <td>The Ranch (TV series) -- The Ranch is an Ameri...</td>\n",
       "      <td>No</td>\n",
       "      <td>Yes</td>\n",
       "      <td>Yes</td>\n",
       "      <td>No</td>\n",
       "      <td>could you tell me…</td>\n",
       "    </tr>\n",
       "  </tbody>\n",
       "</table>\n",
       "</div>"
      ],
      "text/plain": [
       "                                                         negative_prompt   \n",
       "prompt_id template_id                                                      \n",
       "0         0            Passage: The Ranch (TV series) -- The Ranch is...  \\\n",
       "          1            The Ranch (TV series) -- The Ranch is an Ameri...   \n",
       "          2            The Ranch (TV series) -- The Ranch is an Ameri...   \n",
       "          3            Text: The Ranch (TV series) -- The Ranch is an...   \n",
       "          4            The Ranch (TV series) -- The Ranch is an Ameri...   \n",
       "\n",
       "                                                         positive_prompt   \n",
       "prompt_id template_id                                                      \n",
       "0         0            Passage: The Ranch (TV series) -- The Ranch is...  \\\n",
       "          1            The Ranch (TV series) -- The Ranch is an Ameri...   \n",
       "          2            The Ranch (TV series) -- The Ranch is an Ameri...   \n",
       "          3            Text: The Ranch (TV series) -- The Ranch is an...   \n",
       "          4            The Ranch (TV series) -- The Ranch is an Ameri...   \n",
       "\n",
       "                      negative_answer positive_answer incorrect_answer   \n",
       "prompt_id template_id                                                    \n",
       "0         0                     False            True             True  \\\n",
       "          1                        No             Yes              Yes   \n",
       "          2                        No             Yes              Yes   \n",
       "          3                        No             Yes              Yes   \n",
       "          4                        No             Yes              Yes   \n",
       "\n",
       "                      correct_answer       template_name  \n",
       "prompt_id template_id                                     \n",
       "0         0                    False       after_reading  \n",
       "          1                       No         GPT-3 Style  \n",
       "          2                       No           I wonder…  \n",
       "          3                       No     yes_no_question  \n",
       "          4                       No  could you tell me…  "
      ]
     },
     "execution_count": 26,
     "metadata": {},
     "output_type": "execute_result"
    }
   ],
   "source": [
    "df = pd.DataFrame(\n",
    "    [\n",
    "        dict(\n",
    "            negative_prompt=negative[\"text\"],\n",
    "            positive_prompt=positive[\"text\"],\n",
    "            negative_answer=negative[\"answer\"],\n",
    "            positive_answer=positive[\"answer\"],\n",
    "            incorrect_answer=negative[\"answer\"]\n",
    "            if prompts[\"label\"]\n",
    "            else positive[\"answer\"],\n",
    "            correct_answer=positive[\"answer\"]\n",
    "            if prompts[\"label\"]\n",
    "            else negative[\"answer\"],\n",
    "            template_name=template_name,\n",
    "            template_id=i,\n",
    "            prompt_id=j,\n",
    "        )\n",
    "        for j, prompts in enumerate(prompt_dataset)\n",
    "        for i, ((negative, positive), template_name) in enumerate(\n",
    "            zip(prompts[\"prompts\"], prompts[\"template_names\"])\n",
    "        )\n",
    "    ]\n",
    ")\n",
    "# set a multiindex using the prompt_id and template_id\n",
    "df = df.set_index([\"prompt_id\", \"template_id\"])\n",
    "df.head()"
   ]
  },
  {
   "cell_type": "code",
   "execution_count": 27,
   "metadata": {},
   "outputs": [
    {
     "name": "stdout",
     "output_type": "stream",
     "text": [
      "Passage: The Ranch (TV series) -- The Ranch is an American comedy web television series starring Ashton Kutcher, Danny Masterson, Debra Winger, Elisha Cuthbert, and Sam Elliott that debuted in 2016 on Netflix. The show takes place on the fictional Iron River Ranch in the fictitious small town of Garrison, Colorado; detailing the life of the Bennetts, a dysfunctional family consisting of two brothers, their rancher father, and his divorced wife and local bar owner. While the opening sequence shows scenes from Norwood and Ouray, Colorado and surrounding Ouray and San Miguel Counties, The Ranch is filmed on a sound stage in front of a live audience in Burbank, California. Each season consists of 20 episodes broken up into two parts, each containing 10 episodes.\n",
      "\n",
      "After reading this passage, I have a question: is garrison from the ranch a real place? True or False?\n",
      "\n",
      "False\n"
     ]
    }
   ],
   "source": [
    "print(df.at[(0, 0), \"negative_prompt\"])"
   ]
  },
  {
   "cell_type": "markdown",
   "metadata": {},
   "source": [
    "## Forward pass on the text"
   ]
  },
  {
   "cell_type": "code",
   "execution_count": 11,
   "metadata": {},
   "outputs": [],
   "source": [
    "from jaxtyping import Float\n",
    "from tqdm import tqdm\n",
    "from transformer_lens.hook_points import HookPoint\n",
    "import transformer_lens.utils as utils\n",
    "from functools import partial"
   ]
  },
  {
   "cell_type": "markdown",
   "metadata": {},
   "source": [
    "Here we fix a given template ID. This gives us a single fully-formatted prompt for each original text sample."
   ]
  },
  {
   "attachments": {},
   "cell_type": "markdown",
   "metadata": {},
   "source": [
    "### Preprocessing prompts"
   ]
  },
  {
   "cell_type": "code",
   "execution_count": 28,
   "metadata": {},
   "outputs": [
    {
     "data": {
      "text/html": [
       "<div>\n",
       "<style scoped>\n",
       "    .dataframe tbody tr th:only-of-type {\n",
       "        vertical-align: middle;\n",
       "    }\n",
       "\n",
       "    .dataframe tbody tr th {\n",
       "        vertical-align: top;\n",
       "    }\n",
       "\n",
       "    .dataframe thead th {\n",
       "        text-align: right;\n",
       "    }\n",
       "</style>\n",
       "<table border=\"1\" class=\"dataframe\">\n",
       "  <thead>\n",
       "    <tr style=\"text-align: right;\">\n",
       "      <th></th>\n",
       "      <th>negative_prompt</th>\n",
       "      <th>positive_prompt</th>\n",
       "      <th>negative_answer</th>\n",
       "      <th>positive_answer</th>\n",
       "      <th>incorrect_answer</th>\n",
       "      <th>correct_answer</th>\n",
       "      <th>template_name</th>\n",
       "    </tr>\n",
       "  </thead>\n",
       "  <tbody>\n",
       "    <tr>\n",
       "      <th>0</th>\n",
       "      <td>The Ranch (TV series) -- The Ranch is an Ameri...</td>\n",
       "      <td>The Ranch (TV series) -- The Ranch is an Ameri...</td>\n",
       "      <td>No</td>\n",
       "      <td>Yes</td>\n",
       "      <td>Yes</td>\n",
       "      <td>No</td>\n",
       "      <td>GPT-3 Style</td>\n",
       "    </tr>\n",
       "    <tr>\n",
       "      <th>1</th>\n",
       "      <td>Lanugo -- Lanugo (/ləˈnjuːɡoʊ/; from Latin lan...</td>\n",
       "      <td>Lanugo -- Lanugo (/ləˈnjuːɡoʊ/; from Latin lan...</td>\n",
       "      <td>No</td>\n",
       "      <td>Yes</td>\n",
       "      <td>No</td>\n",
       "      <td>Yes</td>\n",
       "      <td>GPT-3 Style</td>\n",
       "    </tr>\n",
       "    <tr>\n",
       "      <th>2</th>\n",
       "      <td>Administrative law judge -- An administrative ...</td>\n",
       "      <td>Administrative law judge -- An administrative ...</td>\n",
       "      <td>No</td>\n",
       "      <td>Yes</td>\n",
       "      <td>No</td>\n",
       "      <td>Yes</td>\n",
       "      <td>GPT-3 Style</td>\n",
       "    </tr>\n",
       "    <tr>\n",
       "      <th>3</th>\n",
       "      <td>Plants in space -- Plant research continued on...</td>\n",
       "      <td>Plants in space -- Plant research continued on...</td>\n",
       "      <td>No</td>\n",
       "      <td>Yes</td>\n",
       "      <td>No</td>\n",
       "      <td>Yes</td>\n",
       "      <td>GPT-3 Style</td>\n",
       "    </tr>\n",
       "    <tr>\n",
       "      <th>4</th>\n",
       "      <td>HCF Health Insurance -- HCF (The Hospitals Con...</td>\n",
       "      <td>HCF Health Insurance -- HCF (The Hospitals Con...</td>\n",
       "      <td>No</td>\n",
       "      <td>Yes</td>\n",
       "      <td>No</td>\n",
       "      <td>Yes</td>\n",
       "      <td>GPT-3 Style</td>\n",
       "    </tr>\n",
       "  </tbody>\n",
       "</table>\n",
       "</div>"
      ],
      "text/plain": [
       "                                     negative_prompt   \n",
       "0  The Ranch (TV series) -- The Ranch is an Ameri...  \\\n",
       "1  Lanugo -- Lanugo (/ləˈnjuːɡoʊ/; from Latin lan...   \n",
       "2  Administrative law judge -- An administrative ...   \n",
       "3  Plants in space -- Plant research continued on...   \n",
       "4  HCF Health Insurance -- HCF (The Hospitals Con...   \n",
       "\n",
       "                                     positive_prompt negative_answer   \n",
       "0  The Ranch (TV series) -- The Ranch is an Ameri...              No  \\\n",
       "1  Lanugo -- Lanugo (/ləˈnjuːɡoʊ/; from Latin lan...              No   \n",
       "2  Administrative law judge -- An administrative ...              No   \n",
       "3  Plants in space -- Plant research continued on...              No   \n",
       "4  HCF Health Insurance -- HCF (The Hospitals Con...              No   \n",
       "\n",
       "  positive_answer incorrect_answer correct_answer template_name  \n",
       "0             Yes              Yes             No   GPT-3 Style  \n",
       "1             Yes               No            Yes   GPT-3 Style  \n",
       "2             Yes               No            Yes   GPT-3 Style  \n",
       "3             Yes               No            Yes   GPT-3 Style  \n",
       "4             Yes               No            Yes   GPT-3 Style  "
      ]
     },
     "execution_count": 28,
     "metadata": {},
     "output_type": "execute_result"
    }
   ],
   "source": [
    "template_id = 1\n",
    "\n",
    "save_path = Path(f\"results/ccs/pythia-1b/{dataset}/template-{template_id}\")\n",
    "\n",
    "prompts = df.loc[pd.IndexSlice[:, template_id], :].reset_index(drop=True)\n",
    "prompts.head()"
   ]
  },
  {
   "cell_type": "code",
   "execution_count": 29,
   "metadata": {},
   "outputs": [],
   "source": [
    "neg_prompts = prompts[\"negative_prompt\"].tolist()\n",
    "pos_prompts = prompts[\"positive_prompt\"].tolist()\n",
    "correct_answers = prompts[\"correct_answer\"].tolist()\n",
    "incorrect_answers = prompts[\"incorrect_answer\"].tolist()"
   ]
  },
  {
   "cell_type": "code",
   "execution_count": 30,
   "metadata": {},
   "outputs": [],
   "source": [
    "neg_tokens = model.to_tokens(neg_prompts)\n",
    "pos_tokens = model.to_tokens(pos_prompts)\n",
    "\n",
    "neg_str_tokens = model.to_str_tokens(neg_prompts)\n",
    "pos_str_tokens = model.to_str_tokens(pos_prompts)\n",
    "\n",
    "prompt_lengths = torch.tensor([len(tokens) for tokens in neg_str_tokens])"
   ]
  },
  {
   "attachments": {},
   "cell_type": "markdown",
   "metadata": {},
   "source": [
    "### Hooks for collecting activation values"
   ]
  },
  {
   "cell_type": "code",
   "execution_count": 31,
   "metadata": {},
   "outputs": [],
   "source": [
    "# the negative and positive prompts match up until the very last token,\n",
    "# so we just record one and then get only the last token of the other one\n",
    "neg_results = torch.zeros((n_prompts, n_layers, max(prompt_lengths)), device=\"cpu\")\n",
    "pos_results = torch.zeros((n_prompts, n_layers), device=\"cpu\")\n",
    "\n",
    "\n",
    "def projection(\n",
    "    resid_pre: Float[torch.Tensor, \"batch pos d_model\"],  # at a given layer\n",
    "    hook: HookPoint,\n",
    "    layer: int,\n",
    "):\n",
    "    # TODO should we be normalizing here?\n",
    "    # since the prompts have different lengths, technically this is more computation than we need to do\n",
    "    neg_results[:, layer, :] = reporters[layer](resid_pre).cpu()\n",
    "    return resid_pre\n",
    "\n",
    "\n",
    "def final_projection(\n",
    "    resid_pre: Float[torch.Tensor, \"batch pos d_model\"],  # at a given layer\n",
    "    hook: HookPoint,\n",
    "    layer: int,\n",
    "):\n",
    "    # TODO should we be normalizing here?\n",
    "    x = resid_pre[batch_range, prompt_lengths - 1, :]\n",
    "    pos_results[:, layer] = reporters[layer](x).cpu()\n",
    "    return resid_pre"
   ]
  },
  {
   "attachments": {},
   "cell_type": "markdown",
   "metadata": {},
   "source": [
    "### Extraction loop"
   ]
  },
  {
   "cell_type": "code",
   "execution_count": 32,
   "metadata": {},
   "outputs": [
    {
     "name": "stderr",
     "output_type": "stream",
     "text": [
      "100%|██████████| 16/16 [00:08<00:00,  1.91it/s]\n"
     ]
    }
   ],
   "source": [
    "# should be quite fast\n",
    "for layer in tqdm(range(n_layers)):\n",
    "    act_name = utils.get_act_name(\"resid_pre\", layer)\n",
    "\n",
    "    patch_hook_fn = partial(projection, layer=layer)\n",
    "    model.run_with_hooks(neg_tokens, fwd_hooks=[(act_name, patch_hook_fn)])\n",
    "\n",
    "    patch_hook_fn = partial(final_projection, layer=layer)\n",
    "    model.run_with_hooks(pos_tokens, fwd_hooks=[(act_name, patch_hook_fn)])"
   ]
  },
  {
   "cell_type": "code",
   "execution_count": 33,
   "metadata": {},
   "outputs": [],
   "source": [
    "save_path.mkdir(parents=True, exist_ok=True)\n",
    "torch.save(neg_results, save_path / \"neg.pt\")\n",
    "torch.save(pos_results, save_path / \"pos.pt\")"
   ]
  },
  {
   "cell_type": "markdown",
   "metadata": {},
   "source": [
    "## Visualize outputs"
   ]
  },
  {
   "cell_type": "code",
   "execution_count": 15,
   "metadata": {},
   "outputs": [],
   "source": [
    "import circuitsvis as cv\n",
    "from circuitsvis.tokens import colored_tokens"
   ]
  },
  {
   "cell_type": "code",
   "execution_count": 34,
   "metadata": {},
   "outputs": [
    {
     "data": {
      "text/plain": [
       "torch.Size([12, 16, 211])"
      ]
     },
     "execution_count": 34,
     "metadata": {},
     "output_type": "execute_result"
    }
   ],
   "source": [
    "neg_results = torch.load(save_path / \"neg.pt\")\n",
    "pos_results = torch.load(save_path / \"pos.pt\")\n",
    "\n",
    "projections = torch.cat([neg_results, torch.zeros((n_prompts, n_layers, 2))], axis=-1)\n",
    "projections[batch_range, :, prompt_lengths] = pos_results\n",
    "projections[batch_range, :, prompt_lengths + 1] = 0  # visualization\n",
    "\n",
    "# make the signs across layers consistent with the final token\n",
    "# since CCS only identifies the hyperplane up to sign\n",
    "projections = pos_results.sign()[:, :, None] * projections\n",
    "projections.shape"
   ]
  },
  {
   "cell_type": "markdown",
   "metadata": {},
   "source": [
    "Here we choose a given prompt to visualize. \"positive\" answers always corresponds to _blue_ and \"negative\" answers always correspond to _red_\n",
    "independently of the correct answer."
   ]
  },
  {
   "cell_type": "code",
   "execution_count": 35,
   "metadata": {},
   "outputs": [],
   "source": [
    "def plot_colors(prompt_id: int):\n",
    "    flattened_tokens = (\n",
    "        neg_str_tokens[prompt_id] + pos_str_tokens[prompt_id][-1:] + [\"\\n\\n\\n\"]\n",
    "    ) * n_layers\n",
    "    flattened_projections = projections[\n",
    "        prompt_id, :, : prompt_lengths[prompt_id] + 2\n",
    "    ].flatten()\n",
    "\n",
    "    # clip the values to between (-5.5, 4) to make the visualization more readable\n",
    "    print(\"distance bounds:\", flattened_projections.min(), flattened_projections.max())\n",
    "    return colored_tokens(\n",
    "        flattened_tokens, flattened_projections, min_value=-5, max_value=5\n",
    "    )"
   ]
  },
  {
   "cell_type": "code",
   "execution_count": 36,
   "metadata": {},
   "outputs": [
    {
     "name": "stdout",
     "output_type": "stream",
     "text": [
      "distance bounds: tensor(-116.5692) tensor(97.0533)\n"
     ]
    },
    {
     "data": {
      "text/html": [
       "<div id=\"circuits-vis-457f18f2-92d6\" style=\"margin: 15px 0;\"/>\n",
       "    <script crossorigin type=\"module\">\n",
       "    import { render, ColoredTokens } from \"https://unpkg.com/circuitsvis@1.39.1/dist/cdn/esm.js\";\n",
       "    render(\n",
       "      \"circuits-vis-457f18f2-92d6\",\n",
       "      ColoredTokens,\n",
       "      {\"tokens\": [\"<|endoftext|>\", \"H\", \"CF\", \" Health\", \" Insurance\", \" --\", \" H\", \"CF\", \" (\", \"The\", \" Hospit\", \"als\", \" Cont\", \"ribution\", \" Fund\", \" of\", \" Australia\", \")\", \" was\", \" formed\", \" in\", \" 1932\", \" to\", \" provide\", \" health\", \" insurance\", \" cover\", \" to\", \" Australians\", \".\", \" Since\", \" then\", \",\", \" it\", \" has\", \" grown\", \" to\", \" become\", \" one\", \" of\", \" the\", \" country\", \"'s\", \" largest\", \" combined\", \" registered\", \" private\", \" health\", \" fund\", \" and\", \" life\", \" insurance\", \" organisations\", \".\", \" H\", \"CF\", \" is\", \" the\", \" 3\", \"rd\", \" largest\", \" health\", \" insurance\", \" company\", \" by\", \" market\", \" share\", \" (\", \"10\", \".\", \"3\", \"%\", \" in\", \" FY\", \"2010\", \")\", \" and\", \" is\", \" the\", \" largest\", \" not\", \"-\", \"for\", \"-\", \"profit\", \" health\", \" fund\", \" in\", \" Australia\", \".\", \" \", \"\\n\", \"Question\", \":\", \" is\", \" h\", \"cf\", \" a\", \" not\", \" for\", \" profit\", \" health\", \" fund\", \"\\n\", \"Answer\", \":\", \"\\n\", \"\\n\", \"No\", \"Yes\", \"\\n\\n\\n\", \"<|endoftext|>\", \"H\", \"CF\", \" Health\", \" Insurance\", \" --\", \" H\", \"CF\", \" (\", \"The\", \" Hospit\", \"als\", \" Cont\", \"ribution\", \" Fund\", \" of\", \" Australia\", \")\", \" was\", \" formed\", \" in\", \" 1932\", \" to\", \" provide\", \" health\", \" insurance\", \" cover\", \" to\", \" Australians\", \".\", \" Since\", \" then\", \",\", \" it\", \" has\", \" grown\", \" to\", \" become\", \" one\", \" of\", \" the\", \" country\", \"'s\", \" largest\", \" combined\", \" registered\", \" private\", \" health\", \" fund\", \" and\", \" life\", \" insurance\", \" organisations\", \".\", \" H\", \"CF\", \" is\", \" the\", \" 3\", \"rd\", \" largest\", \" health\", \" insurance\", \" company\", \" by\", \" market\", \" share\", \" (\", \"10\", \".\", \"3\", \"%\", \" in\", \" FY\", \"2010\", \")\", \" and\", \" is\", \" the\", \" largest\", \" not\", \"-\", \"for\", \"-\", \"profit\", \" health\", \" fund\", \" in\", \" Australia\", \".\", \" \", \"\\n\", \"Question\", \":\", \" is\", \" h\", \"cf\", \" a\", \" not\", \" for\", \" profit\", \" health\", \" fund\", \"\\n\", \"Answer\", \":\", \"\\n\", \"\\n\", \"No\", \"Yes\", \"\\n\\n\\n\", \"<|endoftext|>\", \"H\", \"CF\", \" Health\", \" Insurance\", \" --\", \" H\", \"CF\", \" (\", \"The\", \" Hospit\", \"als\", \" Cont\", \"ribution\", \" Fund\", \" of\", \" Australia\", \")\", \" was\", \" formed\", \" in\", \" 1932\", \" to\", \" provide\", \" health\", \" insurance\", \" cover\", \" to\", \" Australians\", \".\", \" Since\", \" then\", \",\", \" it\", \" has\", \" grown\", \" to\", \" become\", \" one\", \" of\", \" the\", \" country\", \"'s\", \" largest\", \" combined\", \" registered\", \" private\", \" health\", \" fund\", \" and\", \" life\", \" insurance\", \" organisations\", \".\", \" H\", \"CF\", \" is\", \" the\", \" 3\", \"rd\", \" largest\", \" health\", \" insurance\", \" company\", \" by\", \" market\", \" share\", \" (\", \"10\", \".\", \"3\", \"%\", \" in\", \" FY\", \"2010\", \")\", \" and\", \" is\", \" the\", \" largest\", \" not\", \"-\", \"for\", \"-\", \"profit\", \" health\", \" fund\", \" in\", \" Australia\", \".\", \" \", \"\\n\", \"Question\", \":\", \" is\", \" h\", \"cf\", \" a\", \" not\", \" for\", \" profit\", \" health\", \" fund\", \"\\n\", \"Answer\", \":\", \"\\n\", \"\\n\", \"No\", \"Yes\", \"\\n\\n\\n\", \"<|endoftext|>\", \"H\", \"CF\", \" Health\", \" Insurance\", \" --\", \" H\", \"CF\", \" (\", \"The\", \" Hospit\", \"als\", \" Cont\", \"ribution\", \" Fund\", \" of\", \" Australia\", \")\", \" was\", \" formed\", \" in\", \" 1932\", \" to\", \" provide\", \" health\", \" insurance\", \" cover\", \" to\", \" Australians\", \".\", \" Since\", \" then\", \",\", \" it\", \" has\", \" grown\", \" to\", \" become\", \" one\", \" of\", \" the\", \" country\", \"'s\", \" largest\", \" combined\", \" registered\", \" private\", \" health\", \" fund\", \" and\", \" life\", \" insurance\", \" organisations\", \".\", \" H\", \"CF\", \" is\", \" the\", \" 3\", \"rd\", \" largest\", \" health\", \" insurance\", \" company\", \" by\", \" market\", \" share\", \" (\", \"10\", \".\", \"3\", \"%\", \" in\", \" FY\", \"2010\", \")\", \" and\", \" is\", \" the\", \" largest\", \" not\", \"-\", \"for\", \"-\", \"profit\", \" health\", \" fund\", \" in\", \" Australia\", \".\", \" \", \"\\n\", \"Question\", \":\", \" is\", \" h\", \"cf\", \" a\", \" not\", \" for\", \" profit\", \" health\", \" fund\", \"\\n\", \"Answer\", \":\", \"\\n\", \"\\n\", \"No\", \"Yes\", \"\\n\\n\\n\", \"<|endoftext|>\", \"H\", \"CF\", \" Health\", \" Insurance\", \" --\", \" H\", \"CF\", \" (\", \"The\", \" Hospit\", \"als\", \" Cont\", \"ribution\", \" Fund\", \" of\", \" Australia\", \")\", \" was\", \" formed\", \" in\", \" 1932\", \" to\", \" provide\", \" health\", \" insurance\", \" cover\", \" to\", \" Australians\", \".\", \" Since\", \" then\", \",\", \" it\", \" has\", \" grown\", \" to\", \" become\", \" one\", \" of\", \" the\", \" country\", \"'s\", \" largest\", \" combined\", \" registered\", \" private\", \" health\", \" fund\", \" and\", \" life\", \" insurance\", \" organisations\", \".\", \" H\", \"CF\", \" is\", \" the\", \" 3\", \"rd\", \" largest\", \" health\", \" insurance\", \" company\", \" by\", \" market\", \" share\", \" (\", \"10\", \".\", \"3\", \"%\", \" in\", \" FY\", \"2010\", \")\", \" and\", \" is\", \" the\", \" largest\", \" not\", \"-\", \"for\", \"-\", \"profit\", \" health\", \" fund\", \" in\", \" Australia\", \".\", \" \", \"\\n\", \"Question\", \":\", \" is\", \" h\", \"cf\", \" a\", \" not\", \" for\", \" profit\", \" health\", \" fund\", \"\\n\", \"Answer\", \":\", \"\\n\", \"\\n\", \"No\", \"Yes\", \"\\n\\n\\n\", \"<|endoftext|>\", \"H\", \"CF\", \" Health\", \" Insurance\", \" --\", \" H\", \"CF\", \" (\", \"The\", \" Hospit\", \"als\", \" Cont\", \"ribution\", \" Fund\", \" of\", \" Australia\", \")\", \" was\", \" formed\", \" in\", \" 1932\", \" to\", \" provide\", \" health\", \" insurance\", \" cover\", \" to\", \" Australians\", \".\", \" Since\", \" then\", \",\", \" it\", \" has\", \" grown\", \" to\", \" become\", \" one\", \" of\", \" the\", \" country\", \"'s\", \" largest\", \" combined\", \" registered\", \" private\", \" health\", \" fund\", \" and\", \" life\", \" insurance\", \" organisations\", \".\", \" H\", \"CF\", \" is\", \" the\", \" 3\", \"rd\", \" largest\", \" health\", \" insurance\", \" company\", \" by\", \" market\", \" share\", \" (\", \"10\", \".\", \"3\", \"%\", \" in\", \" FY\", \"2010\", \")\", \" and\", \" is\", \" the\", \" largest\", \" not\", \"-\", \"for\", \"-\", \"profit\", \" health\", \" fund\", \" in\", \" Australia\", \".\", \" \", \"\\n\", \"Question\", \":\", \" is\", \" h\", \"cf\", \" a\", \" not\", \" for\", \" profit\", \" health\", \" fund\", \"\\n\", \"Answer\", \":\", \"\\n\", \"\\n\", \"No\", \"Yes\", \"\\n\\n\\n\", \"<|endoftext|>\", \"H\", \"CF\", \" Health\", \" Insurance\", \" --\", \" H\", \"CF\", \" (\", \"The\", \" Hospit\", \"als\", \" Cont\", \"ribution\", \" Fund\", \" of\", \" Australia\", \")\", \" was\", \" formed\", \" in\", \" 1932\", \" to\", \" provide\", \" health\", \" insurance\", \" cover\", \" to\", \" Australians\", \".\", \" Since\", \" then\", \",\", \" it\", \" has\", \" grown\", \" to\", \" become\", \" one\", \" of\", \" the\", \" country\", \"'s\", \" largest\", \" combined\", \" registered\", \" private\", \" health\", \" fund\", \" and\", \" life\", \" insurance\", \" organisations\", \".\", \" H\", \"CF\", \" is\", \" the\", \" 3\", \"rd\", \" largest\", \" health\", \" insurance\", \" company\", \" by\", \" market\", \" share\", \" (\", \"10\", \".\", \"3\", \"%\", \" in\", \" FY\", \"2010\", \")\", \" and\", \" is\", \" the\", \" largest\", \" not\", \"-\", \"for\", \"-\", \"profit\", \" health\", \" fund\", \" in\", \" Australia\", \".\", \" \", \"\\n\", \"Question\", \":\", \" is\", \" h\", \"cf\", \" a\", \" not\", \" for\", \" profit\", \" health\", \" fund\", \"\\n\", \"Answer\", \":\", \"\\n\", \"\\n\", \"No\", \"Yes\", \"\\n\\n\\n\", \"<|endoftext|>\", \"H\", \"CF\", \" Health\", \" Insurance\", \" --\", \" H\", \"CF\", \" (\", \"The\", \" Hospit\", \"als\", \" Cont\", \"ribution\", \" Fund\", \" of\", \" Australia\", \")\", \" was\", \" formed\", \" in\", \" 1932\", \" to\", \" provide\", \" health\", \" insurance\", \" cover\", \" to\", \" Australians\", \".\", \" Since\", \" then\", \",\", \" it\", \" has\", \" grown\", \" to\", \" become\", \" one\", \" of\", \" the\", \" country\", \"'s\", \" largest\", \" combined\", \" registered\", \" private\", \" health\", \" fund\", \" and\", \" life\", \" insurance\", \" organisations\", \".\", \" H\", \"CF\", \" is\", \" the\", \" 3\", \"rd\", \" largest\", \" health\", \" insurance\", \" company\", \" by\", \" market\", \" share\", \" (\", \"10\", \".\", \"3\", \"%\", \" in\", \" FY\", \"2010\", \")\", \" and\", \" is\", \" the\", \" largest\", \" not\", \"-\", \"for\", \"-\", \"profit\", \" health\", \" fund\", \" in\", \" Australia\", \".\", \" \", \"\\n\", \"Question\", \":\", \" is\", \" h\", \"cf\", \" a\", \" not\", \" for\", \" profit\", \" health\", \" fund\", \"\\n\", \"Answer\", \":\", \"\\n\", \"\\n\", \"No\", \"Yes\", \"\\n\\n\\n\", \"<|endoftext|>\", \"H\", \"CF\", \" Health\", \" Insurance\", \" --\", \" H\", \"CF\", \" (\", \"The\", \" Hospit\", \"als\", \" Cont\", \"ribution\", \" Fund\", \" of\", \" Australia\", \")\", \" was\", \" formed\", \" in\", \" 1932\", \" to\", \" provide\", \" health\", \" insurance\", \" cover\", \" to\", \" Australians\", \".\", \" Since\", \" then\", \",\", \" it\", \" has\", \" grown\", \" to\", \" become\", \" one\", \" of\", \" the\", \" country\", \"'s\", \" largest\", \" combined\", \" registered\", \" private\", \" health\", \" fund\", \" and\", \" life\", \" insurance\", \" organisations\", \".\", \" H\", \"CF\", \" is\", \" the\", \" 3\", \"rd\", \" largest\", \" health\", \" insurance\", \" company\", \" by\", \" market\", \" share\", \" (\", \"10\", \".\", \"3\", \"%\", \" in\", \" FY\", \"2010\", \")\", \" and\", \" is\", \" the\", \" largest\", \" not\", \"-\", \"for\", \"-\", \"profit\", \" health\", \" fund\", \" in\", \" Australia\", \".\", \" \", \"\\n\", \"Question\", \":\", \" is\", \" h\", \"cf\", \" a\", \" not\", \" for\", \" profit\", \" health\", \" fund\", \"\\n\", \"Answer\", \":\", \"\\n\", \"\\n\", \"No\", \"Yes\", \"\\n\\n\\n\", \"<|endoftext|>\", \"H\", \"CF\", \" Health\", \" Insurance\", \" --\", \" H\", \"CF\", \" (\", \"The\", \" Hospit\", \"als\", \" Cont\", \"ribution\", \" Fund\", \" of\", \" Australia\", \")\", \" was\", \" formed\", \" in\", \" 1932\", \" to\", \" provide\", \" health\", \" insurance\", \" cover\", \" to\", \" Australians\", \".\", \" Since\", \" then\", \",\", \" it\", \" has\", \" grown\", \" to\", \" become\", \" one\", \" of\", \" the\", \" country\", \"'s\", \" largest\", \" combined\", \" registered\", \" private\", \" health\", \" fund\", \" and\", \" life\", \" insurance\", \" organisations\", \".\", \" H\", \"CF\", \" is\", \" the\", \" 3\", \"rd\", \" largest\", \" health\", \" insurance\", \" company\", \" by\", \" market\", \" share\", \" (\", \"10\", \".\", \"3\", \"%\", \" in\", \" FY\", \"2010\", \")\", \" and\", \" is\", \" the\", \" largest\", \" not\", \"-\", \"for\", \"-\", \"profit\", \" health\", \" fund\", \" in\", \" Australia\", \".\", \" \", \"\\n\", \"Question\", \":\", \" is\", \" h\", \"cf\", \" a\", \" not\", \" for\", \" profit\", \" health\", \" fund\", \"\\n\", \"Answer\", \":\", \"\\n\", \"\\n\", \"No\", \"Yes\", \"\\n\\n\\n\", \"<|endoftext|>\", \"H\", \"CF\", \" Health\", \" Insurance\", \" --\", \" H\", \"CF\", \" (\", \"The\", \" Hospit\", \"als\", \" Cont\", \"ribution\", \" Fund\", \" of\", \" Australia\", \")\", \" was\", \" formed\", \" in\", \" 1932\", \" to\", \" provide\", \" health\", \" insurance\", \" cover\", \" to\", \" Australians\", \".\", \" Since\", \" then\", \",\", \" it\", \" has\", \" grown\", \" to\", \" become\", \" one\", \" of\", \" the\", \" country\", \"'s\", \" largest\", \" combined\", \" registered\", \" private\", \" health\", \" fund\", \" and\", \" life\", \" insurance\", \" organisations\", \".\", \" H\", \"CF\", \" is\", \" the\", \" 3\", \"rd\", \" largest\", \" health\", \" insurance\", \" company\", \" by\", \" market\", \" share\", \" (\", \"10\", \".\", \"3\", \"%\", \" in\", \" FY\", \"2010\", \")\", \" and\", \" is\", \" the\", \" largest\", \" not\", \"-\", \"for\", \"-\", \"profit\", \" health\", \" fund\", \" in\", \" Australia\", \".\", \" \", \"\\n\", \"Question\", \":\", \" is\", \" h\", \"cf\", \" a\", \" not\", \" for\", \" profit\", \" health\", \" fund\", \"\\n\", \"Answer\", \":\", \"\\n\", \"\\n\", \"No\", \"Yes\", \"\\n\\n\\n\", \"<|endoftext|>\", \"H\", \"CF\", \" Health\", \" Insurance\", \" --\", \" H\", \"CF\", \" (\", \"The\", \" Hospit\", \"als\", \" Cont\", \"ribution\", \" Fund\", \" of\", \" Australia\", \")\", \" was\", \" formed\", \" in\", \" 1932\", \" to\", \" provide\", \" health\", \" insurance\", \" cover\", \" to\", \" Australians\", \".\", \" Since\", \" then\", \",\", \" it\", \" has\", \" grown\", \" to\", \" become\", \" one\", \" of\", \" the\", \" country\", \"'s\", \" largest\", \" combined\", \" registered\", \" private\", \" health\", \" fund\", \" and\", \" life\", \" insurance\", \" organisations\", \".\", \" H\", \"CF\", \" is\", \" the\", \" 3\", \"rd\", \" largest\", \" health\", \" insurance\", \" company\", \" by\", \" market\", \" share\", \" (\", \"10\", \".\", \"3\", \"%\", \" in\", \" FY\", \"2010\", \")\", \" and\", \" is\", \" the\", \" largest\", \" not\", \"-\", \"for\", \"-\", \"profit\", \" health\", \" fund\", \" in\", \" Australia\", \".\", \" \", \"\\n\", \"Question\", \":\", \" is\", \" h\", \"cf\", \" a\", \" not\", \" for\", \" profit\", \" health\", \" fund\", \"\\n\", \"Answer\", \":\", \"\\n\", \"\\n\", \"No\", \"Yes\", \"\\n\\n\\n\", \"<|endoftext|>\", \"H\", \"CF\", \" Health\", \" Insurance\", \" --\", \" H\", \"CF\", \" (\", \"The\", \" Hospit\", \"als\", \" Cont\", \"ribution\", \" Fund\", \" of\", \" Australia\", \")\", \" was\", \" formed\", \" in\", \" 1932\", \" to\", \" provide\", \" health\", \" insurance\", \" cover\", \" to\", \" Australians\", \".\", \" Since\", \" then\", \",\", \" it\", \" has\", \" grown\", \" to\", \" become\", \" one\", \" of\", \" the\", \" country\", \"'s\", \" largest\", \" combined\", \" registered\", \" private\", \" health\", \" fund\", \" and\", \" life\", \" insurance\", \" organisations\", \".\", \" H\", \"CF\", \" is\", \" the\", \" 3\", \"rd\", \" largest\", \" health\", \" insurance\", \" company\", \" by\", \" market\", \" share\", \" (\", \"10\", \".\", \"3\", \"%\", \" in\", \" FY\", \"2010\", \")\", \" and\", \" is\", \" the\", \" largest\", \" not\", \"-\", \"for\", \"-\", \"profit\", \" health\", \" fund\", \" in\", \" Australia\", \".\", \" \", \"\\n\", \"Question\", \":\", \" is\", \" h\", \"cf\", \" a\", \" not\", \" for\", \" profit\", \" health\", \" fund\", \"\\n\", \"Answer\", \":\", \"\\n\", \"\\n\", \"No\", \"Yes\", \"\\n\\n\\n\", \"<|endoftext|>\", \"H\", \"CF\", \" Health\", \" Insurance\", \" --\", \" H\", \"CF\", \" (\", \"The\", \" Hospit\", \"als\", \" Cont\", \"ribution\", \" Fund\", \" of\", \" Australia\", \")\", \" was\", \" formed\", \" in\", \" 1932\", \" to\", \" provide\", \" health\", \" insurance\", \" cover\", \" to\", \" Australians\", \".\", \" Since\", \" then\", \",\", \" it\", \" has\", \" grown\", \" to\", \" become\", \" one\", \" of\", \" the\", \" country\", \"'s\", \" largest\", \" combined\", \" registered\", \" private\", \" health\", \" fund\", \" and\", \" life\", \" insurance\", \" organisations\", \".\", \" H\", \"CF\", \" is\", \" the\", \" 3\", \"rd\", \" largest\", \" health\", \" insurance\", \" company\", \" by\", \" market\", \" share\", \" (\", \"10\", \".\", \"3\", \"%\", \" in\", \" FY\", \"2010\", \")\", \" and\", \" is\", \" the\", \" largest\", \" not\", \"-\", \"for\", \"-\", \"profit\", \" health\", \" fund\", \" in\", \" Australia\", \".\", \" \", \"\\n\", \"Question\", \":\", \" is\", \" h\", \"cf\", \" a\", \" not\", \" for\", \" profit\", \" health\", \" fund\", \"\\n\", \"Answer\", \":\", \"\\n\", \"\\n\", \"No\", \"Yes\", \"\\n\\n\\n\", \"<|endoftext|>\", \"H\", \"CF\", \" Health\", \" Insurance\", \" --\", \" H\", \"CF\", \" (\", \"The\", \" Hospit\", \"als\", \" Cont\", \"ribution\", \" Fund\", \" of\", \" Australia\", \")\", \" was\", \" formed\", \" in\", \" 1932\", \" to\", \" provide\", \" health\", \" insurance\", \" cover\", \" to\", \" Australians\", \".\", \" Since\", \" then\", \",\", \" it\", \" has\", \" grown\", \" to\", \" become\", \" one\", \" of\", \" the\", \" country\", \"'s\", \" largest\", \" combined\", \" registered\", \" private\", \" health\", \" fund\", \" and\", \" life\", \" insurance\", \" organisations\", \".\", \" H\", \"CF\", \" is\", \" the\", \" 3\", \"rd\", \" largest\", \" health\", \" insurance\", \" company\", \" by\", \" market\", \" share\", \" (\", \"10\", \".\", \"3\", \"%\", \" in\", \" FY\", \"2010\", \")\", \" and\", \" is\", \" the\", \" largest\", \" not\", \"-\", \"for\", \"-\", \"profit\", \" health\", \" fund\", \" in\", \" Australia\", \".\", \" \", \"\\n\", \"Question\", \":\", \" is\", \" h\", \"cf\", \" a\", \" not\", \" for\", \" profit\", \" health\", \" fund\", \"\\n\", \"Answer\", \":\", \"\\n\", \"\\n\", \"No\", \"Yes\", \"\\n\\n\\n\", \"<|endoftext|>\", \"H\", \"CF\", \" Health\", \" Insurance\", \" --\", \" H\", \"CF\", \" (\", \"The\", \" Hospit\", \"als\", \" Cont\", \"ribution\", \" Fund\", \" of\", \" Australia\", \")\", \" was\", \" formed\", \" in\", \" 1932\", \" to\", \" provide\", \" health\", \" insurance\", \" cover\", \" to\", \" Australians\", \".\", \" Since\", \" then\", \",\", \" it\", \" has\", \" grown\", \" to\", \" become\", \" one\", \" of\", \" the\", \" country\", \"'s\", \" largest\", \" combined\", \" registered\", \" private\", \" health\", \" fund\", \" and\", \" life\", \" insurance\", \" organisations\", \".\", \" H\", \"CF\", \" is\", \" the\", \" 3\", \"rd\", \" largest\", \" health\", \" insurance\", \" company\", \" by\", \" market\", \" share\", \" (\", \"10\", \".\", \"3\", \"%\", \" in\", \" FY\", \"2010\", \")\", \" and\", \" is\", \" the\", \" largest\", \" not\", \"-\", \"for\", \"-\", \"profit\", \" health\", \" fund\", \" in\", \" Australia\", \".\", \" \", \"\\n\", \"Question\", \":\", \" is\", \" h\", \"cf\", \" a\", \" not\", \" for\", \" profit\", \" health\", \" fund\", \"\\n\", \"Answer\", \":\", \"\\n\", \"\\n\", \"No\", \"Yes\", \"\\n\\n\\n\"], \"values\": [-0.003854324109852314, -0.03636810556054115, -0.006674114149063826, 0.014135779812932014, 0.02873358130455017, 0.012333700433373451, 0.022668134421110153, -0.006674114149063826, -0.005531708709895611, -0.023803528398275375, -0.016007449477910995, -0.005288172047585249, -0.003500866936519742, -0.028167780488729477, 0.0016499659977853298, -0.002696503885090351, -0.030908629298210144, -0.017855726182460785, -0.006992631126195192, 0.04156038165092468, -0.013989877887070179, 0.0016368906944990158, 0.0067596472799777985, 0.020343530923128128, 0.017503470182418823, 0.007649064064025879, -0.00037876819260418415, 0.0067596472799777985, -0.015431908890604973, 0.0008904347196221352, -0.0038299495354294777, -0.031152524054050446, 0.00029056216590106487, 0.021884746849536896, 0.018670279532670975, 0.012586395256221294, 0.0067596472799777985, 0.03510146960616112, -0.010911215096712112, -0.002696503885090351, -0.007953657768666744, 0.008123562671244144, 0.00595493707805872, -0.012585003860294819, 0.018366986885666847, 0.006952655501663685, -0.02147061564028263, 0.017503470182418823, 0.01117643341422081, -0.002305362606421113, -0.0051579782739281654, 0.007649064064025879, -0.014183372259140015, 0.0008904347196221352, 0.022668134421110153, -0.006674114149063826, -0.005823042709380388, -0.007953657768666744, -0.036959487944841385, 0.014497838914394379, -0.012585003860294819, 0.017503470182418823, 0.007649064064025879, -0.005893384106457233, -0.004576155915856361, -0.0028715659864246845, 0.008201124146580696, -0.005531708709895611, -0.008188026025891304, 0.0008904347196221352, -0.020188216120004654, 0.02772941067814827, -0.013989877887070179, 0.006055446341633797, 0.019010670483112335, -0.017855726182460785, -0.002305362606421113, -0.005823042709380388, -0.007953657768666744, -0.012585003860294819, -0.0018422986613586545, 0.0005011968314647675, -0.03873612731695175, 0.0005011968314647675, -0.01946432888507843, 0.017503470182418823, 0.01117643341422081, -0.013989877887070179, -0.030908629298210144, 0.0008904347196221352, -0.022012166678905487, 0.0028495746664702892, -0.019179116934537888, -0.042436663061380386, -0.005823042709380388, 0.013854321092367172, 0.013174191117286682, 0.0012915907427668571, -0.0018422986613586545, 0.0014402144588530064, 0.01229294016957283, 0.017503470182418823, 0.01117643341422081, 0.0028495746664702892, 0.0005112241487950087, -0.042436663061380386, 0.0028495746664702892, 0.0028495746664702892, -0.05962754040956497, 0.022557977586984634, 0.0, -0.5150985717773438, 0.1419198364019394, -0.45273128151893616, 0.07978232204914093, 0.40277817845344543, -0.13662274181842804, 0.264732301235199, -0.5336194038391113, 0.01668831706047058, 0.001968137454241514, 0.7464028596878052, 0.553358256816864, -0.7654708623886108, 0.15270093083381653, -0.24765025079250336, 0.07874122262001038, 0.8582049608230591, 0.1530262976884842, 0.43154409527778625, 0.025742746889591217, 0.11620201915502548, -0.6325836181640625, 0.2613394558429718, 0.7626786231994629, 0.06906881928443909, 0.2991742193698883, 0.3443354368209839, 0.14680160582065582, 0.9662740230560303, -0.07200862467288971, 0.7165166139602661, 0.19525307416915894, 0.05162537842988968, 2.038073778152466, 0.267244428396225, 0.3542928695678711, 0.2350238710641861, 0.24844962358474731, 1.5842424631118774, 0.16075971722602844, 0.2784932851791382, 0.41728073358535767, 0.16294921934604645, 0.13285310566425323, 0.0867186114192009, -0.07193611562252045, -0.055845752358436584, 0.12942929565906525, 0.00413148058578372, 0.15501965582370758, 0.5315399765968323, 0.3358946740627289, 0.38793331384658813, -0.12680886685848236, 0.19745878875255585, -0.5638346672058105, 0.5023927092552185, 0.2040286809206009, 0.7302170991897583, -0.007363733369857073, 0.058053769171237946, -0.06581941246986389, 0.3156014084815979, 0.6789354681968689, -0.23292933404445648, 0.4304278492927551, 0.5500500202178955, 0.015328601002693176, 0.36087653040885925, -0.026753336191177368, 0.4923442304134369, -0.39002707600593567, 0.018774881958961487, -0.2868330478668213, 0.3307194709777832, 0.08303557336330414, 0.2348686009645462, 0.5954750776290894, 0.3157251179218292, 0.1950572431087494, -0.42576101422309875, 0.16187074780464172, -0.016555439680814743, 0.23434381186962128, 0.3667394518852234, 0.2046232521533966, 0.11768704652786255, 0.11983935534954071, 0.8729383945465088, 0.021650996059179306, 0.0556190200150013, 0.672080934047699, 0.3444792926311493, 0.02974400669336319, 0.7922645807266235, 0.637113630771637, 0.31621143221855164, 0.6087105870246887, -0.29637572169303894, 0.3636353015899658, 0.36884474754333496, 0.05009734630584717, 0.08197221159934998, 0.41946128010749817, 0.32175949215888977, -0.03774476423859596, 0.5155585408210754, 0.6403651833534241, -2.6465768814086914, 2.701768398284912, 0.0, 0.24028311669826508, 0.24960526823997498, 0.031579144299030304, 0.3752342462539673, 0.27597835659980774, -0.1356474757194519, 0.3921378552913666, -0.012187032960355282, -0.10381768643856049, -0.1177992895245552, 0.06991975009441376, 0.03276262804865837, 0.22295576333999634, 0.2181607186794281, 0.24136587977409363, -0.2170501947402954, 0.27294453978538513, -0.1708175390958786, -0.06324833631515503, -0.012183352373540401, -0.08670659363269806, -0.14733843505382538, -0.2080785185098648, 0.5203779935836792, 0.3980960547924042, 0.3039662539958954, 0.16671617329120636, -0.22421075403690338, 0.7620390057563782, -0.0785033255815506, -0.002887772861868143, 0.15686234831809998, -0.05175051465630531, 0.29126521944999695, -0.07229918241500854, -0.060169484466314316, -0.23787379264831543, -0.025282951071858406, 0.44540348649024963, -0.00597405107691884, -0.21071204543113708, 0.020106835290789604, -0.313507080078125, -0.03695284202694893, 0.3617202341556549, 0.23668284714221954, 0.3534010350704193, 0.4786541163921356, 0.17149581015110016, -0.3107337951660156, 0.43044567108154297, 0.6072025895118713, 0.28570428490638733, -0.044497694820165634, 0.3507058322429657, 0.03934710472822189, 0.08817651867866516, -0.17170126736164093, 0.36954954266548157, 0.4500434100627899, -0.17327816784381866, 0.5547183752059937, 0.43923667073249817, 0.20005269348621368, -0.26858311891555786, 0.08105267584323883, -0.011328442953526974, 0.0307676550000906, 0.5161678791046143, -0.017358507961034775, 0.11867120862007141, -0.12490302324295044, -0.0952160656452179, 0.06916515529155731, 0.12893234193325043, -0.025801900774240494, -0.24762922525405884, 0.06563150137662888, -0.14391477406024933, -0.14105094969272614, -0.20109309256076813, 0.08221030980348587, -0.17343378067016602, 0.015810126438736916, 0.054788462817668915, 0.5345166921615601, 0.3435293734073639, -0.11367456614971161, 0.572256863117218, -0.09492552280426025, -0.0887603610754013, -0.007397827226668596, 0.5374168753623962, 0.18079449236392975, 0.10708008706569672, -0.02088167704641819, 0.3667244017124176, 0.09463183581829071, -0.2408032864332199, -0.12750974297523499, 0.2791118621826172, 0.5521951913833618, 0.2973254323005676, 0.08544473350048065, 0.35749977827072144, 0.14551371335983276, 0.12312047928571701, 0.19908353686332703, -0.889197587966919, 1.0239583253860474, 0.0, -1.1178902387619019, -0.43186160922050476, -1.001510500907898, -0.12416102737188339, -0.47498348355293274, -0.24377021193504333, -0.3425847887992859, -1.062492847442627, -0.32768917083740234, -0.5157158970832825, -0.39030593633651733, -0.4687871038913727, -0.11856678873300552, 0.0814901813864708, -0.25791215896606445, -0.32137078046798706, -0.597831666469574, -0.42744705080986023, -0.48008161783218384, 0.05854899063706398, -0.4414392411708832, -0.7278560400009155, -0.5525025129318237, 0.18739981949329376, -0.26355960965156555, -0.24228371679782867, -0.10082294791936874, -0.39930465817451477, -0.1057836189866066, -0.6267210245132446, -0.1514381617307663, 0.038007017225027084, -0.3140866756439209, -0.09126423299312592, -0.5057265758514404, -0.09198244661092758, -0.353450745344162, -0.31677743792533875, 0.3901422917842865, 0.05609038099646568, -0.4201590418815613, -0.15165983140468597, -0.45162633061408997, -0.3117218613624573, 0.08189000934362411, -0.19468209147453308, -0.603346586227417, -0.2835898995399475, -0.40919700264930725, -0.712887167930603, -0.003241421887651086, -0.09710808843374252, -0.19166164100170135, -0.5892466902732849, -0.3700348138809204, -0.8414393663406372, -0.22898948192596436, -0.404977411031723, -0.1015259250998497, 0.42304661870002747, -0.7013782858848572, -0.28542062640190125, -0.18926161527633667, -0.42138516902923584, -0.501106858253479, -0.06232481077313423, -0.440310537815094, -0.34282881021499634, -0.0287624541670084, -0.40398120880126953, -0.35890957713127136, -0.18078015744686127, -0.47337716817855835, -0.2511562705039978, -0.7447819113731384, -0.4242638647556305, -0.5431384444236755, -0.1786024421453476, -0.3182045519351959, -0.49599501490592957, -0.4245471954345703, -0.4915156662464142, -0.4121815264225006, -0.5139349699020386, -0.2088790237903595, -0.3111332356929779, -0.35600411891937256, -0.42530059814453125, -0.4429854452610016, -0.6216524243354797, -0.1656767874956131, -0.21516136825084686, 0.04357817396521568, -0.3467821478843689, -0.39902085065841675, -0.7304111123085022, -0.4762040376663208, -0.1740281581878662, -0.6485920548439026, -0.31629371643066406, 0.08515684306621552, -0.3301944136619568, -0.4160919785499573, -0.26869457960128784, 0.008739961311221123, -0.18096484243869781, -0.20093001425266266, -0.13833920657634735, -1.0303337574005127, 0.7230210304260254, 0.0, -38.840450286865234, -0.8189107179641724, -1.0417147874832153, -0.9298639893531799, -1.270906686782837, -0.9148712754249573, -0.5750226974487305, -1.0371942520141602, -0.7892235517501831, -0.6707648038864136, -0.7787430286407471, -1.115553617477417, -0.685519278049469, 0.34981656074523926, -0.6868000626564026, -0.6704297065734863, -0.8458099961280823, -0.9029611349105835, -0.9226059317588806, -0.39708301424980164, -0.8894162774085999, -1.2253702878952026, -1.013946294784546, -0.21220383048057556, -0.7309019565582275, -0.7148429751396179, -0.6194605827331543, -0.7009907364845276, -0.4108656346797943, -0.7021464705467224, -0.45283856987953186, 0.04856129735708237, -0.5154455304145813, -0.306450217962265, -0.7607381343841553, 0.14903271198272705, -0.369564414024353, -0.24145284295082092, 0.13403908908367157, -0.2702934741973877, -0.7215258479118347, -0.34532976150512695, -1.1328151226043701, -0.9051158428192139, -0.3554060459136963, -0.6460981965065002, -0.44176074862480164, -0.7386664748191833, -0.9767834544181824, -1.1344562768936157, -0.5161296725273132, -0.42333561182022095, -0.6914166212081909, -0.7442127466201782, -0.5996750593185425, -0.8366327285766602, -0.7828291058540344, -0.530554473400116, -0.5868493318557739, 0.25899776816368103, -0.7426523566246033, -0.9300491809844971, -0.745893657207489, -0.8628262877464294, -1.0433897972106934, -0.32381877303123474, -0.34149307012557983, -0.7220715284347534, -0.44962406158447266, -0.691003680229187, -0.8444287180900574, -0.9083303809165955, -0.9064244627952576, -0.5392067432403564, -1.2885096073150635, -0.8363168835639954, -0.6202861666679382, -0.3585173487663269, -0.4573861360549927, -0.5890835523605347, -1.3828215599060059, -0.8605721592903137, -0.3975343406200409, -0.6799271702766418, -0.7164087295532227, -0.882085382938385, -0.9379917979240417, -1.1111431121826172, -0.4437282383441925, -0.7041460871696472, -0.34731537103652954, -0.575067937374115, -0.31214213371276855, -0.7739691734313965, -0.7559573650360107, -1.032265543937683, -0.5535022616386414, -0.5110926628112793, -1.1737717390060425, -0.5011560916900635, -0.1353723406791687, -0.6365443468093872, -0.797176718711853, -0.8054714202880859, -0.5502861738204956, -0.3854040205478668, -0.4828927516937256, -0.5296656489372253, -1.258582353591919, 0.6010262370109558, 0.0, -51.57937240600586, -1.105481743812561, -0.8310347199440002, -0.8667401671409607, -0.9888967871665955, -0.9311020970344543, -1.14876389503479, -1.0824042558670044, -0.8848171830177307, -0.722085177898407, -1.2060463428497314, -1.3755671977996826, -0.8271682858467102, 0.1359480917453766, -0.44696784019470215, -0.7143877744674683, -0.7717533111572266, -1.029335379600525, -1.0668413639068604, -0.34963035583496094, -0.9212164878845215, -0.984974205493927, -1.0525306463241577, -0.28743869066238403, -0.6764814853668213, -0.5604203939437866, -0.6982601881027222, -0.558987557888031, -0.48468342423439026, -0.6917250752449036, -0.7923246026039124, 0.16606537997722626, -0.8587497472763062, -0.6315010190010071, -0.9127845764160156, -0.1180041953921318, -0.4202916622161865, -0.29594317078590393, -0.13121184706687927, -0.36107200384140015, -0.7788783311843872, -0.633044958114624, -1.2882039546966553, -1.0175307989120483, -0.3077610433101654, -0.36812087893486023, -0.09632054716348648, -0.38842523097991943, -1.1377909183502197, -1.2175729274749756, -0.7667588591575623, -0.7469034194946289, -0.9384143948554993, -0.8418502807617188, -1.084473967552185, -0.8368299007415771, -0.8691269755363464, -0.44608238339424133, -0.616363525390625, -0.13159745931625366, -0.7290045619010925, -0.7659104466438293, -0.7275965809822083, -0.8688492178916931, -1.148208498954773, -0.4087628722190857, -0.47018471360206604, -0.9993130564689636, -0.8139801621437073, -0.5661075711250305, -1.0219619274139404, -1.0026594400405884, -0.9926754832267761, -0.765147864818573, -1.541749358177185, -0.8271418213844299, -0.8632768988609314, -0.8197793960571289, -0.6180115342140198, -0.9068567156791687, -1.330971360206604, -0.7946260571479797, -0.7534006237983704, -1.0286298990249634, -0.7502466440200806, -0.688774824142456, -0.9661112427711487, -1.3860459327697754, -0.7630171179771423, -0.8132994174957275, -0.8202782273292542, -0.6371273398399353, -0.650497317314148, -1.0685935020446777, -0.9829427003860474, -1.4504938125610352, -0.3650248050689697, -0.45412588119506836, -1.0701535940170288, -0.6588134765625, -0.24026554822921753, -0.5105175375938416, -0.8834363222122192, -0.9841406941413879, -0.7812963128089905, -0.6082400679588318, -0.6672980785369873, -0.6188670992851257, -1.531989574432373, 0.5203891396522522, -0.0, -90.74437713623047, -1.7029207944869995, -1.2136180400848389, -1.3113209009170532, -1.8203670978546143, -1.3468798398971558, -1.5820955038070679, -1.73374342918396, -1.2686179876327515, -1.3210636377334595, -1.8635070323944092, -1.7462891340255737, -1.4978870153427124, -1.117189645767212, -1.1056993007659912, -1.0473995208740234, -1.2425929307937622, -1.272437334060669, -1.3280067443847656, -0.8104678392410278, -1.1541509628295898, -1.3963654041290283, -1.5065709352493286, -0.9984442591667175, -1.408996343612671, -1.6690673828125, -1.3793236017227173, -0.9009220600128174, -0.9095941185951233, -0.8050197958946228, -1.1123600006103516, -0.6458346843719482, -1.1379681825637817, -1.0302542448043823, -1.390936017036438, -0.5817891359329224, -1.1421260833740234, -1.0981301069259644, -0.5138723254203796, -1.4494684934616089, -1.5550404787063599, -1.2927080392837524, -1.9724668264389038, -1.3886991739273071, -1.0135411024093628, -0.9240358471870422, -0.516603410243988, -0.8286788463592529, -1.5367625951766968, -1.2790278196334839, -1.445580244064331, -1.8944885730743408, -1.4561502933502197, -1.0249385833740234, -1.4368454217910767, -1.6425169706344604, -1.2319046258926392, -1.040033221244812, -1.38530433177948, -0.9761304259300232, -1.3056273460388184, -1.2469440698623657, -1.6926229000091553, -1.7058390378952026, -1.1507841348648071, -1.0763741731643677, -0.9281007647514343, -1.3456729650497437, -1.0394470691680908, -1.045297384262085, -1.3299587965011597, -1.0419856309890747, -1.2167012691497803, -1.628256916999817, -1.839663028717041, -1.0209450721740723, -0.8974311351776123, -1.435357928276062, -1.252540111541748, -1.278324842453003, -1.4464596509933472, -0.9697243571281433, -0.7026628851890564, -0.9628556370735168, -1.0276790857315063, -1.2919288873672485, -1.6890462636947632, -1.6693919897079468, -1.4070781469345093, -0.9708008170127869, -1.1182260513305664, -0.8049647808074951, -1.3988959789276123, -1.3355357646942139, -1.3377784490585327, -1.9828749895095825, -1.5016988515853882, -1.1535753011703491, -1.4596776962280273, -0.8604263067245483, -0.8374811410903931, -1.0180048942565918, -1.6864479780197144, -1.120945930480957, -1.2546942234039307, -1.400747299194336, -1.3051578998565674, -0.7854427099227905, -1.8445664644241333, 0.00916343368589878, 0.0, -26.144601821899414, -0.44443777203559875, -0.9592560529708862, -0.08953706175088882, -1.2140662670135498, -0.5347172021865845, -0.12313316017389297, -1.2066189050674438, -0.8184759020805359, -0.29360347986221313, -0.5151553153991699, -0.9336826801300049, -0.9706284999847412, -0.631642758846283, 0.38081058859825134, 0.020345473662018776, -0.5257743000984192, -0.18889763951301575, -0.5229541063308716, 0.2180313915014267, -0.29003414511680603, 0.3801979720592499, -0.002182623604312539, 0.14651313424110413, -0.042435429990291595, -0.8243552446365356, -0.40246182680130005, 0.32602161169052124, -0.2980683743953705, -0.2346019446849823, -0.6787286400794983, 0.6889345645904541, -0.1793142408132553, -0.12649010121822357, -0.39722365140914917, -0.08539603650569916, -0.9058859348297119, -0.7132784724235535, -1.296735167503357, -0.7172049283981323, -0.518149733543396, -0.26854076981544495, -0.3330034911632538, -0.6363891363143921, -0.28569939732551575, -0.26819005608558655, 0.4061796963214874, -0.4329998195171356, -0.4591912627220154, -0.6405782699584961, -0.5309911370277405, -1.7139356136322021, -0.3024846017360687, -0.27845966815948486, 0.07414180785417557, -0.6258399486541748, -0.15257501602172852, 0.11739042401313782, -1.2660362720489502, -1.426520824432373, -1.3873430490493774, -0.6561154723167419, -1.292647361755371, -0.9294553995132446, -0.7696515321731567, -1.026414394378662, -0.23374244570732117, -0.3344859182834625, 0.12806805968284607, -0.04779062420129776, -0.43830621242523193, 0.18169009685516357, -0.137236550450325, -1.0356065034866333, -0.6680905818939209, 0.039438631385564804, -0.11135012656450272, -0.3177441656589508, -0.15300624072551727, -1.2009284496307373, -0.7459515333175659, 0.16525688767433167, 0.0689987763762474, 0.31062227487564087, 0.6079193949699402, -0.4330398142337799, -0.3223203420639038, -0.8355575203895569, -0.6917904019355774, -0.17623038589954376, -0.034481294453144073, -0.08832982927560806, -0.45336440205574036, -0.06233125180006027, 0.036815814673900604, -0.5939546227455139, -0.6302040219306946, -0.4836660921573639, -0.5727024078369141, -0.19637788832187653, -0.21533575654029846, -0.3662262260913849, -0.2635687291622162, -0.7172874212265015, -0.5978916883468628, -0.3328573405742645, -0.2958015501499176, 0.1841491162776947, -0.9468629956245422, 1.1387988328933716, -0.0, 97.0533218383789, -0.5970892310142517, 2.9224441051483154, 0.9453057646751404, 1.756378412246704, 0.9591013789176941, 0.08317767828702927, 1.7440505027770996, 2.3429007530212402, -0.26560133695602417, -0.7090139985084534, 1.0575671195983887, 0.37192267179489136, 1.0398969650268555, 1.023236632347107, 1.134375810623169, 0.9115052819252014, 0.8972463011741638, 0.21508735418319702, 0.9598929286003113, -0.37097516655921936, 2.0965158939361572, 0.2569182813167572, -0.4381427764892578, -0.08705583959817886, -0.05558779463171959, 0.20309379696846008, -0.11045799404382706, -0.27428480982780457, 0.4821699857711792, -0.11095920950174332, 0.11426674574613571, 0.2986387312412262, -0.6355589032173157, 0.0546894334256649, 1.0154731273651123, 0.7005833983421326, -0.2690063416957855, -0.676297664642334, 0.44537046551704407, 0.24879586696624756, 0.2522245943546295, 0.2763252556324005, 0.42023804783821106, 1.054537296295166, 0.5981056690216064, -0.9767151474952698, -0.7641162872314453, 0.1138492003083229, -0.5367946624755859, -0.2772628962993622, 0.9679904580116272, 0.24520370364189148, -0.013981020078063011, 0.051579561084508896, 2.3307247161865234, -0.015381550416350365, -0.848349392414093, -0.4969180226325989, 0.6374714374542236, -0.019078893586993217, -0.3244703710079193, -0.670153796672821, -0.07170531898736954, 1.1778204441070557, 0.7449523210525513, 2.009984254837036, 0.9122061133384705, -0.2289227545261383, 0.5248553156852722, 0.6342386603355408, 1.7991853952407837, 0.7334028482437134, 3.0311529636383057, 1.4629226922988892, 0.7383096218109131, -0.4243035912513733, -0.15003037452697754, -0.9479981660842896, 0.003450775519013405, 0.6385356187820435, 0.46421390771865845, 0.7596906423568726, 0.4859527349472046, -0.6671117544174194, -0.8780554533004761, -0.4153081178665161, 0.6179473996162415, 0.9900124073028564, -0.19305917620658875, 0.7561796307563782, 0.33940795063972473, 0.42171230912208557, -0.2366693913936615, 0.3093530237674713, 0.21653203666210175, 2.010206460952759, -0.4264966547489166, 1.3227580785751343, 1.3642122745513916, 0.9525887370109558, 0.297700971364975, 0.6318726539611816, 0.8606449365615845, 1.1116362810134888, -0.21816274523735046, -0.35248324275016785, -0.38677123188972473, -0.764616847038269, 2.18186092376709, -0.0, -74.3459243774414, -0.6631008386611938, -1.9191007614135742, -0.5737757086753845, -0.11050476133823395, -0.649346649646759, -0.457909494638443, -0.9183284044265747, -1.6434800624847412, -0.9639812111854553, -0.08922898769378662, -1.1528279781341553, -2.033182144165039, -0.8043321371078491, -1.4997670650482178, -1.5423473119735718, -1.0032622814178467, -0.9311671853065491, -0.1283150464296341, -0.9474124312400818, -0.36287111043930054, -1.751918911933899, -0.5962740182876587, 1.036169171333313, -0.10452289879322052, 0.7070881724357605, 0.5446133613586426, 0.2016904652118683, 0.26389703154563904, -0.2617281675338745, -0.5015857219696045, -0.03435303270816803, -0.3216637074947357, -0.702074408531189, -0.7764096260070801, 0.10915577411651611, -0.5632623434066772, -0.4944896399974823, 1.7368381023406982, -0.14360865950584412, -0.10127724707126617, 0.13136501610279083, -0.3270471394062042, 0.352770060300827, -0.014348984695971012, -0.6860966682434082, 0.23357130587100983, 0.22589123249053955, -0.5872893333435059, -0.49866506457328796, 0.31212401390075684, 0.0919259712100029, 0.06147439777851105, 0.2971936762332916, -0.9543132185935974, -0.4219571650028229, -0.6263593435287476, -0.8211691975593567, 0.447437047958374, -0.1955251842737198, 0.001969306729733944, -0.1691422313451767, 0.3277292549610138, -0.06269419193267822, -0.4289906919002533, -0.35398298501968384, -0.6513880491256714, -0.38536855578422546, 0.9187653660774231, 0.35748347640037537, 0.8536520600318909, -0.5255659818649292, -0.48440662026405334, -1.3397709131240845, -0.5911314487457275, 0.21302829682826996, 0.19365863502025604, -0.2965259850025177, -0.29866257309913635, 0.7437139749526978, -2.0561325550079346, -2.1940832138061523, -2.768101930618286, -1.9202698469161987, -0.32142677903175354, 0.034484174102544785, -0.40330246090888977, -0.9538111090660095, -0.20231406390666962, 0.11168311536312103, -0.7192296981811523, -0.2072870284318924, 0.36605826020240784, 0.1406800001859665, 1.9506503343582153, -0.8966248631477356, -1.4170184135437012, -0.6863847970962524, -2.9911999702453613, -2.6940207481384277, -1.8807679414749146, -0.2682236135005951, -1.457472801208496, -1.1832529306411743, 0.20704223215579987, 0.4478907287120819, 0.30905047059059143, -0.23220069706439972, -3.148219108581543, 3.0533926486968994, -0.0, -116.56918334960938, -1.781054973602295, -1.81951105594635, -1.2997498512268066, -0.7447114586830139, -1.0294548273086548, -1.162844181060791, -2.0120127201080322, -1.6758651733398438, -1.1825757026672363, -0.659223198890686, -0.29835742712020874, -1.1576288938522339, 0.006053033750504255, -0.32139888405799866, -1.2762891054153442, -1.070192813873291, -0.6412657499313354, -0.6074056625366211, -0.1827455759048462, -0.2593801021575928, -0.36886096000671387, -0.6221000552177429, 0.4738696217536926, -1.1408398151397705, 0.5579398274421692, 0.7163712978363037, 0.5488185286521912, -0.5587773323059082, -0.99741131067276, 0.4584351181983948, -0.06366586685180664, -0.666938066482544, 0.5886340141296387, -0.25723278522491455, -0.05365314707159996, 0.1582014560699463, 0.2761228382587433, 2.6108860969543457, 0.4678117036819458, -0.2964816093444824, -0.24649782478809357, -0.7028381824493408, -0.5837876200675964, -1.2084898948669434, -0.633137583732605, 0.20043742656707764, 0.05383780971169472, 0.08713364601135254, 0.47213423252105713, 0.2646077275276184, 1.0624780654907227, 0.2968483567237854, -0.8294389247894287, -1.5742616653442383, -0.4393559694290161, -0.17243826389312744, -0.18050694465637207, 0.2646298408508301, -0.6152699589729309, -0.7453242540359497, -0.6762042045593262, 0.49356889724731445, 0.06070039048790932, -0.16181403398513794, -0.12499424815177917, -0.4664692282676697, -0.5495916604995728, 0.47123652696609497, -1.2716503143310547, -0.11063617467880249, -0.9505770206451416, -0.6988204121589661, -2.3484725952148438, -1.3938896656036377, -0.28661423921585083, 0.7709079384803772, 0.12666785717010498, -0.11232727766036987, 0.30405017733573914, -2.106062412261963, -2.0347251892089844, -2.0670251846313477, -1.937218189239502, 0.5602148175239563, -0.23821473121643066, 1.0060179233551025, 0.36910462379455566, -0.038538333028554916, -1.026339054107666, -1.055649757385254, -1.383232831954956, -0.5001312494277954, -1.3241597414016724, -0.41344285011291504, -1.464491844177246, -0.24206191301345825, -0.1420508623123169, -2.8127975463867188, -1.334572672843933, 0.9993219375610352, 0.45193082094192505, 1.267174482345581, -0.1216350793838501, -0.11536264419555664, -0.37028563022613525, -0.47107410430908203, -0.4538556933403015, -3.531201124191284, 2.750505208969116, 0.0, -66.96563720703125, -0.4264611005783081, -0.8022284507751465, -0.7546659111976624, -0.06507253646850586, -0.48351770639419556, -0.19056767225265503, -1.0028687715530396, -1.4101508855819702, -0.5206648111343384, -0.027172446250915527, 2.1637126337736845e-05, -0.15140587091445923, -0.3970874845981598, -0.7006098628044128, -0.5746343731880188, -0.46771615743637085, -0.7676547169685364, -0.37812188267707825, 0.07606267929077148, -0.10832959413528442, -0.30029362440109253, -0.15885519981384277, 0.9741016030311584, -0.3732666075229645, 0.8918739557266235, 0.3861938416957855, 0.055774688720703125, 0.25260597467422485, -0.7587531805038452, 0.6142644882202148, 0.9918784499168396, 0.038930416107177734, 0.8055363893508911, 0.3785483241081238, 0.850421667098999, 0.9890980124473572, 0.8802869915962219, 2.4578752517700195, 0.6471101641654968, 0.217187762260437, -0.11889132857322693, 0.12408345937728882, 0.2888934016227722, -0.15365490317344666, -0.8033695816993713, 0.34984004497528076, 0.850296676158905, 0.8126029372215271, 0.6932582259178162, 0.816937267780304, 1.3106759786605835, 0.7700745463371277, -0.2498190999031067, -0.2767321467399597, 0.17169886827468872, 0.2044975757598877, 0.2695081830024719, 0.24136883020401, 1.3421562910079956, -0.2773476839065552, 0.21088287234306335, 0.8079543709754944, 0.35975492000579834, -0.25881463289260864, 0.19648601114749908, 0.3937256932258606, -0.6923120021820068, 0.7230879664421082, -0.6475277543067932, 0.2584983706474304, 0.1768430471420288, -0.11712604761123657, -1.0679465532302856, -0.03985816240310669, 0.3555775284767151, 0.70728999376297, 0.49083590507507324, 0.5062482953071594, 0.3516298234462738, -0.9629513025283813, -0.743175208568573, -0.8494836688041687, -0.2994050085544586, 0.9704564213752747, 0.4534066319465637, 1.1342629194259644, 0.3115776777267456, 0.829188346862793, -0.5429808497428894, -0.8606268763542175, -1.273829698562622, -0.02157309651374817, -0.960018515586853, 0.29445523023605347, -0.2254294753074646, 0.289230614900589, 0.4590182304382324, -1.8924882411956787, -0.8669173717498779, 1.0735886096954346, 0.5966351628303528, 0.8463819622993469, -0.5310826301574707, 0.6807672381401062, 0.02918994426727295, -0.3990299105644226, -0.4847857356071472, -3.3706812858581543, 3.1279618740081787, 0.0, -29.99566078186035, -0.1383420079946518, 0.1887233406305313, 0.5125097632408142, 0.9665631055831909, 0.2055457979440689, 0.18654485046863556, 0.17650671303272247, -0.8866701722145081, -0.432864248752594, 0.22866643965244293, -0.1979166716337204, 0.2581484317779541, 0.2039177268743515, 0.3504091799259186, 0.39192113280296326, 0.4398805797100067, 0.098854199051857, 1.0965622663497925, 0.6053966283798218, 1.296724557876587, 0.9772497415542603, 1.6620769500732422, 2.374830722808838, 1.0824061632156372, 1.9098701477050781, 1.9134260416030884, 1.549105167388916, 1.1846256256103516, 1.4402436017990112, 1.9907684326171875, 2.781903028488159, 1.7316758632659912, 2.8187201023101807, 2.076889753341675, 2.311448097229004, 2.4809067249298096, 2.353132486343384, 2.9950954914093018, 1.317945122718811, 1.2628264427185059, 0.923730731010437, 1.059234619140625, 1.0238109827041626, 1.1856920719146729, 0.6602266430854797, 1.1931438446044922, 1.4823057651519775, 1.3670001029968262, 1.462705373764038, 1.021641731262207, 1.6207712888717651, 1.0833592414855957, 1.2507511377334595, 0.6932272911071777, 1.7012128829956055, 2.4128119945526123, 1.8905643224716187, 0.4474422037601471, 1.6665576696395874, 0.9345794916152954, 1.526598334312439, 1.7129790782928467, 1.0881004333496094, 1.000612735748291, 1.589537501335144, 1.4824529886245728, 0.8021954298019409, 1.4524089097976685, 0.7744362354278564, 1.120224118232727, 0.9880436062812805, 0.996234118938446, 0.22557105123996735, 0.9304637908935547, 1.270113468170166, 2.1427855491638184, 2.6409811973571777, 2.2055392265319824, 1.166485071182251, -0.1154499500989914, -0.1031770259141922, -0.2193330079317093, 0.12862984836101532, 1.0355128049850464, 1.5440460443496704, 1.1630420684814453, 0.7031247615814209, 1.0824182033538818, 1.0734361410140991, -0.8556466102600098, -0.39463183283805847, 0.6580910682678223, 0.24016965925693512, 2.3350517749786377, -0.17340563237667084, 1.1849701404571533, 1.5905416011810303, -0.6497392654418945, -0.48705750703811646, 1.4748072624206543, 1.841060757637024, 1.2500598430633545, -0.28992143273353577, 0.3279859125614166, 0.8899585008621216, 0.04219575226306915, -0.03899405896663666, -2.6079628467559814, 4.0697832107543945, 0.0, -28.33121109008789, -0.5851044058799744, -0.38212108612060547, 0.1646372228860855, 0.7824315428733826, -0.18128500878810883, 0.547705352306366, -0.6644103527069092, -1.485592246055603, -1.0506924390792847, 0.12863226234912872, -0.1642904132604599, -0.17959241569042206, 0.3593924641609192, -0.09562848508358002, 0.4322243332862854, -0.062922403216362, 0.29891031980514526, 0.7512605786323547, 0.2670782506465912, 1.0209071636199951, 0.6257655024528503, 1.8378173112869263, 2.4601540565490723, 0.7329791784286499, 2.1572158336639404, 1.8051183223724365, 1.6748589277267456, 1.3961020708084106, 0.9199056029319763, 1.0200003385543823, 2.785428285598755, 1.5301016569137573, 2.3896868228912354, 1.9584577083587646, 1.9807440042495728, 2.831268072128296, 2.684579610824585, 2.605611562728882, 1.2206761837005615, 0.9697051644325256, 1.2172036170959473, 0.7677322030067444, 1.2229259014129639, 1.0803232192993164, 0.3224944472312927, 1.0001087188720703, -0.03445766866207123, 0.9009697437286377, 1.4478060007095337, 0.43025651574134827, 1.1966129541397095, 1.5930423736572266, 0.8254262804985046, 0.36215442419052124, 1.7464998960494995, 2.4610390663146973, 1.3711661100387573, 1.1174497604370117, 1.280662178993225, 0.9073932766914368, 0.7399973273277283, 1.3977285623550415, 1.0172884464263916, 0.5607252717018127, 1.9946904182434082, 1.4819315671920776, 0.4795374274253845, 1.5065168142318726, 0.44983476400375366, 0.9914376139640808, 0.8929392695426941, 1.0091525316238403, -0.27845412492752075, 0.4306391477584839, 1.708184838294983, 2.036339521408081, 3.159982919692993, 2.104337215423584, 1.5152374505996704, -0.09465520083904266, -0.3246230483055115, 0.3283592760562897, -0.32513582706451416, 1.084174633026123, 0.6033051013946533, 0.9336947798728943, 0.8739193081855774, 1.7166448831558228, 0.7178869843482971, -0.3392364978790283, -0.10111229121685028, -0.5854048132896423, -0.41844892501831055, 1.732291340827942, -0.07672391831874847, 1.517016887664795, 0.8584039211273193, -1.116493582725525, -0.022615835070610046, 1.1377350091934204, 1.2015671730041504, 0.8775075078010559, -0.7728385329246521, 0.5702312588691711, 0.7699407339096069, -0.279926061630249, -0.11782078444957733, -1.5405482053756714, 3.91253662109375, 0.0, 6.922291278839111, -0.3321341574192047, 0.44832322001457214, 1.3288781642913818, 2.602600574493408, 1.6503456830978394, 1.244336724281311, 0.8789453506469727, 0.06970737129449844, -0.08602368086576462, 0.6929835677146912, 0.9720911383628845, 0.22881083190441132, 2.1589629650115967, 1.7942808866500854, 1.6187139749526978, 1.531090259552002, 1.7835373878479004, 3.2029852867126465, 3.1444363594055176, 2.103079080581665, 2.769710063934326, 3.1749062538146973, 3.0436296463012695, 1.8065394163131714, 3.9420042037963867, 4.330947399139404, 2.9674596786499023, 2.9088008403778076, 2.4353091716766357, 2.667365550994873, 4.262579917907715, 2.8381166458129883, 4.043344974517822, 3.587368965148926, 4.880693435668945, 5.032429218292236, 5.728236675262451, 4.289363384246826, 2.8109562397003174, 2.21844744682312, 3.122925043106079, 2.449078321456909, 1.5183465480804443, 1.425599217414856, 1.0995508432388306, 2.0725595951080322, 0.9256676435470581, 4.125491619110107, 3.386993885040283, 1.699757695198059, 3.0877437591552734, 3.980034828186035, 2.1549007892608643, 1.086833119392395, 2.9696404933929443, 4.934663772583008, 2.579995632171631, 1.6028004884719849, 1.5076779127120972, 1.5490444898605347, 1.181742787361145, 2.632205009460449, 3.184513807296753, 1.2399396896362305, 3.328169822692871, 3.3943023681640625, 2.2142281532287598, 2.76599383354187, 0.5541200637817383, 1.9872924089431763, 1.8677319288253784, 2.3586416244506836, 1.5078569650650024, 1.3992689847946167, 3.4702553749084473, 4.119138717651367, 5.024227619171143, 2.7568228244781494, 1.6801985502243042, 0.5822986364364624, -0.23674485087394714, 0.16269011795520782, -0.5095392465591431, 2.0362532138824463, 1.384191632270813, 3.6130921840667725, 1.8075472116470337, 3.8168094158172607, 1.8829196691513062, -0.05891652777791023, 0.31122544407844543, 1.9599586725234985, 1.2659095525741577, 3.2403836250305176, -0.18632030487060547, 2.8068177700042725, 2.189204454421997, -0.1756337285041809, 0.6854395866394043, 2.616158962249756, 1.487290382385254, 2.707746982574463, -0.057782191783189774, 2.113834857940674, 1.5566505193710327, -0.22563321888446808, 0.39143624901771545, -0.8363706469535828, 5.147088527679443, -0.0, 1.4817531108856201, 0.2260732203722, 1.7891191244125366, 1.8282362222671509, 2.3231539726257324, 2.2643215656280518, 0.43458831310272217, 1.2462425231933594, 0.0018205161904916167, 0.625677764415741, 0.8367941379547119, 0.9276814460754395, 1.558487892150879, 2.217287540435791, 2.6391427516937256, 2.572683572769165, 2.8197386264801025, 2.384415864944458, 3.6320078372955322, 4.052168846130371, 3.321962356567383, 3.8166263103485107, 4.250971794128418, 3.3629462718963623, 2.3736250400543213, 4.713314056396484, 5.100980758666992, 3.2367770671844482, 3.6335606575012207, 2.811743974685669, 4.447255611419678, 5.302629470825195, 4.367754936218262, 5.556941032409668, 5.479616165161133, 6.879177093505859, 6.682948112487793, 6.961772441864014, 5.164965629577637, 3.4866275787353516, 3.6557693481445312, 3.402480363845825, 3.9180562496185303, 1.8981064558029175, 1.5388468503952026, 1.4622348546981812, 2.0789105892181396, 1.1153082847595215, 4.759568691253662, 4.3876423835754395, 2.5805578231811523, 3.3803341388702393, 5.488046646118164, 2.8952267169952393, 1.015735387802124, 5.21486759185791, 5.79299259185791, 3.195345163345337, 3.037273406982422, 3.071920871734619, 2.1529152393341064, 1.5919417142868042, 2.6669206619262695, 4.5292887687683105, 1.7381318807601929, 3.238900899887085, 4.2115797996521, 2.1586596965789795, 3.3521392345428467, 1.0742762088775635, 1.6686302423477173, 2.9111483097076416, 2.889575958251953, 2.7676947116851807, 1.6627197265625, 4.3762526512146, 5.791370868682861, 5.896149635314941, 4.155832290649414, 2.1001384258270264, 0.6304308176040649, -0.1267695277929306, 1.674230933189392, 0.057137321680784225, 2.7867305278778076, 1.544015645980835, 4.2190752029418945, 2.107896089553833, 4.798840045928955, 2.8667078018188477, 0.6483243703842163, 1.1435667276382446, 2.7757420539855957, 1.610377311706543, 4.30881929397583, -1.4977397918701172, 3.542034864425659, 2.6923928260803223, 0.808896005153656, 3.3654775619506836, 4.279560089111328, 2.258509635925293, 4.284021377563477, 0.6348212957382202, 2.768157482147217, 3.2428970336914062, -0.1846631020307541, 0.36155426502227783, -0.6627154350280762, 6.163521766662598, -0.0], \"minValue\": -5, \"maxValue\": 5}\n",
       "    )\n",
       "    </script>"
      ],
      "text/plain": [
       "<circuitsvis.utils.render.RenderedHTML at 0x7fdb714d24d0>"
      ]
     },
     "execution_count": 36,
     "metadata": {},
     "output_type": "execute_result"
    }
   ],
   "source": [
    "plot_colors(prompt_id=4)"
   ]
  },
  {
   "cell_type": "code",
   "execution_count": 37,
   "metadata": {},
   "outputs": [
    {
     "name": "stdout",
     "output_type": "stream",
     "text": [
      "distance bounds: tensor(-116.5692) tensor(97.0533)\n"
     ]
    },
    {
     "data": {
      "text/html": [
       "<div id=\"circuits-vis-eac7af6b-0b63\" style=\"margin: 15px 0;\"/>\n",
       "    <script crossorigin type=\"module\">\n",
       "    import { render, ColoredTokens } from \"https://unpkg.com/circuitsvis@1.39.1/dist/cdn/esm.js\";\n",
       "    render(\n",
       "      \"circuits-vis-eac7af6b-0b63\",\n",
       "      ColoredTokens,\n",
       "      {\"tokens\": [\"<|endoftext|>\", \"V\", \"isa\", \" policy\", \" of\", \" Mont\", \"en\", \"eg\", \"ro\", \" --\", \" Nation\", \"als\", \" of\", \" any\", \" country\", \" may\", \" visit\", \" Mont\", \"en\", \"eg\", \"ro\", \" without\", \" a\", \" visa\", \" for\", \" up\", \" to\", \" 30\", \" days\", \" if\", \" they\", \" hold\", \" a\", \" passport\", \" with\", \" visas\", \" issued\", \" by\", \" Ireland\", \",\", \" a\", \" Sc\", \"hen\", \"gen\", \" Area\", \" member\", \" state\", \",\", \" the\", \" United\", \" Kingdom\", \" or\", \" the\", \" United\", \" States\", \" or\", \" if\", \" they\", \" are\", \" permanent\", \" residents\", \" of\", \" those\", \" countries\", \".\", \" Res\", \"idents\", \" of\", \" the\", \" United\", \" Arab\", \" Emirates\", \" do\", \" not\", \" require\", \" a\", \" visa\", \" for\", \" up\", \" to\", \" 10\", \" days\", \",\", \" if\", \" they\", \" hold\", \" a\", \" return\", \" ticket\", \" and\", \" proof\", \" of\", \" accommodation\", \".\", \" \", \"\\n\", \"Question\", \":\", \" can\", \" i\", \" go\", \" to\", \" mont\", \"en\", \"eg\", \"ro\", \" with\", \" a\", \" sc\", \"hen\", \"gen\", \" visa\", \"\\n\", \"Answer\", \":\", \"\\n\", \"\\n\", \"No\", \"Yes\", \"\\n\\n\\n\", \"<|endoftext|>\", \"V\", \"isa\", \" policy\", \" of\", \" Mont\", \"en\", \"eg\", \"ro\", \" --\", \" Nation\", \"als\", \" of\", \" any\", \" country\", \" may\", \" visit\", \" Mont\", \"en\", \"eg\", \"ro\", \" without\", \" a\", \" visa\", \" for\", \" up\", \" to\", \" 30\", \" days\", \" if\", \" they\", \" hold\", \" a\", \" passport\", \" with\", \" visas\", \" issued\", \" by\", \" Ireland\", \",\", \" a\", \" Sc\", \"hen\", \"gen\", \" Area\", \" member\", \" state\", \",\", \" the\", \" United\", \" Kingdom\", \" or\", \" the\", \" United\", \" States\", \" or\", \" if\", \" they\", \" are\", \" permanent\", \" residents\", \" of\", \" those\", \" countries\", \".\", \" Res\", \"idents\", \" of\", \" the\", \" United\", \" Arab\", \" Emirates\", \" do\", \" not\", \" require\", \" a\", \" visa\", \" for\", \" up\", \" to\", \" 10\", \" days\", \",\", \" if\", \" they\", \" hold\", \" a\", \" return\", \" ticket\", \" and\", \" proof\", \" of\", \" accommodation\", \".\", \" \", \"\\n\", \"Question\", \":\", \" can\", \" i\", \" go\", \" to\", \" mont\", \"en\", \"eg\", \"ro\", \" with\", \" a\", \" sc\", \"hen\", \"gen\", \" visa\", \"\\n\", \"Answer\", \":\", \"\\n\", \"\\n\", \"No\", \"Yes\", \"\\n\\n\\n\", \"<|endoftext|>\", \"V\", \"isa\", \" policy\", \" of\", \" Mont\", \"en\", \"eg\", \"ro\", \" --\", \" Nation\", \"als\", \" of\", \" any\", \" country\", \" may\", \" visit\", \" Mont\", \"en\", \"eg\", \"ro\", \" without\", \" a\", \" visa\", \" for\", \" up\", \" to\", \" 30\", \" days\", \" if\", \" they\", \" hold\", \" a\", \" passport\", \" with\", \" visas\", \" issued\", \" by\", \" Ireland\", \",\", \" a\", \" Sc\", \"hen\", \"gen\", \" Area\", \" member\", \" state\", \",\", \" the\", \" United\", \" Kingdom\", \" or\", \" the\", \" United\", \" States\", \" or\", \" if\", \" they\", \" are\", \" permanent\", \" residents\", \" of\", \" those\", \" countries\", \".\", \" Res\", \"idents\", \" of\", \" the\", \" United\", \" Arab\", \" Emirates\", \" do\", \" not\", \" require\", \" a\", \" visa\", \" for\", \" up\", \" to\", \" 10\", \" days\", \",\", \" if\", \" they\", \" hold\", \" a\", \" return\", \" ticket\", \" and\", \" proof\", \" of\", \" accommodation\", \".\", \" \", \"\\n\", \"Question\", \":\", \" can\", \" i\", \" go\", \" to\", \" mont\", \"en\", \"eg\", \"ro\", \" with\", \" a\", \" sc\", \"hen\", \"gen\", \" visa\", \"\\n\", \"Answer\", \":\", \"\\n\", \"\\n\", \"No\", \"Yes\", \"\\n\\n\\n\", \"<|endoftext|>\", \"V\", \"isa\", \" policy\", \" of\", \" Mont\", \"en\", \"eg\", \"ro\", \" --\", \" Nation\", \"als\", \" of\", \" any\", \" country\", \" may\", \" visit\", \" Mont\", \"en\", \"eg\", \"ro\", \" without\", \" a\", \" visa\", \" for\", \" up\", \" to\", \" 30\", \" days\", \" if\", \" they\", \" hold\", \" a\", \" passport\", \" with\", \" visas\", \" issued\", \" by\", \" Ireland\", \",\", \" a\", \" Sc\", \"hen\", \"gen\", \" Area\", \" member\", \" state\", \",\", \" the\", \" United\", \" Kingdom\", \" or\", \" the\", \" United\", \" States\", \" or\", \" if\", \" they\", \" are\", \" permanent\", \" residents\", \" of\", \" those\", \" countries\", \".\", \" Res\", \"idents\", \" of\", \" the\", \" United\", \" Arab\", \" Emirates\", \" do\", \" not\", \" require\", \" a\", \" visa\", \" for\", \" up\", \" to\", \" 10\", \" days\", \",\", \" if\", \" they\", \" hold\", \" a\", \" return\", \" ticket\", \" and\", \" proof\", \" of\", \" accommodation\", \".\", \" \", \"\\n\", \"Question\", \":\", \" can\", \" i\", \" go\", \" to\", \" mont\", \"en\", \"eg\", \"ro\", \" with\", \" a\", \" sc\", \"hen\", \"gen\", \" visa\", \"\\n\", \"Answer\", \":\", \"\\n\", \"\\n\", \"No\", \"Yes\", \"\\n\\n\\n\", \"<|endoftext|>\", \"V\", \"isa\", \" policy\", \" of\", \" Mont\", \"en\", \"eg\", \"ro\", \" --\", \" Nation\", \"als\", \" of\", \" any\", \" country\", \" may\", \" visit\", \" Mont\", \"en\", \"eg\", \"ro\", \" without\", \" a\", \" visa\", \" for\", \" up\", \" to\", \" 30\", \" days\", \" if\", \" they\", \" hold\", \" a\", \" passport\", \" with\", \" visas\", \" issued\", \" by\", \" Ireland\", \",\", \" a\", \" Sc\", \"hen\", \"gen\", \" Area\", \" member\", \" state\", \",\", \" the\", \" United\", \" Kingdom\", \" or\", \" the\", \" United\", \" States\", \" or\", \" if\", \" they\", \" are\", \" permanent\", \" residents\", \" of\", \" those\", \" countries\", \".\", \" Res\", \"idents\", \" of\", \" the\", \" United\", \" Arab\", \" Emirates\", \" do\", \" not\", \" require\", \" a\", \" visa\", \" for\", \" up\", \" to\", \" 10\", \" days\", \",\", \" if\", \" they\", \" hold\", \" a\", \" return\", \" ticket\", \" and\", \" proof\", \" of\", \" accommodation\", \".\", \" \", \"\\n\", \"Question\", \":\", \" can\", \" i\", \" go\", \" to\", \" mont\", \"en\", \"eg\", \"ro\", \" with\", \" a\", \" sc\", \"hen\", \"gen\", \" visa\", \"\\n\", \"Answer\", \":\", \"\\n\", \"\\n\", \"No\", \"Yes\", \"\\n\\n\\n\", \"<|endoftext|>\", \"V\", \"isa\", \" policy\", \" of\", \" Mont\", \"en\", \"eg\", \"ro\", \" --\", \" Nation\", \"als\", \" of\", \" any\", \" country\", \" may\", \" visit\", \" Mont\", \"en\", \"eg\", \"ro\", \" without\", \" a\", \" visa\", \" for\", \" up\", \" to\", \" 30\", \" days\", \" if\", \" they\", \" hold\", \" a\", \" passport\", \" with\", \" visas\", \" issued\", \" by\", \" Ireland\", \",\", \" a\", \" Sc\", \"hen\", \"gen\", \" Area\", \" member\", \" state\", \",\", \" the\", \" United\", \" Kingdom\", \" or\", \" the\", \" United\", \" States\", \" or\", \" if\", \" they\", \" are\", \" permanent\", \" residents\", \" of\", \" those\", \" countries\", \".\", \" Res\", \"idents\", \" of\", \" the\", \" United\", \" Arab\", \" Emirates\", \" do\", \" not\", \" require\", \" a\", \" visa\", \" for\", \" up\", \" to\", \" 10\", \" days\", \",\", \" if\", \" they\", \" hold\", \" a\", \" return\", \" ticket\", \" and\", \" proof\", \" of\", \" accommodation\", \".\", \" \", \"\\n\", \"Question\", \":\", \" can\", \" i\", \" go\", \" to\", \" mont\", \"en\", \"eg\", \"ro\", \" with\", \" a\", \" sc\", \"hen\", \"gen\", \" visa\", \"\\n\", \"Answer\", \":\", \"\\n\", \"\\n\", \"No\", \"Yes\", \"\\n\\n\\n\", \"<|endoftext|>\", \"V\", \"isa\", \" policy\", \" of\", \" Mont\", \"en\", \"eg\", \"ro\", \" --\", \" Nation\", \"als\", \" of\", \" any\", \" country\", \" may\", \" visit\", \" Mont\", \"en\", \"eg\", \"ro\", \" without\", \" a\", \" visa\", \" for\", \" up\", \" to\", \" 30\", \" days\", \" if\", \" they\", \" hold\", \" a\", \" passport\", \" with\", \" visas\", \" issued\", \" by\", \" Ireland\", \",\", \" a\", \" Sc\", \"hen\", \"gen\", \" Area\", \" member\", \" state\", \",\", \" the\", \" United\", \" Kingdom\", \" or\", \" the\", \" United\", \" States\", \" or\", \" if\", \" they\", \" are\", \" permanent\", \" residents\", \" of\", \" those\", \" countries\", \".\", \" Res\", \"idents\", \" of\", \" the\", \" United\", \" Arab\", \" Emirates\", \" do\", \" not\", \" require\", \" a\", \" visa\", \" for\", \" up\", \" to\", \" 10\", \" days\", \",\", \" if\", \" they\", \" hold\", \" a\", \" return\", \" ticket\", \" and\", \" proof\", \" of\", \" accommodation\", \".\", \" \", \"\\n\", \"Question\", \":\", \" can\", \" i\", \" go\", \" to\", \" mont\", \"en\", \"eg\", \"ro\", \" with\", \" a\", \" sc\", \"hen\", \"gen\", \" visa\", \"\\n\", \"Answer\", \":\", \"\\n\", \"\\n\", \"No\", \"Yes\", \"\\n\\n\\n\", \"<|endoftext|>\", \"V\", \"isa\", \" policy\", \" of\", \" Mont\", \"en\", \"eg\", \"ro\", \" --\", \" Nation\", \"als\", \" of\", \" any\", \" country\", \" may\", \" visit\", \" Mont\", \"en\", \"eg\", \"ro\", \" without\", \" a\", \" visa\", \" for\", \" up\", \" to\", \" 30\", \" days\", \" if\", \" they\", \" hold\", \" a\", \" passport\", \" with\", \" visas\", \" issued\", \" by\", \" Ireland\", \",\", \" a\", \" Sc\", \"hen\", \"gen\", \" Area\", \" member\", \" state\", \",\", \" the\", \" United\", \" Kingdom\", \" or\", \" the\", \" United\", \" States\", \" or\", \" if\", \" they\", \" are\", \" permanent\", \" residents\", \" of\", \" those\", \" countries\", \".\", \" Res\", \"idents\", \" of\", \" the\", \" United\", \" Arab\", \" Emirates\", \" do\", \" not\", \" require\", \" a\", \" visa\", \" for\", \" up\", \" to\", \" 10\", \" days\", \",\", \" if\", \" they\", \" hold\", \" a\", \" return\", \" ticket\", \" and\", \" proof\", \" of\", \" accommodation\", \".\", \" \", \"\\n\", \"Question\", \":\", \" can\", \" i\", \" go\", \" to\", \" mont\", \"en\", \"eg\", \"ro\", \" with\", \" a\", \" sc\", \"hen\", \"gen\", \" visa\", \"\\n\", \"Answer\", \":\", \"\\n\", \"\\n\", \"No\", \"Yes\", \"\\n\\n\\n\", \"<|endoftext|>\", \"V\", \"isa\", \" policy\", \" of\", \" Mont\", \"en\", \"eg\", \"ro\", \" --\", \" Nation\", \"als\", \" of\", \" any\", \" country\", \" may\", \" visit\", \" Mont\", \"en\", \"eg\", \"ro\", \" without\", \" a\", \" visa\", \" for\", \" up\", \" to\", \" 30\", \" days\", \" if\", \" they\", \" hold\", \" a\", \" passport\", \" with\", \" visas\", \" issued\", \" by\", \" Ireland\", \",\", \" a\", \" Sc\", \"hen\", \"gen\", \" Area\", \" member\", \" state\", \",\", \" the\", \" United\", \" Kingdom\", \" or\", \" the\", \" United\", \" States\", \" or\", \" if\", \" they\", \" are\", \" permanent\", \" residents\", \" of\", \" those\", \" countries\", \".\", \" Res\", \"idents\", \" of\", \" the\", \" United\", \" Arab\", \" Emirates\", \" do\", \" not\", \" require\", \" a\", \" visa\", \" for\", \" up\", \" to\", \" 10\", \" days\", \",\", \" if\", \" they\", \" hold\", \" a\", \" return\", \" ticket\", \" and\", \" proof\", \" of\", \" accommodation\", \".\", \" \", \"\\n\", \"Question\", \":\", \" can\", \" i\", \" go\", \" to\", \" mont\", \"en\", \"eg\", \"ro\", \" with\", \" a\", \" sc\", \"hen\", \"gen\", \" visa\", \"\\n\", \"Answer\", \":\", \"\\n\", \"\\n\", \"No\", \"Yes\", \"\\n\\n\\n\", \"<|endoftext|>\", \"V\", \"isa\", \" policy\", \" of\", \" Mont\", \"en\", \"eg\", \"ro\", \" --\", \" Nation\", \"als\", \" of\", \" any\", \" country\", \" may\", \" visit\", \" Mont\", \"en\", \"eg\", \"ro\", \" without\", \" a\", \" visa\", \" for\", \" up\", \" to\", \" 30\", \" days\", \" if\", \" they\", \" hold\", \" a\", \" passport\", \" with\", \" visas\", \" issued\", \" by\", \" Ireland\", \",\", \" a\", \" Sc\", \"hen\", \"gen\", \" Area\", \" member\", \" state\", \",\", \" the\", \" United\", \" Kingdom\", \" or\", \" the\", \" United\", \" States\", \" or\", \" if\", \" they\", \" are\", \" permanent\", \" residents\", \" of\", \" those\", \" countries\", \".\", \" Res\", \"idents\", \" of\", \" the\", \" United\", \" Arab\", \" Emirates\", \" do\", \" not\", \" require\", \" a\", \" visa\", \" for\", \" up\", \" to\", \" 10\", \" days\", \",\", \" if\", \" they\", \" hold\", \" a\", \" return\", \" ticket\", \" and\", \" proof\", \" of\", \" accommodation\", \".\", \" \", \"\\n\", \"Question\", \":\", \" can\", \" i\", \" go\", \" to\", \" mont\", \"en\", \"eg\", \"ro\", \" with\", \" a\", \" sc\", \"hen\", \"gen\", \" visa\", \"\\n\", \"Answer\", \":\", \"\\n\", \"\\n\", \"No\", \"Yes\", \"\\n\\n\\n\", \"<|endoftext|>\", \"V\", \"isa\", \" policy\", \" of\", \" Mont\", \"en\", \"eg\", \"ro\", \" --\", \" Nation\", \"als\", \" of\", \" any\", \" country\", \" may\", \" visit\", \" Mont\", \"en\", \"eg\", \"ro\", \" without\", \" a\", \" visa\", \" for\", \" up\", \" to\", \" 30\", \" days\", \" if\", \" they\", \" hold\", \" a\", \" passport\", \" with\", \" visas\", \" issued\", \" by\", \" Ireland\", \",\", \" a\", \" Sc\", \"hen\", \"gen\", \" Area\", \" member\", \" state\", \",\", \" the\", \" United\", \" Kingdom\", \" or\", \" the\", \" United\", \" States\", \" or\", \" if\", \" they\", \" are\", \" permanent\", \" residents\", \" of\", \" those\", \" countries\", \".\", \" Res\", \"idents\", \" of\", \" the\", \" United\", \" Arab\", \" Emirates\", \" do\", \" not\", \" require\", \" a\", \" visa\", \" for\", \" up\", \" to\", \" 10\", \" days\", \",\", \" if\", \" they\", \" hold\", \" a\", \" return\", \" ticket\", \" and\", \" proof\", \" of\", \" accommodation\", \".\", \" \", \"\\n\", \"Question\", \":\", \" can\", \" i\", \" go\", \" to\", \" mont\", \"en\", \"eg\", \"ro\", \" with\", \" a\", \" sc\", \"hen\", \"gen\", \" visa\", \"\\n\", \"Answer\", \":\", \"\\n\", \"\\n\", \"No\", \"Yes\", \"\\n\\n\\n\", \"<|endoftext|>\", \"V\", \"isa\", \" policy\", \" of\", \" Mont\", \"en\", \"eg\", \"ro\", \" --\", \" Nation\", \"als\", \" of\", \" any\", \" country\", \" may\", \" visit\", \" Mont\", \"en\", \"eg\", \"ro\", \" without\", \" a\", \" visa\", \" for\", \" up\", \" to\", \" 30\", \" days\", \" if\", \" they\", \" hold\", \" a\", \" passport\", \" with\", \" visas\", \" issued\", \" by\", \" Ireland\", \",\", \" a\", \" Sc\", \"hen\", \"gen\", \" Area\", \" member\", \" state\", \",\", \" the\", \" United\", \" Kingdom\", \" or\", \" the\", \" United\", \" States\", \" or\", \" if\", \" they\", \" are\", \" permanent\", \" residents\", \" of\", \" those\", \" countries\", \".\", \" Res\", \"idents\", \" of\", \" the\", \" United\", \" Arab\", \" Emirates\", \" do\", \" not\", \" require\", \" a\", \" visa\", \" for\", \" up\", \" to\", \" 10\", \" days\", \",\", \" if\", \" they\", \" hold\", \" a\", \" return\", \" ticket\", \" and\", \" proof\", \" of\", \" accommodation\", \".\", \" \", \"\\n\", \"Question\", \":\", \" can\", \" i\", \" go\", \" to\", \" mont\", \"en\", \"eg\", \"ro\", \" with\", \" a\", \" sc\", \"hen\", \"gen\", \" visa\", \"\\n\", \"Answer\", \":\", \"\\n\", \"\\n\", \"No\", \"Yes\", \"\\n\\n\\n\", \"<|endoftext|>\", \"V\", \"isa\", \" policy\", \" of\", \" Mont\", \"en\", \"eg\", \"ro\", \" --\", \" Nation\", \"als\", \" of\", \" any\", \" country\", \" may\", \" visit\", \" Mont\", \"en\", \"eg\", \"ro\", \" without\", \" a\", \" visa\", \" for\", \" up\", \" to\", \" 30\", \" days\", \" if\", \" they\", \" hold\", \" a\", \" passport\", \" with\", \" visas\", \" issued\", \" by\", \" Ireland\", \",\", \" a\", \" Sc\", \"hen\", \"gen\", \" Area\", \" member\", \" state\", \",\", \" the\", \" United\", \" Kingdom\", \" or\", \" the\", \" United\", \" States\", \" or\", \" if\", \" they\", \" are\", \" permanent\", \" residents\", \" of\", \" those\", \" countries\", \".\", \" Res\", \"idents\", \" of\", \" the\", \" United\", \" Arab\", \" Emirates\", \" do\", \" not\", \" require\", \" a\", \" visa\", \" for\", \" up\", \" to\", \" 10\", \" days\", \",\", \" if\", \" they\", \" hold\", \" a\", \" return\", \" ticket\", \" and\", \" proof\", \" of\", \" accommodation\", \".\", \" \", \"\\n\", \"Question\", \":\", \" can\", \" i\", \" go\", \" to\", \" mont\", \"en\", \"eg\", \"ro\", \" with\", \" a\", \" sc\", \"hen\", \"gen\", \" visa\", \"\\n\", \"Answer\", \":\", \"\\n\", \"\\n\", \"No\", \"Yes\", \"\\n\\n\\n\", \"<|endoftext|>\", \"V\", \"isa\", \" policy\", \" of\", \" Mont\", \"en\", \"eg\", \"ro\", \" --\", \" Nation\", \"als\", \" of\", \" any\", \" country\", \" may\", \" visit\", \" Mont\", \"en\", \"eg\", \"ro\", \" without\", \" a\", \" visa\", \" for\", \" up\", \" to\", \" 30\", \" days\", \" if\", \" they\", \" hold\", \" a\", \" passport\", \" with\", \" visas\", \" issued\", \" by\", \" Ireland\", \",\", \" a\", \" Sc\", \"hen\", \"gen\", \" Area\", \" member\", \" state\", \",\", \" the\", \" United\", \" Kingdom\", \" or\", \" the\", \" United\", \" States\", \" or\", \" if\", \" they\", \" are\", \" permanent\", \" residents\", \" of\", \" those\", \" countries\", \".\", \" Res\", \"idents\", \" of\", \" the\", \" United\", \" Arab\", \" Emirates\", \" do\", \" not\", \" require\", \" a\", \" visa\", \" for\", \" up\", \" to\", \" 10\", \" days\", \",\", \" if\", \" they\", \" hold\", \" a\", \" return\", \" ticket\", \" and\", \" proof\", \" of\", \" accommodation\", \".\", \" \", \"\\n\", \"Question\", \":\", \" can\", \" i\", \" go\", \" to\", \" mont\", \"en\", \"eg\", \"ro\", \" with\", \" a\", \" sc\", \"hen\", \"gen\", \" visa\", \"\\n\", \"Answer\", \":\", \"\\n\", \"\\n\", \"No\", \"Yes\", \"\\n\\n\\n\", \"<|endoftext|>\", \"V\", \"isa\", \" policy\", \" of\", \" Mont\", \"en\", \"eg\", \"ro\", \" --\", \" Nation\", \"als\", \" of\", \" any\", \" country\", \" may\", \" visit\", \" Mont\", \"en\", \"eg\", \"ro\", \" without\", \" a\", \" visa\", \" for\", \" up\", \" to\", \" 30\", \" days\", \" if\", \" they\", \" hold\", \" a\", \" passport\", \" with\", \" visas\", \" issued\", \" by\", \" Ireland\", \",\", \" a\", \" Sc\", \"hen\", \"gen\", \" Area\", \" member\", \" state\", \",\", \" the\", \" United\", \" Kingdom\", \" or\", \" the\", \" United\", \" States\", \" or\", \" if\", \" they\", \" are\", \" permanent\", \" residents\", \" of\", \" those\", \" countries\", \".\", \" Res\", \"idents\", \" of\", \" the\", \" United\", \" Arab\", \" Emirates\", \" do\", \" not\", \" require\", \" a\", \" visa\", \" for\", \" up\", \" to\", \" 10\", \" days\", \",\", \" if\", \" they\", \" hold\", \" a\", \" return\", \" ticket\", \" and\", \" proof\", \" of\", \" accommodation\", \".\", \" \", \"\\n\", \"Question\", \":\", \" can\", \" i\", \" go\", \" to\", \" mont\", \"en\", \"eg\", \"ro\", \" with\", \" a\", \" sc\", \"hen\", \"gen\", \" visa\", \"\\n\", \"Answer\", \":\", \"\\n\", \"\\n\", \"No\", \"Yes\", \"\\n\\n\\n\", \"<|endoftext|>\", \"V\", \"isa\", \" policy\", \" of\", \" Mont\", \"en\", \"eg\", \"ro\", \" --\", \" Nation\", \"als\", \" of\", \" any\", \" country\", \" may\", \" visit\", \" Mont\", \"en\", \"eg\", \"ro\", \" without\", \" a\", \" visa\", \" for\", \" up\", \" to\", \" 30\", \" days\", \" if\", \" they\", \" hold\", \" a\", \" passport\", \" with\", \" visas\", \" issued\", \" by\", \" Ireland\", \",\", \" a\", \" Sc\", \"hen\", \"gen\", \" Area\", \" member\", \" state\", \",\", \" the\", \" United\", \" Kingdom\", \" or\", \" the\", \" United\", \" States\", \" or\", \" if\", \" they\", \" are\", \" permanent\", \" residents\", \" of\", \" those\", \" countries\", \".\", \" Res\", \"idents\", \" of\", \" the\", \" United\", \" Arab\", \" Emirates\", \" do\", \" not\", \" require\", \" a\", \" visa\", \" for\", \" up\", \" to\", \" 10\", \" days\", \",\", \" if\", \" they\", \" hold\", \" a\", \" return\", \" ticket\", \" and\", \" proof\", \" of\", \" accommodation\", \".\", \" \", \"\\n\", \"Question\", \":\", \" can\", \" i\", \" go\", \" to\", \" mont\", \"en\", \"eg\", \"ro\", \" with\", \" a\", \" sc\", \"hen\", \"gen\", \" visa\", \"\\n\", \"Answer\", \":\", \"\\n\", \"\\n\", \"No\", \"Yes\", \"\\n\\n\\n\"], \"values\": [-0.003854324109852314, 0.0004266772884875536, -0.0037579312920570374, 0.020914359018206596, -0.002696503885090351, 0.03772318735718727, 0.009473629295825958, 0.03138001263141632, -0.003385260235518217, 0.012333700433373451, -0.024398690089583397, -0.005288172047585249, -0.002696503885090351, -0.006532101891934872, 0.008123562671244144, 0.034167271107435226, 0.0027973083779215813, 0.03772318735718727, 0.009473629295825958, 0.03138001263141632, -0.003385260235518217, -0.022235581651329994, 0.0012915907427668571, -0.04715902730822563, 0.0014402144588530064, 0.02589118853211403, 0.0067596472799777985, 0.007290903478860855, -0.028893211856484413, 0.03961819410324097, 0.04463126137852669, -0.004049547947943211, 0.0012915907427668571, 0.010842722840607166, -0.009723844937980175, -0.028334807604551315, 0.0016911579295992851, -0.004576155915856361, -0.021830681711435318, 0.00029056216590106487, 0.0012915907427668571, 0.00014976412057876587, 0.00814741849899292, 0.019123544916510582, -0.013939330354332924, -0.030101636424660683, 0.0234132818877697, 0.00029056216590106487, -0.007953657768666744, 0.0010836748406291008, -0.02691451460123062, -0.007358556613326073, -0.007953657768666744, 0.0010836748406291008, -0.018010592088103294, -0.007358556613326073, 0.03961819410324097, 0.04463126137852669, -0.010622922331094742, -0.020616061985492706, -0.02898028865456581, -0.002696503885090351, -0.013089187443256378, 0.004720849916338921, 0.0008904347196221352, 0.010823704302310944, 0.014275895431637764, -0.002696503885090351, -0.007953657768666744, 0.0010836748406291008, -0.06318099796772003, 0.00543622113764286, 0.009436147287487984, -0.0018422986613586545, 0.009541761130094528, 0.0012915907427668571, -0.04715902730822563, 0.0014402144588530064, 0.02589118853211403, 0.0067596472799777985, 0.0030417912639677525, -0.028893211856484413, 0.00029056216590106487, 0.03961819410324097, 0.04463126137852669, -0.004049547947943211, 0.0012915907427668571, -0.005565543659031391, 0.011839295737445354, -0.002305362606421113, -0.002073078416287899, -0.002696503885090351, -0.02577936090528965, 0.0008904347196221352, -0.022012166678905487, 0.0028495746664702892, -0.019179116934537888, -0.042436663061380386, 0.0007945096585899591, 0.04026683419942856, 0.00023323949426412582, 0.0067596472799777985, 0.028251279145479202, 0.009473629295825958, 0.03138001263141632, -0.003385260235518217, -0.009723844937980175, 0.0012915907427668571, -0.02020595595240593, 0.00814741849899292, 0.019123544916510582, -0.04715902730822563, 0.0028495746664702892, 0.0005112241487950087, -0.042436663061380386, 0.0028495746664702892, 0.0028495746664702892, -0.05962754040956497, 0.022557977586984634, 0.0, -0.5150985717773438, 0.4176950454711914, 0.2237294763326645, 0.34871208667755127, 0.03257693350315094, -0.07575635612010956, 0.22337697446346283, -0.1822492927312851, -0.2311941534280777, -0.1144833117723465, -0.7351474761962891, -0.12365615367889404, 0.07269015908241272, -0.300644189119339, 0.3651079833507538, 0.3217504620552063, 0.6726428270339966, -0.04625238850712776, 0.24854092299938202, -0.14043273031711578, -0.21337994933128357, -0.9607786536216736, 0.2889651358127594, -0.1396576315164566, 0.08078216761350632, 0.42584410309791565, 0.17147301137447357, 0.2720145583152771, 0.028312401846051216, -0.030459126457571983, 0.3535687029361725, 0.04918161779642105, 0.18901214003562927, 0.5515155792236328, 0.14630089700222015, 0.02043493464589119, -0.19843168556690216, -0.1268724799156189, 0.09674108028411865, -0.0756392627954483, 0.3805711269378662, -0.9599694609642029, -0.04460233449935913, -0.40449121594429016, 0.22060073912143707, 0.08782602101564407, 0.751642107963562, -0.14227665960788727, 0.08801743388175964, 0.05388612672686577, 0.2737225592136383, -0.16711415350437164, 0.11128011345863342, 0.10136286169290543, -0.1160726398229599, -0.0567275807261467, 0.0923580601811409, 0.5142461061477661, 0.18312270939350128, 0.7702454924583435, 0.9924160242080688, 0.06284341216087341, 0.24191191792488098, -0.10471536964178085, -0.014765255153179169, 0.16873909533023834, 0.4773969352245331, 0.14546388387680054, 0.3430027961730957, 0.27067890763282776, 0.22479580342769623, 0.7896822094917297, 0.5256205201148987, -0.4949570298194885, 0.1621733158826828, 0.3792373836040497, 0.0248708538711071, 0.20645397901535034, 0.5426462292671204, 0.29861024022102356, 0.7838066220283508, 0.2879329323768616, 0.03729632869362831, 0.2145020067691803, 0.6033697128295898, 0.22252516448497772, 0.38667070865631104, 0.28051528334617615, 0.2932821810245514, 0.1110781580209732, 0.8981701135635376, 0.110847607254982, 0.9263824224472046, -0.010381758213043213, 0.06004127860069275, 0.6624565720558167, 0.3556975722312927, 0.02291475608944893, 0.8125771880149841, 0.8755578994750977, 0.44224387407302856, 0.4467639625072479, -0.3934846520423889, 0.21617379784584045, -0.1075672060251236, -0.124874547123909, 0.4751684069633484, 0.5667009949684143, -0.6449440121650696, 0.22046862542629242, -0.342715859413147, 0.015140146017074585, 0.40947285294532776, 0.2924446165561676, -0.007076239679008722, 0.5282792448997498, 0.6621012687683105, -2.6108787059783936, 2.730872869491577, 0.0, 0.24028311669826508, 0.12984158098697662, 0.5008556842803955, -0.024743327870965004, -0.3881073594093323, 0.3151751458644867, -0.1319781094789505, 0.20356307923793793, -0.12762023508548737, -0.05390528216958046, -0.26495665311813354, -0.15979473292827606, -0.23758791387081146, -0.4261493682861328, -0.21761317551136017, -0.18826070427894592, 0.04869810864329338, 0.5297760367393494, 0.047972358763217926, 0.3389398157596588, -0.005031602922827005, -0.5959284901618958, 0.06433109939098358, 0.7883117198944092, -0.2208293229341507, 0.11383862793445587, -0.12722522020339966, 0.04682769998908043, -0.07561184465885162, -0.16237245500087738, 0.07629793882369995, 0.07063404470682144, 0.1533854901790619, 1.2804285287857056, -0.21372190117835999, 0.4337690770626068, -0.07473944127559662, -0.3795466721057892, 0.09674622118473053, -0.1692548394203186, 0.07890766859054565, -0.1665716916322708, -0.16431109607219696, -0.2776772677898407, 0.35162314772605896, -0.03954669460654259, -0.1323574036359787, -0.17857933044433594, -0.19597679376602173, 0.6410109996795654, 0.2732364237308502, -0.24655848741531372, -0.36068257689476013, 0.6475673913955688, -0.04977278783917427, -0.3007763922214508, -0.2610538899898529, 0.0035318746231496334, -0.1448640674352646, 0.2614401876926422, 0.4515342712402344, -0.32277724146842957, 0.008191150613129139, -0.20661407709121704, -0.0764443501830101, -0.2134511023759842, 0.10769636929035187, -0.20890887081623077, -0.29644134640693665, 0.6156850457191467, -0.21020397543907166, 0.2585596740245819, -0.37906891107559204, -0.5579581260681152, -0.2540968954563141, -0.04232574254274368, 0.7122766971588135, -0.28819167613983154, 0.08929342031478882, -0.18598031997680664, 0.3155422508716583, -0.1474844515323639, -0.10665052384138107, -0.14676864445209503, 0.04967886582016945, 0.03953677415847778, 0.11819559335708618, 0.12445272505283356, 0.48824769258499146, -0.31456372141838074, 0.524614691734314, 0.09757909923791885, 0.45991843938827515, -0.14933733642101288, -0.2793098986148834, -0.11369366943836212, 0.44688791036605835, 0.11786480993032455, 0.2461422234773636, -0.05265912041068077, 0.12739303708076477, -0.2802518606185913, -0.06527651846408844, 0.09094542264938354, 0.26195666193962097, 0.00399490213021636, -0.17673714458942413, 0.06715131551027298, -0.09556273370981216, -0.1585322767496109, -0.36157160997390747, 0.7646161317825317, -0.003592910710722208, 0.2817593514919281, 0.07086512446403503, 0.0346444807946682, 0.10644514858722687, -0.9267157316207886, 0.9919929504394531, 0.0, -1.1178902387619019, -0.3739718198776245, 0.15889380872249603, -0.3398260474205017, -0.3860403895378113, -0.15996794402599335, -0.09990384429693222, -0.07570993155241013, -0.7755263447761536, -0.017876040190458298, -0.72138512134552, -0.4885714054107666, -0.4295780062675476, -0.46270549297332764, -0.37994149327278137, -0.26909634470939636, -0.3385838568210602, -0.08655311912298203, -0.013492656871676445, -0.05249861255288124, -0.751467764377594, -0.7009970545768738, -0.03849063441157341, 0.14369599521160126, -0.36006978154182434, 0.20929068326950073, -0.4964750111103058, -0.40219846367836, -0.14390838146209717, -0.48727336525917053, -0.5410404205322266, -0.6188384890556335, 0.09417326003313065, 0.8726245760917664, -0.4581471383571625, -0.06761923432350159, -0.42385047674179077, -0.5778319239616394, -0.6233301758766174, -0.4770536422729492, -0.07437495142221451, -0.7882812023162842, -0.3597756326198578, -0.6645360589027405, -0.03122246451675892, -0.595602810382843, -0.6187258362770081, -0.5378139615058899, -0.5234752297401428, 0.10280225425958633, -0.1296302080154419, -0.5940152406692505, -0.5188878774642944, 0.06352672725915909, -0.629775881767273, -0.6721709966659546, -0.5947617888450623, -0.6199018359184265, -0.5133294463157654, 0.083111472427845, 0.1809290498495102, -0.46089470386505127, -0.45423978567123413, -0.5018560886383057, -0.6718344688415527, -0.5105094909667969, -0.21539859473705292, -0.47456660866737366, -0.6231620907783508, -0.07171078771352768, -0.924644410610199, -0.5039181113243103, -0.5106701254844666, -0.9159414172172546, -0.7165800333023071, -0.301313579082489, 0.010617664083838463, -0.5705857276916504, 0.05201280489563942, -0.6043049097061157, -0.2685803174972534, -0.2073499709367752, -0.5444334745407104, -0.6145631670951843, -0.4757264256477356, -0.718412458896637, 0.01727953739464283, -0.1164340153336525, -0.018607625737786293, -0.6493212580680847, -0.26930612325668335, 0.060741037130355835, 0.10741811990737915, -0.6630891561508179, -0.2621135413646698, -0.2514871060848236, -0.09474361687898636, -0.34625059366226196, -0.09916049987077713, -0.46882757544517517, -0.020138995721936226, -0.2615745961666107, -0.7112306356430054, 0.07988929748535156, -0.18714658915996552, -0.7220515608787537, -0.484408974647522, -0.10782607644796371, -0.996320366859436, -0.3537486791610718, -0.7325935959815979, -0.012531111016869545, -0.2806401550769806, -0.08835592120885849, -0.17218299210071564, -0.19001437723636627, -0.14461767673492432, -1.0010733604431152, 0.769334614276886, 0.0, -38.840450286865234, -0.7681679129600525, -0.2372480183839798, -0.054026175290346146, -0.7292174100875854, -0.5183441638946533, -0.2248668074607849, 0.07217458635568619, -0.7746021747589111, -0.29139795899391174, -0.5722918510437012, -0.8512522578239441, -0.4050048887729645, -0.5647233724594116, -0.6000081300735474, -0.6097491979598999, -0.48793935775756836, -0.4223098158836365, -0.43837931752204895, -0.18241550028324127, -0.8343269228935242, -0.8467671275138855, -0.1775003969669342, -0.7075878381729126, -0.8545076847076416, -0.3040176033973694, -0.6169332265853882, -0.9239722490310669, -0.5816558003425598, -0.8575321435928345, -0.7700420618057251, -0.9512128829956055, -0.24930375814437866, -0.00331987370736897, -0.937323272228241, -0.5535268187522888, -0.9627645015716553, -0.9534884095191956, -1.0963119268417358, -0.8292798399925232, -0.45313704013824463, -0.9187846779823303, -0.45727699995040894, -0.7701361775398254, -0.3944181799888611, -0.567859411239624, -1.0455167293548584, -0.7881315350532532, -0.7203076481819153, 0.1380545049905777, -0.6723876595497131, -0.8556374311447144, -0.5891137719154358, 0.1710435003042221, -0.832634687423706, -0.8841552138328552, -0.7329365611076355, -0.7814415097236633, -0.7749184966087341, -0.010547536425292492, -0.29063963890075684, -0.8054456114768982, -0.7293742299079895, -0.9455257654190063, -0.7019666433334351, -0.7206732034683228, -0.5198132991790771, -0.5519946813583374, -0.6878191828727722, -0.008483163081109524, -1.0815708637237549, -0.6586698889732361, -0.9689186215400696, -1.1820284128189087, -0.9339975714683533, -0.5495926737785339, -0.8199813961982727, -1.1138755083084106, -0.4760819375514984, -0.7082780599594116, -0.6894654035568237, -0.7591944932937622, -0.7638541460037231, -0.9881256222724915, -0.7421793341636658, -0.94114089012146, -0.2921333312988281, -0.3470912575721741, -0.7902049422264099, -0.911713182926178, -0.34370431303977966, -0.2010577917098999, -0.5272732377052307, -0.7471886277198792, -0.4395405054092407, -0.5723800659179688, -0.46597471833229065, -0.7423363327980042, -0.5501008629798889, -1.0265575647354126, 0.035456333309412, -0.13875164091587067, -0.9878360629081726, -0.2833501994609833, -0.1860339492559433, -0.7501827478408813, -0.7343910932540894, -0.09484601765871048, -1.059810996055603, -0.3435961902141571, -0.7081159353256226, -0.5655815005302429, -0.761055588722229, -0.5948237180709839, -0.4574040174484253, -0.532820999622345, -0.5450553894042969, -1.2147822380065918, 0.6131443977355957, 0.0, -51.57937240600586, -0.9764009118080139, -0.1913856416940689, -0.11819988489151001, -0.889833390712738, -0.5317018032073975, -0.19081607460975647, 0.03020656853914261, -0.9251120090484619, -0.4817935526371002, -0.6591981053352356, -1.0654199123382568, -0.50437331199646, -0.5009384751319885, -0.8225328922271729, -0.790014922618866, -0.7236100435256958, -0.560187041759491, -0.3255091905593872, 0.05292826145887375, -0.8388899564743042, -0.2686077356338501, -0.09891200810670853, -0.5159099698066711, -0.8263937830924988, -0.6019130945205688, -0.4285118877887726, -1.0392135381698608, -0.42689308524131775, -0.8647936582565308, -0.9152823090553284, -0.8574235439300537, -0.5776657462120056, 0.007952294312417507, -0.8112426996231079, -0.7501992583274841, -0.7656915187835693, -0.742894172668457, -1.0939586162567139, -0.7905093431472778, -0.5050178170204163, -1.146840214729309, -0.25286468863487244, -1.0411487817764282, -0.6152008771896362, -0.39429980516433716, -0.8565675616264343, -1.000997543334961, -0.7276290059089661, 0.07967087626457214, -0.6108752489089966, -1.145208477973938, -0.6907241344451904, 0.0942666158080101, -1.093716025352478, -1.0381381511688232, -0.7682907581329346, -0.9605063199996948, -0.9215521216392517, 0.05411900579929352, 0.08359129726886749, -0.6764662861824036, -0.8943594694137573, -1.0886094570159912, -0.8355996608734131, -0.812868595123291, -0.3730926215648651, -0.8375765681266785, -0.8793811202049255, -0.08255019038915634, -0.9033253192901611, -1.199144959449768, -0.988797128200531, -1.2140443325042725, -0.2503541111946106, -0.0771922841668129, -0.6748809218406677, -0.970374345779419, -0.7918567061424255, -0.7827715873718262, -0.834236204624176, -0.6767538785934448, -1.0580613613128662, -1.3750133514404297, -0.931219220161438, -0.9896278977394104, -0.6715475916862488, -0.4211202561855316, -0.800471305847168, -0.8847255110740662, -0.6417844295501709, -0.22585159540176392, -0.666339099407196, -0.9981452822685242, -0.7104423642158508, -0.4901999533176422, -0.6524307727813721, -0.8352183699607849, -0.7695356011390686, -1.256712794303894, -0.23663578927516937, -0.3162812292575836, -0.9613484740257263, -0.4766729176044464, -0.1437978595495224, -0.9990655779838562, -0.49202340841293335, -0.3974577486515045, -1.2210067510604858, 0.059298075735569, -0.7249966263771057, -0.5612690448760986, -0.9607373476028442, -0.7522339820861816, -0.584320068359375, -0.5432870984077454, -0.4602131247520447, -1.301266074180603, 0.6940443515777588, -0.0, -90.74437713623047, -1.5669472217559814, -0.8485785126686096, -0.6652265191078186, -1.2556095123291016, -1.190063238143921, -0.24997632205486298, 0.09477381408214569, -1.583839774131775, -1.0233067274093628, -1.6357097625732422, -1.5580984354019165, -0.9895378947257996, -0.7621166706085205, -1.2648332118988037, -1.0603001117706299, -1.2491817474365234, -1.2848600149154663, -0.7366402745246887, -0.007574495393782854, -1.4409412145614624, -1.0139224529266357, -0.8361055850982666, -1.4868634939193726, -1.1543229818344116, -0.8099330067634583, -1.0420674085617065, -1.044219732284546, -0.6781167984008789, -1.2281802892684937, -1.2737669944763184, -1.2985697984695435, -0.9532111287117004, -0.6509649157524109, -1.0185264348983765, -1.684370517730713, -1.0944571495056152, -1.451022982597351, -1.3852767944335938, -1.0608094930648804, -0.8096083402633667, -1.7908592224121094, -0.38730549812316895, -1.4573695659637451, -1.136321783065796, -0.6540482640266418, -1.2743148803710938, -1.025992512702942, -0.9400569796562195, -0.6195884943008423, -1.2001005411148071, -1.2423590421676636, -1.1470041275024414, -0.6654104590415955, -1.4393019676208496, -1.0185483694076538, -0.8937159180641174, -1.357954740524292, -1.3081156015396118, -0.26325878500938416, -0.45077961683273315, -1.0908504724502563, -1.1809210777282715, -2.0425291061401367, -0.826382040977478, -1.2938592433929443, -0.9834643006324768, -1.3428230285644531, -1.2920942306518555, -0.9370498657226562, -1.1815953254699707, -1.844968318939209, -1.490942120552063, -1.9062782526016235, -0.8762770295143127, -0.8956133127212524, -1.6048357486724854, -1.253490924835205, -1.0969685316085815, -1.488660216331482, -0.8822419047355652, -0.9632408618927002, -1.2386596202850342, -1.45321524143219, -1.1573188304901123, -1.9566463232040405, -1.1911033391952515, -0.8928300738334656, -1.5472344160079956, -1.1897144317626953, -1.2275280952453613, -1.0225772857666016, -1.5131021738052368, -1.2234182357788086, -0.9964376091957092, -0.6943221688270569, -1.3765205144882202, -1.158467173576355, -1.3625291585922241, -1.8914185762405396, -0.8483791947364807, -0.8371913433074951, -1.910012125968933, -1.051470398902893, -0.4586790204048157, -1.5067800283432007, -0.9502004981040955, -0.7909566760063171, -1.9644640684127808, -0.8117020130157471, -1.483715295791626, -1.7006103992462158, -1.080515742301941, -1.153232216835022, -1.378689169883728, -1.2429792881011963, -0.7926037907600403, -1.7788290977478027, 0.13664165139198303, 0.0, -26.144601821899414, -0.20154790580272675, -0.41824644804000854, -0.16331946849822998, -0.3870675265789032, -0.8477495312690735, -0.023669561371207237, -0.24221311509609222, -0.5644206404685974, -0.2528529465198517, -0.7141074538230896, -0.9220885038375854, -0.45041152834892273, -0.516594648361206, -0.2688455283641815, 0.05354271084070206, -0.1118755042552948, -0.45782431960105896, -0.35610130429267883, -0.10454101115465164, -0.3724183142185211, -0.0859309509396553, -0.027519678696990013, -0.4925589859485626, -0.39611631631851196, 0.7516646385192871, -0.793027937412262, 0.14262674748897552, 0.32348060607910156, -0.6669455766677856, -0.5512557625770569, -0.6400001049041748, -0.14342524111270905, -0.3040391206741333, -0.38647156953811646, -0.6139590740203857, -0.16879692673683167, -0.06028022617101669, -0.45195305347442627, -0.6373602151870728, -0.6969428062438965, -0.7988986372947693, 0.403026819229126, -0.5054374933242798, -0.2915630042552948, -0.4219801127910614, -0.39462193846702576, -0.6620714664459229, -0.15297996997833252, 0.25171205401420593, -0.8015739321708679, -0.4627615511417389, -0.06127696484327316, -0.12462887912988663, -0.3099934160709381, -0.24436461925506592, -0.4426727592945099, -0.8665913343429565, -0.6441944241523743, 0.08400242775678635, 0.11887101083993912, -0.3737439513206482, -1.0727243423461914, -0.9227566719055176, -0.6424667835235596, 0.24778619408607483, -0.7573984265327454, -0.6128735542297363, -0.4284346401691437, -0.21040993928909302, -1.0545539855957031, -1.5845307111740112, -1.0609225034713745, -1.4753693342208862, -0.5698826313018799, -0.4138985574245453, -0.8148337006568909, -0.14091812074184418, 0.6598854064941406, -0.8930677771568298, 0.21679848432540894, 0.23090054094791412, -0.28631752729415894, -1.0951051712036133, -0.6526042819023132, -0.9212287664413452, -0.3494652211666107, -0.10498782992362976, -0.3875228464603424, -0.5326111912727356, -0.3900972902774811, -0.019374089315533638, -0.507203996181488, -0.48975440859794617, 0.10816366225481033, -0.08219772577285767, -0.27284708619117737, 0.1924368441104889, -0.1863378882408142, -0.7758551836013794, 0.11860541254281998, 0.10111484676599503, -0.6466455459594727, -0.3477465808391571, -0.5212610960006714, -0.5455222129821777, -0.3428349196910858, -0.22941768169403076, -0.6467148661613464, 0.29661795496940613, -0.6164612770080566, -0.8247560262680054, -0.6367582082748413, -0.4315694272518158, -0.20397908985614777, -0.2385866343975067, 0.18278586864471436, -0.6616337299346924, 1.552313208580017, -0.0, 97.0533218383789, -0.47903040051460266, 1.2898268699645996, 1.1895750761032104, 0.4355515241622925, -0.21060465276241302, 0.3799540102481842, 0.23525351285934448, 0.8832158446311951, 1.0050166845321655, 0.7566567063331604, 1.5766996145248413, 0.9402875304222107, 0.3246517479419708, 0.5948684811592102, -0.13183830678462982, 0.013281846418976784, -0.5738134980201721, 0.014666521921753883, -0.7050881385803223, 0.07502924650907516, -0.3883826732635498, -0.5070865750312805, 1.5772705078125, 0.7864682078361511, -0.0858110636472702, 1.218862771987915, 1.0083906650543213, 0.8842640519142151, 1.2339706420898438, -0.19551479816436768, 0.5500081181526184, 0.19124233722686768, 0.4004270136356354, 0.8867188096046448, 1.9675018787384033, 1.8396720886230469, 1.0725514888763428, 2.013519525527954, 1.3588759899139404, 0.5567393898963928, 0.38699156045913696, 1.4657135009765625, 2.3430991172790527, 1.122982144355774, -0.463344007730484, 0.19326531887054443, -0.418310284614563, -0.16508331894874573, 1.0064514875411987, 1.112108826637268, 0.22306451201438904, 0.12304853647947311, 0.2320958375930786, 1.285003900527954, -1.3281553983688354, 0.492586225271225, -0.24667717516422272, 0.1361146867275238, -0.6824404001235962, -0.6510932445526123, -0.30268189311027527, -0.3135075867176056, 0.5637853741645813, 0.5558102130889893, -0.10132584720849991, -0.5914444327354431, 0.44503548741340637, 0.21290923655033112, 1.4268991947174072, -0.5790050625801086, 0.7438623309135437, -0.14364323019981384, 0.1716960370540619, -0.49097740650177, -0.45846956968307495, 1.4618604183197021, 0.8150561451911926, -0.09189844876527786, 0.6228461861610413, 0.5375226736068726, 0.0972156673669815, 0.6575807332992554, 0.5584830641746521, -0.7135705351829529, 0.41667377948760986, -0.4252312481403351, -0.03245391324162483, 0.38570958375930786, -0.06174223870038986, 0.6244476437568665, -0.056116584688425064, -0.2298426628112793, 0.037693049758672714, 0.7484278678894043, 0.47164782881736755, 0.0001820569159463048, -0.4184410274028778, 0.07220330089330673, -0.20428326725959778, -0.706046998500824, -0.8597820997238159, 1.231139063835144, 0.7535201907157898, -0.17612788081169128, 0.4784753918647766, 0.126842200756073, 0.01929565705358982, 2.033339262008667, 1.872435450553894, 2.0936026573181152, 2.172490119934082, 0.8432366847991943, 0.7436362504959106, -0.2383144199848175, -0.442453533411026, -0.5721561312675476, -0.9537631869316101, 1.655957818031311, -0.0, -74.3459243774414, -0.6239569187164307, -1.4808708429336548, -0.43200695514678955, -0.23233984410762787, 0.10335682332515717, -1.6923038959503174, -1.9198462963104248, -0.4564463198184967, -0.7193208932876587, -1.1986620426177979, -1.2378089427947998, -1.0662753582000732, -0.6452293395996094, 0.2682948112487793, 0.355177104473114, -0.11956332623958588, 0.7919752597808838, -1.056701421737671, -1.1484510898590088, -0.09904666244983673, -1.5957958698272705, -0.7872971296310425, -1.0604665279388428, -0.1153869479894638, 0.7812499403953552, -0.5038226246833801, -0.05795957148075104, -0.040270768105983734, -0.15450960397720337, 1.087017297744751, -0.4595794975757599, 0.2009676992893219, 0.5329374670982361, -0.017546342685818672, -0.19885854423046112, 0.5379413366317749, 0.39832431077957153, -0.7795913219451904, -0.3131903111934662, -0.5307714939117432, -0.854943037033081, -0.6888384222984314, -1.703725814819336, -0.6347201466560364, 0.4788613021373749, 0.49650895595550537, 0.5650438666343689, -0.2146487534046173, 0.5854523181915283, -0.5350377559661865, -0.16420035064220428, -0.2495073527097702, 1.596851110458374, -1.3574590682983398, 0.7365765571594238, 0.39323893189430237, 0.3935858905315399, -0.20821534097194672, 0.33220115303993225, 1.33797025680542, 0.6953039765357971, 0.17282600700855255, -0.4330134391784668, 0.4344000220298767, 0.4268738925457001, -0.043832167983055115, -0.443873792886734, -0.23364129662513733, 0.4143172800540924, -0.22696402668952942, -0.8094663619995117, 0.44592738151550293, -0.9032796025276184, -0.46746474504470825, -0.12968699634075165, -0.7054709196090698, 0.39633533358573914, 0.18199750781059265, -0.6243165731430054, 0.1303732991218567, 0.3791627287864685, 0.4231266677379608, 0.02103446237742901, 0.987604022026062, -0.3647302985191345, 0.24256427586078644, -0.005751081742346287, -0.03058166243135929, 0.017572378739714622, 1.0763264894485474, 1.3389194011688232, 1.4455394744873047, 0.6372317671775818, -0.4808719754219055, -0.24956364929676056, 0.4302038550376892, 0.18476919829845428, 2.0660107135772705, 1.3966978788375854, -0.12019143998622894, -0.04980970919132233, -0.045475706458091736, -1.9205570220947266, -1.4299851655960083, -0.3567672669887543, -0.0018730174051597714, -0.18272395431995392, -1.8549296855926514, -1.7402909994125366, -1.2590339183807373, -1.6018311977386475, -1.4971458911895752, 0.0434146523475647, 0.22363515198230743, 0.42393577098846436, 0.21036122739315033, -3.105874538421631, 3.6561038494110107, -0.0, -116.56918334960938, -1.7670478820800781, -1.083706021308899, -0.7904480695724487, -0.9711795449256897, -1.8065705299377441, -1.4126497507095337, -1.7276618480682373, -1.8855319023132324, -0.9619030952453613, -0.9075323939323425, -1.2617802619934082, -0.7729811072349548, -0.3104398846626282, -0.15805140137672424, -0.10444781184196472, 0.04637337103486061, -1.8313912153244019, -1.9895917177200317, -1.5693914890289307, -1.0077518224716187, -2.4973855018615723, -0.8975093364715576, -0.5623966455459595, 0.18591606616973877, 0.7038000822067261, 0.6361629962921143, 0.9243661165237427, 0.4283079206943512, 0.730130672454834, 0.46836888790130615, -0.033005278557538986, 0.2705244719982147, 0.03183627501130104, -0.6775214672088623, 0.35535550117492676, -0.12285974621772766, -0.6657991409301758, -0.5576763153076172, -0.43049830198287964, 0.0472601093351841, -1.103455662727356, -0.23652777075767517, 0.08926796913146973, 0.688713550567627, 1.213653802871704, 1.4149409532546997, 0.37773460149765015, 0.459844172000885, 0.0395849384367466, 0.8462711572647095, -0.4884810745716095, -0.27489811182022095, -0.32656216621398926, 0.6621814966201782, 0.14397987723350525, -0.41323545575141907, 0.2685466408729553, 0.13321584463119507, 0.5325043201446533, 0.8830961585044861, -0.42066091299057007, 0.8551183938980103, 0.7033870220184326, -0.8493561148643494, 0.22613966464996338, 0.5989679098129272, -0.6242679953575134, 0.2982493042945862, 0.05288303270936012, -0.6410384774208069, -0.5059751272201538, 0.5224521160125732, -1.660201072692871, -0.2927650213241577, -0.3450503349304199, 0.17987695336341858, 1.167193055152893, 0.5225117206573486, 0.5515250563621521, 1.6058638095855713, 0.422797828912735, 0.3494570255279541, 0.7611088752746582, 0.6239179372787476, 0.20206937193870544, 0.32512837648391724, -0.09143325686454773, 0.04911235347390175, 0.45669299364089966, 0.447226881980896, 0.3023856580257416, 0.2733391523361206, -1.1494208574295044, -0.3056113123893738, -1.0696746110916138, -0.1279538869857788, -1.5360642671585083, 0.003731373231858015, -0.3965386748313904, -0.3133559823036194, -0.7294775247573853, -2.6702663898468018, -2.1754519939422607, -2.014249801635742, -1.1003562211990356, -0.6271407008171082, -0.11123478412628174, -1.9603278636932373, -0.7260100841522217, 0.40699028968811035, -0.45652514696121216, -0.22569453716278076, -0.4538850784301758, -0.4902484714984894, -0.2489449679851532, -0.10433262586593628, -3.770285129547119, 2.947112560272217, 0.0, -66.96563720703125, -0.9554968476295471, -0.6716281771659851, -0.1184738278388977, -0.15172839164733887, -0.08077526092529297, -0.12106752395629883, -0.8038537502288818, -0.379319965839386, -0.21713197231292725, -0.3200417459011078, -0.18365174531936646, -0.1919686496257782, 0.7893146276473999, 1.6085244417190552, 0.548462986946106, 1.1541579961776733, -0.3766813278198242, -0.38214701414108276, -0.7059841752052307, 0.5662869215011597, -1.2026485204696655, -0.6604381203651428, -0.2999386489391327, 0.8896148204803467, 1.9179013967514038, 1.2093276977539062, 1.5363503694534302, 0.7238778471946716, 1.2509877681732178, 1.2562410831451416, 1.314666748046875, 1.2293729782104492, 1.3627132177352905, 0.17524021863937378, 0.6760217547416687, 0.9332793354988098, -0.0631137490272522, 0.13974827527999878, -0.015113352797925472, 0.026298046112060547, -1.4315745830535889, -0.6041979789733887, -0.4275403618812561, 1.0836533308029175, 1.2368673086166382, 1.2499802112579346, 0.9786283373832703, 0.10432398319244385, 0.6598663926124573, 0.6349022388458252, 0.1940118670463562, 0.30477631092071533, 0.6403864026069641, 0.8521240949630737, 0.5388102531433105, 0.940120279788971, 1.0485092401504517, 0.894717276096344, 1.453291893005371, 1.902396321296692, 0.7228953242301941, 0.3270440101623535, 0.812102735042572, -0.4995989203453064, 1.1347804069519043, 1.2473928928375244, -0.11019319295883179, 0.3741268515586853, 0.7387018799781799, -0.14590996503829956, 0.7345903515815735, 1.122003197669983, -0.4985010623931885, 0.4028460383415222, 0.33963093161582947, 0.4240678548812866, 0.9491170048713684, 1.441489577293396, 0.41501888632774353, 1.460610032081604, 0.8157007694244385, 0.848304271697998, 0.9095985293388367, 1.6160727739334106, 1.289783239364624, 1.090810775756836, 1.1107792854309082, 1.428733468055725, 1.6998921632766724, 2.089982748031616, 1.464491367340088, 2.1246659755706787, -0.12372922897338867, -0.37878096103668213, -0.8111963868141174, 0.36307334899902344, -0.8735266327857971, 1.016629934310913, 0.8163123726844788, 1.0011767148971558, 0.48871374130249023, -0.6216809749603271, -0.49997642636299133, -0.5744075775146484, 0.5208359360694885, 0.6209976077079773, 0.8427417874336243, -1.4565192461013794, -0.21324607729911804, 0.44462063908576965, 0.5411232113838196, -0.4493843913078308, 0.5198801159858704, -0.47676217555999756, -0.21058738231658936, -0.014768599532544613, -3.280626058578491, 3.453326940536499, 0.0, -29.99566078186035, -0.17383764684200287, 0.4100157916545868, 0.6007363796234131, 0.4999788701534271, 0.6254174113273621, -0.1804576963186264, -0.5955859422683716, -0.48314136266708374, 0.5918594002723694, 0.09205935895442963, 0.4623800814151764, 0.28524890542030334, 0.3861440122127533, 0.9413503408432007, 0.23718218505382538, 1.127533197402954, 0.9279447793960571, -0.2813654839992523, -0.4691873788833618, 0.858322262763977, -1.432664394378662, -0.09213724732398987, 0.2565031349658966, 1.1021168231964111, 1.9609172344207764, 1.0748957395553589, 1.207815170288086, 1.331950068473816, 1.3380448818206787, 1.2381731271743774, 0.8384095430374146, 1.2779910564422607, 2.336667537689209, 0.04558335244655609, 0.9975133538246155, 0.7207944989204407, 0.18574009835720062, 0.7334634065628052, 0.7306922674179077, 0.8963057398796082, -0.43668290972709656, -0.26074251532554626, 0.31283441185951233, 1.5857335329055786, 1.999603509902954, 1.717283010482788, 1.4926990270614624, 1.0276572704315186, 1.463280439376831, 1.2414757013320923, 0.5529479384422302, 0.9270998239517212, 1.238728642463684, 1.2011052370071411, 1.4647793769836426, 1.5501545667648315, 1.3863924741744995, 0.6993458271026611, 1.8913140296936035, 1.8817880153656006, 1.0515663623809814, 1.0987286567687988, 0.7769676446914673, 0.34668222069740295, 1.261661171913147, 0.992583692073822, 0.03279350697994232, 0.7498550415039062, 1.3968377113342285, 0.19152332842350006, 0.9498826265335083, 0.5739607810974121, -0.8924915790557861, 0.19262506067752838, 0.5055513978004456, 0.5898916721343994, 1.6608290672302246, 1.9932055473327637, 0.9885475635528564, 1.5579102039337158, 1.746671199798584, 1.4569928646087646, 1.3290497064590454, 1.8936989307403564, 1.0950217247009277, 1.5226155519485474, 2.278768301010132, 1.8232678174972534, 1.5314666032791138, 1.749100685119629, 1.2339510917663574, 1.5903959274291992, 0.31606677174568176, -0.6912219524383545, -0.24341152608394623, 1.0220797061920166, 0.14580132067203522, 2.96856951713562, 1.6715476512908936, 1.877049207687378, 2.004160165786743, 0.5479607582092285, -0.2202424257993698, -0.215098574757576, 1.0259895324707031, 0.5884341597557068, 1.1942059993743896, 0.04091598093509674, 0.1042020171880722, 0.3470599055290222, 1.2122752666473389, 0.06318534910678864, 0.10407723486423492, 0.5437691807746887, -0.05607549846172333, -0.09263060986995697, -2.4021151065826416, 4.516995906829834, 0.0, -28.33121109008789, -0.5985292792320251, 0.21581484377384186, 0.5756866335868835, 0.32544663548469543, -0.1507304161787033, 0.09246094524860382, -0.5092631578445435, -0.587302029132843, 0.4644683599472046, 0.005379036068916321, 0.42891621589660645, 0.17255695164203644, -0.02703462541103363, 1.1572906970977783, -0.6038938164710999, 1.3221796751022339, 0.38428324460983276, 0.2964184880256653, -0.1723286360502243, 0.8847735524177551, -1.8240962028503418, -1.487960696220398, 0.5641707181930542, 0.8352779746055603, 1.6098198890686035, 0.2320961356163025, 0.6560232639312744, 0.2883107662200928, 1.4938777685165405, 1.3993905782699585, 1.1829172372817993, 0.7175754904747009, 2.0806281566619873, 0.20023901760578156, 1.3497451543807983, 1.4578710794448853, 0.22517289221286774, 0.18678607046604156, 0.7760480046272278, 0.8369680047035217, -0.29295435547828674, -0.22930316627025604, -0.11158402264118195, 0.9748362898826599, 1.4522716999053955, 1.7551021575927734, 1.2509613037109375, 1.1523834466934204, 1.328274130821228, 1.1052325963974, 0.3566683232784271, 1.235754132270813, 1.3726285696029663, 1.4117794036865234, 1.522517442703247, 1.788561224937439, 1.7765793800354004, 1.2555947303771973, 2.076035737991333, 1.8682899475097656, 1.0345253944396973, 1.0635820627212524, 1.3738538026809692, -0.3709457516670227, 0.509005069732666, 1.2050598859786987, 0.13270367681980133, 1.4400315284729004, 1.4406406879425049, -0.19348609447479248, 1.5437352657318115, 1.6368046998977661, -0.6945712566375732, 0.5060357451438904, -0.43027257919311523, 0.5838935971260071, 1.7408486604690552, 1.7961506843566895, 0.8129804134368896, 1.3399934768676758, 0.9549410939216614, 1.226753830909729, 1.1830319166183472, 1.8188138008117676, 1.1329964399337769, 1.2398804426193237, 1.297055959701538, 1.4259306192398071, 2.0704185962677, 2.4035255908966064, 1.7909138202667236, 1.147400975227356, -0.24697230756282806, -0.3385394811630249, -0.3248577117919922, -0.21889017522335052, -0.4692431688308716, 1.7578328847885132, 0.626453697681427, 1.0449166297912598, 0.594757616519928, -0.1834966391324997, -0.07838617265224457, -0.00013916200259700418, 1.119763970375061, 0.18089039623737335, 0.16170106828212738, 0.6343299150466919, -0.11887730658054352, 0.30655139684677124, 1.2148654460906982, -0.6930394172668457, 0.5086460113525391, 0.379790723323822, -0.5293009877204895, -0.41940122842788696, -1.7033205032348633, 4.637649059295654, 0.0, 6.922291278839111, 0.5002633929252625, 0.9155674576759338, 0.6388939619064331, 1.2357518672943115, 0.7707293629646301, 0.32774004340171814, -0.004169484134763479, -0.17729908227920532, 0.5844349265098572, 1.4099462032318115, 1.060962438583374, 1.274622917175293, 0.4352585971355438, 2.173354387283325, 0.5337010025978088, 1.6256715059280396, 0.5532026886940002, 0.5796779990196228, 0.032449644058942795, 1.318536400794983, -0.6224532723426819, -0.3980925679206848, 2.138806104660034, 1.0596060752868652, 1.6590319871902466, 0.27378159761428833, 0.42279383540153503, 1.0303796529769897, 1.3042651414871216, 2.1217143535614014, 0.8530751466751099, 0.8614574670791626, 2.7155308723449707, 0.183502659201622, 2.5917012691497803, 2.619908094406128, 1.4311376810073853, 1.5556358098983765, 0.9926316738128662, 1.211250901222229, -0.1325712949037552, 0.6957741975784302, 0.6230454444885254, 2.132577657699585, 3.783790349960327, 3.8803927898406982, 1.7419867515563965, 1.1027724742889404, 1.0026016235351562, 2.0440423488616943, 1.5819133520126343, 1.335340142250061, 1.044832706451416, 2.8174965381622314, 2.508859157562256, 2.1346113681793213, 2.4817705154418945, 1.3301453590393066, 1.4839646816253662, 2.683915615081787, 1.9631109237670898, 1.3325821161270142, 2.6671621799468994, 0.21031175553798676, -0.12235801666975021, 2.445220470428467, 1.21961510181427, 1.8996509313583374, 1.4972176551818848, 0.03235427662730217, 2.851118564605713, 2.7000274658203125, 0.4452213943004608, 1.9084484577178955, 0.2453397959470749, 2.2203917503356934, 2.4147167205810547, 1.6445140838623047, 1.8355903625488281, 1.0647575855255127, 1.8571827411651611, 2.151854991912842, 1.1318079233169556, 2.256462335586548, 1.3941630125045776, 0.9455100297927856, 1.0582813024520874, 1.7989157438278198, 2.6619491577148438, 3.196715831756592, 2.3150954246520996, 2.3634634017944336, 0.3317892253398895, -0.018271466717123985, -0.23224176466464996, 2.1037752628326416, 1.5415445566177368, 3.274486541748047, 2.374671459197998, 2.1777114868164062, 1.6817442178726196, -0.213160440325737, 0.06435374170541763, -0.3578958809375763, 1.7400250434875488, 0.8690516948699951, 0.23799125850200653, 0.6910752058029175, 0.7337743639945984, 0.9047549366950989, 3.107804298400879, 0.500198483467102, 2.2470741271972656, 1.1895438432693481, -0.044386882334947586, 0.6397356986999512, -0.6131517291069031, 6.059687614440918, -0.0, 1.4817531108856201, 0.559282660484314, 2.57008957862854, 0.8876700401306152, 2.6686646938323975, 1.5688339471817017, 0.8012709021568298, 0.3484492897987366, 1.391615867614746, 2.4224791526794434, 2.4081456661224365, 2.096608877182007, 2.601954698562622, 2.713625907897949, 3.5496819019317627, 2.5511205196380615, 3.689706802368164, 1.825453519821167, 1.1423144340515137, 0.8528804779052734, 3.9965474605560303, 0.5662542581558228, 1.0075182914733887, 3.4934098720550537, 3.730502128601074, 4.11863899230957, 2.154304265975952, 2.500145196914673, 3.257009744644165, 3.9147703647613525, 4.95503044128418, 3.104956865310669, 2.7968413829803467, 3.66433048248291, 2.42915415763855, 4.721682071685791, 4.31365966796875, 3.850482225418091, 3.908613920211792, 2.9697537422180176, 2.6322197914123535, 1.0628745555877686, 1.0134563446044922, 2.0611908435821533, 3.346834659576416, 5.537654399871826, 5.412864685058594, 3.8435182571411133, 2.7437779903411865, 2.190810441970825, 4.677359580993652, 3.682271718978882, 2.9097983837127686, 2.37583589553833, 4.7890119552612305, 4.912683010101318, 4.103781223297119, 5.089519023895264, 3.0567800998687744, 2.8585283756256104, 4.702833652496338, 3.7007391452789307, 3.566472291946411, 4.927343845367432, 1.3917707204818726, 1.0712347030639648, 3.326014518737793, 2.090348958969116, 2.929819345474243, 2.6732780933380127, 1.0124248266220093, 4.80790376663208, 3.8766322135925293, 1.3738675117492676, 2.5255963802337646, 1.665095329284668, 4.415116786956787, 4.676050662994385, 3.431725263595581, 3.9617254734039307, 3.0401580333709717, 4.596399307250977, 4.2802839279174805, 2.831770658493042, 4.577884674072266, 3.022834539413452, 2.683074474334717, 1.9586645364761353, 3.34891939163208, 4.780182361602783, 4.12199592590332, 3.2194840908050537, 3.798295021057129, 1.328999400138855, 0.33408570289611816, 0.3355671167373657, 2.7258455753326416, 2.5974857807159424, 4.471872806549072, 4.27694845199585, 4.525442600250244, 3.0670716762542725, 0.596028208732605, 1.2160247564315796, 0.2664307951927185, 6.070696830749512, 3.2449710369110107, 2.616023540496826, 1.2651196718215942, 1.3535212278366089, 2.815455436706543, 6.121711254119873, 1.2721047401428223, 2.611518621444702, 2.828716516494751, 0.2237538844347, 0.8745537400245667, 0.002357852179557085, 7.151179790496826, -0.0], \"minValue\": -5, \"maxValue\": 5}\n",
       "    )\n",
       "    </script>"
      ],
      "text/plain": [
       "<circuitsvis.utils.render.RenderedHTML at 0x7fdbb0100a60>"
      ]
     },
     "execution_count": 37,
     "metadata": {},
     "output_type": "execute_result"
    }
   ],
   "source": [
    "plot_colors(prompt_id=6)"
   ]
  },
  {
   "attachments": {},
   "cell_type": "markdown",
   "metadata": {},
   "source": [
    "It's interesting that these almost look like attention patterns! For our experiments on IMDB, the blue tokens are often ones that carry some sort of positive connotation\n",
    "and the red ones often carry some kind of negative connotation.\n",
    "The probe for BoolQ seems to favour statistics and proper nouns.\n",
    "It's also interesting that the logits across the board seem to get farther and farther from the CCS hyperplane\n",
    "as we go into the later layers of the network.\n",
    "We're not yet quite sure what's causing this behaviour.\n",
    "In future experiments we'll try and see if there's any similarities with the actual attention patterns."
   ]
  },
  {
   "cell_type": "markdown",
   "metadata": {},
   "source": []
  }
 ],
 "metadata": {
  "kernelspec": {
   "display_name": "base",
   "language": "python",
   "name": "python3"
  },
  "language_info": {
   "codemirror_mode": {
    "name": "ipython",
    "version": 3
   },
   "file_extension": ".py",
   "mimetype": "text/x-python",
   "name": "python",
   "nbconvert_exporter": "python",
   "pygments_lexer": "ipython3",
   "version": "3.10.10"
  },
  "orig_nbformat": 4
 },
 "nbformat": 4,
 "nbformat_minor": 2
}
