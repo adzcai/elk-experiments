{
 "cells": [
  {
   "attachments": {},
   "cell_type": "markdown",
   "metadata": {},
   "source": [
    "# Eliciting latent knowledge - experiments\n",
    "\n",
    "Alexander Cai, Gabriel Wu, Max Nadeau\n",
    "\n",
    "Some experiments initially performed for [CS 229br Foundations of Deep Learning](https://boazbk.github.io/mltheoryseminar/) as taught in Spring 2023 at Harvard University by Boaz Barak.\n",
    "\n",
    "This is a work-in-progress research draft to explore some properties of the \"Contrast-Consistent Search\" algorithm (and later algorithms)\n",
    "for identifying a language model's internal representation of truth. This would be helpful in identifying model misbehaviours\n",
    "or \"eliciting latent knowledge\" from intelligent models.\n",
    "\n",
    "Our research questions:\n",
    "\n",
    "- Does the \"direction\" discovered by CCS carry any semantic meaning outside its original setting (i.e. the residual stream on the final \"positive\" / \"negative\" token)?\n",
    "\n",
    "See [adzcai/llama-ccs](https://github.com/adzcai/llama-ccs) for some preliminary experiments on the Meta LLaMA models.\n",
    "\n",
    "Currently the [EleutherAI/elk](https://github.com/EleutherAI/elk) package must be installed in editable mode to download the associated prompt templates. Also note that it requires Python 3.10 which is not supported on Google Colab.\n",
    "\n",
    "To do this, make sure you have the desired environment enabled, navigate to a convenient repository, and run the following."
   ]
  },
  {
   "cell_type": "code",
   "execution_count": null,
   "metadata": {},
   "outputs": [],
   "source": [
    "# ! git clone https://github.com/EleutherAI/elk.git\n",
    "# ! cd elk && pip install -qe ."
   ]
  },
  {
   "cell_type": "code",
   "execution_count": null,
   "metadata": {},
   "outputs": [],
   "source": [
    "# install the remaining requirements\n",
    "\n",
    "# ! pip install -q \\\n",
    "#     circuitsvis \\\n",
    "#     plotly \\\n",
    "#     git+https://github.com/neelnanda-io/TransformerLens.git"
   ]
  },
  {
   "cell_type": "markdown",
   "metadata": {},
   "source": [
    "## Resources\n",
    "\n",
    "[EleutherAI/elk](https://github.com/EleutherAI/elk): Contains many further innovations on top of CCS. Very convenient tool for interacting with HF models and datasets.\n",
    "\n",
    "[Discovering Latent Knowledge in Language Models Without Supervision](https://arxiv.org/abs/2212.03827): The original paper by Collin Burns and Haotian Ye et al that proposes \"Contrast-Consistent Search\" (CCS).\n",
    "- [collin-burns/discovering_latent_knowledge](https://github.com/collin-burns/discovering_latent_knowledge): The corresponding repository.\n",
    "  - This is claimed to be quite buggy. See [Bugs of the Initial Release of CCS](https://docs.google.com/document/d/16Q8ZJFloA-x2lR65hs80rbbjX70TteCSMhuDQGcC75Q/edit?usp=sharing) by Fabien Roger.\n",
    "- [How \"Discovering Latent Knowledge in Language Models Without Supervision\" Fits Into a Broader Alignment Scheme](https://www.lesswrong.com/posts/L4anhrxjv8j2yRKKp/how-discovering-latent-knowledge-in-language-models-without)\n",
    "\n",
    "[What Discovering Latent Knowledge Did and Did Not Find](https://www.lesswrong.com/posts/bWxNPMy5MhPnQTzKz/what-discovering-latent-knowledge-did-and-did-not-find-4): A writeup by Fabien Roger on takeaways from the original paper.\n",
    "\n",
    "- [safer-ai/Exhaustive-CCS](https://github.com/safer-ai/Exhaustive-CCS): The corresponding repository. Similar to Collin Burns's but with fewer bugs.\n",
    "- [Several experiments with CCS.](https://docs.google.com/document/d/1LCjjnUPN51gHl_rmCWEmmtbY-Wu1dixzOif14e-7i-U/edit)"
   ]
  },
  {
   "cell_type": "markdown",
   "metadata": {},
   "source": [
    "## Getting started"
   ]
  },
  {
   "cell_type": "code",
   "execution_count": 1,
   "metadata": {},
   "outputs": [],
   "source": [
    "import os\n",
    "from pathlib import Path\n",
    "\n",
    "cwd = Path(os.getcwd())\n",
    "data_path = cwd / \"data\"\n",
    "reporters_path = cwd / \"reporters\""
   ]
  },
  {
   "cell_type": "code",
   "execution_count": 2,
   "metadata": {},
   "outputs": [],
   "source": [
    "use_data_dir = True\n",
    "\"\"\"Optionally store data in this folder instead of the default.\"\"\"\n",
    "\n",
    "if use_data_dir:\n",
    "    data_path.mkdir(parents=True, exist_ok=True)\n",
    "    os.environ[\"HF_HOME\"] = data_path.as_posix()"
   ]
  },
  {
   "cell_type": "code",
   "execution_count": 8,
   "metadata": {},
   "outputs": [],
   "source": [
    "datasets = [\"super_glue boolq\", \"imdb\"]"
   ]
  },
  {
   "cell_type": "markdown",
   "metadata": {},
   "source": [
    "Here we elicit latent knowledge from the [Pythia](https://github.com/EleutherAI/pythia) model family from EleutherAI.\n",
    "We used the _non-deduplicated_ version of the models as of 17 April 2023. We use the 1B and 1.4B parameter models.\n",
    "\n",
    "This model are notable in that every model in the family is trained on the same data in the same order.\n",
    "A [paper](https://arxiv.org/pdf/2304.01373.pdf) with detailed information about these models is also available.\n",
    "\n",
    "Additionally, these models are also available for use with [TransformerLens](https://github.com/neelnanda-io/TransformerLens/blob/main/transformer_lens/model_properties_table.md).\n",
    "\n",
    "We use the [SuperGLUE (BoolQ)](https://huggingface.co/datasets/super_glue/viewer/boolq/test) dataset for a QA task and the [IMDB](https://huggingface.co/datasets/imdb) dataset for sentiment analysis.\n",
    "\n",
    "We chose these datasets for preliminary analysis since they're simple archetypes for their respective tasks."
   ]
  },
  {
   "cell_type": "code",
   "execution_count": null,
   "metadata": {},
   "outputs": [],
   "source": [
    "# ! elk elicit EleutherAI/pythia-1b 'super_glue boolq' --net ccs --out_dir 'reporters/ccs/pythia-1b/super_glue boolq'\n",
    "\n",
    "# ! elk elicit EleutherAI/pythia-1b 'super_glue boolq' --net eigen --out_dir 'reporters/eigen/pythia-1b/super_glue boolq'\n",
    "\n",
    "# ! elk elicit EleutherAI/pythia-1b imdb --net ccs --out_dir reporters/ccs/pythia-1b/imdb\n",
    "\n",
    "# ! elk elicit EleutherAI/pythia-1b imdb --net eigen --out_dir reporters/eigen/pythia-1b/imdb\n",
    "\n",
    "# ! elk elicit EleutherAI/pythia-1.4b 'super_glue boolq' --net ccs --out_dir reporters/ccs/pythia-1.4b/'super_glue boolq'\n",
    "\n",
    "# ! elk elicit EleutherAI/pythia-1.4b 'super_glue boolq' --net eigen --out_dir reporters/eigen/pythia-1.4b/'super_glue boolq'\n",
    "\n",
    "# ! elk elicit EleutherAI/pythia-1.4b imdb --net ccs --out_dir reporters/ccs/pythia-1.4b/imdb\n",
    "\n",
    "# ! elk elicit EleutherAI/pythia-1.4b imdb --net eigen --out_dir reporters/eigen/pythia-1.4b/imdb"
   ]
  },
  {
   "attachments": {},
   "cell_type": "markdown",
   "metadata": {},
   "source": [
    "## Load the learned directions"
   ]
  },
  {
   "cell_type": "code",
   "execution_count": 3,
   "metadata": {},
   "outputs": [
    {
     "name": "stderr",
     "output_type": "stream",
     "text": [
      "/opt/conda/envs/ccs/lib/python3.10/site-packages/tqdm/auto.py:21: TqdmWarning: IProgress not found. Please update jupyter and ipywidgets. See https://ipywidgets.readthedocs.io/en/stable/user_install.html\n",
      "  from .autonotebook import tqdm as notebook_tqdm\n"
     ]
    },
    {
     "data": {
      "text/plain": [
       "1"
      ]
     },
     "execution_count": 3,
     "metadata": {},
     "output_type": "execute_result"
    }
   ],
   "source": [
    "import torch\n",
    "\n",
    "# disable gradients since we're not doing any training here\n",
    "torch.set_grad_enabled(False)\n",
    "device = \"cuda\" if torch.cuda.is_available() else \"cpu\"\n",
    "torch.cuda.device_count()"
   ]
  },
  {
   "cell_type": "code",
   "execution_count": 4,
   "metadata": {},
   "outputs": [
    {
     "data": {
      "text/plain": [
       "[PosixPath('/data/projects/ccs/elk-experiments/reporters/ccs/pythia-1b/imdb/lr_models'),\n",
       " PosixPath('/data/projects/ccs/elk-experiments/reporters/ccs/pythia-1b/imdb/reporters'),\n",
       " PosixPath('/data/projects/ccs/elk-experiments/reporters/ccs/pythia-1b/imdb/cfg.yaml'),\n",
       " PosixPath('/data/projects/ccs/elk-experiments/reporters/ccs/pythia-1b/imdb/eval.csv'),\n",
       " PosixPath('/data/projects/ccs/elk-experiments/reporters/ccs/pythia-1b/imdb/fingerprints.yaml')]"
      ]
     },
     "execution_count": 4,
     "metadata": {},
     "output_type": "execute_result"
    }
   ],
   "source": [
    "ccs_path = reporters_path / \"ccs/pythia-1b/imdb\"\n",
    "list(ccs_path.iterdir())"
   ]
  },
  {
   "cell_type": "code",
   "execution_count": 5,
   "metadata": {},
   "outputs": [],
   "source": [
    "reporters = [\n",
    "    torch.load(reporter, map_location=device)\n",
    "    for reporter in (ccs_path / \"reporters\").iterdir()\n",
    "]"
   ]
  },
  {
   "cell_type": "markdown",
   "metadata": {},
   "source": [
    "## Load the model\n",
    "\n",
    "We use the [TransformerLens](https://github.com/neelnanda-io/TransformerLens) library to interact with model internals.\n",
    "\n",
    "The reference documentation can be found [here](https://neelnanda-io.github.io/TransformerLens/transformer_lens.html).\n",
    "\n",
    "The [main tutorial](https://neelnanda.io/transformer-lens-demo) was very helpful in getting started with the library."
   ]
  },
  {
   "cell_type": "code",
   "execution_count": 6,
   "metadata": {},
   "outputs": [
    {
     "name": "stderr",
     "output_type": "stream",
     "text": [
      "Using pad_token, but it is not set yet.\n"
     ]
    },
    {
     "name": "stdout",
     "output_type": "stream",
     "text": [
      "Loaded pretrained model EleutherAI/pythia-1b into HookedTransformer\n",
      "Moving model to device:  cuda\n"
     ]
    }
   ],
   "source": [
    "from transformer_lens import HookedTransformer\n",
    "\n",
    "model = HookedTransformer.from_pretrained(\"EleutherAI/pythia-1b\").cuda()"
   ]
  },
  {
   "cell_type": "code",
   "execution_count": 7,
   "metadata": {},
   "outputs": [
    {
     "data": {
      "text/plain": [
       "(16, True)"
      ]
     },
     "execution_count": 7,
     "metadata": {},
     "output_type": "execute_result"
    }
   ],
   "source": [
    "n_layers = model.cfg.n_layers\n",
    "n_layers, len(reporters) == n_layers"
   ]
  },
  {
   "attachments": {},
   "cell_type": "markdown",
   "metadata": {},
   "source": [
    "## Load prompts\n",
    "\n",
    "In the original DLK paper, the authors found that out of the models they tested,\n",
    "the single decoder-only model (GPT-J-6B) performed the worst (measured in terms of accuracy across datasets).\n",
    "\n",
    "Later on, researchers at EleutherAI found that this could be resolved by prompting the model using different prompt templates.\n",
    "Their method leverages that the truth of the given statement should be the same regardless of the prompt template chosen."
   ]
  },
  {
   "cell_type": "code",
   "execution_count": 9,
   "metadata": {},
   "outputs": [
    {
     "name": "stderr",
     "output_type": "stream",
     "text": [
      "Found cached dataset super_glue (/data/projects/ccs/elk-experiments/data/datasets/super_glue/boolq/1.0.3/bb9675f958ebfee0d5d6dc5476fafe38c79123727a7258d515c450873dbdbbed)\n",
      "100%|██████████| 3/3 [00:00<00:00, 1002.14it/s]\n",
      "Loading cached shuffled indices for dataset at /data/projects/ccs/elk-experiments/data/datasets/super_glue/boolq/1.0.3/bb9675f958ebfee0d5d6dc5476fafe38c79123727a7258d515c450873dbdbbed/cache-0bfd301019086411.arrow\n",
      "Loading cached shuffled indices for dataset at /data/projects/ccs/elk-experiments/data/datasets/super_glue/boolq/1.0.3/bb9675f958ebfee0d5d6dc5476fafe38c79123727a7258d515c450873dbdbbed/cache-1ad2eed97462bf18.arrow\n"
     ]
    },
    {
     "name": "stdout",
     "output_type": "stream",
     "text": [
      "Using 10 variants of each prompt\n"
     ]
    },
    {
     "name": "stderr",
     "output_type": "stream",
     "text": [
      "Found cached dataset imdb (/data/projects/ccs/elk-experiments/data/datasets/imdb/plain_text/1.0.0/d613c88cf8fa3bab83b4ded3713f1f74830d1100e171db75bbddb80b3345c9c0)\n",
      "100%|██████████| 3/3 [00:00<00:00, 869.47it/s]\n",
      "Loading cached shuffled indices for dataset at /data/projects/ccs/elk-experiments/data/datasets/imdb/plain_text/1.0.0/d613c88cf8fa3bab83b4ded3713f1f74830d1100e171db75bbddb80b3345c9c0/cache-c1eaa46e94dfbfd3.arrow\n",
      "Loading cached shuffled indices for dataset at /data/projects/ccs/elk-experiments/data/datasets/imdb/plain_text/1.0.0/d613c88cf8fa3bab83b4ded3713f1f74830d1100e171db75bbddb80b3345c9c0/cache-9c48ce5d173413c7.arrow\n"
     ]
    },
    {
     "name": "stdout",
     "output_type": "stream",
     "text": [
      "Using 13 variants of each prompt\n"
     ]
    }
   ],
   "source": [
    "from elk.extraction.prompt_loading import load_prompts\n",
    "import itertools\n",
    "import pandas as pd\n",
    "\n",
    "n_prompts = 12\n",
    "batch_range = torch.arange(n_prompts)\n",
    "\n",
    "prompt_datasets = dict()\n",
    "for dataset in datasets:\n",
    "    prompt_dataset = load_prompts(dataset, split_type=\"val\")\n",
    "    prompt_dataset = list(itertools.islice(prompt_dataset, n_prompts))\n",
    "    prompt_datasets[dataset] = prompt_dataset\n",
    "    del prompt_dataset"
   ]
  },
  {
   "cell_type": "markdown",
   "metadata": {},
   "source": [
    "The loaded prompts (each element of the `prompt_dataset` have the following structure:\n",
    "\n",
    "```\n",
    "{\n",
    "    \"label\": 0 if correct answer is \"negative\", 1 if correct answer is \"positive\"\n",
    "    \"prompts\": [\n",
    "        [\n",
    "            {\n",
    "                \"answer\": \"negative\" or \"bad\" or ...\n",
    "                \"text\": formatted prompt with the \"negative\" answer\n",
    "            },\n",
    "            {\n",
    "                \"answer\": \"positive\" or \"good\" or ...\n",
    "                \"text\": formatted prompt with the \"positive\" answer\n",
    "            }\n",
    "        ],\n",
    "        ...\n",
    "    ],\n",
    "    \"template_names\": [\n",
    "        template name for prompt 0,\n",
    "        ...\n",
    "    ]\n",
    "}\n",
    "```\n",
    "\n",
    "Note that prompts vary along two binary axes:\n",
    "\n",
    "1. Whether the statement ends in the \"positive\" answer or the \"negative\" answer;\n",
    "2. Whether the statement is factually correct or incorrect.\n",
    "\n",
    "It's important to distinguish these two axes; The goal of CCS is to uncover the latter."
   ]
  },
  {
   "cell_type": "code",
   "execution_count": 12,
   "metadata": {},
   "outputs": [],
   "source": [
    "dfs = dict()\n",
    "\n",
    "for dataset, prompt_dataset in prompt_datasets.items():\n",
    "    records = []\n",
    "\n",
    "    for j, prompts in enumerate(prompt_dataset):\n",
    "        for i, ((negative, positive), template_name) in enumerate(\n",
    "            zip(prompts[\"prompts\"], prompts[\"template_names\"])\n",
    "        ):\n",
    "            records.append(\n",
    "                dict(\n",
    "                    negative_prompt=negative[\"text\"],\n",
    "                    positive_prompt=positive[\"text\"],\n",
    "                    negative_answer=negative[\"answer\"],\n",
    "                    positive_answer=positive[\"answer\"],\n",
    "                    label=prompts[\"label\"],\n",
    "                    incorrect_answer=negative[\"answer\"]\n",
    "                    if prompts[\"label\"]\n",
    "                    else positive[\"answer\"],\n",
    "                    correct_answer=positive[\"answer\"]\n",
    "                    if prompts[\"label\"]\n",
    "                    else negative[\"answer\"],\n",
    "                    template_name=template_name,\n",
    "                    template_id=i,\n",
    "                    prompt_id=j,\n",
    "                )\n",
    "            )\n",
    "\n",
    "    # set a multi-index using the prompt_id and template_id\n",
    "    dfs[dataset] = pd.DataFrame(records).set_index([\"prompt_id\", \"template_id\"])\n",
    "    del dataset, records, prompt_dataset, prompts, negative, positive, template_name"
   ]
  },
  {
   "cell_type": "code",
   "execution_count": 13,
   "metadata": {},
   "outputs": [
    {
     "data": {
      "text/html": [
       "<div>\n",
       "<style scoped>\n",
       "    .dataframe tbody tr th:only-of-type {\n",
       "        vertical-align: middle;\n",
       "    }\n",
       "\n",
       "    .dataframe tbody tr th {\n",
       "        vertical-align: top;\n",
       "    }\n",
       "\n",
       "    .dataframe thead th {\n",
       "        text-align: right;\n",
       "    }\n",
       "</style>\n",
       "<table border=\"1\" class=\"dataframe\">\n",
       "  <thead>\n",
       "    <tr style=\"text-align: right;\">\n",
       "      <th></th>\n",
       "      <th></th>\n",
       "      <th>negative_prompt</th>\n",
       "      <th>positive_prompt</th>\n",
       "      <th>negative_answer</th>\n",
       "      <th>positive_answer</th>\n",
       "      <th>label</th>\n",
       "      <th>incorrect_answer</th>\n",
       "      <th>correct_answer</th>\n",
       "      <th>template_name</th>\n",
       "    </tr>\n",
       "    <tr>\n",
       "      <th>prompt_id</th>\n",
       "      <th>template_id</th>\n",
       "      <th></th>\n",
       "      <th></th>\n",
       "      <th></th>\n",
       "      <th></th>\n",
       "      <th></th>\n",
       "      <th></th>\n",
       "      <th></th>\n",
       "      <th></th>\n",
       "    </tr>\n",
       "  </thead>\n",
       "  <tbody>\n",
       "    <tr>\n",
       "      <th rowspan=\"5\" valign=\"top\">0</th>\n",
       "      <th>0</th>\n",
       "      <td>Passage: The Ranch (TV series) -- The Ranch is...</td>\n",
       "      <td>Passage: The Ranch (TV series) -- The Ranch is...</td>\n",
       "      <td>False</td>\n",
       "      <td>True</td>\n",
       "      <td>0</td>\n",
       "      <td>True</td>\n",
       "      <td>False</td>\n",
       "      <td>after_reading</td>\n",
       "    </tr>\n",
       "    <tr>\n",
       "      <th>1</th>\n",
       "      <td>The Ranch (TV series) -- The Ranch is an Ameri...</td>\n",
       "      <td>The Ranch (TV series) -- The Ranch is an Ameri...</td>\n",
       "      <td>No</td>\n",
       "      <td>Yes</td>\n",
       "      <td>0</td>\n",
       "      <td>Yes</td>\n",
       "      <td>No</td>\n",
       "      <td>GPT-3 Style</td>\n",
       "    </tr>\n",
       "    <tr>\n",
       "      <th>2</th>\n",
       "      <td>The Ranch (TV series) -- The Ranch is an Ameri...</td>\n",
       "      <td>The Ranch (TV series) -- The Ranch is an Ameri...</td>\n",
       "      <td>No</td>\n",
       "      <td>Yes</td>\n",
       "      <td>0</td>\n",
       "      <td>Yes</td>\n",
       "      <td>No</td>\n",
       "      <td>I wonder…</td>\n",
       "    </tr>\n",
       "    <tr>\n",
       "      <th>3</th>\n",
       "      <td>Text: The Ranch (TV series) -- The Ranch is an...</td>\n",
       "      <td>Text: The Ranch (TV series) -- The Ranch is an...</td>\n",
       "      <td>No</td>\n",
       "      <td>Yes</td>\n",
       "      <td>0</td>\n",
       "      <td>Yes</td>\n",
       "      <td>No</td>\n",
       "      <td>yes_no_question</td>\n",
       "    </tr>\n",
       "    <tr>\n",
       "      <th>4</th>\n",
       "      <td>The Ranch (TV series) -- The Ranch is an Ameri...</td>\n",
       "      <td>The Ranch (TV series) -- The Ranch is an Ameri...</td>\n",
       "      <td>No</td>\n",
       "      <td>Yes</td>\n",
       "      <td>0</td>\n",
       "      <td>Yes</td>\n",
       "      <td>No</td>\n",
       "      <td>could you tell me…</td>\n",
       "    </tr>\n",
       "  </tbody>\n",
       "</table>\n",
       "</div>"
      ],
      "text/plain": [
       "                                                         negative_prompt   \n",
       "prompt_id template_id                                                      \n",
       "0         0            Passage: The Ranch (TV series) -- The Ranch is...  \\\n",
       "          1            The Ranch (TV series) -- The Ranch is an Ameri...   \n",
       "          2            The Ranch (TV series) -- The Ranch is an Ameri...   \n",
       "          3            Text: The Ranch (TV series) -- The Ranch is an...   \n",
       "          4            The Ranch (TV series) -- The Ranch is an Ameri...   \n",
       "\n",
       "                                                         positive_prompt   \n",
       "prompt_id template_id                                                      \n",
       "0         0            Passage: The Ranch (TV series) -- The Ranch is...  \\\n",
       "          1            The Ranch (TV series) -- The Ranch is an Ameri...   \n",
       "          2            The Ranch (TV series) -- The Ranch is an Ameri...   \n",
       "          3            Text: The Ranch (TV series) -- The Ranch is an...   \n",
       "          4            The Ranch (TV series) -- The Ranch is an Ameri...   \n",
       "\n",
       "                      negative_answer positive_answer  label incorrect_answer   \n",
       "prompt_id template_id                                                           \n",
       "0         0                     False            True      0             True  \\\n",
       "          1                        No             Yes      0              Yes   \n",
       "          2                        No             Yes      0              Yes   \n",
       "          3                        No             Yes      0              Yes   \n",
       "          4                        No             Yes      0              Yes   \n",
       "\n",
       "                      correct_answer       template_name  \n",
       "prompt_id template_id                                     \n",
       "0         0                    False       after_reading  \n",
       "          1                       No         GPT-3 Style  \n",
       "          2                       No           I wonder…  \n",
       "          3                       No     yes_no_question  \n",
       "          4                       No  could you tell me…  "
      ]
     },
     "execution_count": 13,
     "metadata": {},
     "output_type": "execute_result"
    }
   ],
   "source": [
    "dfs[\"super_glue boolq\"].head()"
   ]
  },
  {
   "cell_type": "code",
   "execution_count": 14,
   "metadata": {},
   "outputs": [
    {
     "data": {
      "text/html": [
       "<div>\n",
       "<style scoped>\n",
       "    .dataframe tbody tr th:only-of-type {\n",
       "        vertical-align: middle;\n",
       "    }\n",
       "\n",
       "    .dataframe tbody tr th {\n",
       "        vertical-align: top;\n",
       "    }\n",
       "\n",
       "    .dataframe thead th {\n",
       "        text-align: right;\n",
       "    }\n",
       "</style>\n",
       "<table border=\"1\" class=\"dataframe\">\n",
       "  <thead>\n",
       "    <tr style=\"text-align: right;\">\n",
       "      <th></th>\n",
       "      <th></th>\n",
       "      <th>negative_prompt</th>\n",
       "      <th>positive_prompt</th>\n",
       "      <th>negative_answer</th>\n",
       "      <th>positive_answer</th>\n",
       "      <th>label</th>\n",
       "      <th>incorrect_answer</th>\n",
       "      <th>correct_answer</th>\n",
       "      <th>template_name</th>\n",
       "    </tr>\n",
       "    <tr>\n",
       "      <th>prompt_id</th>\n",
       "      <th>template_id</th>\n",
       "      <th></th>\n",
       "      <th></th>\n",
       "      <th></th>\n",
       "      <th></th>\n",
       "      <th></th>\n",
       "      <th></th>\n",
       "      <th></th>\n",
       "      <th></th>\n",
       "    </tr>\n",
       "  </thead>\n",
       "  <tbody>\n",
       "    <tr>\n",
       "      <th rowspan=\"5\" valign=\"top\">0</th>\n",
       "      <th>0</th>\n",
       "      <td>The following movie review expresses what sent...</td>\n",
       "      <td>The following movie review expresses what sent...</td>\n",
       "      <td>negative</td>\n",
       "      <td>positive</td>\n",
       "      <td>1</td>\n",
       "      <td>negative</td>\n",
       "      <td>positive</td>\n",
       "      <td>Movie Expressed Sentiment 2</td>\n",
       "    </tr>\n",
       "    <tr>\n",
       "      <th>1</th>\n",
       "      <td>&lt;br /&gt;&lt;br /&gt;When I unsuspectedly rented A Thou...</td>\n",
       "      <td>&lt;br /&gt;&lt;br /&gt;When I unsuspectedly rented A Thou...</td>\n",
       "      <td>bad</td>\n",
       "      <td>good</td>\n",
       "      <td>1</td>\n",
       "      <td>bad</td>\n",
       "      <td>good</td>\n",
       "      <td>Reviewer Opinion bad good choices</td>\n",
       "    </tr>\n",
       "    <tr>\n",
       "      <th>2</th>\n",
       "      <td>&lt;br /&gt;&lt;br /&gt;When I unsuspectedly rented A Thou...</td>\n",
       "      <td>&lt;br /&gt;&lt;br /&gt;When I unsuspectedly rented A Thou...</td>\n",
       "      <td>negative</td>\n",
       "      <td>positive</td>\n",
       "      <td>1</td>\n",
       "      <td>negative</td>\n",
       "      <td>positive</td>\n",
       "      <td>Sentiment with choices</td>\n",
       "    </tr>\n",
       "    <tr>\n",
       "      <th>3</th>\n",
       "      <td>&lt;br /&gt;&lt;br /&gt;When I unsuspectedly rented A Thou...</td>\n",
       "      <td>&lt;br /&gt;&lt;br /&gt;When I unsuspectedly rented A Thou...</td>\n",
       "      <td>negative</td>\n",
       "      <td>positive</td>\n",
       "      <td>1</td>\n",
       "      <td>negative</td>\n",
       "      <td>positive</td>\n",
       "      <td>Reviewer Sentiment Feeling</td>\n",
       "    </tr>\n",
       "    <tr>\n",
       "      <th>4</th>\n",
       "      <td>&lt;br /&gt;&lt;br /&gt;When I unsuspectedly rented A Thou...</td>\n",
       "      <td>&lt;br /&gt;&lt;br /&gt;When I unsuspectedly rented A Thou...</td>\n",
       "      <td>negative</td>\n",
       "      <td>positive</td>\n",
       "      <td>1</td>\n",
       "      <td>negative</td>\n",
       "      <td>positive</td>\n",
       "      <td>Writer Expressed Sentiment</td>\n",
       "    </tr>\n",
       "  </tbody>\n",
       "</table>\n",
       "</div>"
      ],
      "text/plain": [
       "                                                         negative_prompt   \n",
       "prompt_id template_id                                                      \n",
       "0         0            The following movie review expresses what sent...  \\\n",
       "          1            <br /><br />When I unsuspectedly rented A Thou...   \n",
       "          2            <br /><br />When I unsuspectedly rented A Thou...   \n",
       "          3            <br /><br />When I unsuspectedly rented A Thou...   \n",
       "          4            <br /><br />When I unsuspectedly rented A Thou...   \n",
       "\n",
       "                                                         positive_prompt   \n",
       "prompt_id template_id                                                      \n",
       "0         0            The following movie review expresses what sent...  \\\n",
       "          1            <br /><br />When I unsuspectedly rented A Thou...   \n",
       "          2            <br /><br />When I unsuspectedly rented A Thou...   \n",
       "          3            <br /><br />When I unsuspectedly rented A Thou...   \n",
       "          4            <br /><br />When I unsuspectedly rented A Thou...   \n",
       "\n",
       "                      negative_answer positive_answer  label incorrect_answer   \n",
       "prompt_id template_id                                                           \n",
       "0         0                  negative        positive      1         negative  \\\n",
       "          1                       bad            good      1              bad   \n",
       "          2                  negative        positive      1         negative   \n",
       "          3                  negative        positive      1         negative   \n",
       "          4                  negative        positive      1         negative   \n",
       "\n",
       "                      correct_answer                      template_name  \n",
       "prompt_id template_id                                                    \n",
       "0         0                 positive        Movie Expressed Sentiment 2  \n",
       "          1                     good  Reviewer Opinion bad good choices  \n",
       "          2                 positive            Sentiment with choices   \n",
       "          3                 positive         Reviewer Sentiment Feeling  \n",
       "          4                 positive         Writer Expressed Sentiment  "
      ]
     },
     "execution_count": 14,
     "metadata": {},
     "output_type": "execute_result"
    }
   ],
   "source": [
    "dfs[\"imdb\"].head()"
   ]
  },
  {
   "cell_type": "code",
   "execution_count": 15,
   "metadata": {},
   "outputs": [
    {
     "name": "stdout",
     "output_type": "stream",
     "text": [
      "Passage: The Ranch (TV series) -- The Ranch is an American comedy web television series starring Ashton Kutcher, Danny Masterson, Debra Winger, Elisha Cuthbert, and Sam Elliott that debuted in 2016 on Netflix. The show takes place on the fictional Iron River Ranch in the fictitious small town of Garrison, Colorado; detailing the life of the Bennetts, a dysfunctional family consisting of two brothers, their rancher father, and his divorced wife and local bar owner. While the opening sequence shows scenes from Norwood and Ouray, Colorado and surrounding Ouray and San Miguel Counties, The Ranch is filmed on a sound stage in front of a live audience in Burbank, California. Each season consists of 20 episodes broken up into two parts, each containing 10 episodes.\n",
      "\n",
      "After reading this passage, I have a question: is garrison from the ranch a real place? True or False?\n",
      "\n",
      "False\n"
     ]
    }
   ],
   "source": [
    "print(dfs[\"super_glue boolq\"].at[(0, 0), \"negative_prompt\"])"
   ]
  },
  {
   "cell_type": "markdown",
   "metadata": {},
   "source": [
    "## Forward pass on the text"
   ]
  },
  {
   "cell_type": "code",
   "execution_count": 16,
   "metadata": {},
   "outputs": [],
   "source": [
    "from jaxtyping import Float\n",
    "from tqdm import tqdm\n",
    "from transformer_lens.hook_points import HookPoint\n",
    "import transformer_lens.utils as utils\n",
    "from functools import partial"
   ]
  },
  {
   "cell_type": "markdown",
   "metadata": {},
   "source": [
    "Here we fix a given template ID. This gives us a single fully-formatted prompt for each original text sample."
   ]
  },
  {
   "attachments": {},
   "cell_type": "markdown",
   "metadata": {},
   "source": [
    "### Preprocessing prompts"
   ]
  },
  {
   "cell_type": "code",
   "execution_count": 18,
   "metadata": {},
   "outputs": [],
   "source": [
    "template_id = 2\n",
    "\n",
    "save_paths = {\n",
    "    dataset: Path(f\"results/ccs/pythia-1b/{dataset}/template-{template_id}\")\n",
    "    for dataset in datasets\n",
    "}\n",
    "\n",
    "prompts = {\n",
    "    dataset: dfs[dataset].loc[pd.IndexSlice[:, template_id], :].reset_index(drop=True)\n",
    "    for dataset in datasets\n",
    "}"
   ]
  },
  {
   "cell_type": "code",
   "execution_count": 19,
   "metadata": {},
   "outputs": [
    {
     "data": {
      "text/html": [
       "<div>\n",
       "<style scoped>\n",
       "    .dataframe tbody tr th:only-of-type {\n",
       "        vertical-align: middle;\n",
       "    }\n",
       "\n",
       "    .dataframe tbody tr th {\n",
       "        vertical-align: top;\n",
       "    }\n",
       "\n",
       "    .dataframe thead th {\n",
       "        text-align: right;\n",
       "    }\n",
       "</style>\n",
       "<table border=\"1\" class=\"dataframe\">\n",
       "  <thead>\n",
       "    <tr style=\"text-align: right;\">\n",
       "      <th></th>\n",
       "      <th>negative_prompt</th>\n",
       "      <th>positive_prompt</th>\n",
       "      <th>negative_answer</th>\n",
       "      <th>positive_answer</th>\n",
       "      <th>label</th>\n",
       "      <th>incorrect_answer</th>\n",
       "      <th>correct_answer</th>\n",
       "      <th>template_name</th>\n",
       "    </tr>\n",
       "  </thead>\n",
       "  <tbody>\n",
       "    <tr>\n",
       "      <th>0</th>\n",
       "      <td>The Ranch (TV series) -- The Ranch is an Ameri...</td>\n",
       "      <td>The Ranch (TV series) -- The Ranch is an Ameri...</td>\n",
       "      <td>No</td>\n",
       "      <td>Yes</td>\n",
       "      <td>0</td>\n",
       "      <td>Yes</td>\n",
       "      <td>No</td>\n",
       "      <td>I wonder…</td>\n",
       "    </tr>\n",
       "    <tr>\n",
       "      <th>1</th>\n",
       "      <td>Lanugo -- Lanugo (/ləˈnjuːɡoʊ/; from Latin lan...</td>\n",
       "      <td>Lanugo -- Lanugo (/ləˈnjuːɡoʊ/; from Latin lan...</td>\n",
       "      <td>No</td>\n",
       "      <td>Yes</td>\n",
       "      <td>1</td>\n",
       "      <td>No</td>\n",
       "      <td>Yes</td>\n",
       "      <td>I wonder…</td>\n",
       "    </tr>\n",
       "    <tr>\n",
       "      <th>2</th>\n",
       "      <td>Administrative law judge -- An administrative ...</td>\n",
       "      <td>Administrative law judge -- An administrative ...</td>\n",
       "      <td>No</td>\n",
       "      <td>Yes</td>\n",
       "      <td>1</td>\n",
       "      <td>No</td>\n",
       "      <td>Yes</td>\n",
       "      <td>I wonder…</td>\n",
       "    </tr>\n",
       "    <tr>\n",
       "      <th>3</th>\n",
       "      <td>Plants in space -- Plant research continued on...</td>\n",
       "      <td>Plants in space -- Plant research continued on...</td>\n",
       "      <td>No</td>\n",
       "      <td>Yes</td>\n",
       "      <td>1</td>\n",
       "      <td>No</td>\n",
       "      <td>Yes</td>\n",
       "      <td>I wonder…</td>\n",
       "    </tr>\n",
       "    <tr>\n",
       "      <th>4</th>\n",
       "      <td>HCF Health Insurance -- HCF (The Hospitals Con...</td>\n",
       "      <td>HCF Health Insurance -- HCF (The Hospitals Con...</td>\n",
       "      <td>No</td>\n",
       "      <td>Yes</td>\n",
       "      <td>1</td>\n",
       "      <td>No</td>\n",
       "      <td>Yes</td>\n",
       "      <td>I wonder…</td>\n",
       "    </tr>\n",
       "  </tbody>\n",
       "</table>\n",
       "</div>"
      ],
      "text/plain": [
       "                                     negative_prompt   \n",
       "0  The Ranch (TV series) -- The Ranch is an Ameri...  \\\n",
       "1  Lanugo -- Lanugo (/ləˈnjuːɡoʊ/; from Latin lan...   \n",
       "2  Administrative law judge -- An administrative ...   \n",
       "3  Plants in space -- Plant research continued on...   \n",
       "4  HCF Health Insurance -- HCF (The Hospitals Con...   \n",
       "\n",
       "                                     positive_prompt negative_answer   \n",
       "0  The Ranch (TV series) -- The Ranch is an Ameri...              No  \\\n",
       "1  Lanugo -- Lanugo (/ləˈnjuːɡoʊ/; from Latin lan...              No   \n",
       "2  Administrative law judge -- An administrative ...              No   \n",
       "3  Plants in space -- Plant research continued on...              No   \n",
       "4  HCF Health Insurance -- HCF (The Hospitals Con...              No   \n",
       "\n",
       "  positive_answer  label incorrect_answer correct_answer template_name  \n",
       "0             Yes      0              Yes             No     I wonder…  \n",
       "1             Yes      1               No            Yes     I wonder…  \n",
       "2             Yes      1               No            Yes     I wonder…  \n",
       "3             Yes      1               No            Yes     I wonder…  \n",
       "4             Yes      1               No            Yes     I wonder…  "
      ]
     },
     "execution_count": 19,
     "metadata": {},
     "output_type": "execute_result"
    }
   ],
   "source": [
    "prompts[\"super_glue boolq\"].head()"
   ]
  },
  {
   "cell_type": "code",
   "execution_count": 20,
   "metadata": {},
   "outputs": [],
   "source": [
    "get_value = lambda column: { dataset: prompts[dataset][column].tolist() for dataset in datasets }\n",
    "neg_prompts = get_value(\"negative_prompt\")\n",
    "pos_prompts = get_value(\"positive_prompt\")\n",
    "correct_answers = get_value(\"correct_answer\")\n",
    "incorrect_answers = get_value(\"incorrect_answer\")"
   ]
  },
  {
   "cell_type": "code",
   "execution_count": 21,
   "metadata": {},
   "outputs": [],
   "source": [
    "neg_tokens = {dataset: model.to_tokens(neg_prompts[dataset]) for dataset in datasets}\n",
    "pos_tokens = {dataset: model.to_tokens(pos_prompts[dataset]) for dataset in datasets}\n",
    "\n",
    "neg_str_tokens = {\n",
    "    dataset: model.to_str_tokens(neg_prompts[dataset]) for dataset in datasets\n",
    "}\n",
    "pos_str_tokens = {\n",
    "    dataset: model.to_str_tokens(pos_prompts[dataset]) for dataset in datasets\n",
    "}\n",
    "\n",
    "prompt_lengths = {\n",
    "    dataset: torch.tensor([len(tokens) for tokens in neg_str_tokens[dataset]])\n",
    "    for dataset in datasets\n",
    "}"
   ]
  },
  {
   "attachments": {},
   "cell_type": "markdown",
   "metadata": {},
   "source": [
    "### Hooks for collecting activation values"
   ]
  },
  {
   "cell_type": "code",
   "execution_count": 22,
   "metadata": {},
   "outputs": [
    {
     "data": {
      "text/plain": [
       "tensor([184, 147,  75, 211, 111, 171, 120, 101, 171, 108, 128, 206])"
      ]
     },
     "execution_count": 22,
     "metadata": {},
     "output_type": "execute_result"
    }
   ],
   "source": [
    "prompt_lengths[\"super_glue boolq\"]"
   ]
  },
  {
   "cell_type": "code",
   "execution_count": 23,
   "metadata": {},
   "outputs": [
    {
     "data": {
      "text/plain": [
       "{'super_glue boolq': torch.Size([12, 16, 211]),\n",
       " 'imdb': torch.Size([12, 16, 424])}"
      ]
     },
     "execution_count": 23,
     "metadata": {},
     "output_type": "execute_result"
    }
   ],
   "source": [
    "# the negative and positive prompts match up until the very last token,\n",
    "# so we just record one and then get only the last token of the other one\n",
    "neg_results = {\n",
    "    dataset: torch.zeros(\n",
    "        (\n",
    "            n_prompts,\n",
    "            n_layers,\n",
    "            prompt_lengths[dataset].max().item(),\n",
    "        ),\n",
    "        device=\"cpu\",\n",
    "    )\n",
    "    for dataset in datasets\n",
    "}\n",
    "pos_results = {\n",
    "    dataset: torch.zeros((n_prompts, n_layers), device=\"cpu\")\n",
    "    for dataset in datasets\n",
    "}\n",
    "\n",
    "\n",
    "def projection(\n",
    "    resid_pre: Float[torch.Tensor, \"batch pos d_model\"],  # at a given layer\n",
    "    hook: HookPoint,\n",
    "    dataset: str,\n",
    "    layer: int,\n",
    "):\n",
    "    # TODO should we be normalizing here?\n",
    "    # since the prompts have different lengths, technically this is more computation than we need to do\n",
    "    neg_results[dataset][:, layer, : resid_pre.shape[1]] = reporters[layer](\n",
    "        resid_pre\n",
    "    ).cpu()\n",
    "    return resid_pre\n",
    "\n",
    "\n",
    "def final_projection(\n",
    "    resid_pre: Float[torch.Tensor, \"batch pos d_model\"],  # at a given layer\n",
    "    hook: HookPoint,\n",
    "    dataset: str,\n",
    "    layer: int,\n",
    "):\n",
    "    # TODO should we be normalizing here?\n",
    "    x = resid_pre[batch_range, prompt_lengths[dataset] - 1, :]\n",
    "    pos_results[dataset][:, layer] = reporters[layer](x).cpu()\n",
    "    return resid_pre\n",
    "\n",
    "{ dataset: neg_results[dataset].shape for dataset in datasets }"
   ]
  },
  {
   "attachments": {},
   "cell_type": "markdown",
   "metadata": {},
   "source": [
    "### Extraction loop"
   ]
  },
  {
   "cell_type": "code",
   "execution_count": 24,
   "metadata": {},
   "outputs": [
    {
     "name": "stderr",
     "output_type": "stream",
     "text": [
      "super_glue boolq: 100%|██████████| 16/16 [00:08<00:00,  1.86it/s]\n",
      "imdb: 100%|██████████| 16/16 [00:17<00:00,  1.09s/it]\n"
     ]
    }
   ],
   "source": [
    "# should be quite fast\n",
    "for dataset in datasets:\n",
    "    for layer in tqdm(range(n_layers), desc=dataset):\n",
    "        act_name = utils.get_act_name(\"resid_pre\", layer)\n",
    "\n",
    "        patch_hook_fn = partial(projection, dataset=dataset, layer=layer)\n",
    "        model.run_with_hooks(\n",
    "            neg_tokens[dataset], fwd_hooks=[(act_name, patch_hook_fn)]\n",
    "        )\n",
    "\n",
    "        patch_hook_fn = partial(final_projection, dataset=dataset, layer=layer)\n",
    "        model.run_with_hooks(\n",
    "            pos_tokens[dataset], fwd_hooks=[(act_name, patch_hook_fn)]\n",
    "        )"
   ]
  },
  {
   "cell_type": "code",
   "execution_count": 25,
   "metadata": {},
   "outputs": [],
   "source": [
    "for dataset in datasets:\n",
    "    save_path = save_paths[dataset]\n",
    "    save_path.mkdir(parents=True, exist_ok=True)\n",
    "    torch.save(neg_results[dataset], save_path / \"neg.pt\")\n",
    "    torch.save(pos_results[dataset], save_path / \"pos.pt\")"
   ]
  },
  {
   "cell_type": "markdown",
   "metadata": {},
   "source": [
    "## Visualize outputs"
   ]
  },
  {
   "cell_type": "code",
   "execution_count": 26,
   "metadata": {},
   "outputs": [],
   "source": [
    "import circuitsvis as cv\n",
    "from circuitsvis.tokens import colored_tokens"
   ]
  },
  {
   "cell_type": "code",
   "execution_count": 27,
   "metadata": {},
   "outputs": [],
   "source": [
    "neg_results = {\n",
    "    dataset: torch.load(save_paths[dataset] / \"neg.pt\") for dataset in datasets\n",
    "}\n",
    "pos_results = {\n",
    "    dataset: torch.load(save_paths[dataset] / \"pos.pt\") for dataset in datasets\n",
    "}\n",
    "\n",
    "projections = dict()\n",
    "for dataset in datasets:\n",
    "    projections[dataset] = torch.cat(\n",
    "        [neg_results[dataset], torch.zeros((n_prompts, n_layers, 2))], axis=-1\n",
    "    )\n",
    "    projections[dataset][batch_range, :, prompt_lengths[dataset]] = pos_results[dataset]\n",
    "    projections[dataset][batch_range, :, prompt_lengths[dataset] + 1] = 0  # forvisualization\n",
    "\n",
    "    # make the signs across layers consistent with the final token\n",
    "    # since CCS only identifies the hyperplane up to sign\n",
    "    projections[dataset] = pos_results[dataset].sign()[:, :, None] * projections[dataset]"
   ]
  },
  {
   "cell_type": "markdown",
   "metadata": {},
   "source": [
    "Here we choose a given prompt to visualize. \"positive\" answers always corresponds to _blue_ and \"negative\" answers always correspond to _red_\n",
    "independently of the correct answer."
   ]
  },
  {
   "cell_type": "code",
   "execution_count": 28,
   "metadata": {},
   "outputs": [],
   "source": [
    "def plot_colors(dataset: str, prompt_id: int):\n",
    "    flattened_tokens = (\n",
    "        neg_str_tokens[dataset][prompt_id] + pos_str_tokens[dataset][prompt_id][-1:] + [\"\\n\\n\\n\"]\n",
    "    ) * n_layers\n",
    "    flattened_projections = projections[dataset][\n",
    "        prompt_id, :, : prompt_lengths[dataset][prompt_id] + 2\n",
    "    ].flatten()\n",
    "\n",
    "    # clip the values to between (-5.5, 4) to make the visualization more readable\n",
    "    print(\"distance bounds:\", flattened_projections.min(), flattened_projections.max())\n",
    "    return colored_tokens(\n",
    "        flattened_tokens, flattened_projections, min_value=-5, max_value=5\n",
    "    )"
   ]
  },
  {
   "cell_type": "code",
   "execution_count": 29,
   "metadata": {},
   "outputs": [
    {
     "name": "stdout",
     "output_type": "stream",
     "text": [
      "distance bounds: tensor(-116.5692) tensor(6.9223)\n"
     ]
    },
    {
     "data": {
      "text/html": [
       "<div id=\"circuits-vis-f07f3439-0725\" style=\"margin: 15px 0;\"/>\n",
       "    <script crossorigin type=\"module\">\n",
       "    import { render, ColoredTokens } from \"https://unpkg.com/circuitsvis@1.39.1/dist/cdn/esm.js\";\n",
       "    render(\n",
       "      \"circuits-vis-f07f3439-0725\",\n",
       "      ColoredTokens,\n",
       "      {\"tokens\": [\"<|endoftext|>\", \"This\", \" movie\", \" spends\", \" most\", \" of\", \" its\", \" time\", \" preaching\", \" that\", \" it\", \" is\", \" the\", \" script\", \" that\", \" makes\", \" the\", \" movie\", \",\", \" but\", \" apparently\", \" there\", \" was\", \" no\", \" script\", \" when\", \" they\", \" shot\", \" this\", \" waste\", \" of\", \" time\", \"!\", \" The\", \" trailer\", \" makes\", \" this\", \" out\", \" to\", \" be\", \" a\", \" comedy\", \",\", \" but\", \" the\", \" film\", \" can\", \"'t\", \" decide\", \" if\", \" it\", \" wants\", \" to\", \" be\", \" a\", \" comedy\", \",\", \" a\", \" drama\", \",\", \" a\", \" romance\", \" or\", \" an\", \" action\", \" film\", \".\", \" Press\", \" releases\", \" indicated\", \" that\", \" S\", \"hat\", \"ner\", \" and\", \" Ham\", \"lin\", \" made\", \" this\", \" movie\", \" because\", \" they\", \" loved\", \" the\", \" script\", \" (\", \"what\", \" were\", \" they\", \" thinking\", \"?).\", \" If\", \" you\", \" like\", \" William\", \" S\", \"hat\", \"ner\", \" (\", \"I\", \" do\", \")\", \" see\", \" \\\"\", \"Free\", \" Enterprise\", \"\\\"\", \" instead\", \".\", \" \", \"\\n\", \"Is\", \" this\", \" review\", \" positive\", \" or\", \" negative\", \"?\", \"\\n\", \"negative\", \"positive\", \"\\n\\n\\n\", \"<|endoftext|>\", \"This\", \" movie\", \" spends\", \" most\", \" of\", \" its\", \" time\", \" preaching\", \" that\", \" it\", \" is\", \" the\", \" script\", \" that\", \" makes\", \" the\", \" movie\", \",\", \" but\", \" apparently\", \" there\", \" was\", \" no\", \" script\", \" when\", \" they\", \" shot\", \" this\", \" waste\", \" of\", \" time\", \"!\", \" The\", \" trailer\", \" makes\", \" this\", \" out\", \" to\", \" be\", \" a\", \" comedy\", \",\", \" but\", \" the\", \" film\", \" can\", \"'t\", \" decide\", \" if\", \" it\", \" wants\", \" to\", \" be\", \" a\", \" comedy\", \",\", \" a\", \" drama\", \",\", \" a\", \" romance\", \" or\", \" an\", \" action\", \" film\", \".\", \" Press\", \" releases\", \" indicated\", \" that\", \" S\", \"hat\", \"ner\", \" and\", \" Ham\", \"lin\", \" made\", \" this\", \" movie\", \" because\", \" they\", \" loved\", \" the\", \" script\", \" (\", \"what\", \" were\", \" they\", \" thinking\", \"?).\", \" If\", \" you\", \" like\", \" William\", \" S\", \"hat\", \"ner\", \" (\", \"I\", \" do\", \")\", \" see\", \" \\\"\", \"Free\", \" Enterprise\", \"\\\"\", \" instead\", \".\", \" \", \"\\n\", \"Is\", \" this\", \" review\", \" positive\", \" or\", \" negative\", \"?\", \"\\n\", \"negative\", \"positive\", \"\\n\\n\\n\", \"<|endoftext|>\", \"This\", \" movie\", \" spends\", \" most\", \" of\", \" its\", \" time\", \" preaching\", \" that\", \" it\", \" is\", \" the\", \" script\", \" that\", \" makes\", \" the\", \" movie\", \",\", \" but\", \" apparently\", \" there\", \" was\", \" no\", \" script\", \" when\", \" they\", \" shot\", \" this\", \" waste\", \" of\", \" time\", \"!\", \" The\", \" trailer\", \" makes\", \" this\", \" out\", \" to\", \" be\", \" a\", \" comedy\", \",\", \" but\", \" the\", \" film\", \" can\", \"'t\", \" decide\", \" if\", \" it\", \" wants\", \" to\", \" be\", \" a\", \" comedy\", \",\", \" a\", \" drama\", \",\", \" a\", \" romance\", \" or\", \" an\", \" action\", \" film\", \".\", \" Press\", \" releases\", \" indicated\", \" that\", \" S\", \"hat\", \"ner\", \" and\", \" Ham\", \"lin\", \" made\", \" this\", \" movie\", \" because\", \" they\", \" loved\", \" the\", \" script\", \" (\", \"what\", \" were\", \" they\", \" thinking\", \"?).\", \" If\", \" you\", \" like\", \" William\", \" S\", \"hat\", \"ner\", \" (\", \"I\", \" do\", \")\", \" see\", \" \\\"\", \"Free\", \" Enterprise\", \"\\\"\", \" instead\", \".\", \" \", \"\\n\", \"Is\", \" this\", \" review\", \" positive\", \" or\", \" negative\", \"?\", \"\\n\", \"negative\", \"positive\", \"\\n\\n\\n\", \"<|endoftext|>\", \"This\", \" movie\", \" spends\", \" most\", \" of\", \" its\", \" time\", \" preaching\", \" that\", \" it\", \" is\", \" the\", \" script\", \" that\", \" makes\", \" the\", \" movie\", \",\", \" but\", \" apparently\", \" there\", \" was\", \" no\", \" script\", \" when\", \" they\", \" shot\", \" this\", \" waste\", \" of\", \" time\", \"!\", \" The\", \" trailer\", \" makes\", \" this\", \" out\", \" to\", \" be\", \" a\", \" comedy\", \",\", \" but\", \" the\", \" film\", \" can\", \"'t\", \" decide\", \" if\", \" it\", \" wants\", \" to\", \" be\", \" a\", \" comedy\", \",\", \" a\", \" drama\", \",\", \" a\", \" romance\", \" or\", \" an\", \" action\", \" film\", \".\", \" Press\", \" releases\", \" indicated\", \" that\", \" S\", \"hat\", \"ner\", \" and\", \" Ham\", \"lin\", \" made\", \" this\", \" movie\", \" because\", \" they\", \" loved\", \" the\", \" script\", \" (\", \"what\", \" were\", \" they\", \" thinking\", \"?).\", \" If\", \" you\", \" like\", \" William\", \" S\", \"hat\", \"ner\", \" (\", \"I\", \" do\", \")\", \" see\", \" \\\"\", \"Free\", \" Enterprise\", \"\\\"\", \" instead\", \".\", \" \", \"\\n\", \"Is\", \" this\", \" review\", \" positive\", \" or\", \" negative\", \"?\", \"\\n\", \"negative\", \"positive\", \"\\n\\n\\n\", \"<|endoftext|>\", \"This\", \" movie\", \" spends\", \" most\", \" of\", \" its\", \" time\", \" preaching\", \" that\", \" it\", \" is\", \" the\", \" script\", \" that\", \" makes\", \" the\", \" movie\", \",\", \" but\", \" apparently\", \" there\", \" was\", \" no\", \" script\", \" when\", \" they\", \" shot\", \" this\", \" waste\", \" of\", \" time\", \"!\", \" The\", \" trailer\", \" makes\", \" this\", \" out\", \" to\", \" be\", \" a\", \" comedy\", \",\", \" but\", \" the\", \" film\", \" can\", \"'t\", \" decide\", \" if\", \" it\", \" wants\", \" to\", \" be\", \" a\", \" comedy\", \",\", \" a\", \" drama\", \",\", \" a\", \" romance\", \" or\", \" an\", \" action\", \" film\", \".\", \" Press\", \" releases\", \" indicated\", \" that\", \" S\", \"hat\", \"ner\", \" and\", \" Ham\", \"lin\", \" made\", \" this\", \" movie\", \" because\", \" they\", \" loved\", \" the\", \" script\", \" (\", \"what\", \" were\", \" they\", \" thinking\", \"?).\", \" If\", \" you\", \" like\", \" William\", \" S\", \"hat\", \"ner\", \" (\", \"I\", \" do\", \")\", \" see\", \" \\\"\", \"Free\", \" Enterprise\", \"\\\"\", \" instead\", \".\", \" \", \"\\n\", \"Is\", \" this\", \" review\", \" positive\", \" or\", \" negative\", \"?\", \"\\n\", \"negative\", \"positive\", \"\\n\\n\\n\", \"<|endoftext|>\", \"This\", \" movie\", \" spends\", \" most\", \" of\", \" its\", \" time\", \" preaching\", \" that\", \" it\", \" is\", \" the\", \" script\", \" that\", \" makes\", \" the\", \" movie\", \",\", \" but\", \" apparently\", \" there\", \" was\", \" no\", \" script\", \" when\", \" they\", \" shot\", \" this\", \" waste\", \" of\", \" time\", \"!\", \" The\", \" trailer\", \" makes\", \" this\", \" out\", \" to\", \" be\", \" a\", \" comedy\", \",\", \" but\", \" the\", \" film\", \" can\", \"'t\", \" decide\", \" if\", \" it\", \" wants\", \" to\", \" be\", \" a\", \" comedy\", \",\", \" a\", \" drama\", \",\", \" a\", \" romance\", \" or\", \" an\", \" action\", \" film\", \".\", \" Press\", \" releases\", \" indicated\", \" that\", \" S\", \"hat\", \"ner\", \" and\", \" Ham\", \"lin\", \" made\", \" this\", \" movie\", \" because\", \" they\", \" loved\", \" the\", \" script\", \" (\", \"what\", \" were\", \" they\", \" thinking\", \"?).\", \" If\", \" you\", \" like\", \" William\", \" S\", \"hat\", \"ner\", \" (\", \"I\", \" do\", \")\", \" see\", \" \\\"\", \"Free\", \" Enterprise\", \"\\\"\", \" instead\", \".\", \" \", \"\\n\", \"Is\", \" this\", \" review\", \" positive\", \" or\", \" negative\", \"?\", \"\\n\", \"negative\", \"positive\", \"\\n\\n\\n\", \"<|endoftext|>\", \"This\", \" movie\", \" spends\", \" most\", \" of\", \" its\", \" time\", \" preaching\", \" that\", \" it\", \" is\", \" the\", \" script\", \" that\", \" makes\", \" the\", \" movie\", \",\", \" but\", \" apparently\", \" there\", \" was\", \" no\", \" script\", \" when\", \" they\", \" shot\", \" this\", \" waste\", \" of\", \" time\", \"!\", \" The\", \" trailer\", \" makes\", \" this\", \" out\", \" to\", \" be\", \" a\", \" comedy\", \",\", \" but\", \" the\", \" film\", \" can\", \"'t\", \" decide\", \" if\", \" it\", \" wants\", \" to\", \" be\", \" a\", \" comedy\", \",\", \" a\", \" drama\", \",\", \" a\", \" romance\", \" or\", \" an\", \" action\", \" film\", \".\", \" Press\", \" releases\", \" indicated\", \" that\", \" S\", \"hat\", \"ner\", \" and\", \" Ham\", \"lin\", \" made\", \" this\", \" movie\", \" because\", \" they\", \" loved\", \" the\", \" script\", \" (\", \"what\", \" were\", \" they\", \" thinking\", \"?).\", \" If\", \" you\", \" like\", \" William\", \" S\", \"hat\", \"ner\", \" (\", \"I\", \" do\", \")\", \" see\", \" \\\"\", \"Free\", \" Enterprise\", \"\\\"\", \" instead\", \".\", \" \", \"\\n\", \"Is\", \" this\", \" review\", \" positive\", \" or\", \" negative\", \"?\", \"\\n\", \"negative\", \"positive\", \"\\n\\n\\n\", \"<|endoftext|>\", \"This\", \" movie\", \" spends\", \" most\", \" of\", \" its\", \" time\", \" preaching\", \" that\", \" it\", \" is\", \" the\", \" script\", \" that\", \" makes\", \" the\", \" movie\", \",\", \" but\", \" apparently\", \" there\", \" was\", \" no\", \" script\", \" when\", \" they\", \" shot\", \" this\", \" waste\", \" of\", \" time\", \"!\", \" The\", \" trailer\", \" makes\", \" this\", \" out\", \" to\", \" be\", \" a\", \" comedy\", \",\", \" but\", \" the\", \" film\", \" can\", \"'t\", \" decide\", \" if\", \" it\", \" wants\", \" to\", \" be\", \" a\", \" comedy\", \",\", \" a\", \" drama\", \",\", \" a\", \" romance\", \" or\", \" an\", \" action\", \" film\", \".\", \" Press\", \" releases\", \" indicated\", \" that\", \" S\", \"hat\", \"ner\", \" and\", \" Ham\", \"lin\", \" made\", \" this\", \" movie\", \" because\", \" they\", \" loved\", \" the\", \" script\", \" (\", \"what\", \" were\", \" they\", \" thinking\", \"?).\", \" If\", \" you\", \" like\", \" William\", \" S\", \"hat\", \"ner\", \" (\", \"I\", \" do\", \")\", \" see\", \" \\\"\", \"Free\", \" Enterprise\", \"\\\"\", \" instead\", \".\", \" \", \"\\n\", \"Is\", \" this\", \" review\", \" positive\", \" or\", \" negative\", \"?\", \"\\n\", \"negative\", \"positive\", \"\\n\\n\\n\", \"<|endoftext|>\", \"This\", \" movie\", \" spends\", \" most\", \" of\", \" its\", \" time\", \" preaching\", \" that\", \" it\", \" is\", \" the\", \" script\", \" that\", \" makes\", \" the\", \" movie\", \",\", \" but\", \" apparently\", \" there\", \" was\", \" no\", \" script\", \" when\", \" they\", \" shot\", \" this\", \" waste\", \" of\", \" time\", \"!\", \" The\", \" trailer\", \" makes\", \" this\", \" out\", \" to\", \" be\", \" a\", \" comedy\", \",\", \" but\", \" the\", \" film\", \" can\", \"'t\", \" decide\", \" if\", \" it\", \" wants\", \" to\", \" be\", \" a\", \" comedy\", \",\", \" a\", \" drama\", \",\", \" a\", \" romance\", \" or\", \" an\", \" action\", \" film\", \".\", \" Press\", \" releases\", \" indicated\", \" that\", \" S\", \"hat\", \"ner\", \" and\", \" Ham\", \"lin\", \" made\", \" this\", \" movie\", \" because\", \" they\", \" loved\", \" the\", \" script\", \" (\", \"what\", \" were\", \" they\", \" thinking\", \"?).\", \" If\", \" you\", \" like\", \" William\", \" S\", \"hat\", \"ner\", \" (\", \"I\", \" do\", \")\", \" see\", \" \\\"\", \"Free\", \" Enterprise\", \"\\\"\", \" instead\", \".\", \" \", \"\\n\", \"Is\", \" this\", \" review\", \" positive\", \" or\", \" negative\", \"?\", \"\\n\", \"negative\", \"positive\", \"\\n\\n\\n\", \"<|endoftext|>\", \"This\", \" movie\", \" spends\", \" most\", \" of\", \" its\", \" time\", \" preaching\", \" that\", \" it\", \" is\", \" the\", \" script\", \" that\", \" makes\", \" the\", \" movie\", \",\", \" but\", \" apparently\", \" there\", \" was\", \" no\", \" script\", \" when\", \" they\", \" shot\", \" this\", \" waste\", \" of\", \" time\", \"!\", \" The\", \" trailer\", \" makes\", \" this\", \" out\", \" to\", \" be\", \" a\", \" comedy\", \",\", \" but\", \" the\", \" film\", \" can\", \"'t\", \" decide\", \" if\", \" it\", \" wants\", \" to\", \" be\", \" a\", \" comedy\", \",\", \" a\", \" drama\", \",\", \" a\", \" romance\", \" or\", \" an\", \" action\", \" film\", \".\", \" Press\", \" releases\", \" indicated\", \" that\", \" S\", \"hat\", \"ner\", \" and\", \" Ham\", \"lin\", \" made\", \" this\", \" movie\", \" because\", \" they\", \" loved\", \" the\", \" script\", \" (\", \"what\", \" were\", \" they\", \" thinking\", \"?).\", \" If\", \" you\", \" like\", \" William\", \" S\", \"hat\", \"ner\", \" (\", \"I\", \" do\", \")\", \" see\", \" \\\"\", \"Free\", \" Enterprise\", \"\\\"\", \" instead\", \".\", \" \", \"\\n\", \"Is\", \" this\", \" review\", \" positive\", \" or\", \" negative\", \"?\", \"\\n\", \"negative\", \"positive\", \"\\n\\n\\n\", \"<|endoftext|>\", \"This\", \" movie\", \" spends\", \" most\", \" of\", \" its\", \" time\", \" preaching\", \" that\", \" it\", \" is\", \" the\", \" script\", \" that\", \" makes\", \" the\", \" movie\", \",\", \" but\", \" apparently\", \" there\", \" was\", \" no\", \" script\", \" when\", \" they\", \" shot\", \" this\", \" waste\", \" of\", \" time\", \"!\", \" The\", \" trailer\", \" makes\", \" this\", \" out\", \" to\", \" be\", \" a\", \" comedy\", \",\", \" but\", \" the\", \" film\", \" can\", \"'t\", \" decide\", \" if\", \" it\", \" wants\", \" to\", \" be\", \" a\", \" comedy\", \",\", \" a\", \" drama\", \",\", \" a\", \" romance\", \" or\", \" an\", \" action\", \" film\", \".\", \" Press\", \" releases\", \" indicated\", \" that\", \" S\", \"hat\", \"ner\", \" and\", \" Ham\", \"lin\", \" made\", \" this\", \" movie\", \" because\", \" they\", \" loved\", \" the\", \" script\", \" (\", \"what\", \" were\", \" they\", \" thinking\", \"?).\", \" If\", \" you\", \" like\", \" William\", \" S\", \"hat\", \"ner\", \" (\", \"I\", \" do\", \")\", \" see\", \" \\\"\", \"Free\", \" Enterprise\", \"\\\"\", \" instead\", \".\", \" \", \"\\n\", \"Is\", \" this\", \" review\", \" positive\", \" or\", \" negative\", \"?\", \"\\n\", \"negative\", \"positive\", \"\\n\\n\\n\", \"<|endoftext|>\", \"This\", \" movie\", \" spends\", \" most\", \" of\", \" its\", \" time\", \" preaching\", \" that\", \" it\", \" is\", \" the\", \" script\", \" that\", \" makes\", \" the\", \" movie\", \",\", \" but\", \" apparently\", \" there\", \" was\", \" no\", \" script\", \" when\", \" they\", \" shot\", \" this\", \" waste\", \" of\", \" time\", \"!\", \" The\", \" trailer\", \" makes\", \" this\", \" out\", \" to\", \" be\", \" a\", \" comedy\", \",\", \" but\", \" the\", \" film\", \" can\", \"'t\", \" decide\", \" if\", \" it\", \" wants\", \" to\", \" be\", \" a\", \" comedy\", \",\", \" a\", \" drama\", \",\", \" a\", \" romance\", \" or\", \" an\", \" action\", \" film\", \".\", \" Press\", \" releases\", \" indicated\", \" that\", \" S\", \"hat\", \"ner\", \" and\", \" Ham\", \"lin\", \" made\", \" this\", \" movie\", \" because\", \" they\", \" loved\", \" the\", \" script\", \" (\", \"what\", \" were\", \" they\", \" thinking\", \"?).\", \" If\", \" you\", \" like\", \" William\", \" S\", \"hat\", \"ner\", \" (\", \"I\", \" do\", \")\", \" see\", \" \\\"\", \"Free\", \" Enterprise\", \"\\\"\", \" instead\", \".\", \" \", \"\\n\", \"Is\", \" this\", \" review\", \" positive\", \" or\", \" negative\", \"?\", \"\\n\", \"negative\", \"positive\", \"\\n\\n\\n\", \"<|endoftext|>\", \"This\", \" movie\", \" spends\", \" most\", \" of\", \" its\", \" time\", \" preaching\", \" that\", \" it\", \" is\", \" the\", \" script\", \" that\", \" makes\", \" the\", \" movie\", \",\", \" but\", \" apparently\", \" there\", \" was\", \" no\", \" script\", \" when\", \" they\", \" shot\", \" this\", \" waste\", \" of\", \" time\", \"!\", \" The\", \" trailer\", \" makes\", \" this\", \" out\", \" to\", \" be\", \" a\", \" comedy\", \",\", \" but\", \" the\", \" film\", \" can\", \"'t\", \" decide\", \" if\", \" it\", \" wants\", \" to\", \" be\", \" a\", \" comedy\", \",\", \" a\", \" drama\", \",\", \" a\", \" romance\", \" or\", \" an\", \" action\", \" film\", \".\", \" Press\", \" releases\", \" indicated\", \" that\", \" S\", \"hat\", \"ner\", \" and\", \" Ham\", \"lin\", \" made\", \" this\", \" movie\", \" because\", \" they\", \" loved\", \" the\", \" script\", \" (\", \"what\", \" were\", \" they\", \" thinking\", \"?).\", \" If\", \" you\", \" like\", \" William\", \" S\", \"hat\", \"ner\", \" (\", \"I\", \" do\", \")\", \" see\", \" \\\"\", \"Free\", \" Enterprise\", \"\\\"\", \" instead\", \".\", \" \", \"\\n\", \"Is\", \" this\", \" review\", \" positive\", \" or\", \" negative\", \"?\", \"\\n\", \"negative\", \"positive\", \"\\n\\n\\n\", \"<|endoftext|>\", \"This\", \" movie\", \" spends\", \" most\", \" of\", \" its\", \" time\", \" preaching\", \" that\", \" it\", \" is\", \" the\", \" script\", \" that\", \" makes\", \" the\", \" movie\", \",\", \" but\", \" apparently\", \" there\", \" was\", \" no\", \" script\", \" when\", \" they\", \" shot\", \" this\", \" waste\", \" of\", \" time\", \"!\", \" The\", \" trailer\", \" makes\", \" this\", \" out\", \" to\", \" be\", \" a\", \" comedy\", \",\", \" but\", \" the\", \" film\", \" can\", \"'t\", \" decide\", \" if\", \" it\", \" wants\", \" to\", \" be\", \" a\", \" comedy\", \",\", \" a\", \" drama\", \",\", \" a\", \" romance\", \" or\", \" an\", \" action\", \" film\", \".\", \" Press\", \" releases\", \" indicated\", \" that\", \" S\", \"hat\", \"ner\", \" and\", \" Ham\", \"lin\", \" made\", \" this\", \" movie\", \" because\", \" they\", \" loved\", \" the\", \" script\", \" (\", \"what\", \" were\", \" they\", \" thinking\", \"?).\", \" If\", \" you\", \" like\", \" William\", \" S\", \"hat\", \"ner\", \" (\", \"I\", \" do\", \")\", \" see\", \" \\\"\", \"Free\", \" Enterprise\", \"\\\"\", \" instead\", \".\", \" \", \"\\n\", \"Is\", \" this\", \" review\", \" positive\", \" or\", \" negative\", \"?\", \"\\n\", \"negative\", \"positive\", \"\\n\\n\\n\", \"<|endoftext|>\", \"This\", \" movie\", \" spends\", \" most\", \" of\", \" its\", \" time\", \" preaching\", \" that\", \" it\", \" is\", \" the\", \" script\", \" that\", \" makes\", \" the\", \" movie\", \",\", \" but\", \" apparently\", \" there\", \" was\", \" no\", \" script\", \" when\", \" they\", \" shot\", \" this\", \" waste\", \" of\", \" time\", \"!\", \" The\", \" trailer\", \" makes\", \" this\", \" out\", \" to\", \" be\", \" a\", \" comedy\", \",\", \" but\", \" the\", \" film\", \" can\", \"'t\", \" decide\", \" if\", \" it\", \" wants\", \" to\", \" be\", \" a\", \" comedy\", \",\", \" a\", \" drama\", \",\", \" a\", \" romance\", \" or\", \" an\", \" action\", \" film\", \".\", \" Press\", \" releases\", \" indicated\", \" that\", \" S\", \"hat\", \"ner\", \" and\", \" Ham\", \"lin\", \" made\", \" this\", \" movie\", \" because\", \" they\", \" loved\", \" the\", \" script\", \" (\", \"what\", \" were\", \" they\", \" thinking\", \"?).\", \" If\", \" you\", \" like\", \" William\", \" S\", \"hat\", \"ner\", \" (\", \"I\", \" do\", \")\", \" see\", \" \\\"\", \"Free\", \" Enterprise\", \"\\\"\", \" instead\", \".\", \" \", \"\\n\", \"Is\", \" this\", \" review\", \" positive\", \" or\", \" negative\", \"?\", \"\\n\", \"negative\", \"positive\", \"\\n\\n\\n\", \"<|endoftext|>\", \"This\", \" movie\", \" spends\", \" most\", \" of\", \" its\", \" time\", \" preaching\", \" that\", \" it\", \" is\", \" the\", \" script\", \" that\", \" makes\", \" the\", \" movie\", \",\", \" but\", \" apparently\", \" there\", \" was\", \" no\", \" script\", \" when\", \" they\", \" shot\", \" this\", \" waste\", \" of\", \" time\", \"!\", \" The\", \" trailer\", \" makes\", \" this\", \" out\", \" to\", \" be\", \" a\", \" comedy\", \",\", \" but\", \" the\", \" film\", \" can\", \"'t\", \" decide\", \" if\", \" it\", \" wants\", \" to\", \" be\", \" a\", \" comedy\", \",\", \" a\", \" drama\", \",\", \" a\", \" romance\", \" or\", \" an\", \" action\", \" film\", \".\", \" Press\", \" releases\", \" indicated\", \" that\", \" S\", \"hat\", \"ner\", \" and\", \" Ham\", \"lin\", \" made\", \" this\", \" movie\", \" because\", \" they\", \" loved\", \" the\", \" script\", \" (\", \"what\", \" were\", \" they\", \" thinking\", \"?).\", \" If\", \" you\", \" like\", \" William\", \" S\", \"hat\", \"ner\", \" (\", \"I\", \" do\", \")\", \" see\", \" \\\"\", \"Free\", \" Enterprise\", \"\\\"\", \" instead\", \".\", \" \", \"\\n\", \"Is\", \" this\", \" review\", \" positive\", \" or\", \" negative\", \"?\", \"\\n\", \"negative\", \"positive\", \"\\n\\n\\n\"], \"values\": [-0.003854324109852314, -0.009753082878887653, -0.014339393004775047, -0.04326348751783371, 0.019332770258188248, -0.002696503885090351, 0.015269817784428596, 0.012944234535098076, -0.00683959573507309, -0.0009441317524760962, 0.021884746849536896, -0.005823042709380388, -0.007953657768666744, 0.013996824622154236, -0.0009441317524760962, 0.0069428011775016785, -0.007953657768666744, -0.014339393004775047, 0.00029056216590106487, 0.02039012312889099, -0.011698001995682716, 0.01383385993540287, -0.006992631126195192, -0.03921176493167877, 0.013996824622154236, 0.019378621131181717, 0.04463126137852669, 0.01248554140329361, 0.014291105791926384, 0.012409914284944534, -0.002696503885090351, 0.012944234535098076, -0.03604184091091156, 0.0028287088498473167, -0.006777341477572918, 0.0069428011775016785, 0.014291105791926384, -0.0025283219292759895, 0.0067596472799777985, -0.028460174798965454, 0.0012915907427668571, -0.03267379477620125, 0.00029056216590106487, 0.02039012312889099, -0.007953657768666744, 0.01178599614650011, 0.0007945096585899591, 0.015576811507344246, -0.0023059560917317867, 0.03961819410324097, 0.021884746849536896, 0.04313564673066139, 0.0067596472799777985, -0.028460174798965454, 0.0012915907427668571, -0.03267379477620125, 0.00029056216590106487, 0.0012915907427668571, 0.0039746640250086784, 0.00029056216590106487, 0.0012915907427668571, 0.019275374710559845, -0.007358556613326073, 0.011220316402614117, 0.004548138473182917, 0.01178599614650011, 0.0008904347196221352, -0.007718841079622507, 0.0385768748819828, 0.027988290414214134, -0.0009441317524760962, -0.002830409910529852, 0.00562321487814188, 0.00040374230593442917, -0.002305362606421113, 0.001972375437617302, -0.0428813099861145, 0.03853119537234306, 0.014291105791926384, -0.014339393004775047, -0.01915125735104084, 0.04463126137852669, 0.025484461337327957, -0.007953657768666744, 0.013996824622154236, -0.005531708709895611, -0.001323130913078785, -0.015239601023495197, 0.04463126137852669, 0.012648871168494225, -0.04423651471734047, 0.042793963104486465, -0.010905100032687187, 0.035312630236148834, 0.006811945699155331, -0.002830409910529852, 0.00562321487814188, 0.00040374230593442917, -0.005531708709895611, -0.026785651221871376, 0.009436147287487984, -0.017855726182460785, 0.03542032837867737, 0.026036785915493965, 0.009628653526306152, -0.029452908784151077, 0.010301423259079456, 0.020090892910957336, 0.0008904347196221352, -0.022012166678905487, 0.0028495746664702892, -0.0062759919092059135, 0.014291105791926384, -0.017824966460466385, 0.02579301968216896, -0.007358556613326073, -0.07510854303836823, -0.027417169883847237, 0.0028495746664702892, -0.06446856260299683, 0.04021458700299263, 0.0, -0.5150985717773438, 0.6650526523590088, 0.4077756106853485, 0.07102754712104797, -0.028182007372379303, 0.2858545482158661, 0.818988025188446, 0.4399566948413849, 0.5874317288398743, 0.28169935941696167, 1.816697359085083, 0.34752827882766724, 0.1076776385307312, 0.3544078469276428, 0.1437906175851822, 0.028126060962677002, 0.0743878036737442, 0.5713219046592712, -0.1298656165599823, 0.2846541106700897, -0.131581649184227, 0.7854629158973694, 0.39257630705833435, -2.1126627922058105, 0.3349437415599823, -0.21200992166996002, 0.4506119191646576, -0.4340057075023651, 0.32106369733810425, -0.5656790137290955, -0.1488092690706253, 0.04442296922206879, -2.891818046569824, -0.021544188261032104, -0.24385489523410797, -0.000749081838876009, 0.3921199440956116, -0.1768331080675125, 0.0317595899105072, -0.04473651945590973, 0.28537774085998535, 0.024798721075057983, -0.0702601745724678, 0.31036534905433655, 0.13578657805919647, 0.03247930109500885, 0.5025902390480042, -0.5253243446350098, 0.1586868017911911, 0.14739032089710236, 1.8588659763336182, 0.0774240791797638, 0.0597931332886219, -0.011718742549419403, 0.30489540100097656, 0.06426737457513809, -0.1083860844373703, 0.3416939079761505, -0.23825082182884216, -0.08407814800739288, 0.36528870463371277, 0.2077140212059021, -0.12443448603153229, 0.23664356768131256, 0.6402895450592041, 0.11133959889411926, -0.20383542776107788, -0.17181791365146637, -0.010541670024394989, 0.06208271533250809, 0.4189355671405792, 0.036295875906944275, 0.43818095326423645, -0.4016304016113281, 0.1377795785665512, -0.6124813556671143, -0.31415796279907227, 0.023740559816360474, 0.548251211643219, 0.4755159914493561, -0.004509747494012117, 0.4946102797985077, 0.6230347752571106, 0.09543859213590622, 0.3457648456096649, -0.04284483194351196, 0.009846188127994537, 0.16652272641658783, 0.6071207523345947, 0.8495194315910339, -0.8458645343780518, 0.010209575295448303, 0.12308859825134277, 0.566776692867279, 0.43059200048446655, 0.07125382125377655, 0.4643495976924896, -0.3446560204029083, 0.011424437165260315, 0.29741963744163513, 0.48603466153144836, 0.05649621784687042, 0.5586782693862915, -0.06212633103132248, -0.5179922580718994, -0.0909026488661766, 0.31587252020835876, 0.2615315914154053, -0.011396072804927826, 0.01867278479039669, 0.5713683366775513, 0.3647564947605133, 0.7260649800300598, 0.23990967869758606, 2.7236108779907227, 0.05898614972829819, -2.5504181385040283, -0.8907274007797241, 0.42400333285331726, -3.076914072036743, 2.8023178577423096, 0.0, 0.24028311669826508, -0.02627100981771946, 0.12644241750240326, -0.11125345528125763, -0.13900548219680786, -0.36014842987060547, -0.31616732478141785, -0.013523637317121029, 0.3851715922355652, -0.06845451891422272, 0.14833156764507294, 0.25899824500083923, -0.16207054257392883, 0.3256678879261017, -0.21906240284442902, -0.09754745662212372, -0.017819274216890335, 0.1496553272008896, -0.0656404122710228, 0.004092262592166662, -0.17434875667095184, 0.07290800660848618, 0.23770108819007874, -0.8882696628570557, 0.3052774965763092, -0.22217711806297302, 0.016538532450795174, 0.03285350650548935, -0.1271839588880539, -0.5503549575805664, -0.0823718011379242, -0.10137777030467987, -0.23987875878810883, -0.14213959872722626, 0.1204095184803009, -0.16112014651298523, 0.07950971275568008, -0.010352457873523235, -0.1662438064813614, 0.16469646990299225, 0.058745790272951126, 0.09498737752437592, -0.055792905390262604, -0.04568426311016083, -0.01191004365682602, -0.13215409219264984, 0.2036142647266388, -0.41337642073631287, -0.3244321644306183, -0.20656634867191315, 0.245403453707695, 0.01118378434330225, -0.02595139667391777, 0.24291498959064484, 0.08031284809112549, 0.21186329424381256, -0.046735845506191254, 0.14320506155490875, 0.12039057910442352, -0.10357414186000824, 0.13836009800434113, 0.48639991879463196, -0.12402123212814331, 0.04123099148273468, 0.27079084515571594, -0.1417149156332016, 0.04172996059060097, 0.19863635301589966, 0.3494163751602173, 0.0005236243596300483, 0.0711354985833168, -0.04887823015451431, -0.14112284779548645, -0.04609983041882515, -0.2673487663269043, -0.30828309059143066, 0.4671168029308319, -0.14368362724781036, 0.023623457178473473, 0.09004110842943192, -0.02234695665538311, 0.17330574989318848, 0.5140389800071716, -0.04810697212815285, 0.33938315510749817, 0.03403085842728615, -0.054812293499708176, 0.12071380764245987, 0.14817829430103302, 0.6021642684936523, 0.08862358331680298, -0.07943981885910034, 0.04799363389611244, -0.110073983669281, 0.028658760711550713, -0.27411580085754395, -0.27801427245140076, -0.10306939482688904, -0.054036084562540054, 0.3160020112991333, -0.13998956978321075, 0.041906554251909256, 0.3615933358669281, 0.2670760452747345, 0.7040203213691711, 0.4566032886505127, 0.16038011014461517, -0.1495748609304428, -0.03746403381228447, 0.012730021961033344, 0.009081787429749966, 0.2388165444135666, -0.11209514737129211, 0.44586512446403503, 1.4367934465408325, -0.07563015818595886, -1.0050280094146729, -0.07998589426279068, -0.0020950273610651493, -0.8473709225654602, 1.366504430770874, 0.0, -1.1178902387619019, -0.5018454194068909, -0.07052075117826462, -0.4169371426105499, -0.4611389636993408, -0.5779433250427246, -0.5776691436767578, -0.028276244178414345, 0.0358348973095417, -0.399355411529541, -0.17201463878154755, 0.01103251613676548, -0.2578141987323761, 0.015972351655364037, -0.19104917347431183, -0.4388996362686157, -0.2917814254760742, 0.37561091780662537, -0.27573004364967346, -0.41381266713142395, -0.6008023023605347, -0.19783565402030945, -0.039192911237478256, -1.1339657306671143, -0.20019453763961792, -0.33052384853363037, -0.45898354053497314, -0.23079441487789154, -0.34508195519447327, -1.0172994136810303, -0.33256182074546814, -0.0890241339802742, -0.7207052111625671, -0.5580945611000061, -0.28391414880752563, -0.6446576118469238, -0.296787828207016, -0.4560182988643646, -0.150605246424675, 0.04060795530676842, 0.07474026829004288, -0.01915421523153782, -0.42095181345939636, -0.5457402467727661, -0.3707621395587921, -0.16292250156402588, 0.002793727209791541, -1.003210186958313, -0.6593724489212036, -0.5112318396568298, -0.037894029170274734, -0.09453930705785751, -0.005262477323412895, 0.05321252718567848, 0.048498064279556274, 0.05776498094201088, -0.3816573917865753, -0.06715839356184006, -0.08718738704919815, -0.4711973965167999, -0.17159348726272583, 0.34995806217193604, -0.6356066465377808, -0.2255943864583969, -0.20717324316501617, -0.3557533621788025, -0.48157572746276855, -0.385468065738678, 0.28477200865745544, -0.27568748593330383, -0.3258044421672821, -0.35563981533050537, 0.25931206345558167, -0.3547765612602234, -0.5603073835372925, -0.5332541465759277, 0.008491339161992073, -0.47960594296455383, -0.40095895528793335, -0.03654216602444649, -0.2704683542251587, -0.4606843590736389, 0.5736100673675537, -0.20502065122127533, 0.09568216651678085, -0.2746398150920868, -0.41949039697647095, -0.38415291905403137, -0.5382509231567383, 0.0043013859540224075, -0.5216228365898132, -0.3524172306060791, -0.0901527851819992, 0.16843274235725403, -0.5397520065307617, -0.520646870136261, 0.13768568634986877, -0.4394012987613678, -0.31771108508110046, -0.17690640687942505, -0.17113523185253143, -0.05541980639100075, 0.336765319108963, -0.00837450660765171, 0.5213742256164551, -0.44952791929244995, -0.41443154215812683, -0.6032663583755493, -0.585943877696991, -0.268283486366272, -0.15097469091415405, -0.37027764320373535, -0.6543265581130981, -0.2572769820690155, 1.2838349342346191, -0.46626222133636475, -2.1630678176879883, -0.4366346001625061, -0.26979854702949524, -1.8906493186950684, 1.3418529033660889, 0.0, -38.840450286865234, -0.9653971791267395, -0.42331936955451965, -0.7779232263565063, -0.774640679359436, -0.4457312226295471, -0.6413512825965881, -0.31524863839149475, -0.6489638090133667, -0.6274620294570923, -0.3970121443271637, -0.2630612552165985, -0.4412608742713928, -0.32062095403671265, -0.5463773608207703, -0.9543926119804382, -0.46107709407806396, -0.004858433268964291, -0.5777621269226074, -0.6792153716087341, -1.5326370000839233, -0.7437376379966736, -0.7920538187026978, -1.6214452981948853, -0.8594743609428406, -0.8425569534301758, -1.0454550981521606, -0.786500871181488, -0.8645609021186829, -1.8329936265945435, -0.9501858353614807, -0.9729793071746826, -1.4408231973648071, -0.7940656542778015, -1.1390968561172485, -1.2786144018173218, -0.5116087794303894, -0.7069560289382935, -0.8304640054702759, -0.3503684103488922, -0.3821827173233032, -0.46291154623031616, -0.7789933085441589, -0.7349518537521362, -0.5943478345870972, -0.5859427452087402, -0.5979325771331787, -1.5766180753707886, -0.6938877105712891, -0.6878575682640076, -0.2756575644016266, -0.7850582599639893, -0.37384599447250366, -0.16207093000411987, -0.3506692051887512, -0.31917324662208557, -0.792354166507721, -0.34457772970199585, -0.80565345287323, -0.9599140286445618, -0.434492290019989, -0.05350779742002487, -1.1617213487625122, -0.49837031960487366, -0.5769010782241821, -0.6919903755187988, -0.7783751487731934, -0.8770813941955566, -0.4211104214191437, -0.9332601428031921, -0.5694476366043091, -0.7929236888885498, -0.10072358697652817, -0.397672176361084, -0.6592593193054199, -0.7872402667999268, 0.1541043221950531, -0.7191588282585144, -0.4312119483947754, -0.17527247965335846, -0.5274009704589844, -0.7139606475830078, 0.23238323628902435, -0.3732234239578247, -0.3588395118713379, -0.6125648617744446, -0.6240552663803101, -0.7774022221565247, -0.7979399561882019, -0.0966607853770256, -0.9194583296775818, -0.9644240736961365, -0.5069487690925598, -0.5208417177200317, -0.7778497338294983, -1.2969006299972534, -0.3079126477241516, -0.4394693076610565, -0.4969575107097626, -0.5151537656784058, -0.5751599073410034, 0.020913176238536835, 0.15663358569145203, -0.300778329372406, 0.09285333007574081, -0.5067375898361206, -0.903732180595398, -0.8035435676574707, -0.5606999397277832, -0.5633221864700317, -0.5783472657203674, -0.7242152690887451, -0.8286553621292114, -0.8516920804977417, 1.1631497144699097, -1.110437273979187, -2.783457040786743, -1.032806158065796, -0.7130236625671387, -2.733330488204956, 1.4147311449050903, 0.0, -51.57937240600586, -0.8189334273338318, -0.4574202001094818, -0.8732613921165466, -0.4766010046005249, -0.052283741533756256, -0.434363454580307, -0.15921662747859955, -1.0684165954589844, -0.7940202355384827, -0.8733118176460266, -0.4305257797241211, -0.36737319827079773, -0.39681196212768555, -0.6975348591804504, -0.7972157001495361, -0.5832041501998901, -0.12221045047044754, -0.7246628403663635, -1.0502574443817139, -1.7940322160720825, -1.311955213546753, -1.2710715532302856, -1.7051581144332886, -0.8884121179580688, -1.00716233253479, -1.124574065208435, -0.9631986618041992, -1.1666710376739502, -1.9484213590621948, -1.0864332914352417, -0.8460937142372131, -1.6925016641616821, -0.9897528290748596, -0.8929387927055359, -1.3113901615142822, -0.794718325138092, -0.6494951248168945, -0.9114943146705627, -0.3459784686565399, -0.4758759140968323, -0.26580965518951416, -0.9321766495704651, -1.1086608171463013, -0.9028628468513489, -0.7571442723274231, -0.8925926089286804, -1.6881110668182373, -0.571565568447113, -0.7275016903877258, -0.6627489328384399, -0.8834747672080994, -0.5512139201164246, 0.06699246168136597, -0.2946101427078247, -0.20710794627666473, -1.0005550384521484, -0.6630250215530396, -0.657600462436676, -1.1642632484436035, -0.7254771590232849, -0.403129518032074, -1.3073346614837646, -0.5089176893234253, -0.4930262267589569, -0.8973503708839417, -1.0710957050323486, -0.8245096206665039, -0.3516453206539154, -1.0330389738082886, -0.8454061150550842, -0.9657477736473083, -0.4771987795829773, -0.34714046120643616, -0.7059560418128967, -1.120441198348999, 0.44024863839149475, -0.6542720794677734, -0.5938562154769897, -0.2555103302001953, -0.44995787739753723, -0.6177240014076233, 0.07339205592870712, -0.3516428768634796, -0.3677106499671936, -0.8066127300262451, -0.7291492819786072, -0.8184191584587097, -0.7430272698402405, -0.5391251444816589, -1.108960509300232, -1.135080337524414, -0.7055895328521729, -0.5867980718612671, -1.0093718767166138, -1.5310930013656616, -0.5992485880851746, -0.46095171570777893, -0.5720943808555603, -0.6164141297340393, -0.711294949054718, -0.25828778743743896, -0.34028422832489014, -0.45673978328704834, -0.07348211854696274, -0.3504033386707306, -0.8512454628944397, -0.6999785304069519, -0.7462924122810364, -0.8943890333175659, -0.71486896276474, -0.9985703229904175, -0.8197070360183716, -0.9777268767356873, 1.0179457664489746, -1.0389482975006104, -2.8480119705200195, -1.2755552530288696, -0.956282913684845, -2.8943235874176025, 1.2440742254257202, -0.0, -90.74437713623047, -1.1627758741378784, -1.2128280401229858, -1.570181131362915, -1.2103780508041382, -0.8340975046157837, -1.2441861629486084, -1.1129599809646606, -1.6988476514816284, -1.3586843013763428, -1.549115538597107, -1.2803820371627808, -1.0027470588684082, -1.3031103610992432, -1.4355840682983398, -1.4100735187530518, -1.1307995319366455, -0.9104141592979431, -1.1021690368652344, -1.3531984090805054, -2.2049360275268555, -1.8553504943847656, -1.4590766429901123, -2.3617684841156006, -2.022740125656128, -1.6043063402175903, -1.705993413925171, -2.1067285537719727, -1.763047456741333, -2.6535611152648926, -1.73393976688385, -2.0036773681640625, -2.3057875633239746, -1.4725592136383057, -1.3389781713485718, -1.7458525896072388, -1.4287538528442383, -1.488935112953186, -1.59433114528656, -1.5658425092697144, -1.207627773284912, -0.8370477557182312, -1.4543942213058472, -1.6209816932678223, -1.4498459100723267, -1.5922296047210693, -1.1583033800125122, -2.2545721530914307, -1.5343660116195679, -1.336285948753357, -1.2826154232025146, -1.2788463830947876, -0.8300414085388184, -1.3071600198745728, -1.3392200469970703, -0.988207221031189, -1.267471194267273, -1.2197057008743286, -1.259584665298462, -1.132020354270935, -1.1159486770629883, -1.2565438747406006, -1.3465551137924194, -1.0748398303985596, -0.9525774121284485, -1.604211449623108, -1.5995161533355713, -1.114422082901001, -1.1601707935333252, -1.5945768356323242, -1.296501874923706, -1.6782100200653076, -0.7328061461448669, -1.106030821800232, -1.250854730606079, -1.83542799949646, -0.36164093017578125, -1.2251806259155273, -1.2835628986358643, -1.1961088180541992, -1.1483408212661743, -1.7917888164520264, -0.8596242070198059, -0.9767309427261353, -1.1466635465621948, -1.1948376893997192, -1.2856597900390625, -1.1414247751235962, -1.5566339492797852, -1.5091465711593628, -1.492857813835144, -1.2626224756240845, -0.8551665544509888, -0.7604439854621887, -1.7337299585342407, -1.4125217199325562, -1.1535370349884033, -1.2942181825637817, -1.1704756021499634, -1.2279326915740967, -1.2007330656051636, -0.6206813454627991, -0.5250164866447449, -0.9245184659957886, -0.515383780002594, -0.6931036114692688, -1.253886342048645, -1.4932429790496826, -1.101625680923462, -1.4622870683670044, -1.101669430732727, -1.3098167181015015, -1.0994300842285156, -1.3419501781463623, 0.17491388320922852, -1.5525983572006226, -3.230872392654419, -1.7071031332015991, -1.386214256286621, -3.683377742767334, 0.49872493743896484, 0.0, -26.144601821899414, -0.9451432228088379, -0.6791425347328186, -0.5239688158035278, 0.13113029301166534, -0.03331215679645538, -0.45643022656440735, -0.13385088741779327, -0.314709335565567, -0.23325878381729126, -0.3188749849796295, -0.012379070743918419, 0.21850892901420593, -0.5862643718719482, -0.4573274850845337, -0.03258967399597168, 0.16051527857780457, 0.036797866225242615, 0.1148935928940773, -0.20739597082138062, -0.543003261089325, -1.1855242252349854, -0.48637160658836365, -0.7330980896949768, -0.9966550469398499, -0.30930787324905396, -0.9146375060081482, -1.352366328239441, -0.8504189848899841, -1.8206884860992432, -0.7584026455879211, -0.42643383145332336, -1.3236979246139526, -0.3592900037765503, 0.12180284410715103, -0.3380686342716217, -0.5326813459396362, -0.3756465017795563, -0.7808475494384766, -0.6297664642333984, -0.4497984051704407, 0.07993544638156891, -0.21289783716201782, -0.4846271276473999, -0.5567082166671753, -0.6812035441398621, -0.4875980317592621, -0.8288297653198242, -0.4107290208339691, -0.18940125405788422, -0.4305048882961273, -0.07692564278841019, -0.2347092479467392, -0.10391470044851303, -0.27316513657569885, -0.4260953962802887, -0.204359769821167, -0.04649669677019119, -0.7134435772895813, -0.21255718171596527, -0.04368605464696884, -0.5350142121315002, -0.06183025985956192, -0.27032068371772766, -0.5720369219779968, -1.0782525539398193, -0.6877206563949585, 0.25210848450660706, 0.36727532744407654, -0.10978428274393082, -0.4992477595806122, -0.6604365110397339, -0.13960526883602142, -0.4136742055416107, -0.34998390078544617, -0.5742642879486084, -0.45745763182640076, -0.04894457012414932, -0.7826216816902161, -0.314340740442276, 0.24135103821754456, -0.1416199654340744, 0.8806036710739136, 0.19068998098373413, -0.7257623076438904, 0.08341864496469498, -0.598713755607605, -0.9831585884094238, -0.7580150365829468, -0.7627824544906616, -0.12195675820112228, -0.6912136077880859, -0.2652975022792816, 0.5505582094192505, -0.2710981070995331, -1.2280986309051514, -0.3160191476345062, -0.14104154706001282, -0.06323657184839249, 0.13949662446975708, -0.07397031038999557, 0.37324258685112, 0.6540789604187012, 0.14204515516757965, 0.48608389496803284, 0.17239198088645935, 0.30632057785987854, -0.017563140019774437, 0.19537746906280518, 0.15378940105438232, -0.20421651005744934, -0.06616158783435822, -0.7261053919792175, -0.6561416387557983, 1.393812894821167, 0.07121018320322037, -2.1785638332366943, 0.044943131506443024, -0.5280813574790955, -2.6138648986816406, 2.3116438388824463, -0.0, -97.0533218383789, 0.606543779373169, 0.5009103417396545, -1.3470101356506348, -0.9655703902244568, -0.6205636858940125, 0.08871752768754959, -0.41319119930267334, -1.0657089948654175, -0.48957374691963196, 0.3102779984474182, 0.4327737092971802, 0.3928702175617218, -0.21823762357234955, 0.06267643719911575, -0.802043616771698, 0.5121943354606628, 1.4041732549667358, -0.44008180499076843, -0.9399585127830505, -0.2763838469982147, 0.6608324646949768, 0.025564497336745262, 1.5495918989181519, -0.5451844930648804, -0.15277445316314697, -0.11835505813360214, -0.6755723357200623, 0.5092258453369141, -2.537576198577881, -1.3194682598114014, -0.2812647521495819, -3.7742533683776855, 0.5552006959915161, -0.6131358742713928, 0.8897332549095154, 1.434747576713562, -0.6546404957771301, -0.5951293706893921, 0.21770146489143372, 0.8572295904159546, -0.5018138289451599, -0.41764020919799805, -0.8920631408691406, 0.40820178389549255, -0.2453935742378235, 0.35797029733657837, -0.9935826659202576, -1.2740626335144043, -0.7213797569274902, 0.9050094485282898, -1.0377901792526245, 0.1703869104385376, 0.5466068387031555, 0.6868413090705872, 0.08428937941789627, -0.5380826592445374, 0.14614644646644592, -1.0191993713378906, 0.38419806957244873, 0.6846157312393188, 0.015925457701086998, 0.05715510621666908, 0.14329394698143005, -1.200549840927124, -0.13825222849845886, -0.9320970773696899, 0.08484625071287155, 1.1173242330551147, 0.3286609351634979, 1.0036766529083252, 0.7023482918739319, -0.7416349053382874, -1.496902585029602, 0.6533920168876648, -2.371825695037842, -1.7995643615722656, 0.8917461037635803, 1.8254706859588623, 1.8872487545013428, -0.27509579062461853, 0.6403483748435974, 1.4046086072921753, 1.8574390411376953, 0.3311738967895508, -0.5169185996055603, -0.014240169897675514, -0.5607724189758301, -0.3285682499408722, -0.05952227860689163, -0.2003537118434906, 0.3986303508281708, 0.7683079242706299, 1.5102404356002808, -0.08895056694746017, 0.12713533639907837, 0.05291355773806572, -0.9951847195625305, -1.0005149841308594, -0.38607949018478394, -0.1418951153755188, 0.04376915469765663, 2.083392858505249, -0.42481836676597595, 0.5261055827140808, -1.4062049388885498, 0.09762007743120193, -0.6908891797065735, -0.28133365511894226, -0.32267647981643677, -0.5388126969337463, -0.019854331389069557, 0.905259907245636, -0.11148890107870102, 2.454807758331299, -0.07468249648809433, -3.153158664703369, -1.9211900234222412, 0.1780858337879181, -4.67705774307251, 3.6386659145355225, 0.0, -74.3459243774414, 0.09733478724956512, 0.008979602716863155, -1.0818212032318115, -0.03292478621006012, -0.45506101846694946, -0.4083195924758911, 0.16318057477474213, -0.1434672623872757, 0.3704310953617096, 0.43103691935539246, 0.2207023650407791, -0.5502776503562927, -1.4951610565185547, -0.4019860625267029, -0.8856707811355591, 0.11465193331241608, 0.20671446621418, -0.7232575416564941, -0.29227447509765625, 0.03186677396297455, 0.06425319612026215, 0.1415034979581833, -1.723744511604309, -2.0188486576080322, -0.4945409595966339, -0.8272782564163208, -1.5800167322158813, -1.4634625911712646, -3.3414058685302734, -2.1041929721832275, -1.5998797416687012, -2.996593475341797, -0.26648950576782227, -0.26374760270118713, 0.3076998293399811, 0.20765350759029388, -0.4817498028278351, -1.1045514345169067, -1.119655966758728, -0.23284544050693512, 0.12414005398750305, -0.0646819919347763, -0.6287791132926941, 0.06415806710720062, -0.43842625617980957, 0.047117218375205994, -1.7448346614837646, -0.5487407445907593, 0.3436151444911957, 0.4868125021457672, -0.24016408622264862, 0.05453449487686157, -0.727803111076355, -0.931664228439331, -0.3431156873703003, -0.724848747253418, -0.9407955408096313, -1.8047659397125244, -0.2083713859319687, -0.36723390221595764, 0.604709267616272, -0.435944139957428, -0.44897645711898804, -0.2541649639606476, -0.709170937538147, -0.7526758909225464, -0.5273210406303406, 0.7413910031318665, 1.2614119052886963, 1.6708418130874634, -0.27834054827690125, -1.4190914630889893, -0.6113266348838806, 0.01787973754107952, -2.221844434738159, -0.8490012884140015, 0.3989352881908417, 0.34408220648765564, 0.2787727415561676, -0.03301556408405304, 0.6060932874679565, 2.3105154037475586, 1.6338924169540405, 0.6517919898033142, -0.39765581488609314, -0.15825961530208588, -0.5189875364303589, -0.27283868193626404, -0.5533930063247681, -0.25297021865844727, 0.4659097492694855, 1.1076935529708862, 1.058929681777954, 0.347535103559494, -1.299459457397461, -0.892618715763092, -0.710158109664917, -1.623018741607666, -0.5338600873947144, 0.5512778759002686, 0.7031532526016235, 0.7441707849502563, -1.4488743543624878, 0.3852303922176361, 0.17237098515033722, -0.33475688099861145, -1.432291865348816, 0.25192728638648987, -0.45436224341392517, -0.030631737783551216, 0.6596430540084839, 0.11418284475803375, -0.8961473703384399, 3.852700710296631, -0.1798280030488968, -2.7358977794647217, -0.5917229652404785, -0.09249754250049591, -3.283608913421631, 4.558178424835205, -0.0, -116.56918334960938, -1.6476248502731323, 0.11683779954910278, -0.35234904289245605, -0.32968318462371826, -0.5725550651550293, -0.29361945390701294, -0.06967043876647949, 0.39329057931900024, -0.5845786333084106, 1.132138967514038, 0.6418302059173584, 0.026336494833230972, -0.10928419232368469, -0.15406084060668945, 0.07651650905609131, 0.5144086480140686, 1.2642484903335571, -0.5125585198402405, -0.7057895660400391, -0.9353888630867004, 0.3458267152309418, -0.24854852259159088, -2.471094846725464, -1.0840718746185303, -0.6597328782081604, -0.2274392545223236, -0.5557639598846436, 0.10491028428077698, -1.4514694213867188, -2.1759145259857178, -0.3332636058330536, -2.7928988933563232, 0.07895874977111816, -0.7612084150314331, 0.8572150468826294, 1.2736852169036865, -0.13697093725204468, -0.1888648122549057, 0.2147485315799713, 0.8441935181617737, 0.5335444211959839, -0.5119038820266724, -0.9443190097808838, 0.29883873462677, 0.506551206111908, 1.3553825616836548, -2.881065845489502, -1.4289320707321167, -1.19601571559906, -0.11082765460014343, -0.7776362895965576, 0.05092381313443184, 0.16542565822601318, 0.1862257719039917, 0.4625118672847748, -0.7688692808151245, 0.2831536531448364, -0.09785735607147217, 0.08646419644355774, 0.5543487668037415, 0.4549669325351715, -0.05478226765990257, -0.30912160873413086, 0.9022805690765381, 0.28557610511779785, -1.8790507316589355, -0.4582996368408203, -0.46344563364982605, 0.06466776132583618, -0.3126031458377838, -1.0343295335769653, -0.994277834892273, -0.9185481071472168, -0.6420512199401855, -0.8622887134552002, -0.717681884765625, -0.4478553235530853, 0.9451031684875488, 1.3567620515823364, -0.14791226387023926, 0.5918964147567749, 0.8463163375854492, 1.4661351442337036, -0.24281778931617737, -0.7357580661773682, -0.7827511429786682, -0.42751121520996094, -1.258413314819336, -1.2282789945602417, -1.6608449220657349, 0.13703793287277222, 0.7078569531440735, 1.2276804447174072, 0.25536513328552246, -1.0588868856430054, -1.3122787475585938, 0.22148823738098145, -0.46130847930908203, 0.30865395069122314, 1.1372783184051514, 0.4678293466567993, 1.5844695568084717, 0.1440245509147644, -0.22489768266677856, 0.023519936949014664, 0.34597963094711304, -0.11624255776405334, -1.012572169303894, -0.9228305816650391, -1.1782151460647583, -0.48323285579681396, 0.007948342710733414, 0.3740615248680115, 1.5721101760864258, -2.1120684146881104, -1.7026159763336182, -1.0180829763412476, -0.325228214263916, -4.64763069152832, 1.9017126560211182, 0.0, -66.96563720703125, -1.7270362377166748, -0.189317524433136, -1.5711818933486938, -0.1389022171497345, -0.5790696740150452, 0.2383849024772644, -0.5039714574813843, 0.12920665740966797, -0.09929639101028442, 0.9047215580940247, 0.9016222953796387, 0.10436207056045532, 0.6689042448997498, 0.49899905920028687, 0.20070648193359375, 0.26140713691711426, -0.028103351593017578, -0.4494323134422302, -1.0579843521118164, -1.4888784885406494, 0.6141167283058167, 0.22686445713043213, -1.7860571146011353, 0.4524773955345154, -0.7311363220214844, -0.4353634715080261, -1.0589152574539185, -0.22501927614212036, -1.9879648685455322, -1.934263825416565, -1.2643358707427979, -2.8290507793426514, -0.37004798650741577, -0.008472978137433529, -0.3131858706474304, -0.004718839656561613, 0.0015191889833658934, -0.6389966011047363, -0.02118659019470215, 0.3162463903427124, 0.6405953168869019, -0.10229796171188354, -1.2804173231124878, -0.43296217918395996, -0.22415503859519958, 0.550923228263855, -3.2550837993621826, -2.8197109699249268, -0.45314908027648926, 0.4207601547241211, -0.18267664313316345, 0.12963247299194336, 0.35715144872665405, 0.2753250002861023, 0.616000235080719, -0.6363831758499146, 0.07712453603744507, 0.046806395053863525, 0.14309954643249512, 0.5497755408287048, 0.6635157465934753, -0.19280624389648438, -0.010120450519025326, 1.493930697441101, -0.18531453609466553, -1.9743291139602661, -0.7109828591346741, -0.2660985589027405, 0.10431557893753052, -0.4512205719947815, -0.7321859002113342, 0.021264612674713135, -0.5567058324813843, -0.08355778455734253, -0.7183297276496887, -0.26931941509246826, -0.26201698184013367, 0.854052722454071, 1.3515561819076538, -0.10504263639450073, 0.3993243873119354, 1.719075322151184, 1.2978025674819946, 1.4828940629959106, -0.11776429414749146, -1.3959609270095825, -1.3256009817123413, -1.1641292572021484, -1.136086344718933, -1.2947226762771606, 1.0042541027069092, 0.7797756195068359, 1.1365174055099487, 0.15773946046829224, -1.0691126585006714, -0.23525220155715942, 0.7840756773948669, -0.12768548727035522, 0.03253263235092163, 1.1218584775924683, 0.7533197999000549, 2.2095999717712402, 0.08764225244522095, 0.21218305826187134, 0.5881133675575256, 1.1115567684173584, 0.30900487303733826, -0.49556511640548706, -0.5815407633781433, -0.9236787557601929, 0.32580310106277466, -0.2365630865097046, -0.7742487788200378, 1.4674233198165894, -0.638213038444519, -1.6427642107009888, 0.21488744020462036, -0.05643743276596069, -3.1110622882843018, 3.0260889530181885, 0.0, -29.99566078186035, 0.133047953248024, 0.8592623472213745, -1.0226490497589111, -1.0406417846679688, -1.1470422744750977, -0.051072344183921814, -0.7260125875473022, 0.6953554749488831, 1.1341922283172607, 1.926793098449707, 1.628868579864502, 0.9290891289710999, 1.492380976676941, 1.235357642173767, 0.8152686953544617, 1.066833257675171, 1.1109156608581543, 0.024636581540107727, -0.6791565418243408, -0.20859478414058685, 1.208901047706604, -0.02476923167705536, -1.5071604251861572, 0.9390629529953003, 0.1951398402452469, -0.675672173500061, -0.24068084359169006, -0.02020387351512909, -1.4378221035003662, -2.4070827960968018, -0.9689813852310181, -2.3597288131713867, 0.12323082983493805, 0.4509675204753876, -0.23813919723033905, -0.1873103827238083, 0.6703020930290222, -0.041492387652397156, 0.2603043019771576, 0.8692399859428406, 0.9002260565757751, 0.46630892157554626, -0.9680712223052979, -0.28639647364616394, 0.12335725128650665, 0.8087786436080933, -1.652625322341919, -0.21977920830249786, 1.103088140487671, 0.8660416007041931, 0.6351578235626221, 0.8631037473678589, 1.0085833072662354, 1.3864631652832031, 1.3314244747161865, 0.695910632610321, 1.2114243507385254, 0.2640344798564911, 0.5483078360557556, 1.0185073614120483, 0.875882625579834, -0.09521256387233734, 0.1386466771364212, 1.140618920326233, 0.27654537558555603, -1.5137158632278442, 0.010183886624872684, -0.02802722156047821, 1.0819497108459473, 0.07100923359394073, -0.37067243456840515, 0.12895603477954865, 0.23166437447071075, 0.054992154240608215, -0.8312772512435913, -0.3216663897037506, -0.05034109950065613, 0.532450795173645, 1.4463876485824585, 0.633920431137085, 0.1501118689775467, 2.4410958290100098, 1.6900428533554077, 1.828419804573059, 0.947351336479187, -0.4209081828594208, -0.11516116559505463, -0.5611966848373413, -0.3857218623161316, -1.0705190896987915, 1.4634246826171875, 0.3506992757320404, 0.9149007797241211, -0.03613273799419403, -1.048506259918213, -0.07689313590526581, 0.5903794169425964, 0.17333485186100006, 0.6594783067703247, 1.0744965076446533, 0.976976215839386, 1.8594478368759155, 0.32804372906684875, 0.8454259634017944, 0.7560378313064575, 0.9669526219367981, -1.1101200580596924, -0.46907415986061096, -0.988065242767334, -0.8690125942230225, 1.0149062871932983, -0.2981204092502594, -1.3545806407928467, 1.8361785411834717, -1.068345069885254, -1.9866784811019897, -0.04482291638851166, -0.44061508774757385, -3.715236186981201, 2.702364921569824, 0.0, -28.33121109008789, 0.7174674868583679, 0.21847207844257355, -0.6601644158363342, -1.037205696105957, -0.72206711769104, 0.20354785025119781, -0.4012741148471832, 0.6574837565422058, 1.963112473487854, 2.2641849517822266, 2.1299335956573486, 0.590650200843811, 1.5697214603424072, 1.4809707403182983, 0.9463832974433899, 0.7423515319824219, 1.4269380569458008, 0.270258367061615, -0.4882790446281433, 0.3468574285507202, 1.2857352495193481, 0.825922429561615, -1.0023223161697388, 0.7661423683166504, 0.728761613368988, 0.5868970155715942, 0.08847145736217499, 0.2984431982040405, -2.8186142444610596, -2.333263874053955, -1.2551345825195312, -2.9026434421539307, 0.5232694745063782, 0.6252336502075195, 0.7036885023117065, 0.43124139308929443, 0.8516467213630676, 0.3007521629333496, 0.7928240299224854, 0.7055924534797668, 0.810357391834259, 0.3990170955657959, -0.6347094774246216, 0.4391377568244934, 0.4119377136230469, 0.5726935863494873, -1.3683044910430908, 0.6492921113967896, 1.1073412895202637, 1.2002793550491333, 1.2123403549194336, 1.069094181060791, 1.3250679969787598, 1.0406018495559692, 0.6389742493629456, 0.6776313781738281, 0.5433831214904785, 0.12744252383708954, 0.7414872050285339, 0.7750392556190491, 0.5510407090187073, 0.46622222661972046, 0.15894348919391632, 1.1271435022354126, 0.42771607637405396, -1.4066284894943237, -0.584465742111206, 0.6894841194152832, 1.8911699056625366, 0.6929996013641357, -0.6708548069000244, -0.15450648963451385, 0.06703115999698639, -0.4748665690422058, -1.353151798248291, 0.8618236184120178, 0.7183278203010559, 0.2018444687128067, 1.5337663888931274, 1.5205906629562378, 1.4491392374038696, 3.4738047122955322, 2.9538238048553467, 2.7077903747558594, 0.5271010994911194, 0.2315637618303299, -0.20247529447078705, -0.46817243099212646, 0.49220389127731323, -1.058233380317688, 1.0128167867660522, 0.6539196372032166, 1.8840934038162231, 0.029857590794563293, -0.6286181807518005, 0.0943460613489151, 0.8332722783088684, -0.16605381667613983, 1.6681867837905884, 1.9665871858596802, 1.929538607597351, 1.208373785018921, 0.22475023567676544, 0.44211846590042114, 0.13815279304981232, 0.7567884922027588, -1.1137639284133911, -0.7844182848930359, -0.41997623443603516, -0.7769245505332947, 0.27170711755752563, 0.33789652585983276, -1.1452945470809937, 1.5866856575012207, -0.5851640105247498, -1.597204566001892, -0.6059754490852356, -0.855689525604248, -2.8627560138702393, 2.3251588344573975, 0.0, 6.922291278839111, 2.4445061683654785, 2.3284406661987305, 1.1255884170532227, -0.12151841074228287, 1.2892353534698486, 1.1779040098190308, 1.9810765981674194, 2.40226411819458, 3.2689690589904785, 4.272315502166748, 5.068508148193359, 1.8755725622177124, 2.881331443786621, 3.211665391921997, 2.4888148307800293, 1.574100136756897, 3.65130615234375, 2.737170696258545, 1.8438224792480469, 2.4737184047698975, 1.886076807975769, 3.2182512283325195, 0.8353650569915771, 2.2544705867767334, 3.2790346145629883, 1.9167214632034302, 2.1136157512664795, 2.478959560394287, -1.441097617149353, -1.1090422868728638, 0.8710075616836548, -1.3076456785202026, 1.7875908613204956, 2.419346332550049, 2.2128031253814697, 2.756242275238037, 2.9019525051116943, 1.896457552909851, 4.000911235809326, 2.9998159408569336, 2.833705186843872, 2.037107467651367, 0.810515284538269, 2.0001957416534424, 1.7699755430221558, 1.502426028251648, -0.13238735496997833, 2.584784984588623, 2.3404271602630615, 1.998133897781372, 2.5705790519714355, 2.38383412361145, 3.804417133331299, 2.7145938873291016, 1.5036317110061646, 2.2356035709381104, 2.414530038833618, 1.1298102140426636, 3.0915110111236572, 2.766157388687134, 1.870174527168274, 3.1205034255981445, 2.1564407348632812, 3.2792911529541016, 1.9802961349487305, -0.2584567368030548, -0.24026669561862946, 1.8916079998016357, 4.750231742858887, 2.737014055252075, -0.5560311079025269, 0.7299424409866333, 2.082728624343872, 0.7777363061904907, -0.4983305335044861, 2.355233907699585, 3.2431373596191406, 2.887972354888916, 3.926837921142578, 3.3561043739318848, 2.7058444023132324, 4.894658088684082, 4.025120258331299, 4.933657646179199, 2.4277052879333496, 1.639610767364502, 0.8010812997817993, 0.3482736051082611, 1.7039042711257935, 0.09297475963830948, 2.540417194366455, 1.8613044023513794, 3.705416679382324, 1.452737808227539, -0.26389026641845703, 0.11413637548685074, 3.2020423412323, 1.420068621635437, 2.986572027206421, 3.0666046142578125, 2.8341641426086426, 3.49448823928833, 1.3383623361587524, 1.4308288097381592, 1.5449239015579224, 2.5681519508361816, 0.5884844064712524, 0.8996341228485107, 0.07425496727228165, 0.19880889356136322, 2.3634867668151855, 1.8676105737686157, 0.7619138956069946, 2.9323933124542236, 1.9909557104110718, -0.20977933704853058, 0.8403997421264648, 0.30244728922843933, -1.7773385047912598, 3.6005516052246094, -0.0, 1.4817531108856201, 3.563617467880249, 3.30580472946167, 2.2302334308624268, 1.673525333404541, 2.409280776977539, 1.742008924484253, 1.5087790489196777, 3.100595474243164, 3.8916594982147217, 3.697495222091675, 4.720824718475342, 2.322396755218506, 2.7068099975585938, 3.5429470539093018, 4.004462718963623, 2.333676338195801, 3.309403657913208, 3.3092031478881836, 2.3541808128356934, 3.4037206172943115, 2.5194814205169678, 2.8588218688964844, 0.8009070754051208, 2.113128185272217, 4.3357625007629395, 2.4617764949798584, 3.1552884578704834, 3.075315475463867, -0.2999595105648041, 0.442501425743103, 1.6157325506210327, -2.0984926223754883, 1.9248336553573608, 2.753359079360962, 2.6726343631744385, 1.6764686107635498, 3.0117576122283936, 2.3984415531158447, 3.8006629943847656, 2.9610724449157715, 3.2362570762634277, 3.0157854557037354, 1.4379427433013916, 1.9291810989379883, 1.7987405061721802, 1.060004472732544, 0.2948351502418518, 2.619314432144165, 3.703928232192993, 2.948773145675659, 4.024774551391602, 3.6946303844451904, 4.711524486541748, 3.0155138969421387, 2.7346365451812744, 3.685363531112671, 2.1781394481658936, 2.4364876747131348, 4.645774841308594, 2.516909122467041, 2.877629518508911, 4.336470603942871, 1.8572046756744385, 2.9422478675842285, 3.335123062133789, -0.7245070338249207, 0.6282753944396973, 2.5380356311798096, 5.311305999755859, 3.6095025539398193, -0.7049278616905212, 0.9253665804862976, 1.9613890647888184, 0.7303335666656494, -0.3340817093849182, 2.0791029930114746, 3.287208080291748, 2.7648916244506836, 4.77028226852417, 4.148708820343018, 2.842453718185425, 5.913670539855957, 5.07409143447876, 5.042614459991455, 1.4129360914230347, 1.8763384819030762, 1.7930395603179932, 0.7180934548377991, 2.5649569034576416, -0.8879728317260742, 2.7592813968658447, 2.1980693340301514, 3.9546399116516113, 1.645939826965332, -0.7569367289543152, 0.05565081164240837, 2.916121482849121, 1.0182907581329346, 2.1504452228546143, 4.269720077514648, 3.146272659301758, 4.587644577026367, 0.8218469023704529, 1.2126693725585938, 2.2409768104553223, 4.6160454750061035, 1.8670713901519775, 0.5391767024993896, 0.6286033391952515, -0.38931483030319214, 2.926109552383423, 2.237562894821167, 0.6627627611160278, 3.4022185802459717, 1.7020153999328613, 0.07990290224552155, 0.9584571123123169, -0.2417217344045639, -0.8762247562408447, 5.011773109436035, -0.0], \"minValue\": -5, \"maxValue\": 5}\n",
       "    )\n",
       "    </script>"
      ],
      "text/plain": [
       "<circuitsvis.utils.render.RenderedHTML at 0x7f78e5eb84c0>"
      ]
     },
     "execution_count": 29,
     "metadata": {},
     "output_type": "execute_result"
    }
   ],
   "source": [
    "plot_colors('imdb', prompt_id=4)"
   ]
  },
  {
   "cell_type": "code",
   "execution_count": 30,
   "metadata": {},
   "outputs": [
    {
     "name": "stdout",
     "output_type": "stream",
     "text": [
      "distance bounds: tensor(-116.5692) tensor(97.0533)\n"
     ]
    },
    {
     "data": {
      "text/html": [
       "<div id=\"circuits-vis-91a3707e-da08\" style=\"margin: 15px 0;\"/>\n",
       "    <script crossorigin type=\"module\">\n",
       "    import { render, ColoredTokens } from \"https://unpkg.com/circuitsvis@1.39.1/dist/cdn/esm.js\";\n",
       "    render(\n",
       "      \"circuits-vis-91a3707e-da08\",\n",
       "      ColoredTokens,\n",
       "      {\"tokens\": [\"<|endoftext|>\", \"V\", \"isa\", \" policy\", \" of\", \" Mont\", \"en\", \"eg\", \"ro\", \" --\", \" Nation\", \"als\", \" of\", \" any\", \" country\", \" may\", \" visit\", \" Mont\", \"en\", \"eg\", \"ro\", \" without\", \" a\", \" visa\", \" for\", \" up\", \" to\", \" 30\", \" days\", \" if\", \" they\", \" hold\", \" a\", \" passport\", \" with\", \" visas\", \" issued\", \" by\", \" Ireland\", \",\", \" a\", \" Sc\", \"hen\", \"gen\", \" Area\", \" member\", \" state\", \",\", \" the\", \" United\", \" Kingdom\", \" or\", \" the\", \" United\", \" States\", \" or\", \" if\", \" they\", \" are\", \" permanent\", \" residents\", \" of\", \" those\", \" countries\", \".\", \" Res\", \"idents\", \" of\", \" the\", \" United\", \" Arab\", \" Emirates\", \" do\", \" not\", \" require\", \" a\", \" visa\", \" for\", \" up\", \" to\", \" 10\", \" days\", \",\", \" if\", \" they\", \" hold\", \" a\", \" return\", \" ticket\", \" and\", \" proof\", \" of\", \" accommodation\", \".\", \" \\n\", \"\\n\", \"Having\", \" read\", \" that\", \",\", \" I\", \" wonder\", \" can\", \" i\", \" go\", \" to\", \" mont\", \"en\", \"eg\", \"ro\", \" with\", \" a\", \" sc\", \"hen\", \"gen\", \" visa\", \"?\", \"\\n\", \"\\n\", \"No\", \"Yes\", \"\\n\\n\\n\", \"<|endoftext|>\", \"V\", \"isa\", \" policy\", \" of\", \" Mont\", \"en\", \"eg\", \"ro\", \" --\", \" Nation\", \"als\", \" of\", \" any\", \" country\", \" may\", \" visit\", \" Mont\", \"en\", \"eg\", \"ro\", \" without\", \" a\", \" visa\", \" for\", \" up\", \" to\", \" 30\", \" days\", \" if\", \" they\", \" hold\", \" a\", \" passport\", \" with\", \" visas\", \" issued\", \" by\", \" Ireland\", \",\", \" a\", \" Sc\", \"hen\", \"gen\", \" Area\", \" member\", \" state\", \",\", \" the\", \" United\", \" Kingdom\", \" or\", \" the\", \" United\", \" States\", \" or\", \" if\", \" they\", \" are\", \" permanent\", \" residents\", \" of\", \" those\", \" countries\", \".\", \" Res\", \"idents\", \" of\", \" the\", \" United\", \" Arab\", \" Emirates\", \" do\", \" not\", \" require\", \" a\", \" visa\", \" for\", \" up\", \" to\", \" 10\", \" days\", \",\", \" if\", \" they\", \" hold\", \" a\", \" return\", \" ticket\", \" and\", \" proof\", \" of\", \" accommodation\", \".\", \" \\n\", \"\\n\", \"Having\", \" read\", \" that\", \",\", \" I\", \" wonder\", \" can\", \" i\", \" go\", \" to\", \" mont\", \"en\", \"eg\", \"ro\", \" with\", \" a\", \" sc\", \"hen\", \"gen\", \" visa\", \"?\", \"\\n\", \"\\n\", \"No\", \"Yes\", \"\\n\\n\\n\", \"<|endoftext|>\", \"V\", \"isa\", \" policy\", \" of\", \" Mont\", \"en\", \"eg\", \"ro\", \" --\", \" Nation\", \"als\", \" of\", \" any\", \" country\", \" may\", \" visit\", \" Mont\", \"en\", \"eg\", \"ro\", \" without\", \" a\", \" visa\", \" for\", \" up\", \" to\", \" 30\", \" days\", \" if\", \" they\", \" hold\", \" a\", \" passport\", \" with\", \" visas\", \" issued\", \" by\", \" Ireland\", \",\", \" a\", \" Sc\", \"hen\", \"gen\", \" Area\", \" member\", \" state\", \",\", \" the\", \" United\", \" Kingdom\", \" or\", \" the\", \" United\", \" States\", \" or\", \" if\", \" they\", \" are\", \" permanent\", \" residents\", \" of\", \" those\", \" countries\", \".\", \" Res\", \"idents\", \" of\", \" the\", \" United\", \" Arab\", \" Emirates\", \" do\", \" not\", \" require\", \" a\", \" visa\", \" for\", \" up\", \" to\", \" 10\", \" days\", \",\", \" if\", \" they\", \" hold\", \" a\", \" return\", \" ticket\", \" and\", \" proof\", \" of\", \" accommodation\", \".\", \" \\n\", \"\\n\", \"Having\", \" read\", \" that\", \",\", \" I\", \" wonder\", \" can\", \" i\", \" go\", \" to\", \" mont\", \"en\", \"eg\", \"ro\", \" with\", \" a\", \" sc\", \"hen\", \"gen\", \" visa\", \"?\", \"\\n\", \"\\n\", \"No\", \"Yes\", \"\\n\\n\\n\", \"<|endoftext|>\", \"V\", \"isa\", \" policy\", \" of\", \" Mont\", \"en\", \"eg\", \"ro\", \" --\", \" Nation\", \"als\", \" of\", \" any\", \" country\", \" may\", \" visit\", \" Mont\", \"en\", \"eg\", \"ro\", \" without\", \" a\", \" visa\", \" for\", \" up\", \" to\", \" 30\", \" days\", \" if\", \" they\", \" hold\", \" a\", \" passport\", \" with\", \" visas\", \" issued\", \" by\", \" Ireland\", \",\", \" a\", \" Sc\", \"hen\", \"gen\", \" Area\", \" member\", \" state\", \",\", \" the\", \" United\", \" Kingdom\", \" or\", \" the\", \" United\", \" States\", \" or\", \" if\", \" they\", \" are\", \" permanent\", \" residents\", \" of\", \" those\", \" countries\", \".\", \" Res\", \"idents\", \" of\", \" the\", \" United\", \" Arab\", \" Emirates\", \" do\", \" not\", \" require\", \" a\", \" visa\", \" for\", \" up\", \" to\", \" 10\", \" days\", \",\", \" if\", \" they\", \" hold\", \" a\", \" return\", \" ticket\", \" and\", \" proof\", \" of\", \" accommodation\", \".\", \" \\n\", \"\\n\", \"Having\", \" read\", \" that\", \",\", \" I\", \" wonder\", \" can\", \" i\", \" go\", \" to\", \" mont\", \"en\", \"eg\", \"ro\", \" with\", \" a\", \" sc\", \"hen\", \"gen\", \" visa\", \"?\", \"\\n\", \"\\n\", \"No\", \"Yes\", \"\\n\\n\\n\", \"<|endoftext|>\", \"V\", \"isa\", \" policy\", \" of\", \" Mont\", \"en\", \"eg\", \"ro\", \" --\", \" Nation\", \"als\", \" of\", \" any\", \" country\", \" may\", \" visit\", \" Mont\", \"en\", \"eg\", \"ro\", \" without\", \" a\", \" visa\", \" for\", \" up\", \" to\", \" 30\", \" days\", \" if\", \" they\", \" hold\", \" a\", \" passport\", \" with\", \" visas\", \" issued\", \" by\", \" Ireland\", \",\", \" a\", \" Sc\", \"hen\", \"gen\", \" Area\", \" member\", \" state\", \",\", \" the\", \" United\", \" Kingdom\", \" or\", \" the\", \" United\", \" States\", \" or\", \" if\", \" they\", \" are\", \" permanent\", \" residents\", \" of\", \" those\", \" countries\", \".\", \" Res\", \"idents\", \" of\", \" the\", \" United\", \" Arab\", \" Emirates\", \" do\", \" not\", \" require\", \" a\", \" visa\", \" for\", \" up\", \" to\", \" 10\", \" days\", \",\", \" if\", \" they\", \" hold\", \" a\", \" return\", \" ticket\", \" and\", \" proof\", \" of\", \" accommodation\", \".\", \" \\n\", \"\\n\", \"Having\", \" read\", \" that\", \",\", \" I\", \" wonder\", \" can\", \" i\", \" go\", \" to\", \" mont\", \"en\", \"eg\", \"ro\", \" with\", \" a\", \" sc\", \"hen\", \"gen\", \" visa\", \"?\", \"\\n\", \"\\n\", \"No\", \"Yes\", \"\\n\\n\\n\", \"<|endoftext|>\", \"V\", \"isa\", \" policy\", \" of\", \" Mont\", \"en\", \"eg\", \"ro\", \" --\", \" Nation\", \"als\", \" of\", \" any\", \" country\", \" may\", \" visit\", \" Mont\", \"en\", \"eg\", \"ro\", \" without\", \" a\", \" visa\", \" for\", \" up\", \" to\", \" 30\", \" days\", \" if\", \" they\", \" hold\", \" a\", \" passport\", \" with\", \" visas\", \" issued\", \" by\", \" Ireland\", \",\", \" a\", \" Sc\", \"hen\", \"gen\", \" Area\", \" member\", \" state\", \",\", \" the\", \" United\", \" Kingdom\", \" or\", \" the\", \" United\", \" States\", \" or\", \" if\", \" they\", \" are\", \" permanent\", \" residents\", \" of\", \" those\", \" countries\", \".\", \" Res\", \"idents\", \" of\", \" the\", \" United\", \" Arab\", \" Emirates\", \" do\", \" not\", \" require\", \" a\", \" visa\", \" for\", \" up\", \" to\", \" 10\", \" days\", \",\", \" if\", \" they\", \" hold\", \" a\", \" return\", \" ticket\", \" and\", \" proof\", \" of\", \" accommodation\", \".\", \" \\n\", \"\\n\", \"Having\", \" read\", \" that\", \",\", \" I\", \" wonder\", \" can\", \" i\", \" go\", \" to\", \" mont\", \"en\", \"eg\", \"ro\", \" with\", \" a\", \" sc\", \"hen\", \"gen\", \" visa\", \"?\", \"\\n\", \"\\n\", \"No\", \"Yes\", \"\\n\\n\\n\", \"<|endoftext|>\", \"V\", \"isa\", \" policy\", \" of\", \" Mont\", \"en\", \"eg\", \"ro\", \" --\", \" Nation\", \"als\", \" of\", \" any\", \" country\", \" may\", \" visit\", \" Mont\", \"en\", \"eg\", \"ro\", \" without\", \" a\", \" visa\", \" for\", \" up\", \" to\", \" 30\", \" days\", \" if\", \" they\", \" hold\", \" a\", \" passport\", \" with\", \" visas\", \" issued\", \" by\", \" Ireland\", \",\", \" a\", \" Sc\", \"hen\", \"gen\", \" Area\", \" member\", \" state\", \",\", \" the\", \" United\", \" Kingdom\", \" or\", \" the\", \" United\", \" States\", \" or\", \" if\", \" they\", \" are\", \" permanent\", \" residents\", \" of\", \" those\", \" countries\", \".\", \" Res\", \"idents\", \" of\", \" the\", \" United\", \" Arab\", \" Emirates\", \" do\", \" not\", \" require\", \" a\", \" visa\", \" for\", \" up\", \" to\", \" 10\", \" days\", \",\", \" if\", \" they\", \" hold\", \" a\", \" return\", \" ticket\", \" and\", \" proof\", \" of\", \" accommodation\", \".\", \" \\n\", \"\\n\", \"Having\", \" read\", \" that\", \",\", \" I\", \" wonder\", \" can\", \" i\", \" go\", \" to\", \" mont\", \"en\", \"eg\", \"ro\", \" with\", \" a\", \" sc\", \"hen\", \"gen\", \" visa\", \"?\", \"\\n\", \"\\n\", \"No\", \"Yes\", \"\\n\\n\\n\", \"<|endoftext|>\", \"V\", \"isa\", \" policy\", \" of\", \" Mont\", \"en\", \"eg\", \"ro\", \" --\", \" Nation\", \"als\", \" of\", \" any\", \" country\", \" may\", \" visit\", \" Mont\", \"en\", \"eg\", \"ro\", \" without\", \" a\", \" visa\", \" for\", \" up\", \" to\", \" 30\", \" days\", \" if\", \" they\", \" hold\", \" a\", \" passport\", \" with\", \" visas\", \" issued\", \" by\", \" Ireland\", \",\", \" a\", \" Sc\", \"hen\", \"gen\", \" Area\", \" member\", \" state\", \",\", \" the\", \" United\", \" Kingdom\", \" or\", \" the\", \" United\", \" States\", \" or\", \" if\", \" they\", \" are\", \" permanent\", \" residents\", \" of\", \" those\", \" countries\", \".\", \" Res\", \"idents\", \" of\", \" the\", \" United\", \" Arab\", \" Emirates\", \" do\", \" not\", \" require\", \" a\", \" visa\", \" for\", \" up\", \" to\", \" 10\", \" days\", \",\", \" if\", \" they\", \" hold\", \" a\", \" return\", \" ticket\", \" and\", \" proof\", \" of\", \" accommodation\", \".\", \" \\n\", \"\\n\", \"Having\", \" read\", \" that\", \",\", \" I\", \" wonder\", \" can\", \" i\", \" go\", \" to\", \" mont\", \"en\", \"eg\", \"ro\", \" with\", \" a\", \" sc\", \"hen\", \"gen\", \" visa\", \"?\", \"\\n\", \"\\n\", \"No\", \"Yes\", \"\\n\\n\\n\", \"<|endoftext|>\", \"V\", \"isa\", \" policy\", \" of\", \" Mont\", \"en\", \"eg\", \"ro\", \" --\", \" Nation\", \"als\", \" of\", \" any\", \" country\", \" may\", \" visit\", \" Mont\", \"en\", \"eg\", \"ro\", \" without\", \" a\", \" visa\", \" for\", \" up\", \" to\", \" 30\", \" days\", \" if\", \" they\", \" hold\", \" a\", \" passport\", \" with\", \" visas\", \" issued\", \" by\", \" Ireland\", \",\", \" a\", \" Sc\", \"hen\", \"gen\", \" Area\", \" member\", \" state\", \",\", \" the\", \" United\", \" Kingdom\", \" or\", \" the\", \" United\", \" States\", \" or\", \" if\", \" they\", \" are\", \" permanent\", \" residents\", \" of\", \" those\", \" countries\", \".\", \" Res\", \"idents\", \" of\", \" the\", \" United\", \" Arab\", \" Emirates\", \" do\", \" not\", \" require\", \" a\", \" visa\", \" for\", \" up\", \" to\", \" 10\", \" days\", \",\", \" if\", \" they\", \" hold\", \" a\", \" return\", \" ticket\", \" and\", \" proof\", \" of\", \" accommodation\", \".\", \" \\n\", \"\\n\", \"Having\", \" read\", \" that\", \",\", \" I\", \" wonder\", \" can\", \" i\", \" go\", \" to\", \" mont\", \"en\", \"eg\", \"ro\", \" with\", \" a\", \" sc\", \"hen\", \"gen\", \" visa\", \"?\", \"\\n\", \"\\n\", \"No\", \"Yes\", \"\\n\\n\\n\", \"<|endoftext|>\", \"V\", \"isa\", \" policy\", \" of\", \" Mont\", \"en\", \"eg\", \"ro\", \" --\", \" Nation\", \"als\", \" of\", \" any\", \" country\", \" may\", \" visit\", \" Mont\", \"en\", \"eg\", \"ro\", \" without\", \" a\", \" visa\", \" for\", \" up\", \" to\", \" 30\", \" days\", \" if\", \" they\", \" hold\", \" a\", \" passport\", \" with\", \" visas\", \" issued\", \" by\", \" Ireland\", \",\", \" a\", \" Sc\", \"hen\", \"gen\", \" Area\", \" member\", \" state\", \",\", \" the\", \" United\", \" Kingdom\", \" or\", \" the\", \" United\", \" States\", \" or\", \" if\", \" they\", \" are\", \" permanent\", \" residents\", \" of\", \" those\", \" countries\", \".\", \" Res\", \"idents\", \" of\", \" the\", \" United\", \" Arab\", \" Emirates\", \" do\", \" not\", \" require\", \" a\", \" visa\", \" for\", \" up\", \" to\", \" 10\", \" days\", \",\", \" if\", \" they\", \" hold\", \" a\", \" return\", \" ticket\", \" and\", \" proof\", \" of\", \" accommodation\", \".\", \" \\n\", \"\\n\", \"Having\", \" read\", \" that\", \",\", \" I\", \" wonder\", \" can\", \" i\", \" go\", \" to\", \" mont\", \"en\", \"eg\", \"ro\", \" with\", \" a\", \" sc\", \"hen\", \"gen\", \" visa\", \"?\", \"\\n\", \"\\n\", \"No\", \"Yes\", \"\\n\\n\\n\", \"<|endoftext|>\", \"V\", \"isa\", \" policy\", \" of\", \" Mont\", \"en\", \"eg\", \"ro\", \" --\", \" Nation\", \"als\", \" of\", \" any\", \" country\", \" may\", \" visit\", \" Mont\", \"en\", \"eg\", \"ro\", \" without\", \" a\", \" visa\", \" for\", \" up\", \" to\", \" 30\", \" days\", \" if\", \" they\", \" hold\", \" a\", \" passport\", \" with\", \" visas\", \" issued\", \" by\", \" Ireland\", \",\", \" a\", \" Sc\", \"hen\", \"gen\", \" Area\", \" member\", \" state\", \",\", \" the\", \" United\", \" Kingdom\", \" or\", \" the\", \" United\", \" States\", \" or\", \" if\", \" they\", \" are\", \" permanent\", \" residents\", \" of\", \" those\", \" countries\", \".\", \" Res\", \"idents\", \" of\", \" the\", \" United\", \" Arab\", \" Emirates\", \" do\", \" not\", \" require\", \" a\", \" visa\", \" for\", \" up\", \" to\", \" 10\", \" days\", \",\", \" if\", \" they\", \" hold\", \" a\", \" return\", \" ticket\", \" and\", \" proof\", \" of\", \" accommodation\", \".\", \" \\n\", \"\\n\", \"Having\", \" read\", \" that\", \",\", \" I\", \" wonder\", \" can\", \" i\", \" go\", \" to\", \" mont\", \"en\", \"eg\", \"ro\", \" with\", \" a\", \" sc\", \"hen\", \"gen\", \" visa\", \"?\", \"\\n\", \"\\n\", \"No\", \"Yes\", \"\\n\\n\\n\", \"<|endoftext|>\", \"V\", \"isa\", \" policy\", \" of\", \" Mont\", \"en\", \"eg\", \"ro\", \" --\", \" Nation\", \"als\", \" of\", \" any\", \" country\", \" may\", \" visit\", \" Mont\", \"en\", \"eg\", \"ro\", \" without\", \" a\", \" visa\", \" for\", \" up\", \" to\", \" 30\", \" days\", \" if\", \" they\", \" hold\", \" a\", \" passport\", \" with\", \" visas\", \" issued\", \" by\", \" Ireland\", \",\", \" a\", \" Sc\", \"hen\", \"gen\", \" Area\", \" member\", \" state\", \",\", \" the\", \" United\", \" Kingdom\", \" or\", \" the\", \" United\", \" States\", \" or\", \" if\", \" they\", \" are\", \" permanent\", \" residents\", \" of\", \" those\", \" countries\", \".\", \" Res\", \"idents\", \" of\", \" the\", \" United\", \" Arab\", \" Emirates\", \" do\", \" not\", \" require\", \" a\", \" visa\", \" for\", \" up\", \" to\", \" 10\", \" days\", \",\", \" if\", \" they\", \" hold\", \" a\", \" return\", \" ticket\", \" and\", \" proof\", \" of\", \" accommodation\", \".\", \" \\n\", \"\\n\", \"Having\", \" read\", \" that\", \",\", \" I\", \" wonder\", \" can\", \" i\", \" go\", \" to\", \" mont\", \"en\", \"eg\", \"ro\", \" with\", \" a\", \" sc\", \"hen\", \"gen\", \" visa\", \"?\", \"\\n\", \"\\n\", \"No\", \"Yes\", \"\\n\\n\\n\", \"<|endoftext|>\", \"V\", \"isa\", \" policy\", \" of\", \" Mont\", \"en\", \"eg\", \"ro\", \" --\", \" Nation\", \"als\", \" of\", \" any\", \" country\", \" may\", \" visit\", \" Mont\", \"en\", \"eg\", \"ro\", \" without\", \" a\", \" visa\", \" for\", \" up\", \" to\", \" 30\", \" days\", \" if\", \" they\", \" hold\", \" a\", \" passport\", \" with\", \" visas\", \" issued\", \" by\", \" Ireland\", \",\", \" a\", \" Sc\", \"hen\", \"gen\", \" Area\", \" member\", \" state\", \",\", \" the\", \" United\", \" Kingdom\", \" or\", \" the\", \" United\", \" States\", \" or\", \" if\", \" they\", \" are\", \" permanent\", \" residents\", \" of\", \" those\", \" countries\", \".\", \" Res\", \"idents\", \" of\", \" the\", \" United\", \" Arab\", \" Emirates\", \" do\", \" not\", \" require\", \" a\", \" visa\", \" for\", \" up\", \" to\", \" 10\", \" days\", \",\", \" if\", \" they\", \" hold\", \" a\", \" return\", \" ticket\", \" and\", \" proof\", \" of\", \" accommodation\", \".\", \" \\n\", \"\\n\", \"Having\", \" read\", \" that\", \",\", \" I\", \" wonder\", \" can\", \" i\", \" go\", \" to\", \" mont\", \"en\", \"eg\", \"ro\", \" with\", \" a\", \" sc\", \"hen\", \"gen\", \" visa\", \"?\", \"\\n\", \"\\n\", \"No\", \"Yes\", \"\\n\\n\\n\", \"<|endoftext|>\", \"V\", \"isa\", \" policy\", \" of\", \" Mont\", \"en\", \"eg\", \"ro\", \" --\", \" Nation\", \"als\", \" of\", \" any\", \" country\", \" may\", \" visit\", \" Mont\", \"en\", \"eg\", \"ro\", \" without\", \" a\", \" visa\", \" for\", \" up\", \" to\", \" 30\", \" days\", \" if\", \" they\", \" hold\", \" a\", \" passport\", \" with\", \" visas\", \" issued\", \" by\", \" Ireland\", \",\", \" a\", \" Sc\", \"hen\", \"gen\", \" Area\", \" member\", \" state\", \",\", \" the\", \" United\", \" Kingdom\", \" or\", \" the\", \" United\", \" States\", \" or\", \" if\", \" they\", \" are\", \" permanent\", \" residents\", \" of\", \" those\", \" countries\", \".\", \" Res\", \"idents\", \" of\", \" the\", \" United\", \" Arab\", \" Emirates\", \" do\", \" not\", \" require\", \" a\", \" visa\", \" for\", \" up\", \" to\", \" 10\", \" days\", \",\", \" if\", \" they\", \" hold\", \" a\", \" return\", \" ticket\", \" and\", \" proof\", \" of\", \" accommodation\", \".\", \" \\n\", \"\\n\", \"Having\", \" read\", \" that\", \",\", \" I\", \" wonder\", \" can\", \" i\", \" go\", \" to\", \" mont\", \"en\", \"eg\", \"ro\", \" with\", \" a\", \" sc\", \"hen\", \"gen\", \" visa\", \"?\", \"\\n\", \"\\n\", \"No\", \"Yes\", \"\\n\\n\\n\", \"<|endoftext|>\", \"V\", \"isa\", \" policy\", \" of\", \" Mont\", \"en\", \"eg\", \"ro\", \" --\", \" Nation\", \"als\", \" of\", \" any\", \" country\", \" may\", \" visit\", \" Mont\", \"en\", \"eg\", \"ro\", \" without\", \" a\", \" visa\", \" for\", \" up\", \" to\", \" 30\", \" days\", \" if\", \" they\", \" hold\", \" a\", \" passport\", \" with\", \" visas\", \" issued\", \" by\", \" Ireland\", \",\", \" a\", \" Sc\", \"hen\", \"gen\", \" Area\", \" member\", \" state\", \",\", \" the\", \" United\", \" Kingdom\", \" or\", \" the\", \" United\", \" States\", \" or\", \" if\", \" they\", \" are\", \" permanent\", \" residents\", \" of\", \" those\", \" countries\", \".\", \" Res\", \"idents\", \" of\", \" the\", \" United\", \" Arab\", \" Emirates\", \" do\", \" not\", \" require\", \" a\", \" visa\", \" for\", \" up\", \" to\", \" 10\", \" days\", \",\", \" if\", \" they\", \" hold\", \" a\", \" return\", \" ticket\", \" and\", \" proof\", \" of\", \" accommodation\", \".\", \" \\n\", \"\\n\", \"Having\", \" read\", \" that\", \",\", \" I\", \" wonder\", \" can\", \" i\", \" go\", \" to\", \" mont\", \"en\", \"eg\", \"ro\", \" with\", \" a\", \" sc\", \"hen\", \"gen\", \" visa\", \"?\", \"\\n\", \"\\n\", \"No\", \"Yes\", \"\\n\\n\\n\", \"<|endoftext|>\", \"V\", \"isa\", \" policy\", \" of\", \" Mont\", \"en\", \"eg\", \"ro\", \" --\", \" Nation\", \"als\", \" of\", \" any\", \" country\", \" may\", \" visit\", \" Mont\", \"en\", \"eg\", \"ro\", \" without\", \" a\", \" visa\", \" for\", \" up\", \" to\", \" 30\", \" days\", \" if\", \" they\", \" hold\", \" a\", \" passport\", \" with\", \" visas\", \" issued\", \" by\", \" Ireland\", \",\", \" a\", \" Sc\", \"hen\", \"gen\", \" Area\", \" member\", \" state\", \",\", \" the\", \" United\", \" Kingdom\", \" or\", \" the\", \" United\", \" States\", \" or\", \" if\", \" they\", \" are\", \" permanent\", \" residents\", \" of\", \" those\", \" countries\", \".\", \" Res\", \"idents\", \" of\", \" the\", \" United\", \" Arab\", \" Emirates\", \" do\", \" not\", \" require\", \" a\", \" visa\", \" for\", \" up\", \" to\", \" 10\", \" days\", \",\", \" if\", \" they\", \" hold\", \" a\", \" return\", \" ticket\", \" and\", \" proof\", \" of\", \" accommodation\", \".\", \" \\n\", \"\\n\", \"Having\", \" read\", \" that\", \",\", \" I\", \" wonder\", \" can\", \" i\", \" go\", \" to\", \" mont\", \"en\", \"eg\", \"ro\", \" with\", \" a\", \" sc\", \"hen\", \"gen\", \" visa\", \"?\", \"\\n\", \"\\n\", \"No\", \"Yes\", \"\\n\\n\\n\"], \"values\": [-0.003854324109852314, 0.0004266772884875536, -0.0037579312920570374, 0.020914359018206596, -0.002696503885090351, 0.03772318735718727, 0.009473629295825958, 0.03138001263141632, -0.003385260235518217, 0.012333700433373451, -0.024398690089583397, -0.005288172047585249, -0.002696503885090351, -0.006532101891934872, 0.008123562671244144, 0.034167271107435226, 0.0027973083779215813, 0.03772318735718727, 0.009473629295825958, 0.03138001263141632, -0.003385260235518217, -0.022235581651329994, 0.0012915907427668571, -0.04715902730822563, 0.0014402144588530064, 0.02589118853211403, 0.0067596472799777985, 0.007290903478860855, -0.028893211856484413, 0.03961819410324097, 0.04463126137852669, -0.004049547947943211, 0.0012915907427668571, 0.010842722840607166, -0.009723844937980175, -0.028334807604551315, 0.0016911579295992851, -0.004576155915856361, -0.021830681711435318, 0.00029056216590106487, 0.0012915907427668571, 0.00014976412057876587, 0.00814741849899292, 0.019123544916510582, -0.013939330354332924, -0.030101636424660683, 0.0234132818877697, 0.00029056216590106487, -0.007953657768666744, 0.0010836748406291008, -0.02691451460123062, -0.007358556613326073, -0.007953657768666744, 0.0010836748406291008, -0.018010592088103294, -0.007358556613326073, 0.03961819410324097, 0.04463126137852669, -0.010622922331094742, -0.020616061985492706, -0.02898028865456581, -0.002696503885090351, -0.013089187443256378, 0.004720849916338921, 0.0008904347196221352, 0.010823704302310944, 0.014275895431637764, -0.002696503885090351, -0.007953657768666744, 0.0010836748406291008, -0.06318099796772003, 0.00543622113764286, 0.009436147287487984, -0.0018422986613586545, 0.009541761130094528, 0.0012915907427668571, -0.04715902730822563, 0.0014402144588530064, 0.02589118853211403, 0.0067596472799777985, 0.0030417912639677525, -0.028893211856484413, 0.00029056216590106487, 0.03961819410324097, 0.04463126137852669, -0.004049547947943211, 0.0012915907427668571, -0.005565543659031391, 0.011839295737445354, -0.002305362606421113, -0.002073078416287899, -0.002696503885090351, -0.02577936090528965, 0.0008904347196221352, 0.02234908938407898, 0.0028495746664702892, -0.016310738399624825, 0.012924730777740479, -0.0009441317524760962, 0.00029056216590106487, 0.004656489007174969, 0.021222762763500214, 0.0007945096585899591, 0.04026683419942856, 0.00023323949426412582, 0.0067596472799777985, 0.028251279145479202, 0.009473629295825958, 0.03138001263141632, -0.003385260235518217, -0.009723844937980175, 0.0012915907427668571, -0.02020595595240593, 0.00814741849899292, 0.019123544916510582, -0.04715902730822563, -0.027417169883847237, 0.0028495746664702892, 0.0028495746664702892, -0.05962754040956497, 0.022557977586984634, 0.0, -0.5150985717773438, 0.4176950454711914, 0.2237294763326645, 0.34871208667755127, 0.03257693350315094, -0.07575635612010956, 0.22337697446346283, -0.1822492927312851, -0.2311941534280777, -0.1144833117723465, -0.7351474761962891, -0.12365615367889404, 0.07269015908241272, -0.300644189119339, 0.3651079833507538, 0.3217504620552063, 0.6726428270339966, -0.04625238850712776, 0.24854092299938202, -0.14043273031711578, -0.21337994933128357, -0.9607786536216736, 0.2889651358127594, -0.1396576315164566, 0.08078216761350632, 0.42584410309791565, 0.17147301137447357, 0.2720145583152771, 0.028312401846051216, -0.030459126457571983, 0.3535687029361725, 0.04918161779642105, 0.18901214003562927, 0.5515155792236328, 0.14630089700222015, 0.02043493464589119, -0.19843168556690216, -0.1268724799156189, 0.09674108028411865, -0.0756392627954483, 0.3805711269378662, -0.9599694609642029, -0.04460233449935913, -0.40449121594429016, 0.22060073912143707, 0.08782602101564407, 0.751642107963562, -0.14227665960788727, 0.08801743388175964, 0.05388612672686577, 0.2737225592136383, -0.16711415350437164, 0.11128011345863342, 0.10136286169290543, -0.1160726398229599, -0.0567275807261467, 0.0923580601811409, 0.5142461061477661, 0.18312270939350128, 0.7702454924583435, 0.9924160242080688, 0.06284341216087341, 0.24191191792488098, -0.10471536964178085, -0.014765255153179169, 0.16873909533023834, 0.4773969352245331, 0.14546388387680054, 0.3430027961730957, 0.27067890763282776, 0.22479580342769623, 0.7896822094917297, 0.5256205201148987, -0.4949570298194885, 0.1621733158826828, 0.3792373836040497, 0.0248708538711071, 0.20645397901535034, 0.5426462292671204, 0.29861024022102356, 0.7838066220283508, 0.2879329323768616, 0.03729632869362831, 0.2145020067691803, 0.6033697128295898, 0.22252516448497772, 0.38667070865631104, 0.28051528334617615, 0.2932821810245514, 0.1110781580209732, 0.8981701135635376, 0.110847607254982, 0.9263824224472046, -0.010381758213043213, 0.23472316563129425, 0.5690727829933167, 0.18322794139385223, 0.6136619448661804, 0.6173980236053467, 0.20295493304729462, 0.8731980323791504, 0.7353761792182922, 0.7313799858093262, 0.841268002986908, 0.3483183979988098, 0.37217846512794495, -0.44448888301849365, 0.17845048010349274, -0.12551791965961456, -0.15588390827178955, 0.43040916323661804, 0.5402093529701233, -0.6676179766654968, 0.21540559828281403, -0.34599727392196655, 0.008061058819293976, -0.8767459392547607, 0.3889603912830353, 0.5540439486503601, -2.7357077598571777, 2.616157054901123, 0.0, 0.24028311669826508, 0.12984158098697662, 0.5008556842803955, -0.024743327870965004, -0.3881073594093323, 0.3151751458644867, -0.1319781094789505, 0.20356307923793793, -0.12762023508548737, -0.05390528216958046, -0.26495665311813354, -0.15979473292827606, -0.23758791387081146, -0.4261493682861328, -0.21761317551136017, -0.18826070427894592, 0.04869810864329338, 0.5297760367393494, 0.047972358763217926, 0.3389398157596588, -0.005031602922827005, -0.5959284901618958, 0.06433109939098358, 0.7883117198944092, -0.2208293229341507, 0.11383862793445587, -0.12722522020339966, 0.04682769998908043, -0.07561184465885162, -0.16237245500087738, 0.07629793882369995, 0.07063404470682144, 0.1533854901790619, 1.2804285287857056, -0.21372190117835999, 0.4337690770626068, -0.07473944127559662, -0.3795466721057892, 0.09674622118473053, -0.1692548394203186, 0.07890766859054565, -0.1665716916322708, -0.16431109607219696, -0.2776772677898407, 0.35162314772605896, -0.03954669460654259, -0.1323574036359787, -0.17857933044433594, -0.19597679376602173, 0.6410109996795654, 0.2732364237308502, -0.24655848741531372, -0.36068257689476013, 0.6475673913955688, -0.04977278783917427, -0.3007763922214508, -0.2610538899898529, 0.0035318746231496334, -0.1448640674352646, 0.2614401876926422, 0.4515342712402344, -0.32277724146842957, 0.008191150613129139, -0.20661407709121704, -0.0764443501830101, -0.2134511023759842, 0.10769636929035187, -0.20890887081623077, -0.29644134640693665, 0.6156850457191467, -0.21020397543907166, 0.2585596740245819, -0.37906891107559204, -0.5579581260681152, -0.2540968954563141, -0.04232574254274368, 0.7122766971588135, -0.28819167613983154, 0.08929342031478882, -0.18598031997680664, 0.3155422508716583, -0.1474844515323639, -0.10665052384138107, -0.14676864445209503, 0.04967886582016945, 0.03953677415847778, 0.11819559335708618, 0.12445272505283356, 0.48824769258499146, -0.31456372141838074, 0.524614691734314, 0.09757909923791885, 0.45991843938827515, -0.14933733642101288, -0.069328173995018, 0.12522508203983307, 0.10347110033035278, 0.11072354763746262, 0.139743834733963, 0.034186504781246185, 0.31771400570869446, 0.14991123974323273, 0.25754350423812866, 0.00022454687859863043, 0.13489334285259247, -0.2790766656398773, -0.05406052991747856, 0.10387654602527618, 0.27908191084861755, 0.0006733437767252326, -0.16676704585552216, 0.07128607481718063, -0.09283678233623505, -0.16009455919265747, -0.3561152517795563, 0.7739213705062866, 0.017650002613663673, -0.028183022513985634, 0.1167316883802414, -0.8950715065002441, 0.9380486011505127, 0.0, -1.1178902387619019, -0.3739718198776245, 0.15889380872249603, -0.3398260474205017, -0.3860403895378113, -0.15996794402599335, -0.09990384429693222, -0.07570993155241013, -0.7755263447761536, -0.017876040190458298, -0.72138512134552, -0.4885714054107666, -0.4295780062675476, -0.46270549297332764, -0.37994149327278137, -0.26909634470939636, -0.3385838568210602, -0.08655311912298203, -0.013492656871676445, -0.05249861255288124, -0.751467764377594, -0.7009970545768738, -0.03849063441157341, 0.14369599521160126, -0.36006978154182434, 0.20929068326950073, -0.4964750111103058, -0.40219846367836, -0.14390838146209717, -0.48727336525917053, -0.5410404205322266, -0.6188384890556335, 0.09417326003313065, 0.8726245760917664, -0.4581471383571625, -0.06761923432350159, -0.42385047674179077, -0.5778319239616394, -0.6233301758766174, -0.4770536422729492, -0.07437495142221451, -0.7882812023162842, -0.3597756326198578, -0.6645360589027405, -0.03122246451675892, -0.595602810382843, -0.6187258362770081, -0.5378139615058899, -0.5234752297401428, 0.10280225425958633, -0.1296302080154419, -0.5940152406692505, -0.5188878774642944, 0.06352672725915909, -0.629775881767273, -0.6721709966659546, -0.5947617888450623, -0.6199018359184265, -0.5133294463157654, 0.083111472427845, 0.1809290498495102, -0.46089470386505127, -0.45423978567123413, -0.5018560886383057, -0.6718344688415527, -0.5105094909667969, -0.21539859473705292, -0.47456660866737366, -0.6231620907783508, -0.07171078771352768, -0.924644410610199, -0.5039181113243103, -0.5106701254844666, -0.9159414172172546, -0.7165800333023071, -0.301313579082489, 0.010617664083838463, -0.5705857276916504, 0.05201280489563942, -0.6043049097061157, -0.2685803174972534, -0.2073499709367752, -0.5444334745407104, -0.6145631670951843, -0.4757264256477356, -0.718412458896637, 0.01727953739464283, -0.1164340153336525, -0.018607625737786293, -0.6493212580680847, -0.26930612325668335, 0.060741037130355835, 0.10741811990737915, -0.6630891561508179, -0.18960215151309967, -0.23348349332809448, -0.19432316720485687, -0.055691223591566086, -0.24236370623111725, -0.19048145413398743, -0.18438607454299927, -0.4529626965522766, -0.05482219532132149, -0.3218522369861603, -0.031434066593647, -0.3024069368839264, -0.7107849717140198, 0.08130579441785812, -0.14292345941066742, -0.6968437433242798, -0.4702054262161255, -0.09250030666589737, -0.9918888211250305, -0.3655032217502594, -0.7552733421325684, -0.012279072776436806, -0.5125952959060669, -0.2275148183107376, -0.16425250470638275, -0.97855544090271, 0.7342778444290161, 0.0, -38.840450286865234, -0.7681679129600525, -0.2372480183839798, -0.054026175290346146, -0.7292174100875854, -0.5183441638946533, -0.2248668074607849, 0.07217458635568619, -0.7746021747589111, -0.29139795899391174, -0.5722918510437012, -0.8512522578239441, -0.4050048887729645, -0.5647233724594116, -0.6000081300735474, -0.6097491979598999, -0.48793935775756836, -0.4223098158836365, -0.43837931752204895, -0.18241550028324127, -0.8343269228935242, -0.8467671275138855, -0.1775003969669342, -0.7075878381729126, -0.8545076847076416, -0.3040176033973694, -0.6169332265853882, -0.9239722490310669, -0.5816558003425598, -0.8575321435928345, -0.7700420618057251, -0.9512128829956055, -0.24930375814437866, -0.00331987370736897, -0.937323272228241, -0.5535268187522888, -0.9627645015716553, -0.9534884095191956, -1.0963119268417358, -0.8292798399925232, -0.45313704013824463, -0.9187846779823303, -0.45727699995040894, -0.7701361775398254, -0.3944181799888611, -0.567859411239624, -1.0455167293548584, -0.7881315350532532, -0.7203076481819153, 0.1380545049905777, -0.6723876595497131, -0.8556374311447144, -0.5891137719154358, 0.1710435003042221, -0.832634687423706, -0.8841552138328552, -0.7329365611076355, -0.7814415097236633, -0.7749184966087341, -0.010547536425292492, -0.29063963890075684, -0.8054456114768982, -0.7293742299079895, -0.9455257654190063, -0.7019666433334351, -0.7206732034683228, -0.5198132991790771, -0.5519946813583374, -0.6878191828727722, -0.008483163081109524, -1.0815708637237549, -0.6586698889732361, -0.9689186215400696, -1.1820284128189087, -0.9339975714683533, -0.5495926737785339, -0.8199813961982727, -1.1138755083084106, -0.4760819375514984, -0.7082780599594116, -0.6894654035568237, -0.7591944932937622, -0.7638541460037231, -0.9881256222724915, -0.7421793341636658, -0.94114089012146, -0.2921333312988281, -0.3470912575721741, -0.7902049422264099, -0.911713182926178, -0.34370431303977966, -0.2010577917098999, -0.5272732377052307, -0.7471886277198792, -0.614220380783081, -0.4533272683620453, -0.3730980157852173, -0.05034949630498886, -0.35652807354927063, -0.5335210561752319, -0.435672402381897, -0.7855988144874573, -0.4185910224914551, -0.7355984449386597, 0.058002177625894547, -0.18949589133262634, -0.9968008399009705, -0.2895246148109436, -0.14808347821235657, -0.7280858755111694, -0.725395917892456, -0.09365271776914597, -1.0825389623641968, -0.38335612416267395, -0.7421435117721558, -0.6352299451828003, -0.8381984233856201, -0.41304999589920044, -0.48158514499664307, -1.1953094005584717, 0.45067527890205383, 0.0, -51.57937240600586, -0.9764009118080139, -0.1913856416940689, -0.11819988489151001, -0.889833390712738, -0.5317018032073975, -0.19081607460975647, 0.03020656853914261, -0.9251120090484619, -0.4817935526371002, -0.6591981053352356, -1.0654199123382568, -0.50437331199646, -0.5009384751319885, -0.8225328922271729, -0.790014922618866, -0.7236100435256958, -0.560187041759491, -0.3255091905593872, 0.05292826145887375, -0.8388899564743042, -0.2686077356338501, -0.09891200810670853, -0.5159099698066711, -0.8263937830924988, -0.6019130945205688, -0.4285118877887726, -1.0392135381698608, -0.42689308524131775, -0.8647936582565308, -0.9152823090553284, -0.8574235439300537, -0.5776657462120056, 0.007952294312417507, -0.8112426996231079, -0.7501992583274841, -0.7656915187835693, -0.742894172668457, -1.0939586162567139, -0.7905093431472778, -0.5050178170204163, -1.146840214729309, -0.25286468863487244, -1.0411487817764282, -0.6152008771896362, -0.39429980516433716, -0.8565675616264343, -1.000997543334961, -0.7276290059089661, 0.07967087626457214, -0.6108752489089966, -1.145208477973938, -0.6907241344451904, 0.0942666158080101, -1.093716025352478, -1.0381381511688232, -0.7682907581329346, -0.9605063199996948, -0.9215521216392517, 0.05411900579929352, 0.08359129726886749, -0.6764662861824036, -0.8943594694137573, -1.0886094570159912, -0.8355996608734131, -0.812868595123291, -0.3730926215648651, -0.8375765681266785, -0.8793811202049255, -0.08255019038915634, -0.9033253192901611, -1.199144959449768, -0.988797128200531, -1.2140443325042725, -0.2503541111946106, -0.0771922841668129, -0.6748809218406677, -0.970374345779419, -0.7918567061424255, -0.7827715873718262, -0.834236204624176, -0.6767538785934448, -1.0580613613128662, -1.3750133514404297, -0.931219220161438, -0.9896278977394104, -0.6715475916862488, -0.4211202561855316, -0.800471305847168, -0.8847255110740662, -0.6417844295501709, -0.22585159540176392, -0.666339099407196, -0.9981452822685242, -0.7219182848930359, -0.4745543599128723, -0.5470966696739197, -0.10910653322935104, -0.5954854488372803, -0.560311496257782, -0.6829007267951965, -1.090527892112732, -0.5941853523254395, -1.0210431814193726, -0.3722229599952698, -0.4811188280582428, -0.9759190678596497, -0.40026789903640747, -0.1427265703678131, -1.0089713335037231, -0.5526131391525269, -0.4524507522583008, -1.2364203929901123, 0.03457783907651901, -0.7579327821731567, -0.6339053511619568, -0.8360158801078796, -0.7578834891319275, -0.7643335461616516, -1.223840594291687, 0.6518802046775818, -0.0, -90.74437713623047, -1.5669472217559814, -0.8485785126686096, -0.6652265191078186, -1.2556095123291016, -1.190063238143921, -0.24997632205486298, 0.09477381408214569, -1.583839774131775, -1.0233067274093628, -1.6357097625732422, -1.5580984354019165, -0.9895378947257996, -0.7621166706085205, -1.2648332118988037, -1.0603001117706299, -1.2491817474365234, -1.2848600149154663, -0.7366402745246887, -0.007574495393782854, -1.4409412145614624, -1.0139224529266357, -0.8361055850982666, -1.4868634939193726, -1.1543229818344116, -0.8099330067634583, -1.0420674085617065, -1.044219732284546, -0.6781167984008789, -1.2281802892684937, -1.2737669944763184, -1.2985697984695435, -0.9532111287117004, -0.6509649157524109, -1.0185264348983765, -1.684370517730713, -1.0944571495056152, -1.451022982597351, -1.3852767944335938, -1.0608094930648804, -0.8096083402633667, -1.7908592224121094, -0.38730549812316895, -1.4573695659637451, -1.136321783065796, -0.6540482640266418, -1.2743148803710938, -1.025992512702942, -0.9400569796562195, -0.6195884943008423, -1.2001005411148071, -1.2423590421676636, -1.1470041275024414, -0.6654104590415955, -1.4393019676208496, -1.0185483694076538, -0.8937159180641174, -1.357954740524292, -1.3081156015396118, -0.26325878500938416, -0.45077961683273315, -1.0908504724502563, -1.1809210777282715, -2.0425291061401367, -0.826382040977478, -1.2938592433929443, -0.9834643006324768, -1.3428230285644531, -1.2920942306518555, -0.9370498657226562, -1.1815953254699707, -1.844968318939209, -1.490942120552063, -1.9062782526016235, -0.8762770295143127, -0.8956133127212524, -1.6048357486724854, -1.253490924835205, -1.0969685316085815, -1.488660216331482, -0.8822419047355652, -0.9632408618927002, -1.2386596202850342, -1.45321524143219, -1.1573188304901123, -1.9566463232040405, -1.1911033391952515, -0.8928300738334656, -1.5472344160079956, -1.1897144317626953, -1.2275280952453613, -1.0225772857666016, -1.5131021738052368, -1.2234182357788086, -0.9487072825431824, -0.6637592911720276, -0.7385982275009155, -0.9425066113471985, -0.8685086965560913, -1.070953369140625, -1.1552218198776245, -1.4425036907196045, -0.8033255338668823, -1.6174758672714233, -0.9667909145355225, -1.0329865217208862, -1.9415193796157837, -1.0251134634017944, -0.4791105389595032, -1.6358827352523804, -0.9749672412872314, -0.7865219712257385, -2.009046792984009, -0.8783246278762817, -1.498578429222107, -1.6979314088821411, -1.2672905921936035, -1.1449540853500366, -0.804622232913971, -1.6728726625442505, 0.3960261046886444, 0.0, -26.144601821899414, -0.20154790580272675, -0.41824644804000854, -0.16331946849822998, -0.3870675265789032, -0.8477495312690735, -0.023669561371207237, -0.24221311509609222, -0.5644206404685974, -0.2528529465198517, -0.7141074538230896, -0.9220885038375854, -0.45041152834892273, -0.516594648361206, -0.2688455283641815, 0.05354271084070206, -0.1118755042552948, -0.45782431960105896, -0.35610130429267883, -0.10454101115465164, -0.3724183142185211, -0.0859309509396553, -0.027519678696990013, -0.4925589859485626, -0.39611631631851196, 0.7516646385192871, -0.793027937412262, 0.14262674748897552, 0.32348060607910156, -0.6669455766677856, -0.5512557625770569, -0.6400001049041748, -0.14342524111270905, -0.3040391206741333, -0.38647156953811646, -0.6139590740203857, -0.16879692673683167, -0.06028022617101669, -0.45195305347442627, -0.6373602151870728, -0.6969428062438965, -0.7988986372947693, 0.403026819229126, -0.5054374933242798, -0.2915630042552948, -0.4219801127910614, -0.39462193846702576, -0.6620714664459229, -0.15297996997833252, 0.25171205401420593, -0.8015739321708679, -0.4627615511417389, -0.06127696484327316, -0.12462887912988663, -0.3099934160709381, -0.24436461925506592, -0.4426727592945099, -0.8665913343429565, -0.6441944241523743, 0.08400242775678635, 0.11887101083993912, -0.3737439513206482, -1.0727243423461914, -0.9227566719055176, -0.6424667835235596, 0.24778619408607483, -0.7573984265327454, -0.6128735542297363, -0.4284346401691437, -0.21040993928909302, -1.0545539855957031, -1.5845307111740112, -1.0609225034713745, -1.4753693342208862, -0.5698826313018799, -0.4138985574245453, -0.8148337006568909, -0.14091812074184418, 0.6598854064941406, -0.8930677771568298, 0.21679848432540894, 0.23090054094791412, -0.28631752729415894, -1.0951051712036133, -0.6526042819023132, -0.9212287664413452, -0.3494652211666107, -0.10498782992362976, -0.3875228464603424, -0.5326111912727356, -0.3900972902774811, -0.019374089315533638, -0.507203996181488, -0.48975440859794617, -0.3685692846775055, 0.2844540476799011, 0.29913997650146484, 0.33929410576820374, -0.24818500876426697, -0.4235784113407135, -0.3223975896835327, -0.7898091077804565, -0.020941441878676414, -0.8566825985908508, -0.10006847977638245, 0.06504819542169571, -0.6784912347793579, -0.2731994390487671, -0.5323517322540283, -0.6020827889442444, -0.3805634081363678, -0.33059796690940857, -0.6430354118347168, 0.27825939655303955, -0.7096238136291504, -0.8706871867179871, -0.19962546229362488, -0.3660801351070404, -0.49946415424346924, -0.7411152720451355, 1.3644250631332397, -0.0, 97.0533218383789, -0.47903040051460266, 1.2898268699645996, 1.1895750761032104, 0.4355515241622925, -0.21060465276241302, 0.3799540102481842, 0.23525351285934448, 0.8832158446311951, 1.0050166845321655, 0.7566567063331604, 1.5766996145248413, 0.9402875304222107, 0.3246517479419708, 0.5948684811592102, -0.13183830678462982, 0.013281846418976784, -0.5738134980201721, 0.014666521921753883, -0.7050881385803223, 0.07502924650907516, -0.3883826732635498, -0.5070865750312805, 1.5772705078125, 0.7864682078361511, -0.0858110636472702, 1.218862771987915, 1.0083906650543213, 0.8842640519142151, 1.2339706420898438, -0.19551479816436768, 0.5500081181526184, 0.19124233722686768, 0.4004270136356354, 0.8867188096046448, 1.9675018787384033, 1.8396720886230469, 1.0725514888763428, 2.013519525527954, 1.3588759899139404, 0.5567393898963928, 0.38699156045913696, 1.4657135009765625, 2.3430991172790527, 1.122982144355774, -0.463344007730484, 0.19326531887054443, -0.418310284614563, -0.16508331894874573, 1.0064514875411987, 1.112108826637268, 0.22306451201438904, 0.12304853647947311, 0.2320958375930786, 1.285003900527954, -1.3281553983688354, 0.492586225271225, -0.24667717516422272, 0.1361146867275238, -0.6824404001235962, -0.6510932445526123, -0.30268189311027527, -0.3135075867176056, 0.5637853741645813, 0.5558102130889893, -0.10132584720849991, -0.5914444327354431, 0.44503548741340637, 0.21290923655033112, 1.4268991947174072, -0.5790050625801086, 0.7438623309135437, -0.14364323019981384, 0.1716960370540619, -0.49097740650177, -0.45846956968307495, 1.4618604183197021, 0.8150561451911926, -0.09189844876527786, 0.6228461861610413, 0.5375226736068726, 0.0972156673669815, 0.6575807332992554, 0.5584830641746521, -0.7135705351829529, 0.41667377948760986, -0.4252312481403351, -0.03245391324162483, 0.38570958375930786, -0.06174223870038986, 0.6244476437568665, -0.056116584688425064, -0.2298426628112793, 0.037693049758672714, 0.9362747073173523, -0.09964201599359512, -0.30596932768821716, 0.3343641459941864, -0.6050511002540588, -0.08815062791109085, -0.8235496878623962, 0.39686429500579834, -1.2823426723480225, -0.2522689402103424, -0.7261545062065125, -0.6837802529335022, 1.2376576662063599, 0.7898951172828674, -0.21811515092849731, 0.35667696595191956, 0.027974778786301613, -0.008818266913294792, 1.8692960739135742, 1.7833900451660156, 2.1254160404205322, 2.1060073375701904, 1.9232803583145142, -0.24289891123771667, -0.781063437461853, -1.3785845041275024, 0.8387094736099243, -0.0, -74.3459243774414, -0.6239569187164307, -1.4808708429336548, -0.43200695514678955, -0.23233984410762787, 0.10335682332515717, -1.6923038959503174, -1.9198462963104248, -0.4564463198184967, -0.7193208932876587, -1.1986620426177979, -1.2378089427947998, -1.0662753582000732, -0.6452293395996094, 0.2682948112487793, 0.355177104473114, -0.11956332623958588, 0.7919752597808838, -1.056701421737671, -1.1484510898590088, -0.09904666244983673, -1.5957958698272705, -0.7872971296310425, -1.0604665279388428, -0.1153869479894638, 0.7812499403953552, -0.5038226246833801, -0.05795957148075104, -0.040270768105983734, -0.15450960397720337, 1.087017297744751, -0.4595794975757599, 0.2009676992893219, 0.5329374670982361, -0.017546342685818672, -0.19885854423046112, 0.5379413366317749, 0.39832431077957153, -0.7795913219451904, -0.3131903111934662, -0.5307714939117432, -0.854943037033081, -0.6888384222984314, -1.703725814819336, -0.6347201466560364, 0.4788613021373749, 0.49650895595550537, 0.5650438666343689, -0.2146487534046173, 0.5854523181915283, -0.5350377559661865, -0.16420035064220428, -0.2495073527097702, 1.596851110458374, -1.3574590682983398, 0.7365765571594238, 0.39323893189430237, 0.3935858905315399, -0.20821534097194672, 0.33220115303993225, 1.33797025680542, 0.6953039765357971, 0.17282600700855255, -0.4330134391784668, 0.4344000220298767, 0.4268738925457001, -0.043832167983055115, -0.443873792886734, -0.23364129662513733, 0.4143172800540924, -0.22696402668952942, -0.8094663619995117, 0.44592738151550293, -0.9032796025276184, -0.46746474504470825, -0.12968699634075165, -0.7054709196090698, 0.39633533358573914, 0.18199750781059265, -0.6243165731430054, 0.1303732991218567, 0.3791627287864685, 0.4231266677379608, 0.02103446237742901, 0.987604022026062, -0.3647302985191345, 0.24256427586078644, -0.005751081742346287, -0.03058166243135929, 0.017572378739714622, 1.0763264894485474, 1.3389194011688232, 1.4455394744873047, 0.6372317671775818, -0.24737222492694855, -0.44910386204719543, 0.419739693403244, 0.4374776780605316, 0.8582181930541992, -0.12107081711292267, -0.0368131548166275, 0.5631594061851501, 2.427755355834961, 1.40928316116333, -0.08400817960500717, -0.3473270833492279, -0.2311766892671585, -2.024862766265869, -1.458735704421997, -0.38397037982940674, -0.07084862887859344, -0.13981686532497406, -1.8665462732315063, -1.833938717842102, -1.3687195777893066, -1.7454919815063477, -1.422013759613037, -0.3265029489994049, -0.4490220844745636, -3.0476880073547363, 3.9043145179748535, -0.0, -116.56918334960938, -1.7670478820800781, -1.083706021308899, -0.7904480695724487, -0.9711795449256897, -1.8065705299377441, -1.4126497507095337, -1.7276618480682373, -1.8855319023132324, -0.9619030952453613, -0.9075323939323425, -1.2617802619934082, -0.7729811072349548, -0.3104398846626282, -0.15805140137672424, -0.10444781184196472, 0.04637337103486061, -1.8313912153244019, -1.9895917177200317, -1.5693914890289307, -1.0077518224716187, -2.4973855018615723, -0.8975093364715576, -0.5623966455459595, 0.18591606616973877, 0.7038000822067261, 0.6361629962921143, 0.9243661165237427, 0.4283079206943512, 0.730130672454834, 0.46836888790130615, -0.033005278557538986, 0.2705244719982147, 0.03183627501130104, -0.6775214672088623, 0.35535550117492676, -0.12285974621772766, -0.6657991409301758, -0.5576763153076172, -0.43049830198287964, 0.0472601093351841, -1.103455662727356, -0.23652777075767517, 0.08926796913146973, 0.688713550567627, 1.213653802871704, 1.4149409532546997, 0.37773460149765015, 0.459844172000885, 0.0395849384367466, 0.8462711572647095, -0.4884810745716095, -0.27489811182022095, -0.32656216621398926, 0.6621814966201782, 0.14397987723350525, -0.41323545575141907, 0.2685466408729553, 0.13321584463119507, 0.5325043201446533, 0.8830961585044861, -0.42066091299057007, 0.8551183938980103, 0.7033870220184326, -0.8493561148643494, 0.22613966464996338, 0.5989679098129272, -0.6242679953575134, 0.2982493042945862, 0.05288303270936012, -0.6410384774208069, -0.5059751272201538, 0.5224521160125732, -1.660201072692871, -0.2927650213241577, -0.3450503349304199, 0.17987695336341858, 1.167193055152893, 0.5225117206573486, 0.5515250563621521, 1.6058638095855713, 0.422797828912735, 0.3494570255279541, 0.7611088752746582, 0.6239179372787476, 0.20206937193870544, 0.32512837648391724, -0.09143325686454773, 0.04911235347390175, 0.45669299364089966, 0.447226881980896, 0.3023856580257416, 0.2733391523361206, -1.1494208574295044, -0.6925944089889526, -1.1133040189743042, 0.04836464300751686, 0.5161433815956116, 0.3918582797050476, -1.1400275230407715, -0.3280431628227234, -1.3545682430267334, -0.2134174406528473, -0.3646451532840729, -0.12425112724304199, -0.5979526042938232, -2.5012717247009277, -2.062908411026001, -1.8385167121887207, -1.0799949169158936, -0.7225637435913086, -0.17519217729568481, -1.7905123233795166, -0.723793625831604, 0.472564697265625, -0.31595346331596375, -1.3399085998535156, -0.48544204235076904, -0.5448930263519287, -3.3630878925323486, 3.890861749649048, 0.0, -66.96563720703125, -0.9554968476295471, -0.6716281771659851, -0.1184738278388977, -0.15172839164733887, -0.08077526092529297, -0.12106752395629883, -0.8038537502288818, -0.379319965839386, -0.21713197231292725, -0.3200417459011078, -0.18365174531936646, -0.1919686496257782, 0.7893146276473999, 1.6085244417190552, 0.548462986946106, 1.1541579961776733, -0.3766813278198242, -0.38214701414108276, -0.7059841752052307, 0.5662869215011597, -1.2026485204696655, -0.6604381203651428, -0.2999386489391327, 0.8896148204803467, 1.9179013967514038, 1.2093276977539062, 1.5363503694534302, 0.7238778471946716, 1.2509877681732178, 1.2562410831451416, 1.314666748046875, 1.2293729782104492, 1.3627132177352905, 0.17524021863937378, 0.6760217547416687, 0.9332793354988098, -0.0631137490272522, 0.13974827527999878, -0.015113352797925472, 0.026298046112060547, -1.4315745830535889, -0.6041979789733887, -0.4275403618812561, 1.0836533308029175, 1.2368673086166382, 1.2499802112579346, 0.9786283373832703, 0.10432398319244385, 0.6598663926124573, 0.6349022388458252, 0.1940118670463562, 0.30477631092071533, 0.6403864026069641, 0.8521240949630737, 0.5388102531433105, 0.940120279788971, 1.0485092401504517, 0.894717276096344, 1.453291893005371, 1.902396321296692, 0.7228953242301941, 0.3270440101623535, 0.812102735042572, -0.4995989203453064, 1.1347804069519043, 1.2473928928375244, -0.11019319295883179, 0.3741268515586853, 0.7387018799781799, -0.14590996503829956, 0.7345903515815735, 1.122003197669983, -0.4985010623931885, 0.4028460383415222, 0.33963093161582947, 0.4240678548812866, 0.9491170048713684, 1.441489577293396, 0.41501888632774353, 1.460610032081604, 0.8157007694244385, 0.848304271697998, 0.9095985293388367, 1.6160727739334106, 1.289783239364624, 1.090810775756836, 1.1107792854309082, 1.428733468055725, 1.6998921632766724, 2.089982748031616, 1.464491367340088, 2.1246659755706787, -0.12372922897338867, -0.7027651071548462, -0.2831695079803467, 0.7961438298225403, 0.2541762590408325, 1.1419817209243774, -0.5627330541610718, -0.15919381380081177, -1.5627912282943726, 0.3266824781894684, 0.3907187581062317, 1.0695254802703857, 0.5216665863990784, -0.5918102264404297, -0.48836177587509155, -0.49061304330825806, 0.6136289238929749, 0.31103000044822693, 0.6642716526985168, -1.581512212753296, -0.2896924614906311, 0.38152992725372314, 0.5744584202766418, -1.2554415464401245, -0.6258454918861389, -0.5133580565452576, -3.2761545181274414, 3.920156240463257, 0.0, -29.99566078186035, -0.17383764684200287, 0.4100157916545868, 0.6007363796234131, 0.4999788701534271, 0.6254174113273621, -0.1804576963186264, -0.5955859422683716, -0.48314136266708374, 0.5918594002723694, 0.09205935895442963, 0.4623800814151764, 0.28524890542030334, 0.3861440122127533, 0.9413503408432007, 0.23718218505382538, 1.127533197402954, 0.9279447793960571, -0.2813654839992523, -0.4691873788833618, 0.858322262763977, -1.432664394378662, -0.09213724732398987, 0.2565031349658966, 1.1021168231964111, 1.9609172344207764, 1.0748957395553589, 1.207815170288086, 1.331950068473816, 1.3380448818206787, 1.2381731271743774, 0.8384095430374146, 1.2779910564422607, 2.336667537689209, 0.04558335244655609, 0.9975133538246155, 0.7207944989204407, 0.18574009835720062, 0.7334634065628052, 0.7306922674179077, 0.8963057398796082, -0.43668290972709656, -0.26074251532554626, 0.31283441185951233, 1.5857335329055786, 1.999603509902954, 1.717283010482788, 1.4926990270614624, 1.0276572704315186, 1.463280439376831, 1.2414757013320923, 0.5529479384422302, 0.9270998239517212, 1.238728642463684, 1.2011052370071411, 1.4647793769836426, 1.5501545667648315, 1.3863924741744995, 0.6993458271026611, 1.8913140296936035, 1.8817880153656006, 1.0515663623809814, 1.0987286567687988, 0.7769676446914673, 0.34668222069740295, 1.261661171913147, 0.992583692073822, 0.03279350697994232, 0.7498550415039062, 1.3968377113342285, 0.19152332842350006, 0.9498826265335083, 0.5739607810974121, -0.8924915790557861, 0.19262506067752838, 0.5055513978004456, 0.5898916721343994, 1.6608290672302246, 1.9932055473327637, 0.9885475635528564, 1.5579102039337158, 1.746671199798584, 1.4569928646087646, 1.3290497064590454, 1.8936989307403564, 1.0950217247009277, 1.5226155519485474, 2.278768301010132, 1.8232678174972534, 1.5314666032791138, 1.749100685119629, 1.2339510917663574, 1.5903959274291992, 0.31606677174568176, -0.4597252309322357, -0.201566681265831, 0.299348384141922, 0.6769839525222778, 1.2143617868423462, 0.25270381569862366, 0.30845120549201965, -0.1088329404592514, 2.27571702003479, 1.194510817527771, 2.0665695667266846, 1.9537101984024048, 0.5519767999649048, -0.1563062220811844, -0.1259375661611557, 1.183797001838684, 0.4042085111141205, 1.195602297782898, -0.009500308893620968, 0.07003231346607208, 0.33786335587501526, 1.338329553604126, 0.6894850730895996, 0.43305644392967224, -0.1340738981962204, -2.441831350326538, 5.109203815460205, 0.0, -28.33121109008789, -0.5985292792320251, 0.21581484377384186, 0.5756866335868835, 0.32544663548469543, -0.1507304161787033, 0.09246094524860382, -0.5092631578445435, -0.587302029132843, 0.4644683599472046, 0.005379036068916321, 0.42891621589660645, 0.17255695164203644, -0.02703462541103363, 1.1572906970977783, -0.6038938164710999, 1.3221796751022339, 0.38428324460983276, 0.2964184880256653, -0.1723286360502243, 0.8847735524177551, -1.8240962028503418, -1.487960696220398, 0.5641707181930542, 0.8352779746055603, 1.6098198890686035, 0.2320961356163025, 0.6560232639312744, 0.2883107662200928, 1.4938777685165405, 1.3993905782699585, 1.1829172372817993, 0.7175754904747009, 2.0806281566619873, 0.20023901760578156, 1.3497451543807983, 1.4578710794448853, 0.22517289221286774, 0.18678607046604156, 0.7760480046272278, 0.8369680047035217, -0.29295435547828674, -0.22930316627025604, -0.11158402264118195, 0.9748362898826599, 1.4522716999053955, 1.7551021575927734, 1.2509613037109375, 1.1523834466934204, 1.328274130821228, 1.1052325963974, 0.3566683232784271, 1.235754132270813, 1.3726285696029663, 1.4117794036865234, 1.522517442703247, 1.788561224937439, 1.7765793800354004, 1.2555947303771973, 2.076035737991333, 1.8682899475097656, 1.0345253944396973, 1.0635820627212524, 1.3738538026809692, -0.3709457516670227, 0.509005069732666, 1.2050598859786987, 0.13270367681980133, 1.4400315284729004, 1.4406406879425049, -0.19348609447479248, 1.5437352657318115, 1.6368046998977661, -0.6945712566375732, 0.5060357451438904, -0.43027257919311523, 0.5838935971260071, 1.7408486604690552, 1.7961506843566895, 0.8129804134368896, 1.3399934768676758, 0.9549410939216614, 1.226753830909729, 1.1830319166183472, 1.8188138008117676, 1.1329964399337769, 1.2398804426193237, 1.297055959701538, 1.4259306192398071, 2.0704185962677, 2.4035255908966064, 1.7909138202667236, 1.147400975227356, -0.24697230756282806, 0.1847309023141861, -0.5130965113639832, 0.7088868021965027, 0.5301706194877625, 1.5106580257415771, -0.18726281821727753, 0.26119834184646606, -0.7879495024681091, 1.2797820568084717, 0.2796306014060974, 1.1379748582839966, 0.6695419549942017, -0.20434390008449554, -0.07232533395290375, 0.032970234751701355, 1.1450189352035522, 0.11712105572223663, 0.17132236063480377, 0.6549355983734131, -0.20542709529399872, 0.2671133279800415, 1.2534860372543335, -0.43609535694122314, -0.928638756275177, -0.33001428842544556, -1.9623273611068726, 5.146116733551025, 0.0, 6.922291278839111, 0.5002633929252625, 0.9155674576759338, 0.6388939619064331, 1.2357518672943115, 0.7707293629646301, 0.32774004340171814, -0.004169484134763479, -0.17729908227920532, 0.5844349265098572, 1.4099462032318115, 1.060962438583374, 1.274622917175293, 0.4352585971355438, 2.173354387283325, 0.5337010025978088, 1.6256715059280396, 0.5532026886940002, 0.5796779990196228, 0.032449644058942795, 1.318536400794983, -0.6224532723426819, -0.3980925679206848, 2.138806104660034, 1.0596060752868652, 1.6590319871902466, 0.27378159761428833, 0.42279383540153503, 1.0303796529769897, 1.3042651414871216, 2.1217143535614014, 0.8530751466751099, 0.8614574670791626, 2.7155308723449707, 0.183502659201622, 2.5917012691497803, 2.619908094406128, 1.4311376810073853, 1.5556358098983765, 0.9926316738128662, 1.211250901222229, -0.1325712949037552, 0.6957741975784302, 0.6230454444885254, 2.132577657699585, 3.783790349960327, 3.8803927898406982, 1.7419867515563965, 1.1027724742889404, 1.0026016235351562, 2.0440423488616943, 1.5819133520126343, 1.335340142250061, 1.044832706451416, 2.8174965381622314, 2.508859157562256, 2.1346113681793213, 2.4817705154418945, 1.3301453590393066, 1.4839646816253662, 2.683915615081787, 1.9631109237670898, 1.3325821161270142, 2.6671621799468994, 0.21031175553798676, -0.12235801666975021, 2.445220470428467, 1.21961510181427, 1.8996509313583374, 1.4972176551818848, 0.03235427662730217, 2.851118564605713, 2.7000274658203125, 0.4452213943004608, 1.9084484577178955, 0.2453397959470749, 2.2203917503356934, 2.4147167205810547, 1.6445140838623047, 1.8355903625488281, 1.0647575855255127, 1.8571827411651611, 2.151854991912842, 1.1318079233169556, 2.256462335586548, 1.3941630125045776, 0.9455100297927856, 1.0582813024520874, 1.7989157438278198, 2.6619491577148438, 3.196715831756592, 2.3150954246520996, 2.3634634017944336, 0.3317892253398895, 0.2404109686613083, 0.43813392519950867, 1.996764898300171, 2.6928701400756836, 2.9017322063446045, 1.689586877822876, 2.058100938796997, 1.922621250152588, 2.972123384475708, 2.4962165355682373, 2.7701098918914795, 2.1040091514587402, -0.22430773079395294, -0.0028078160248696804, -0.2268657237291336, 1.856265664100647, 1.005529522895813, 0.5373708009719849, 0.794651448726654, 0.6528812646865845, 0.9205229878425598, 3.222140312194824, 0.31381794810295105, -0.20964457094669342, 1.1986936330795288, -0.9153457880020142, 6.8425188064575195, -0.0, 1.4817531108856201, 0.559282660484314, 2.57008957862854, 0.8876700401306152, 2.6686646938323975, 1.5688339471817017, 0.8012709021568298, 0.3484492897987366, 1.391615867614746, 2.4224791526794434, 2.4081456661224365, 2.096608877182007, 2.601954698562622, 2.713625907897949, 3.5496819019317627, 2.5511205196380615, 3.689706802368164, 1.825453519821167, 1.1423144340515137, 0.8528804779052734, 3.9965474605560303, 0.5662542581558228, 1.0075182914733887, 3.4934098720550537, 3.730502128601074, 4.11863899230957, 2.154304265975952, 2.500145196914673, 3.257009744644165, 3.9147703647613525, 4.95503044128418, 3.104956865310669, 2.7968413829803467, 3.66433048248291, 2.42915415763855, 4.721682071685791, 4.31365966796875, 3.850482225418091, 3.908613920211792, 2.9697537422180176, 2.6322197914123535, 1.0628745555877686, 1.0134563446044922, 2.0611908435821533, 3.346834659576416, 5.537654399871826, 5.412864685058594, 3.8435182571411133, 2.7437779903411865, 2.190810441970825, 4.677359580993652, 3.682271718978882, 2.9097983837127686, 2.37583589553833, 4.7890119552612305, 4.912683010101318, 4.103781223297119, 5.089519023895264, 3.0567800998687744, 2.8585283756256104, 4.702833652496338, 3.7007391452789307, 3.566472291946411, 4.927343845367432, 1.3917707204818726, 1.0712347030639648, 3.326014518737793, 2.090348958969116, 2.929819345474243, 2.6732780933380127, 1.0124248266220093, 4.80790376663208, 3.8766322135925293, 1.3738675117492676, 2.5255963802337646, 1.665095329284668, 4.415116786956787, 4.676050662994385, 3.431725263595581, 3.9617254734039307, 3.0401580333709717, 4.596399307250977, 4.2802839279174805, 2.831770658493042, 4.577884674072266, 3.022834539413452, 2.683074474334717, 1.9586645364761353, 3.34891939163208, 4.780182361602783, 4.12199592590332, 3.2194840908050537, 3.798295021057129, 1.328999400138855, 1.1160084009170532, 1.023111343383789, 3.6120405197143555, 4.234936714172363, 3.960817575454712, 3.1484336853027344, 2.987427234649658, 3.1157584190368652, 4.1248087882995605, 4.330266952514648, 5.424963474273682, 3.9446866512298584, 0.6528847813606262, 1.222299337387085, 0.3326796293258667, 6.213640213012695, 3.3913376331329346, 2.923677921295166, 1.317151665687561, 1.3167134523391724, 2.9989843368530273, 6.1442060470581055, 1.7176027297973633, 0.2883034944534302, 1.4182430505752563, -0.43310219049453735, 8.052962303161621, -0.0], \"minValue\": -5, \"maxValue\": 5}\n",
       "    )\n",
       "    </script>"
      ],
      "text/plain": [
       "<circuitsvis.utils.render.RenderedHTML at 0x7f78e5f14ca0>"
      ]
     },
     "execution_count": 30,
     "metadata": {},
     "output_type": "execute_result"
    }
   ],
   "source": [
    "plot_colors('super_glue boolq', prompt_id=6)"
   ]
  },
  {
   "attachments": {},
   "cell_type": "markdown",
   "metadata": {},
   "source": [
    "It's interesting that these almost look like attention patterns! For our experiments on IMDB, the blue tokens are often ones that carry some sort of positive connotation\n",
    "and the red ones often carry some kind of negative connotation.\n",
    "The probe for BoolQ seems to favour statistics and proper nouns.\n",
    "It's also interesting that the logits across the board seem to get farther and farther from the CCS hyperplane\n",
    "as we go into the later layers of the network.\n",
    "We're not yet quite sure what's causing this behaviour.\n",
    "In future experiments we'll try and see if there's any similarities with the actual attention patterns."
   ]
  },
  {
   "cell_type": "markdown",
   "metadata": {},
   "source": []
  }
 ],
 "metadata": {
  "kernelspec": {
   "display_name": "base",
   "language": "python",
   "name": "python3"
  },
  "language_info": {
   "codemirror_mode": {
    "name": "ipython",
    "version": 3
   },
   "file_extension": ".py",
   "mimetype": "text/x-python",
   "name": "python",
   "nbconvert_exporter": "python",
   "pygments_lexer": "ipython3",
   "version": "3.10.10"
  },
  "orig_nbformat": 4
 },
 "nbformat": 4,
 "nbformat_minor": 2
}
