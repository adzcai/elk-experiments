{
 "cells": [
  {
   "attachments": {},
   "cell_type": "markdown",
   "metadata": {},
   "source": [
    "# Eliciting latent knowledge - experiments\n",
    "\n",
    "Alexander Cai, Gabriel Wu, Max Nadeau\n",
    "\n",
    "Some experiments initially performed for [CS 229br Foundations of Deep Learning](https://boazbk.github.io/mltheoryseminar/) as taught in Spring 2023 at Harvard University by Boaz Barak.\n",
    "\n",
    "This is a work-in-progress research draft to explore some properties of the \"Contrast-Consistent Search\" algorithm (and later algorithms)\n",
    "for identifying a language model's internal representation of truth. This would be helpful in identifying model misbehaviours\n",
    "or \"eliciting latent knowledge\" from intelligent models.\n",
    "\n",
    "Our research questions:\n",
    "\n",
    "- Does the \"direction\" discovered by CCS carry any semantic meaning outside its original setting (i.e. the residual stream on the final \"positive\" / \"negative\" token)?\n",
    "\n",
    "See [adzcai/llama-ccs](https://github.com/adzcai/llama-ccs) for some preliminary experiments on the Meta LLaMA models.\n",
    "\n",
    "Currently the [EleutherAI/elk](https://github.com/EleutherAI/elk) package must be installed in editable mode to download the associated prompt templates. Also note that it requires Python 3.10 which is not supported on Google Colab.\n",
    "\n",
    "To do this, make sure you have the desired environment enabled, navigate to a convenient repository, and run the following."
   ]
  },
  {
   "cell_type": "code",
   "execution_count": null,
   "metadata": {},
   "outputs": [],
   "source": [
    "# ! git clone https://github.com/EleutherAI/elk.git\n",
    "# ! cd elk && pip install -qe ."
   ]
  },
  {
   "cell_type": "code",
   "execution_count": null,
   "metadata": {},
   "outputs": [],
   "source": [
    "# install the remaining requirements\n",
    "\n",
    "# ! pip install -q \\\n",
    "#     circuitsvis \\\n",
    "#     plotly \\\n",
    "#     git+https://github.com/neelnanda-io/TransformerLens.git"
   ]
  },
  {
   "cell_type": "markdown",
   "metadata": {},
   "source": [
    "## Resources\n",
    "\n",
    "[EleutherAI/elk](https://github.com/EleutherAI/elk): Contains many further innovations on top of CCS. Very convenient tool for interacting with HF models and datasets.\n",
    "\n",
    "[Discovering Latent Knowledge in Language Models Without Supervision](https://arxiv.org/abs/2212.03827): The original paper by Collin Burns and Haotian Ye et al that proposes \"Contrast-Consistent Search\" (CCS).\n",
    "- [collin-burns/discovering_latent_knowledge](https://github.com/collin-burns/discovering_latent_knowledge): The corresponding repository.\n",
    "  - This is claimed to be quite buggy. See [Bugs of the Initial Release of CCS](https://docs.google.com/document/d/16Q8ZJFloA-x2lR65hs80rbbjX70TteCSMhuDQGcC75Q/edit?usp=sharing) by Fabien Roger.\n",
    "- [How \"Discovering Latent Knowledge in Language Models Without Supervision\" Fits Into a Broader Alignment Scheme](https://www.lesswrong.com/posts/L4anhrxjv8j2yRKKp/how-discovering-latent-knowledge-in-language-models-without)\n",
    "\n",
    "[What Discovering Latent Knowledge Did and Did Not Find](https://www.lesswrong.com/posts/bWxNPMy5MhPnQTzKz/what-discovering-latent-knowledge-did-and-did-not-find-4): A writeup by Fabien Roger on takeaways from the original paper.\n",
    "\n",
    "- [safer-ai/Exhaustive-CCS](https://github.com/safer-ai/Exhaustive-CCS): The corresponding repository. Similar to Collin Burns's but with fewer bugs.\n",
    "- [Several experiments with CCS.](https://docs.google.com/document/d/1LCjjnUPN51gHl_rmCWEmmtbY-Wu1dixzOif14e-7i-U/edit)"
   ]
  },
  {
   "cell_type": "markdown",
   "metadata": {},
   "source": [
    "## Getting started"
   ]
  },
  {
   "cell_type": "code",
   "execution_count": 1,
   "metadata": {},
   "outputs": [],
   "source": [
    "import os\n",
    "from pathlib import Path"
   ]
  },
  {
   "cell_type": "code",
   "execution_count": null,
   "metadata": {},
   "outputs": [],
   "source": [
    "cwd = Path(os.getcwd())\n",
    "data_path = cwd / \"data\"\n",
    "reporters_path = cwd / \"reporters\""
   ]
  },
  {
   "cell_type": "code",
   "execution_count": null,
   "metadata": {},
   "outputs": [],
   "source": [
    "use_data_dir = True\n",
    "\"\"\"Optionally store data in this folder instead of the default.\"\"\"\n",
    "\n",
    "if use_data_dir:\n",
    "    data_path.mkdir(parents=True, exist_ok=True)\n",
    "    os.environ[\"HF_HOME\"] = data_path.as_posix()"
   ]
  },
  {
   "cell_type": "code",
   "execution_count": 2,
   "metadata": {},
   "outputs": [],
   "source": [
    "# datasets = [\"super_glue boolq\", \"imdb\"]\n",
    "datasets = [\"ag_news\"]"
   ]
  },
  {
   "cell_type": "markdown",
   "metadata": {},
   "source": [
    "Here we elicit latent knowledge from the [Pythia](https://github.com/EleutherAI/pythia) model family from EleutherAI.\n",
    "We used the _non-deduplicated_ version of the models as of 17 April 2023. We use the 1B and 1.4B parameter models.\n",
    "\n",
    "This model are notable in that every model in the family is trained on the same data in the same order.\n",
    "A [paper](https://arxiv.org/pdf/2304.01373.pdf) with detailed information about these models is also available.\n",
    "\n",
    "Additionally, these models are also available for use with [TransformerLens](https://github.com/neelnanda-io/TransformerLens/blob/main/transformer_lens/model_properties_table.md).\n",
    "\n",
    "We use the [SuperGLUE (BoolQ)](https://huggingface.co/datasets/super_glue/viewer/boolq/test) dataset for a QA task and the [IMDB](https://huggingface.co/datasets/imdb) dataset for sentiment analysis.\n",
    "\n",
    "We chose these datasets for preliminary analysis since they're simple archetypes for their respective tasks."
   ]
  },
  {
   "cell_type": "code",
   "execution_count": null,
   "metadata": {},
   "outputs": [],
   "source": [
    "# ! elk elicit EleutherAI/pythia-1b 'super_glue boolq' --net ccs --out_dir 'reporters/ccs/pythia-1b/super_glue boolq'\n",
    "\n",
    "# ! elk elicit EleutherAI/pythia-1b 'super_glue boolq' --net eigen --out_dir 'reporters/eigen/pythia-1b/super_glue boolq'\n",
    "\n",
    "# ! elk elicit EleutherAI/pythia-1b imdb --net ccs --out_dir reporters/ccs/pythia-1b/imdb\n",
    "\n",
    "# ! elk elicit EleutherAI/pythia-1b imdb --net eigen --out_dir reporters/eigen/pythia-1b/imdb\n",
    "\n",
    "# ! elk elicit EleutherAI/pythia-1.4b 'super_glue boolq' --net ccs --out_dir reporters/ccs/pythia-1.4b/'super_glue boolq'\n",
    "\n",
    "# ! elk elicit EleutherAI/pythia-1.4b 'super_glue boolq' --net eigen --out_dir reporters/eigen/pythia-1.4b/'super_glue boolq'\n",
    "\n",
    "# ! elk elicit EleutherAI/pythia-1.4b imdb --net ccs --out_dir reporters/ccs/pythia-1.4b/imdb\n",
    "\n",
    "# ! elk elicit EleutherAI/pythia-1.4b imdb --net eigen --out_dir reporters/eigen/pythia-1.4b/imdb"
   ]
  },
  {
   "attachments": {},
   "cell_type": "markdown",
   "metadata": {},
   "source": [
    "## Load the learned directions"
   ]
  },
  {
   "cell_type": "code",
   "execution_count": null,
   "metadata": {},
   "outputs": [],
   "source": [
    "import seaborn as sns\n",
    "import pandas as pd"
   ]
  },
  {
   "cell_type": "code",
   "execution_count": 2,
   "metadata": {},
   "outputs": [
    {
     "data": {
      "text/plain": [
       "4"
      ]
     },
     "execution_count": 2,
     "metadata": {},
     "output_type": "execute_result"
    }
   ],
   "source": [
    "import torch\n",
    "\n",
    "# disable gradients since we're not doing any training here\n",
    "torch.set_grad_enabled(False)\n",
    "device = \"cuda\" if torch.cuda.is_available() else \"cpu\"\n",
    "torch.cuda.device_count()"
   ]
  },
  {
   "cell_type": "code",
   "execution_count": 72,
   "metadata": {},
   "outputs": [
    {
     "data": {
      "text/plain": [
       "[PosixPath('/home/ec2-user/elk-reporters/allenai/unifiedqa-t5-base/imdb/brave-chatterjee/cfg.yaml'),\n",
       " PosixPath('/home/ec2-user/elk-reporters/allenai/unifiedqa-t5-base/imdb/brave-chatterjee/fingerprints.yaml'),\n",
       " PosixPath('/home/ec2-user/elk-reporters/allenai/unifiedqa-t5-base/imdb/brave-chatterjee/lr_models'),\n",
       " PosixPath('/home/ec2-user/elk-reporters/allenai/unifiedqa-t5-base/imdb/brave-chatterjee/reporters'),\n",
       " PosixPath('/home/ec2-user/elk-reporters/allenai/unifiedqa-t5-base/imdb/brave-chatterjee/eval.csv'),\n",
       " PosixPath('/home/ec2-user/elk-reporters/allenai/unifiedqa-t5-base/imdb/brave-chatterjee/lm_eval.csv'),\n",
       " PosixPath('/home/ec2-user/elk-reporters/allenai/unifiedqa-t5-base/imdb/brave-chatterjee/lr_eval.csv')]"
      ]
     },
     "execution_count": 72,
     "metadata": {},
     "output_type": "execute_result"
    }
   ],
   "source": [
    "# ccs_path = reporters_path / \"ccs/pythia-1b/imdb\"\n",
    "# ccs_path = Path(\"/home/ec2-user/elk-reporters/EleutherAI/pythia-1b/imdb/adoring-ride\")  # ccs\n",
    "# ccs_path = Path(\"/home/ec2-user/elk-reporters/EleutherAI/pythia-1b/imdb/suspicious-wright\")  # eigen\n",
    "# ccs_path = Path(\"/home/ec2-user/elk-reporters/EleutherAI/pythia-1b/imdb/suspicious-wright/transfer/super_glue:boolq\")  # transfer\n",
    "# ccs_path = Path(\"/home/ec2-user/elk-reporters/EleutherAI/pythia-1b/imdb/suspicious-wright/transfer/amazon_polarity\")  # transfer\n",
    "# ccs_path = Path(\"/home/ec2-user/elk-reporters/allenai/unifiedqa-t5-base/imdb/vigilant-nash\")  # transfer\n",
    "# ccs_path = Path(\"/home/ec2-user/elk-reporters/allenai/unifiedqa-t5-base/imdb/amazing-vaughan\")  # transfer\n",
    "ccs_path = Path(\"/home/ec2-user/elk-reporters/allenai/unifiedqa-t5-base/imdb/brave-chatterjee\")  # proper ccs\n",
    "list(ccs_path.iterdir())"
   ]
  },
  {
   "cell_type": "code",
   "execution_count": 73,
   "metadata": {},
   "outputs": [
    {
     "name": "stdout",
     "output_type": "stream",
     "text": [
      "concatenated_layer_offset: 0\n",
      "data:\n",
      "  binarize: false\n",
      "  data_dirs: []\n",
      "  datasets:\n",
      "  - imdb\n",
      "  int8: false\n",
      "  layers: []\n",
      "  max_examples:\n",
      "  - 1000\n",
      "  - 1000\n",
      "  model: allenai/unifiedqa-t5-base\n",
      "  num_shots: 0\n",
      "  num_variants: -1\n",
      "  seed: 42\n",
      "  template_path: null\n",
      "  token_loc: last\n",
      "  use_encoder_states: false\n",
      "datasets:\n",
      "- - imdb\n",
      "  - !!python/object/new:datasets.dataset_dict.DatasetDict\n",
      "    dictitems:\n",
      "      test: !!python/object:datasets.arrow_dataset.Dataset\n",
      "        _data: !!python/object:datasets.table.ConcatenationTable\n",
      "          blocks:\n",
      "          - - !!python/object:datasets.table.MemoryMappedTable\n",
      "              path: /home/ec2-user/.cache/huggingface/datasets/generator/default-8d59e601173554ca/0.0.0/generator-test-00000-of-00004.arrow\n",
      "              replays: []\n",
      "          - - !!python/object:datasets.table.MemoryMappedTable\n",
      "              path: /home/ec2-user/.cache/huggingface/datasets/generator/default-8d59e601173554ca/0.0.0/generator-test-00001-of-00004.arrow\n",
      "              replays: []\n",
      "          - - !!python/object:datasets.table.MemoryMappedTable\n",
      "              path: /home/ec2-user/.cache/huggingface/datasets/generator/default-8d59e601173554ca/0.0.0/generator-test-00002-of-00004.arrow\n",
      "              replays: []\n",
      "          - - !!python/object:datasets.table.MemoryMappedTable\n",
      "              path: /home/ec2-user/.cache/huggingface/datasets/generator/default-8d59e601173554ca/0.0.0/generator-test-00003-of-00004.arrow\n",
      "              replays: []\n",
      "        _fingerprint: 1946c35756cef95d\n",
      "        _format_columns: null\n",
      "        _format_kwargs: {}\n",
      "        _format_type: null\n",
      "        _indexes: {}\n",
      "        _indices: null\n",
      "        _info: !!python/object:datasets.info.DatasetInfo\n",
      "          builder_name: generator\n",
      "          citation: ''\n",
      "          config_name: default\n",
      "          dataset_size: 551472466\n",
      "          description: ''\n",
      "          download_checksums: {}\n",
      "          download_size: 0\n",
      "          features: !!python/object/apply:datasets.features.features.Features\n",
      "          - hidden_0: !!python/object:datasets.features.features.Array3D\n",
      "              dtype: int16\n",
      "              id: null\n",
      "              shape: !!python/tuple\n",
      "              - 13\n",
      "              - 2\n",
      "              - 768\n",
      "            hidden_1: !!python/object:datasets.features.features.Array3D\n",
      "              dtype: int16\n",
      "              id: null\n",
      "              shape: !!python/tuple\n",
      "              - 13\n",
      "              - 2\n",
      "              - 768\n",
      "            hidden_10: !!python/object:datasets.features.features.Array3D\n",
      "              dtype: int16\n",
      "              id: null\n",
      "              shape: !!python/tuple\n",
      "              - 13\n",
      "              - 2\n",
      "              - 768\n",
      "            hidden_11: !!python/object:datasets.features.features.Array3D\n",
      "              dtype: int16\n",
      "              id: null\n",
      "              shape: !!python/tuple\n",
      "              - 13\n",
      "              - 2\n",
      "              - 768\n",
      "            hidden_12: !!python/object:datasets.features.features.Array3D\n",
      "              dtype: int16\n",
      "              id: null\n",
      "              shape: !!python/tuple\n",
      "              - 13\n",
      "              - 2\n",
      "              - 768\n",
      "            hidden_2: !!python/object:datasets.features.features.Array3D\n",
      "              dtype: int16\n",
      "              id: null\n",
      "              shape: !!python/tuple\n",
      "              - 13\n",
      "              - 2\n",
      "              - 768\n",
      "            hidden_3: !!python/object:datasets.features.features.Array3D\n",
      "              dtype: int16\n",
      "              id: null\n",
      "              shape: !!python/tuple\n",
      "              - 13\n",
      "              - 2\n",
      "              - 768\n",
      "            hidden_4: !!python/object:datasets.features.features.Array3D\n",
      "              dtype: int16\n",
      "              id: null\n",
      "              shape: !!python/tuple\n",
      "              - 13\n",
      "              - 2\n",
      "              - 768\n",
      "            hidden_5: !!python/object:datasets.features.features.Array3D\n",
      "              dtype: int16\n",
      "              id: null\n",
      "              shape: !!python/tuple\n",
      "              - 13\n",
      "              - 2\n",
      "              - 768\n",
      "            hidden_6: !!python/object:datasets.features.features.Array3D\n",
      "              dtype: int16\n",
      "              id: null\n",
      "              shape: !!python/tuple\n",
      "              - 13\n",
      "              - 2\n",
      "              - 768\n",
      "            hidden_7: !!python/object:datasets.features.features.Array3D\n",
      "              dtype: int16\n",
      "              id: null\n",
      "              shape: !!python/tuple\n",
      "              - 13\n",
      "              - 2\n",
      "              - 768\n",
      "            hidden_8: !!python/object:datasets.features.features.Array3D\n",
      "              dtype: int16\n",
      "              id: null\n",
      "              shape: !!python/tuple\n",
      "              - 13\n",
      "              - 2\n",
      "              - 768\n",
      "            hidden_9: !!python/object:datasets.features.features.Array3D\n",
      "              dtype: int16\n",
      "              id: null\n",
      "              shape: !!python/tuple\n",
      "              - 13\n",
      "              - 2\n",
      "              - 768\n",
      "            label: !!python/object:datasets.features.features.Value\n",
      "              dtype: int64\n",
      "              id: null\n",
      "              pa_type: &id002 !!python/object/apply:pyarrow.lib.type_for_alias\n",
      "              - int64\n",
      "            model_logits: !!python/object:datasets.features.features.Array2D\n",
      "              dtype: float32\n",
      "              id: null\n",
      "              shape: !!python/tuple\n",
      "              - 13\n",
      "              - 2\n",
      "            text_questions: !!python/object:datasets.features.features.Sequence\n",
      "              feature: !!python/object:datasets.features.features.Sequence\n",
      "                feature: !!python/object:datasets.features.features.Value\n",
      "                  dtype: string\n",
      "                  id: null\n",
      "                  pa_type: &id001 !!python/object/apply:pyarrow.lib.type_for_alias\n",
      "                  - string\n",
      "                id: null\n",
      "                length: -1\n",
      "              id: null\n",
      "              length: 13\n",
      "            variant_ids: !!python/object:datasets.features.features.Sequence\n",
      "              feature: !!python/object:datasets.features.features.Value\n",
      "                dtype: string\n",
      "                id: null\n",
      "                pa_type: *id001\n",
      "              id: null\n",
      "              length: 13\n",
      "          homepage: ''\n",
      "          license: ''\n",
      "          post_processed: null\n",
      "          post_processing_size: null\n",
      "          size_in_bytes: 551472466\n",
      "          splits: !!python/object/new:datasets.splits.SplitDict\n",
      "            dictitems:\n",
      "              test: !!python/object:datasets.splits.SplitInfo\n",
      "                dataset_name: generator\n",
      "                name: test\n",
      "                num_bytes: 551472466\n",
      "                num_examples: 1000\n",
      "                shard_lengths:\n",
      "                - 250\n",
      "                - 250\n",
      "                - 250\n",
      "                - 250\n",
      "            state:\n",
      "              dataset_name: generator\n",
      "          supervised_keys: null\n",
      "          task_templates: null\n",
      "          version: !!python/object:datasets.utils.version.Version\n",
      "            description: null\n",
      "            major: 0\n",
      "            minor: 0\n",
      "            patch: 0\n",
      "            version_str: 0.0.0\n",
      "        _output_all_columns: false\n",
      "        _split: !!python/object:datasets.splits.NamedSplit\n",
      "          _name: test\n",
      "      train: !!python/object:datasets.arrow_dataset.Dataset\n",
      "        _data: !!python/object:datasets.table.ConcatenationTable\n",
      "          blocks:\n",
      "          - - !!python/object:datasets.table.MemoryMappedTable\n",
      "              path: /home/ec2-user/.cache/huggingface/datasets/generator/default-38dbd97c9e4021c8/0.0.0/generator-train-00000-of-00004.arrow\n",
      "              replays: []\n",
      "          - - !!python/object:datasets.table.MemoryMappedTable\n",
      "              path: /home/ec2-user/.cache/huggingface/datasets/generator/default-38dbd97c9e4021c8/0.0.0/generator-train-00001-of-00004.arrow\n",
      "              replays: []\n",
      "          - - !!python/object:datasets.table.MemoryMappedTable\n",
      "              path: /home/ec2-user/.cache/huggingface/datasets/generator/default-38dbd97c9e4021c8/0.0.0/generator-train-00002-of-00004.arrow\n",
      "              replays: []\n",
      "          - - !!python/object:datasets.table.MemoryMappedTable\n",
      "              path: /home/ec2-user/.cache/huggingface/datasets/generator/default-38dbd97c9e4021c8/0.0.0/generator-train-00003-of-00004.arrow\n",
      "              replays: []\n",
      "        _fingerprint: 0284ba043c3f0bd7\n",
      "        _format_columns: null\n",
      "        _format_kwargs: {}\n",
      "        _format_type: null\n",
      "        _indexes: {}\n",
      "        _indices: null\n",
      "        _info: !!python/object:datasets.info.DatasetInfo\n",
      "          builder_name: generator\n",
      "          citation: ''\n",
      "          config_name: default\n",
      "          dataset_size: 552734740\n",
      "          description: ''\n",
      "          download_checksums: {}\n",
      "          download_size: 0\n",
      "          features: !!python/object/apply:datasets.features.features.Features\n",
      "          - hidden_0: !!python/object:datasets.features.features.Array3D\n",
      "              dtype: int16\n",
      "              id: null\n",
      "              shape: !!python/tuple\n",
      "              - 13\n",
      "              - 2\n",
      "              - 768\n",
      "            hidden_1: !!python/object:datasets.features.features.Array3D\n",
      "              dtype: int16\n",
      "              id: null\n",
      "              shape: !!python/tuple\n",
      "              - 13\n",
      "              - 2\n",
      "              - 768\n",
      "            hidden_10: !!python/object:datasets.features.features.Array3D\n",
      "              dtype: int16\n",
      "              id: null\n",
      "              shape: !!python/tuple\n",
      "              - 13\n",
      "              - 2\n",
      "              - 768\n",
      "            hidden_11: !!python/object:datasets.features.features.Array3D\n",
      "              dtype: int16\n",
      "              id: null\n",
      "              shape: !!python/tuple\n",
      "              - 13\n",
      "              - 2\n",
      "              - 768\n",
      "            hidden_12: !!python/object:datasets.features.features.Array3D\n",
      "              dtype: int16\n",
      "              id: null\n",
      "              shape: !!python/tuple\n",
      "              - 13\n",
      "              - 2\n",
      "              - 768\n",
      "            hidden_2: !!python/object:datasets.features.features.Array3D\n",
      "              dtype: int16\n",
      "              id: null\n",
      "              shape: !!python/tuple\n",
      "              - 13\n",
      "              - 2\n",
      "              - 768\n",
      "            hidden_3: !!python/object:datasets.features.features.Array3D\n",
      "              dtype: int16\n",
      "              id: null\n",
      "              shape: !!python/tuple\n",
      "              - 13\n",
      "              - 2\n",
      "              - 768\n",
      "            hidden_4: !!python/object:datasets.features.features.Array3D\n",
      "              dtype: int16\n",
      "              id: null\n",
      "              shape: !!python/tuple\n",
      "              - 13\n",
      "              - 2\n",
      "              - 768\n",
      "            hidden_5: !!python/object:datasets.features.features.Array3D\n",
      "              dtype: int16\n",
      "              id: null\n",
      "              shape: !!python/tuple\n",
      "              - 13\n",
      "              - 2\n",
      "              - 768\n",
      "            hidden_6: !!python/object:datasets.features.features.Array3D\n",
      "              dtype: int16\n",
      "              id: null\n",
      "              shape: !!python/tuple\n",
      "              - 13\n",
      "              - 2\n",
      "              - 768\n",
      "            hidden_7: !!python/object:datasets.features.features.Array3D\n",
      "              dtype: int16\n",
      "              id: null\n",
      "              shape: !!python/tuple\n",
      "              - 13\n",
      "              - 2\n",
      "              - 768\n",
      "            hidden_8: !!python/object:datasets.features.features.Array3D\n",
      "              dtype: int16\n",
      "              id: null\n",
      "              shape: !!python/tuple\n",
      "              - 13\n",
      "              - 2\n",
      "              - 768\n",
      "            hidden_9: !!python/object:datasets.features.features.Array3D\n",
      "              dtype: int16\n",
      "              id: null\n",
      "              shape: !!python/tuple\n",
      "              - 13\n",
      "              - 2\n",
      "              - 768\n",
      "            label: !!python/object:datasets.features.features.Value\n",
      "              dtype: int64\n",
      "              id: null\n",
      "              pa_type: *id002\n",
      "            model_logits: !!python/object:datasets.features.features.Array2D\n",
      "              dtype: float32\n",
      "              id: null\n",
      "              shape: !!python/tuple\n",
      "              - 13\n",
      "              - 2\n",
      "            text_questions: !!python/object:datasets.features.features.Sequence\n",
      "              feature: !!python/object:datasets.features.features.Sequence\n",
      "                feature: !!python/object:datasets.features.features.Value\n",
      "                  dtype: string\n",
      "                  id: null\n",
      "                  pa_type: *id001\n",
      "                id: null\n",
      "                length: -1\n",
      "              id: null\n",
      "              length: 13\n",
      "            variant_ids: !!python/object:datasets.features.features.Sequence\n",
      "              feature: !!python/object:datasets.features.features.Value\n",
      "                dtype: string\n",
      "                id: null\n",
      "                pa_type: *id001\n",
      "              id: null\n",
      "              length: 13\n",
      "          homepage: ''\n",
      "          license: ''\n",
      "          post_processed: null\n",
      "          post_processing_size: null\n",
      "          size_in_bytes: 552734740\n",
      "          splits: !!python/object/new:datasets.splits.SplitDict\n",
      "            dictitems:\n",
      "              train: !!python/object:datasets.splits.SplitInfo\n",
      "                dataset_name: generator\n",
      "                name: train\n",
      "                num_bytes: 552734740\n",
      "                num_examples: 1000\n",
      "                shard_lengths:\n",
      "                - 250\n",
      "                - 250\n",
      "                - 250\n",
      "                - 250\n",
      "            state:\n",
      "              dataset_name: generator\n",
      "          supervised_keys: null\n",
      "          task_templates: null\n",
      "          version: !!python/object:datasets.utils.version.Version\n",
      "            description: null\n",
      "            major: 0\n",
      "            minor: 0\n",
      "            patch: 0\n",
      "            version_str: 0.0.0\n",
      "        _output_all_columns: false\n",
      "        _split: !!python/object:datasets.splits.NamedSplit\n",
      "          _name: train\n",
      "debug: false\n",
      "min_gpu_mem: null\n",
      "net:\n",
      "  activation: gelu\n",
      "  bias: true\n",
      "  hidden_size: null\n",
      "  init: default\n",
      "  loss:\n",
      "  - 1.0*ccs\n",
      "  loss_dict:\n",
      "    ccs: 1.0\n",
      "  lr: 0.01\n",
      "  num_epochs: 1000\n",
      "  num_layers: 1\n",
      "  num_tries: 10\n",
      "  optimizer: lbfgs\n",
      "  pre_ln: false\n",
      "  seed: 42\n",
      "  supervised_weight: 0.0\n",
      "  weight_decay: 0.01\n",
      "num_gpus: -1\n",
      "out_dir: /home/ec2-user/elk-reporters/allenai/unifiedqa-t5-base/imdb/brave-chatterjee\n",
      "supervised: single\n",
      "\n"
     ]
    }
   ],
   "source": [
    "print((ccs_path / \"cfg.yaml\").read_text())"
   ]
  },
  {
   "cell_type": "code",
   "execution_count": 5,
   "metadata": {},
   "outputs": [],
   "source": [
    "reporters = [\n",
    "    torch.load(reporter, map_location=device)\n",
    "    for reporter in (ccs_path / \"reporters\").iterdir()\n",
    "]"
   ]
  },
  {
   "cell_type": "code",
   "execution_count": 74,
   "metadata": {},
   "outputs": [
    {
     "data": {
      "text/html": [
       "<div>\n",
       "<style scoped>\n",
       "    .dataframe tbody tr th:only-of-type {\n",
       "        vertical-align: middle;\n",
       "    }\n",
       "\n",
       "    .dataframe tbody tr th {\n",
       "        vertical-align: top;\n",
       "    }\n",
       "\n",
       "    .dataframe thead th {\n",
       "        text-align: right;\n",
       "    }\n",
       "</style>\n",
       "<table border=\"1\" class=\"dataframe\">\n",
       "  <thead>\n",
       "    <tr style=\"text-align: right;\">\n",
       "      <th></th>\n",
       "      <th>dataset</th>\n",
       "      <th>layer</th>\n",
       "      <th>ensembling</th>\n",
       "      <th>auroc_estimate</th>\n",
       "      <th>auroc_lower</th>\n",
       "      <th>auroc_upper</th>\n",
       "      <th>cal_acc_estimate</th>\n",
       "      <th>cal_acc_lower</th>\n",
       "      <th>cal_acc_upper</th>\n",
       "      <th>acc_estimate</th>\n",
       "      <th>acc_lower</th>\n",
       "      <th>acc_upper</th>\n",
       "      <th>ece</th>\n",
       "      <th>pseudo_auroc</th>\n",
       "      <th>train_loss</th>\n",
       "    </tr>\n",
       "  </thead>\n",
       "  <tbody>\n",
       "    <tr>\n",
       "      <th>0</th>\n",
       "      <td>imdb</td>\n",
       "      <td>0</td>\n",
       "      <td>full</td>\n",
       "      <td>0.4990</td>\n",
       "      <td>0.4631</td>\n",
       "      <td>0.5348</td>\n",
       "      <td>0.5000</td>\n",
       "      <td>0.4670</td>\n",
       "      <td>0.5300</td>\n",
       "      <td>0.500</td>\n",
       "      <td>0.4670</td>\n",
       "      <td>0.5300</td>\n",
       "      <td>0.0000</td>\n",
       "      <td>0.0</td>\n",
       "      <td>0.0004</td>\n",
       "    </tr>\n",
       "    <tr>\n",
       "      <th>1</th>\n",
       "      <td>imdb</td>\n",
       "      <td>0</td>\n",
       "      <td>none</td>\n",
       "      <td>0.5000</td>\n",
       "      <td>0.4973</td>\n",
       "      <td>0.5029</td>\n",
       "      <td>0.5000</td>\n",
       "      <td>0.4975</td>\n",
       "      <td>0.5023</td>\n",
       "      <td>0.500</td>\n",
       "      <td>0.4975</td>\n",
       "      <td>0.5023</td>\n",
       "      <td>0.4624</td>\n",
       "      <td>0.0</td>\n",
       "      <td>0.0004</td>\n",
       "    </tr>\n",
       "    <tr>\n",
       "      <th>2</th>\n",
       "      <td>imdb</td>\n",
       "      <td>0</td>\n",
       "      <td>partial</td>\n",
       "      <td>0.4997</td>\n",
       "      <td>0.4875</td>\n",
       "      <td>0.5118</td>\n",
       "      <td>0.5000</td>\n",
       "      <td>0.4975</td>\n",
       "      <td>0.5023</td>\n",
       "      <td>0.500</td>\n",
       "      <td>0.4975</td>\n",
       "      <td>0.5023</td>\n",
       "      <td>0.4624</td>\n",
       "      <td>0.0</td>\n",
       "      <td>0.0004</td>\n",
       "    </tr>\n",
       "    <tr>\n",
       "      <th>3</th>\n",
       "      <td>imdb</td>\n",
       "      <td>1</td>\n",
       "      <td>full</td>\n",
       "      <td>0.5501</td>\n",
       "      <td>0.5151</td>\n",
       "      <td>0.5849</td>\n",
       "      <td>0.5300</td>\n",
       "      <td>0.4990</td>\n",
       "      <td>0.5600</td>\n",
       "      <td>0.526</td>\n",
       "      <td>0.4960</td>\n",
       "      <td>0.5570</td>\n",
       "      <td>0.0132</td>\n",
       "      <td>0.0</td>\n",
       "      <td>0.0006</td>\n",
       "    </tr>\n",
       "    <tr>\n",
       "      <th>4</th>\n",
       "      <td>imdb</td>\n",
       "      <td>1</td>\n",
       "      <td>none</td>\n",
       "      <td>0.5082</td>\n",
       "      <td>0.4999</td>\n",
       "      <td>0.5160</td>\n",
       "      <td>0.5132</td>\n",
       "      <td>0.5025</td>\n",
       "      <td>0.5235</td>\n",
       "      <td>0.500</td>\n",
       "      <td>0.4931</td>\n",
       "      <td>0.5076</td>\n",
       "      <td>0.3885</td>\n",
       "      <td>0.0</td>\n",
       "      <td>0.0006</td>\n",
       "    </tr>\n",
       "  </tbody>\n",
       "</table>\n",
       "</div>"
      ],
      "text/plain": [
       "  dataset  layer ensembling  auroc_estimate  auroc_lower  auroc_upper   \n",
       "0    imdb      0       full          0.4990       0.4631       0.5348  \\\n",
       "1    imdb      0       none          0.5000       0.4973       0.5029   \n",
       "2    imdb      0    partial          0.4997       0.4875       0.5118   \n",
       "3    imdb      1       full          0.5501       0.5151       0.5849   \n",
       "4    imdb      1       none          0.5082       0.4999       0.5160   \n",
       "\n",
       "   cal_acc_estimate  cal_acc_lower  cal_acc_upper  acc_estimate  acc_lower   \n",
       "0            0.5000         0.4670         0.5300         0.500     0.4670  \\\n",
       "1            0.5000         0.4975         0.5023         0.500     0.4975   \n",
       "2            0.5000         0.4975         0.5023         0.500     0.4975   \n",
       "3            0.5300         0.4990         0.5600         0.526     0.4960   \n",
       "4            0.5132         0.5025         0.5235         0.500     0.4931   \n",
       "\n",
       "   acc_upper     ece  pseudo_auroc  train_loss  \n",
       "0     0.5300  0.0000           0.0      0.0004  \n",
       "1     0.5023  0.4624           0.0      0.0004  \n",
       "2     0.5023  0.4624           0.0      0.0004  \n",
       "3     0.5570  0.0132           0.0      0.0006  \n",
       "4     0.5076  0.3885           0.0      0.0006  "
      ]
     },
     "execution_count": 74,
     "metadata": {},
     "output_type": "execute_result"
    }
   ],
   "source": [
    "ccs_eval = pd.read_csv(ccs_path / \"eval.csv\")\n",
    "ccs_eval.head()"
   ]
  },
  {
   "cell_type": "code",
   "execution_count": 78,
   "metadata": {},
   "outputs": [
    {
     "data": {
      "text/plain": [
       "<Axes: >"
      ]
     },
     "execution_count": 78,
     "metadata": {},
     "output_type": "execute_result"
    },
    {
     "data": {
      "image/png": "[encoded data removed]",
      "text/plain": [
       "<Figure size 640x480 with 1 Axes>"
      ]
     },
     "metadata": {},
     "output_type": "display_data"
    }
   ],
   "source": [
    "ccs_eval.loc[ccs_eval['ensembling'] == 'full', ['acc_estimate', 'acc_lower', 'acc_upper']].reset_index(drop=True).plot(ylim=(0, 1))"
   ]
  },
  {
   "cell_type": "code",
   "execution_count": 79,
   "metadata": {},
   "outputs": [
    {
     "data": {
      "text/plain": [
       "<Axes: >"
      ]
     },
     "execution_count": 79,
     "metadata": {},
     "output_type": "execute_result"
    },
    {
     "data": {
      "image/png": "[encoded data removed]",
      "text/plain": [
       "<Figure size 640x480 with 1 Axes>"
      ]
     },
     "metadata": {},
     "output_type": "display_data"
    }
   ],
   "source": [
    "ccs_eval.loc[ccs_eval['ensembling'] == 'full', 'acc_estimate'].reset_index(drop=True).plot(ylim=(0, 1))"
   ]
  },
  {
   "cell_type": "markdown",
   "metadata": {},
   "source": [
    "## Load the model\n",
    "\n",
    "We use the [TransformerLens](https://github.com/neelnanda-io/TransformerLens) library to interact with model internals.\n",
    "\n",
    "The reference documentation can be found [here](https://neelnanda-io.github.io/TransformerLens/transformer_lens.html).\n",
    "\n",
    "The [main tutorial](https://neelnanda.io/transformer-lens-demo) was very helpful in getting started with the library."
   ]
  },
  {
   "cell_type": "code",
   "execution_count": 10,
   "metadata": {},
   "outputs": [],
   "source": [
    "from elk.run import Extract\n",
    "from elk.extraction import extract, PromptConfig"
   ]
  },
  {
   "cell_type": "code",
   "execution_count": 11,
   "metadata": {},
   "outputs": [
    {
     "name": "stderr",
     "output_type": "stream",
     "text": [
      "Found cached dataset generator (/home/ec2-user/.cache/huggingface/datasets/generator/default-0941e1b920cda0d3/0.0.0)\n",
      "Found cached dataset generator (/home/ec2-user/.cache/huggingface/datasets/generator/default-db8ee87f26ad1132/0.0.0)\n"
     ]
    },
    {
     "name": "stdout",
     "output_type": "stream",
     "text": [
      "Using 4 of 4 GPUs: [0, 1, 2, 3]\n",
      "\u001b[36mag_news\u001b[0m: using 'train' for training and 'test' for validation\n"
     ]
    }
   ],
   "source": [
    "datasets = extract(Extract(PromptConfig(['ag_news']), 'EleutherAI/pythia-1b'))"
   ]
  },
  {
   "cell_type": "code",
   "execution_count": 12,
   "metadata": {},
   "outputs": [],
   "source": [
    "data = datasets.dataset['train'][:4]"
   ]
  },
  {
   "cell_type": "code",
   "execution_count": 18,
   "metadata": {},
   "outputs": [
    {
     "data": {
      "text/plain": [
       "17"
      ]
     },
     "execution_count": 18,
     "metadata": {},
     "output_type": "execute_result"
    }
   ],
   "source": [
    "len(reporters)"
   ]
  },
  {
   "cell_type": "code",
   "execution_count": 13,
   "metadata": {},
   "outputs": [
    {
     "data": {
      "text/plain": [
       "dict_keys(['hidden_0', 'hidden_1', 'hidden_2', 'hidden_3', 'hidden_4', 'hidden_5', 'hidden_6', 'hidden_7', 'hidden_8', 'hidden_9', 'hidden_10', 'hidden_11', 'hidden_12', 'hidden_13', 'hidden_14', 'hidden_15', 'hidden_16', 'variant_ids', 'label', 'text_questions', 'model_logits'])"
      ]
     },
     "execution_count": 13,
     "metadata": {},
     "output_type": "execute_result"
    }
   ],
   "source": [
    "data.keys()"
   ]
  },
  {
   "cell_type": "code",
   "execution_count": 14,
   "metadata": {},
   "outputs": [],
   "source": [
    "q = data['text_questions'][0]"
   ]
  },
  {
   "cell_type": "code",
   "execution_count": 16,
   "metadata": {},
   "outputs": [],
   "source": [
    "variants = data['variant_ids'][0]"
   ]
  },
  {
   "cell_type": "code",
   "execution_count": 17,
   "metadata": {},
   "outputs": [
    {
     "data": {
      "text/plain": [
       "['classify_question_first',\n",
       " 'classify_with_choices_question_first',\n",
       " 'recommend',\n",
       " 'which_section_choices',\n",
       " 'which_section',\n",
       " 'burns_1',\n",
       " 'burns_2',\n",
       " 'burns_3',\n",
       " 'burns_4',\n",
       " 'burns_5',\n",
       " 'burns_6',\n",
       " 'burns_7',\n",
       " 'burns_8',\n",
       " 'classify_with_choices',\n",
       " 'classify']"
      ]
     },
     "execution_count": 17,
     "metadata": {},
     "output_type": "execute_result"
    }
   ],
   "source": [
    "variants"
   ]
  },
  {
   "cell_type": "code",
   "execution_count": 15,
   "metadata": {},
   "outputs": [
    {
     "data": {
      "text/plain": [
       "[['What label best describes this news article?\\nBangladesh paralysed by strikes Opposition activists have brought many towns and cities in Bangladesh to a halt, the day after 18 people died in explosions at a political rally.',\n",
       "  'What label best describes this news article?\\nBangladesh paralysed by strikes Opposition activists have brought many towns and cities in Bangladesh to a halt, the day after 18 people died in explosions at a political rally.',\n",
       "  'What label best describes this news article?\\nBangladesh paralysed by strikes Opposition activists have brought many towns and cities in Bangladesh to a halt, the day after 18 people died in explosions at a political rally.',\n",
       "  'What label best describes this news article?\\nBangladesh paralysed by strikes Opposition activists have brought many towns and cities in Bangladesh to a halt, the day after 18 people died in explosions at a political rally.'],\n",
       " ['Is this a piece of news regarding world politics, sports, business, or science and technology?\\nBangladesh paralysed by strikes Opposition activists have brought many towns and cities in Bangladesh to a halt, the day after 18 people died in explosions at a political rally.\\n',\n",
       "  'Is this a piece of news regarding world politics, sports, business, or science and technology?\\nBangladesh paralysed by strikes Opposition activists have brought many towns and cities in Bangladesh to a halt, the day after 18 people died in explosions at a political rally.\\n',\n",
       "  'Is this a piece of news regarding world politics, sports, business, or science and technology?\\nBangladesh paralysed by strikes Opposition activists have brought many towns and cities in Bangladesh to a halt, the day after 18 people died in explosions at a political rally.\\n',\n",
       "  'Is this a piece of news regarding world politics, sports, business, or science and technology?\\nBangladesh paralysed by strikes Opposition activists have brought many towns and cities in Bangladesh to a halt, the day after 18 people died in explosions at a political rally.\\n'],\n",
       " ['Would you recommend the following article to a politician, an athlete, a business executive, or a scientist?\\n\\nBangladesh paralysed by strikes Opposition activists have brought many towns and cities in Bangladesh to a halt, the day after 18 people died in explosions at a political rally.\\n',\n",
       "  'Would you recommend the following article to a politician, an athlete, a business executive, or a scientist?\\n\\nBangladesh paralysed by strikes Opposition activists have brought many towns and cities in Bangladesh to a halt, the day after 18 people died in explosions at a political rally.\\n',\n",
       "  'Would you recommend the following article to a politician, an athlete, a business executive, or a scientist?\\n\\nBangladesh paralysed by strikes Opposition activists have brought many towns and cities in Bangladesh to a halt, the day after 18 people died in explosions at a political rally.\\n',\n",
       "  'Would you recommend the following article to a politician, an athlete, a business executive, or a scientist?\\n\\nBangladesh paralysed by strikes Opposition activists have brought many towns and cities in Bangladesh to a halt, the day after 18 people died in explosions at a political rally.\\n'],\n",
       " ['Bangladesh paralysed by strikes Opposition activists have brought many towns and cities in Bangladesh to a halt, the day after 18 people died in explosions at a political rally. \\n\\nWhich of the following sections of a newspaper would this article likely appear in? World News, Sports, Business, or Science and Technology?',\n",
       "  'Bangladesh paralysed by strikes Opposition activists have brought many towns and cities in Bangladesh to a halt, the day after 18 people died in explosions at a political rally. \\n\\nWhich of the following sections of a newspaper would this article likely appear in? World News, Sports, Business, or Science and Technology?',\n",
       "  'Bangladesh paralysed by strikes Opposition activists have brought many towns and cities in Bangladesh to a halt, the day after 18 people died in explosions at a political rally. \\n\\nWhich of the following sections of a newspaper would this article likely appear in? World News, Sports, Business, or Science and Technology?',\n",
       "  'Bangladesh paralysed by strikes Opposition activists have brought many towns and cities in Bangladesh to a halt, the day after 18 people died in explosions at a political rally. \\n\\nWhich of the following sections of a newspaper would this article likely appear in? World News, Sports, Business, or Science and Technology?'],\n",
       " ['Bangladesh paralysed by strikes Opposition activists have brought many towns and cities in Bangladesh to a halt, the day after 18 people died in explosions at a political rally. \\n\\nWhich section of a newspaper would this article likely appear in?',\n",
       "  'Bangladesh paralysed by strikes Opposition activists have brought many towns and cities in Bangladesh to a halt, the day after 18 people died in explosions at a political rally. \\n\\nWhich section of a newspaper would this article likely appear in?',\n",
       "  'Bangladesh paralysed by strikes Opposition activists have brought many towns and cities in Bangladesh to a halt, the day after 18 people died in explosions at a political rally. \\n\\nWhich section of a newspaper would this article likely appear in?',\n",
       "  'Bangladesh paralysed by strikes Opposition activists have brought many towns and cities in Bangladesh to a halt, the day after 18 people died in explosions at a political rally. \\n\\nWhich section of a newspaper would this article likely appear in?'],\n",
       " [\"Consider the following example: ''' Bangladesh paralysed by strikes Opposition activists have brought many towns and cities in Bangladesh to a halt, the day after 18 people died in explosions at a political rally. ''' Choice 1: World politics. Choice 2: Sports.Between choice 1 and choice 2, the topic of this example is\",\n",
       "  \"Consider the following example: ''' Bangladesh paralysed by strikes Opposition activists have brought many towns and cities in Bangladesh to a halt, the day after 18 people died in explosions at a political rally. ''' Choice 1: Sports. Choice 2: World politics.Between choice 1 and choice 2, the topic of this example is\",\n",
       "  \"Consider the following example: ''' Bangladesh paralysed by strikes Opposition activists have brought many towns and cities in Bangladesh to a halt, the day after 18 people died in explosions at a political rally. ''' Choice 1: Business. Choice 2: Science and technology.Between choice 1 and choice 2, the topic of this example is\",\n",
       "  \"Consider the following example: ''' Bangladesh paralysed by strikes Opposition activists have brought many towns and cities in Bangladesh to a halt, the day after 18 people died in explosions at a political rally. ''' Choice 1: Science and technology. Choice 2: Business.Between choice 1 and choice 2, the topic of this example is\"],\n",
       " [\"Consider the following example: ''' Bangladesh paralysed by strikes Opposition activists have brought many towns and cities in Bangladesh to a halt, the day after 18 people died in explosions at a political rally. ''' Choice 1: World politics. Choice 2: Sports.Between choice 1 and choice 2, what is the topic of this example?\",\n",
       "  \"Consider the following example: ''' Bangladesh paralysed by strikes Opposition activists have brought many towns and cities in Bangladesh to a halt, the day after 18 people died in explosions at a political rally. ''' Choice 1: Sports. Choice 2: World politics.Between choice 1 and choice 2, what is the topic of this example?\",\n",
       "  \"Consider the following example: ''' Bangladesh paralysed by strikes Opposition activists have brought many towns and cities in Bangladesh to a halt, the day after 18 people died in explosions at a political rally. ''' Choice 1: Business. Choice 2: Science and technology.Between choice 1 and choice 2, what is the topic of this example?\",\n",
       "  \"Consider the following example: ''' Bangladesh paralysed by strikes Opposition activists have brought many towns and cities in Bangladesh to a halt, the day after 18 people died in explosions at a political rally. ''' Choice 1: Science and technology. Choice 2: Business.Between choice 1 and choice 2, what is the topic of this example?\"],\n",
       " [\"Consider the following example: ''' Bangladesh paralysed by strikes Opposition activists have brought many towns and cities in Bangladesh to a halt, the day after 18 people died in explosions at a political rally. ''' Which is the topic of this example, choice 1: World politics, or choice 2: Sports?\",\n",
       "  \"Consider the following example: ''' Bangladesh paralysed by strikes Opposition activists have brought many towns and cities in Bangladesh to a halt, the day after 18 people died in explosions at a political rally. ''' Which is the topic of this example, choice 1: Sports, or choice 2: World politics?\",\n",
       "  \"Consider the following example: ''' Bangladesh paralysed by strikes Opposition activists have brought many towns and cities in Bangladesh to a halt, the day after 18 people died in explosions at a political rally. ''' Which is the topic of this example, choice 1: Business, or choice 2: Science and technology?\",\n",
       "  \"Consider the following example: ''' Bangladesh paralysed by strikes Opposition activists have brought many towns and cities in Bangladesh to a halt, the day after 18 people died in explosions at a political rally. ''' Which is the topic of this example, choice 1: Science and technology, or choice 2: Business?\"],\n",
       " ['Bangladesh paralysed by strikes Opposition activists have brought many towns and cities in Bangladesh to a halt, the day after 18 people died in explosions at a political rally. Choice 1: World politics. Choice 2: Sports. Between choice 1 and choice 2, the topic of this example is',\n",
       "  'Bangladesh paralysed by strikes Opposition activists have brought many towns and cities in Bangladesh to a halt, the day after 18 people died in explosions at a political rally. Choice 1: Sports. Choice 2: World politics. Between choice 1 and choice 2, the topic of this example is',\n",
       "  'Bangladesh paralysed by strikes Opposition activists have brought many towns and cities in Bangladesh to a halt, the day after 18 people died in explosions at a political rally. Choice 1: Business. Choice 2: Science and technology. Between choice 1 and choice 2, the topic of this example is',\n",
       "  'Bangladesh paralysed by strikes Opposition activists have brought many towns and cities in Bangladesh to a halt, the day after 18 people died in explosions at a political rally. Choice 1: Science and technology. Choice 2: Business. Between choice 1 and choice 2, the topic of this example is'],\n",
       " ['Bangladesh paralysed by strikes Opposition activists have brought many towns and cities in Bangladesh to a halt, the day after 18 people died in explosions at a political rally. Choice 1: World politics. Choice 2: Sports. Between choice 1 and choice 2, what is the topic of this example?',\n",
       "  'Bangladesh paralysed by strikes Opposition activists have brought many towns and cities in Bangladesh to a halt, the day after 18 people died in explosions at a political rally. Choice 1: Sports. Choice 2: World politics. Between choice 1 and choice 2, what is the topic of this example?',\n",
       "  'Bangladesh paralysed by strikes Opposition activists have brought many towns and cities in Bangladesh to a halt, the day after 18 people died in explosions at a political rally. Choice 1: Business. Choice 2: Science and technology. Between choice 1 and choice 2, what is the topic of this example?',\n",
       "  'Bangladesh paralysed by strikes Opposition activists have brought many towns and cities in Bangladesh to a halt, the day after 18 people died in explosions at a political rally. Choice 1: Science and technology. Choice 2: Business. Between choice 1 and choice 2, what is the topic of this example?'],\n",
       " ['Bangladesh paralysed by strikes Opposition activists have brought many towns and cities in Bangladesh to a halt, the day after 18 people died in explosions at a political rally. Which is the topic of this example, choice 1: World politics, or choice 2: Sports?',\n",
       "  'Bangladesh paralysed by strikes Opposition activists have brought many towns and cities in Bangladesh to a halt, the day after 18 people died in explosions at a political rally. Which is the topic of this example, choice 1: Sports, or choice 2: World politics?',\n",
       "  'Bangladesh paralysed by strikes Opposition activists have brought many towns and cities in Bangladesh to a halt, the day after 18 people died in explosions at a political rally. Which is the topic of this example, choice 1: Business, or choice 2: Science and technology?',\n",
       "  'Bangladesh paralysed by strikes Opposition activists have brought many towns and cities in Bangladesh to a halt, the day after 18 people died in explosions at a political rally. Which is the topic of this example, choice 1: Science and technology, or choice 2: Business?'],\n",
       " ['Bangladesh paralysed by strikes Opposition activists have brought many towns and cities in Bangladesh to a halt, the day after 18 people died in explosions at a political rally. What label best describes this news article, choice 1: World politics, or choice 2: Sports?',\n",
       "  'Bangladesh paralysed by strikes Opposition activists have brought many towns and cities in Bangladesh to a halt, the day after 18 people died in explosions at a political rally. What label best describes this news article, choice 1: Sports, or choice 2: World politics?',\n",
       "  'Bangladesh paralysed by strikes Opposition activists have brought many towns and cities in Bangladesh to a halt, the day after 18 people died in explosions at a political rally. What label best describes this news article, choice 1: Business, or choice 2: Science and technology?',\n",
       "  'Bangladesh paralysed by strikes Opposition activists have brought many towns and cities in Bangladesh to a halt, the day after 18 people died in explosions at a political rally. What label best describes this news article, choice 1: Science and technology, or choice 2: Business?'],\n",
       " ['Bangladesh paralysed by strikes Opposition activists have brought many towns and cities in Bangladesh to a halt, the day after 18 people died in explosions at a political rally. Which section of a newspaper would this article likely appear in, choice 1: World politics, or choice 2: Sports?',\n",
       "  'Bangladesh paralysed by strikes Opposition activists have brought many towns and cities in Bangladesh to a halt, the day after 18 people died in explosions at a political rally. Which section of a newspaper would this article likely appear in, choice 1: Sports, or choice 2: World politics?',\n",
       "  'Bangladesh paralysed by strikes Opposition activists have brought many towns and cities in Bangladesh to a halt, the day after 18 people died in explosions at a political rally. Which section of a newspaper would this article likely appear in, choice 1: Business, or choice 2: Science and technology?',\n",
       "  'Bangladesh paralysed by strikes Opposition activists have brought many towns and cities in Bangladesh to a halt, the day after 18 people died in explosions at a political rally. Which section of a newspaper would this article likely appear in, choice 1: Science and technology, or choice 2: Business?'],\n",
       " ['Bangladesh paralysed by strikes Opposition activists have brought many towns and cities in Bangladesh to a halt, the day after 18 people died in explosions at a political rally. \\nIs this a piece of news regarding world politics, sports, business, or science and technology?',\n",
       "  'Bangladesh paralysed by strikes Opposition activists have brought many towns and cities in Bangladesh to a halt, the day after 18 people died in explosions at a political rally. \\nIs this a piece of news regarding world politics, sports, business, or science and technology?',\n",
       "  'Bangladesh paralysed by strikes Opposition activists have brought many towns and cities in Bangladesh to a halt, the day after 18 people died in explosions at a political rally. \\nIs this a piece of news regarding world politics, sports, business, or science and technology?',\n",
       "  'Bangladesh paralysed by strikes Opposition activists have brought many towns and cities in Bangladesh to a halt, the day after 18 people died in explosions at a political rally. \\nIs this a piece of news regarding world politics, sports, business, or science and technology?'],\n",
       " ['Bangladesh paralysed by strikes Opposition activists have brought many towns and cities in Bangladesh to a halt, the day after 18 people died in explosions at a political rally. \\nWhat label best describes this news article?',\n",
       "  'Bangladesh paralysed by strikes Opposition activists have brought many towns and cities in Bangladesh to a halt, the day after 18 people died in explosions at a political rally. \\nWhat label best describes this news article?',\n",
       "  'Bangladesh paralysed by strikes Opposition activists have brought many towns and cities in Bangladesh to a halt, the day after 18 people died in explosions at a political rally. \\nWhat label best describes this news article?',\n",
       "  'Bangladesh paralysed by strikes Opposition activists have brought many towns and cities in Bangladesh to a halt, the day after 18 people died in explosions at a political rally. \\nWhat label best describes this news article?']]"
      ]
     },
     "execution_count": 15,
     "metadata": {},
     "output_type": "execute_result"
    }
   ],
   "source": [
    "q"
   ]
  },
  {
   "cell_type": "code",
   "execution_count": null,
   "metadata": {},
   "outputs": [],
   "source": [
    "data['label']"
   ]
  },
  {
   "cell_type": "code",
   "execution_count": null,
   "metadata": {},
   "outputs": [],
   "source": [
    "data['label']"
   ]
  },
  {
   "cell_type": "code",
   "execution_count": null,
   "metadata": {},
   "outputs": [],
   "source": [
    "# has shape (batch, n_variants, n_choices)\n",
    "questions = data['text_questions']"
   ]
  },
  {
   "cell_type": "code",
   "execution_count": null,
   "metadata": {},
   "outputs": [],
   "source": [
    "len(questions)"
   ]
  },
  {
   "cell_type": "code",
   "execution_count": null,
   "metadata": {},
   "outputs": [],
   "source": [
    "len(questions[0])"
   ]
  },
  {
   "cell_type": "code",
   "execution_count": null,
   "metadata": {},
   "outputs": [],
   "source": [
    "questions"
   ]
  },
  {
   "cell_type": "code",
   "execution_count": null,
   "metadata": {},
   "outputs": [],
   "source": [
    "data"
   ]
  },
  {
   "cell_type": "code",
   "execution_count": null,
   "metadata": {},
   "outputs": [],
   "source": [
    "from elk.training.train import Elicit"
   ]
  },
  {
   "cell_type": "code",
   "execution_count": null,
   "metadata": {},
   "outputs": [],
   "source": [
    "from transformer_lens import HookedTransformer\n",
    "\n",
    "model = HookedTransformer.from_pretrained(\"EleutherAI/pythia-1b\").cuda()"
   ]
  },
  {
   "cell_type": "code",
   "execution_count": null,
   "metadata": {},
   "outputs": [],
   "source": [
    "len(reporters)"
   ]
  },
  {
   "cell_type": "code",
   "execution_count": null,
   "metadata": {},
   "outputs": [],
   "source": [
    "n_layers"
   ]
  },
  {
   "cell_type": "code",
   "execution_count": null,
   "metadata": {},
   "outputs": [],
   "source": [
    "n_layers = model.cfg.n_layers\n",
    "n_layers, len(reporters) == n_layers"
   ]
  },
  {
   "attachments": {},
   "cell_type": "markdown",
   "metadata": {},
   "source": [
    "## Load prompts\n",
    "\n",
    "In the original DLK paper, the authors found that out of the models they tested,\n",
    "the single decoder-only model (GPT-J-6B) performed the worst (measured in terms of accuracy across datasets).\n",
    "\n",
    "Later on, researchers at EleutherAI found that this could be resolved by prompting the model using different prompt templates.\n",
    "Their method leverages that the truth of the given statement should be the same regardless of the prompt template chosen."
   ]
  },
  {
   "cell_type": "code",
   "execution_count": null,
   "metadata": {},
   "outputs": [],
   "source": [
    "from elk.extraction.prompt_loading import load_prompts\n",
    "import itertools\n",
    "import pandas as pd\n",
    "\n",
    "n_prompts = 12\n",
    "batch_range = torch.arange(n_prompts)\n",
    "\n",
    "prompt_datasets = dict()\n",
    "for dataset in datasets:\n",
    "    prompt_dataset = load_prompts(dataset, split_type=\"val\")\n",
    "    prompt_dataset = list(itertools.islice(prompt_dataset, n_prompts))\n",
    "    prompt_datasets[dataset] = prompt_dataset\n",
    "    del prompt_dataset"
   ]
  },
  {
   "cell_type": "markdown",
   "metadata": {},
   "source": [
    "The loaded prompts (each element of the `prompt_dataset` have the following structure:\n",
    "\n",
    "```\n",
    "{\n",
    "    \"label\": 0 if correct answer is \"negative\", 1 if correct answer is \"positive\"\n",
    "    \"prompts\": [\n",
    "        [\n",
    "            {\n",
    "                \"answer\": \"negative\" or \"bad\" or ...\n",
    "                \"text\": formatted prompt with the \"negative\" answer\n",
    "            },\n",
    "            {\n",
    "                \"answer\": \"positive\" or \"good\" or ...\n",
    "                \"text\": formatted prompt with the \"positive\" answer\n",
    "            }\n",
    "        ],\n",
    "        ...\n",
    "    ],\n",
    "    \"template_names\": [\n",
    "        template name for prompt 0,\n",
    "        ...\n",
    "    ]\n",
    "}\n",
    "```\n",
    "\n",
    "Note that prompts vary along two binary axes:\n",
    "\n",
    "1. Whether the statement ends in the \"positive\" answer or the \"negative\" answer;\n",
    "2. Whether the statement is factually correct or incorrect.\n",
    "\n",
    "It's important to distinguish these two axes; The goal of CCS is to uncover the latter."
   ]
  },
  {
   "cell_type": "code",
   "execution_count": null,
   "metadata": {},
   "outputs": [],
   "source": [
    "df = pd.DataFrame(prompt_datasets['ag_news'])\n",
    "df = df.explode(['prompts'])\n",
    "df = df.explode(['prompts', 'template_names'])\n",
    "df = df['prompts'].apply(pd.Series).merge(df, left_index=True, right_index=True).drop([\"prompts\"], axis=1)\n",
    "df.head()"
   ]
  },
  {
   "cell_type": "code",
   "execution_count": null,
   "metadata": {},
   "outputs": [],
   "source": [
    "dfs = dict()\n",
    "\n",
    "for dataset, prompt_dataset in prompt_datasets.items():\n",
    "    records = []\n",
    "\n",
    "    for j, prompts in enumerate(prompt_dataset):\n",
    "        for i, ((negative, positive), template_name) in enumerate(\n",
    "            zip(prompts[\"prompts\"], prompts[\"template_names\"])\n",
    "        ):\n",
    "            records.append(\n",
    "                dict(\n",
    "                    negative_prompt=negative[\"text\"],\n",
    "                    positive_prompt=positive[\"text\"],\n",
    "                    negative_answer=negative[\"answer\"],\n",
    "                    positive_answer=positive[\"answer\"],\n",
    "                    label=prompts[\"label\"],\n",
    "                    incorrect_answer=negative[\"answer\"]\n",
    "                    if prompts[\"label\"]\n",
    "                    else positive[\"answer\"],\n",
    "                    correct_answer=positive[\"answer\"]\n",
    "                    if prompts[\"label\"]\n",
    "                    else negative[\"answer\"],\n",
    "                    template_name=template_name,\n",
    "                    template_id=i,\n",
    "                    prompt_id=j,\n",
    "                )\n",
    "            )\n",
    "\n",
    "    # set a multi-index using the prompt_id and template_id\n",
    "    dfs[dataset] = pd.DataFrame(records).set_index([\"prompt_id\", \"template_id\"])\n",
    "    del dataset, records, prompt_dataset, prompts, negative, positive, template_name"
   ]
  },
  {
   "cell_type": "code",
   "execution_count": null,
   "metadata": {},
   "outputs": [],
   "source": [
    "dfs[\"super_glue boolq\"].head()"
   ]
  },
  {
   "cell_type": "code",
   "execution_count": null,
   "metadata": {},
   "outputs": [],
   "source": [
    "dfs[\"imdb\"].head()"
   ]
  },
  {
   "cell_type": "code",
   "execution_count": null,
   "metadata": {},
   "outputs": [],
   "source": [
    "print(dfs[\"super_glue boolq\"].at[(0, 0), \"negative_prompt\"])"
   ]
  },
  {
   "cell_type": "markdown",
   "metadata": {},
   "source": [
    "## Forward pass on the text"
   ]
  },
  {
   "cell_type": "code",
   "execution_count": null,
   "metadata": {},
   "outputs": [],
   "source": [
    "from jaxtyping import Float\n",
    "from tqdm import tqdm\n",
    "from transformer_lens.hook_points import HookPoint\n",
    "import transformer_lens.utils as utils\n",
    "from functools import partial"
   ]
  },
  {
   "cell_type": "markdown",
   "metadata": {},
   "source": [
    "Here we fix a given template ID. This gives us a single fully-formatted prompt for each original text sample."
   ]
  },
  {
   "attachments": {},
   "cell_type": "markdown",
   "metadata": {},
   "source": [
    "### Preprocessing prompts"
   ]
  },
  {
   "cell_type": "code",
   "execution_count": null,
   "metadata": {},
   "outputs": [],
   "source": [
    "template_id = 2\n",
    "\n",
    "save_paths = {\n",
    "    dataset: Path(f\"results/ccs/pythia-1b/{dataset}/template-{template_id}\")\n",
    "    for dataset in datasets\n",
    "}\n",
    "\n",
    "prompts = {\n",
    "    dataset: dfs[dataset].loc[pd.IndexSlice[:, template_id], :].reset_index(drop=True)\n",
    "    for dataset in datasets\n",
    "}"
   ]
  },
  {
   "cell_type": "code",
   "execution_count": null,
   "metadata": {},
   "outputs": [],
   "source": [
    "prompts[\"super_glue boolq\"].head()"
   ]
  },
  {
   "cell_type": "code",
   "execution_count": null,
   "metadata": {},
   "outputs": [],
   "source": [
    "get_value = lambda column: {\n",
    "    dataset: prompts[dataset][column].tolist() for dataset in datasets\n",
    "}\n",
    "neg_prompts = get_value(\"negative_prompt\")\n",
    "pos_prompts = get_value(\"positive_prompt\")\n",
    "correct_answers = get_value(\"correct_answer\")\n",
    "incorrect_answers = get_value(\"incorrect_answer\")"
   ]
  },
  {
   "cell_type": "code",
   "execution_count": null,
   "metadata": {},
   "outputs": [],
   "source": [
    "neg_tokens = {dataset: model.to_tokens(neg_prompts[dataset]) for dataset in datasets}\n",
    "pos_tokens = {dataset: model.to_tokens(pos_prompts[dataset]) for dataset in datasets}\n",
    "\n",
    "neg_str_tokens = {\n",
    "    dataset: model.to_str_tokens(neg_prompts[dataset]) for dataset in datasets\n",
    "}\n",
    "pos_str_tokens = {\n",
    "    dataset: model.to_str_tokens(pos_prompts[dataset]) for dataset in datasets\n",
    "}\n",
    "\n",
    "prompt_lengths = {\n",
    "    dataset: torch.tensor([len(tokens) for tokens in neg_str_tokens[dataset]])\n",
    "    for dataset in datasets\n",
    "}"
   ]
  },
  {
   "attachments": {},
   "cell_type": "markdown",
   "metadata": {},
   "source": [
    "### Hooks for collecting activation values"
   ]
  },
  {
   "cell_type": "code",
   "execution_count": null,
   "metadata": {},
   "outputs": [],
   "source": [
    "prompt_lengths[\"super_glue boolq\"]"
   ]
  },
  {
   "cell_type": "code",
   "execution_count": null,
   "metadata": {},
   "outputs": [],
   "source": [
    "# the negative and positive prompts match up until the very last token,\n",
    "# so we just record one and then get only the last token of the other one\n",
    "neg_results = {\n",
    "    dataset: torch.zeros(\n",
    "        (\n",
    "            n_prompts,\n",
    "            n_layers,\n",
    "            prompt_lengths[dataset].max().item(),\n",
    "        ),\n",
    "        device=\"cpu\",\n",
    "    )\n",
    "    for dataset in datasets\n",
    "}\n",
    "pos_results = {\n",
    "    dataset: torch.zeros((n_prompts, n_layers), device=\"cpu\") for dataset in datasets\n",
    "}\n",
    "\n",
    "\n",
    "def projection(\n",
    "    resid_pre: Float[torch.Tensor, \"batch pos d_model\"],  # at a given layer\n",
    "    hook: HookPoint,\n",
    "    dataset: str,\n",
    "    layer: int,\n",
    "):\n",
    "    # TODO should we be normalizing here?\n",
    "    # since the prompts have different lengths, technically this is more computation than we need to do\n",
    "    neg_results[dataset][:, layer, : resid_pre.shape[1]] = reporters[layer](\n",
    "        resid_pre\n",
    "    ).cpu()\n",
    "    return resid_pre\n",
    "\n",
    "\n",
    "def final_projection(\n",
    "    resid_pre: Float[torch.Tensor, \"batch pos d_model\"],  # at a given layer\n",
    "    hook: HookPoint,\n",
    "    dataset: str,\n",
    "    layer: int,\n",
    "):\n",
    "    # TODO should we be normalizing here?\n",
    "    x = resid_pre[batch_range, prompt_lengths[dataset] - 1, :]\n",
    "    pos_results[dataset][:, layer] = reporters[layer](x).cpu()\n",
    "    return resid_pre\n",
    "\n",
    "\n",
    "{dataset: neg_results[dataset].shape for dataset in datasets}"
   ]
  },
  {
   "attachments": {},
   "cell_type": "markdown",
   "metadata": {},
   "source": [
    "### Extraction loop"
   ]
  },
  {
   "cell_type": "code",
   "execution_count": null,
   "metadata": {},
   "outputs": [],
   "source": [
    "# should be quite fast\n",
    "for dataset in datasets:\n",
    "    for layer in tqdm(range(n_layers), desc=dataset):\n",
    "        act_name = utils.get_act_name(\"resid_pre\", layer)\n",
    "\n",
    "        patch_hook_fn = partial(projection, dataset=dataset, layer=layer)\n",
    "        model.run_with_hooks(neg_tokens[dataset], fwd_hooks=[(act_name, patch_hook_fn)])\n",
    "\n",
    "        patch_hook_fn = partial(final_projection, dataset=dataset, layer=layer)\n",
    "        model.run_with_hooks(pos_tokens[dataset], fwd_hooks=[(act_name, patch_hook_fn)])"
   ]
  },
  {
   "cell_type": "code",
   "execution_count": null,
   "metadata": {},
   "outputs": [],
   "source": [
    "for dataset in datasets:\n",
    "    save_path = save_paths[dataset]\n",
    "    save_path.mkdir(parents=True, exist_ok=True)\n",
    "    torch.save(neg_results[dataset], save_path / \"neg.pt\")\n",
    "    torch.save(pos_results[dataset], save_path / \"pos.pt\")"
   ]
  },
  {
   "cell_type": "markdown",
   "metadata": {},
   "source": [
    "## Visualize outputs"
   ]
  },
  {
   "cell_type": "code",
   "execution_count": null,
   "metadata": {},
   "outputs": [],
   "source": [
    "import circuitsvis as cv\n",
    "from circuitsvis.tokens import colored_tokens"
   ]
  },
  {
   "cell_type": "code",
   "execution_count": null,
   "metadata": {},
   "outputs": [],
   "source": [
    "neg_results = {\n",
    "    dataset: torch.load(save_paths[dataset] / \"neg.pt\") for dataset in datasets\n",
    "}\n",
    "pos_results = {\n",
    "    dataset: torch.load(save_paths[dataset] / \"pos.pt\") for dataset in datasets\n",
    "}\n",
    "\n",
    "projections = dict()\n",
    "for dataset in datasets:\n",
    "    projections[dataset] = torch.cat(\n",
    "        [neg_results[dataset], torch.zeros((n_prompts, n_layers, 2))], axis=-1\n",
    "    )\n",
    "    projections[dataset][batch_range, :, prompt_lengths[dataset]] = pos_results[dataset]\n",
    "    projections[dataset][\n",
    "        batch_range, :, prompt_lengths[dataset] + 1\n",
    "    ] = 0  # forvisualization\n",
    "\n",
    "    # make the signs across layers consistent with the final token\n",
    "    # since CCS only identifies the hyperplane up to sign\n",
    "    projections[dataset] = (\n",
    "        pos_results[dataset].sign()[:, :, None] * projections[dataset]\n",
    "    )"
   ]
  },
  {
   "cell_type": "markdown",
   "metadata": {},
   "source": [
    "Here we choose a given prompt to visualize. \"positive\" answers always corresponds to _blue_ and \"negative\" answers always correspond to _red_\n",
    "independently of the correct answer."
   ]
  },
  {
   "cell_type": "code",
   "execution_count": null,
   "metadata": {},
   "outputs": [],
   "source": [
    "def plot_colors(dataset: str, prompt_id: int):\n",
    "    flattened_tokens = []\n",
    "    for i in range(n_layers):\n",
    "        flattened_tokens += (\n",
    "            neg_str_tokens[dataset][prompt_id]\n",
    "            + [pos_str_tokens[dataset][prompt_id][-1]]\n",
    "            + [f\"\\n\\n=====^ layer {i} ^=====\\n\\n\"]\n",
    "        )\n",
    "    flattened_projections = projections[dataset][\n",
    "        prompt_id, :, : prompt_lengths[dataset][prompt_id] + 2\n",
    "    ].flatten()\n",
    "\n",
    "    # clip the values to between (-5.5, 4) to make the visualization more readable\n",
    "    print(\"distance bounds:\", flattened_projections.min(), flattened_projections.max())\n",
    "    return colored_tokens(\n",
    "        flattened_tokens, flattened_projections, min_value=-5, max_value=5\n",
    "    )"
   ]
  },
  {
   "cell_type": "code",
   "execution_count": null,
   "metadata": {},
   "outputs": [],
   "source": [
    "prompt_id = 6"
   ]
  },
  {
   "cell_type": "code",
   "execution_count": null,
   "metadata": {},
   "outputs": [],
   "source": [
    "plot_colors(\"imdb\", prompt_id=prompt_id)"
   ]
  },
  {
   "cell_type": "code",
   "execution_count": null,
   "metadata": {},
   "outputs": [],
   "source": [
    "plot_colors(\"super_glue boolq\", prompt_id=prompt_id)"
   ]
  },
  {
   "attachments": {},
   "cell_type": "markdown",
   "metadata": {},
   "source": [
    "It's interesting that these almost look like attention patterns! For our experiments on IMDB, the blue tokens are often ones that carry some sort of positive connotation\n",
    "and the red ones often carry some kind of negative connotation.\n",
    "The probe for BoolQ seems to favour statistics and proper nouns.\n",
    "It's also interesting that the logits across the board seem to get farther and farther from the CCS hyperplane\n",
    "as we go into the later layers of the network.\n",
    "We're not yet quite sure what's causing this behaviour.\n",
    "In future experiments we'll try and see if there's any similarities with the actual attention patterns."
   ]
  },
  {
   "attachments": {},
   "cell_type": "markdown",
   "metadata": {},
   "source": [
    "## Visualizing attention"
   ]
  },
  {
   "cell_type": "code",
   "execution_count": null,
   "metadata": {},
   "outputs": [],
   "source": [
    "n_plot_tokens = 128\n",
    "pos_logits, pos_cache = model.run_with_cache(\n",
    "    pos_tokens[\"super_glue boolq\"][prompt_id][:n_plot_tokens], remove_batch_dim=True\n",
    ")\n",
    "pos_cache.to(\"cpu\")\n",
    "torch.cuda.empty_cache()\n",
    "cv.attention.attention_patterns(\n",
    "    tokens=pos_str_tokens[\"super_glue boolq\"][prompt_id][:n_plot_tokens],\n",
    "    attention=pos_cache[\"pattern\", 8, \"attn\"],\n",
    ")"
   ]
  },
  {
   "cell_type": "code",
   "execution_count": null,
   "metadata": {},
   "outputs": [],
   "source": []
  }
 ],
 "metadata": {
  "kernelspec": {
   "display_name": "base",
   "language": "python",
   "name": "python3"
  },
  "language_info": {
   "codemirror_mode": {
    "name": "ipython",
    "version": 3
   },
   "file_extension": ".py",
   "mimetype": "text/x-python",
   "name": "python",
   "nbconvert_exporter": "python",
   "pygments_lexer": "ipython3",
   "version": "3.10.10"
  },
  "orig_nbformat": 4
 },
 "nbformat": 4,
 "nbformat_minor": 2
}
